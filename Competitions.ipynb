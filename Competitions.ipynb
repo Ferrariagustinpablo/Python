{
  "nbformat": 4,
  "nbformat_minor": 0,
  "metadata": {
    "colab": {
      "name": "Competitions.ipynb",
      "provenance": [],
      "toc_visible": true,
      "authorship_tag": "ABX9TyNXpnU60Sjpk/cHo48QZpRa",
      "include_colab_link": true
    },
    "kernelspec": {
      "name": "python3",
      "display_name": "Python 3"
    }
  },
  "cells": [
    {
      "cell_type": "markdown",
      "metadata": {
        "id": "view-in-github",
        "colab_type": "text"
      },
      "source": [
        "<a href=\"https://colab.research.google.com/github/Ferrariagustinpablo/Python-Machine-Learning-notebooks/blob/main/Competitions.ipynb\" target=\"_parent\"><img src=\"https://colab.research.google.com/assets/colab-badge.svg\" alt=\"Open In Colab\"/></a>"
      ]
    },
    {
      "cell_type": "markdown",
      "metadata": {
        "id": "Hlqq_Aeo8RqK"
      },
      "source": [
        "# Data\n",
        "\n",
        "1- Problem, 2- Data, 3- Model, 4-Submission, 5- Leaderboard\n",
        "\n",
        "\n",
        "Go to Kaggle and download Data. We are going to work on: \n",
        "\n",
        "https://www.kaggle.com/c/demand-forecasting-kernels-only/notebooks\n"
      ]
    },
    {
      "cell_type": "code",
      "metadata": {
        "id": "LXXUyECk7LvI",
        "colab": {
          "base_uri": "https://localhost:8080/",
          "height": 136
        },
        "outputId": "7c97ccc3-cb6e-4d9a-8761-670365da56ec"
      },
      "source": [
        "# Import pandas\n",
        "import pandas as pd\n",
        "\n",
        "# Read train data\n",
        "train = pd.read_csv('/content/train.csv')\n",
        "\n",
        "# Look at the shape of the data\n",
        "print('Train shape:', train.shape)\n",
        "\n",
        "# Look at the head() of the data\n",
        "print(train.head())"
      ],
      "execution_count": null,
      "outputs": [
        {
          "output_type": "stream",
          "text": [
            "Train shape: (173155, 4)\n",
            "         date  store  item  sales\n",
            "0  2013-01-01    1.0   1.0   13.0\n",
            "1  2013-01-02    1.0   1.0   11.0\n",
            "2  2013-01-03    1.0   1.0   14.0\n",
            "3  2013-01-04    1.0   1.0   13.0\n",
            "4  2013-01-05    1.0   1.0   10.0\n"
          ],
          "name": "stdout"
        }
      ]
    },
    {
      "cell_type": "code",
      "metadata": {
        "id": "koNsm7czA5ff",
        "colab": {
          "base_uri": "https://localhost:8080/",
          "height": 51
        },
        "outputId": "b585e489-95fb-40b8-ffa3-20e8dbd65c6c"
      },
      "source": [
        "# Read the test data\n",
        "test = pd.read_csv('/content/test.csv')\n",
        "\n",
        "# Print train and test columns\n",
        "print('Train columns:', train.columns.tolist())\n",
        "print('Test columns:', test.columns.tolist())\n"
      ],
      "execution_count": null,
      "outputs": [
        {
          "output_type": "stream",
          "text": [
            "Train columns: ['date', 'store', 'item', 'sales']\n",
            "Test columns: ['id', 'date', 'store', 'item']\n"
          ],
          "name": "stdout"
        }
      ]
    },
    {
      "cell_type": "code",
      "metadata": {
        "id": "UMqvt0dQBbSa",
        "colab": {
          "base_uri": "https://localhost:8080/",
          "height": 119
        },
        "outputId": "525a91a4-fa78-427c-c15d-e7a1230215df"
      },
      "source": [
        "# Read the sample submission file\n",
        "sample_submission = pd.read_csv('/content/sample_submission.csv')\n",
        "\n",
        "# Look at the head() of the sample submission\n",
        "print(sample_submission.head())"
      ],
      "execution_count": null,
      "outputs": [
        {
          "output_type": "stream",
          "text": [
            "   id  sales\n",
            "0   0     52\n",
            "1   1     52\n",
            "2   2     52\n",
            "3   3     52\n",
            "4   4     52\n"
          ],
          "name": "stdout"
        }
      ]
    },
    {
      "cell_type": "markdown",
      "metadata": {
        "id": "vKnnElYACErU"
      },
      "source": [
        "# What problem type?\n",
        "\n",
        "Let's looks at the target distribution values."
      ]
    },
    {
      "cell_type": "code",
      "metadata": {
        "id": "umSDnIh3CESP",
        "colab": {
          "base_uri": "https://localhost:8080/",
          "height": 265
        },
        "outputId": "28c1d648-53bf-43d2-d2c6-ad9f22fa004c"
      },
      "source": [
        "import matplotlib.pyplot as plt\n",
        "\n",
        "\n",
        "train.sales.hist(bins=200)\n",
        "plt.show()"
      ],
      "execution_count": null,
      "outputs": [
        {
          "output_type": "display_data",
          "data": {
            "image/png": "[encoded data removed]",
            "text/plain": [
              "<Figure size 432x288 with 1 Axes>"
            ]
          },
          "metadata": {
            "tags": [],
            "needs_background": "light"
          }
        }
      ]
    },
    {
      "cell_type": "markdown",
      "metadata": {
        "id": "6QCwLbttGNvr"
      },
      "source": [
        "# How to submit the predictions to kaggle?"
      ]
    },
    {
      "cell_type": "markdown",
      "metadata": {
        "id": "FOTitG9DGTKk"
      },
      "source": [
        "## Train the model"
      ]
    },
    {
      "cell_type": "code",
      "metadata": {
        "id": "k4yEwVuUGW-S"
      },
      "source": [
        "from sklearn.ensemble import RandomForestRegressor\n",
        "\n",
        "# Create a Random Forest object\n",
        "rf = RandomForestRegressor()\n",
        "\n",
        "# Train a model\n",
        "rf.fit(X=train[['store', 'item']], y=train['sales'])"
      ],
      "execution_count": null,
      "outputs": []
    },
    {
      "cell_type": "markdown",
      "metadata": {
        "id": "PzrvG1KyIXOf"
      },
      "source": [
        "## Predict, assign into DataFrame columns and to_csv "
      ]
    },
    {
      "cell_type": "code",
      "metadata": {
        "id": "czFQ96FgIP3G"
      },
      "source": [
        "# Get predictions for the test set\n",
        "test['sales'] = rf.predict(test[['store', 'item']])\n",
        "\n",
        "# Write test predictions using the sample_submission format\n",
        "test[['id', 'sales']].to_csv('kaggle_submission.csv', index=False)\n",
        "\n",
        "test.head()"
      ],
      "execution_count": null,
      "outputs": []
    },
    {
      "cell_type": "markdown",
      "metadata": {
        "id": "aVZ1KRyVNY4R"
      },
      "source": [
        "# Trade-off curve a XGBoost model"
      ]
    },
    {
      "cell_type": "code",
      "metadata": {
        "id": "c4l726q_NHHD"
      },
      "source": [
        "import xgboost as xgb\n",
        "\n",
        "# Create DMatrix on train data\n",
        "dtrain = xgb.DMatrix(data=train[['store', 'item']],\n",
        "                     label=train['sales'])\n",
        "\n",
        "# Define xgboost parameters\n",
        "params = {'objective': 'reg:linear',\n",
        "          'max_depth': 2,\n",
        "          'silent': 1}\n",
        "\n",
        "# Train xgboost model\n",
        "xg_depth_2 = xgb.train(params=params, dtrain=dtrain)\n",
        "\n",
        "import xgboost as xgb\n",
        "\n",
        "# Create DMatrix on train data\n",
        "dtrain = xgb.DMatrix(data=train[['store', 'item']],\n",
        "                     label=train['sales'])\n",
        "\n",
        "# Define xgboost parameters\n",
        "params = {'objective': 'reg:linear',\n",
        "          'max_depth': 8,\n",
        "          'silent': 1}\n",
        "\n",
        "# Train xgboost model\n",
        "xg_depth_8 = xgb.train(params=params, dtrain=dtrain)\n",
        "\n",
        "import xgboost as xgb\n",
        "\n",
        "# Create DMatrix on train data\n",
        "dtrain = xgb.DMatrix(data=train[['store', 'item']],\n",
        "                     label=train['sales'])\n",
        "\n",
        "# Define xgboost parameters\n",
        "params = {'objective': 'reg:linear',\n",
        "          'max_depth': 15,\n",
        "          'silent': 1}\n",
        "\n",
        "# Train xgboost model\n",
        "xg_depth_15 = xgb.train(params=params, dtrain=dtrain)\n",
        "\n",
        "import xgboost as xgb\n",
        "\n",
        "# Create DMatrix on train data\n",
        "dtrain = xgb.DMatrix(data=train[['store', 'item']],\n",
        "                     label=train['sales'])\n",
        "\n",
        "# Define xgboost parameters\n",
        "params = {'objective': 'reg:linear',\n",
        "          'max_depth': 25,\n",
        "          'silent': 1}\n",
        "\n",
        "# Train xgboost model\n",
        "xg_depth_25 = xgb.train(params=params, dtrain=dtrain)"
      ],
      "execution_count": null,
      "outputs": []
    },
    {
      "cell_type": "markdown",
      "metadata": {
        "id": "OfCWLYKZNfCN"
      },
      "source": [
        "Having trained 3 XGBoost models with different maximum depths, you will now evaluate their quality.\n",
        "\n",
        "For this purpose, you will measure the quality of each model on both the train data and the test data.\n",
        "\n",
        " To measure the quality of the models you will use Mean Squared Error (MSE). "
      ]
    },
    {
      "cell_type": "code",
      "metadata": {
        "id": "N3WvUVhENppb",
        "colab": {
          "base_uri": "https://localhost:8080/",
          "height": 231
        },
        "outputId": "703bc7da-8fb1-4bb8-d3ff-3eb51b5e7bb5"
      },
      "source": [
        "from sklearn.metrics import mean_squared_error\n",
        "\n",
        "dtrain = xgb.DMatrix(data=train[['store', 'item']])\n",
        "dtest = xgb.DMatrix(data=test[['store', 'item']])\n",
        "\n",
        "# For each of 3 trained models\n",
        "for model in [xg_depth_2, xg_depth_8, xg_depth_15, xg_depth_18]:\n",
        "    # Make predictions\n",
        "    train_pred = model.predict(dtrain)     \n",
        "    test_pred = model.predict(dtest)          \n",
        "    \n",
        "    # Calculate metrics\n",
        "    mse_train = mean_squared_error(train['sales'], train_pred)                  \n",
        "    mse_test = mean_squared_error(test['sales'], test_pred)\n",
        "    print('MSE Train: {:.3f}. MSE Test: {:.3f}'.format(mse_train, mse_test))"
      ],
      "execution_count": null,
      "outputs": [
        {
          "output_type": "error",
          "ename": "NameError",
          "evalue": "ignored",
          "traceback": [
            "\u001b[0;31m---------------------------------------------------------------------------\u001b[0m",
            "\u001b[0;31mNameError\u001b[0m                                 Traceback (most recent call last)",
            "\u001b[0;32m<ipython-input-10-ba6120e5e451>\u001b[0m in \u001b[0;36m<module>\u001b[0;34m()\u001b[0m\n\u001b[1;32m      5\u001b[0m \u001b[0;34m\u001b[0m\u001b[0m\n\u001b[1;32m      6\u001b[0m \u001b[0;31m# For each of 3 trained models\u001b[0m\u001b[0;34m\u001b[0m\u001b[0;34m\u001b[0m\u001b[0;34m\u001b[0m\u001b[0m\n\u001b[0;32m----> 7\u001b[0;31m \u001b[0;32mfor\u001b[0m \u001b[0mmodel\u001b[0m \u001b[0;32min\u001b[0m \u001b[0;34m[\u001b[0m\u001b[0mxg_depth_2\u001b[0m\u001b[0;34m,\u001b[0m \u001b[0mxg_depth_8\u001b[0m\u001b[0;34m,\u001b[0m \u001b[0mxg_depth_15\u001b[0m\u001b[0;34m,\u001b[0m \u001b[0mxg_depth_18\u001b[0m\u001b[0;34m]\u001b[0m\u001b[0;34m:\u001b[0m\u001b[0;34m\u001b[0m\u001b[0;34m\u001b[0m\u001b[0m\n\u001b[0m\u001b[1;32m      8\u001b[0m     \u001b[0;31m# Make predictions\u001b[0m\u001b[0;34m\u001b[0m\u001b[0;34m\u001b[0m\u001b[0;34m\u001b[0m\u001b[0m\n\u001b[1;32m      9\u001b[0m     \u001b[0mtrain_pred\u001b[0m \u001b[0;34m=\u001b[0m \u001b[0mmodel\u001b[0m\u001b[0;34m.\u001b[0m\u001b[0mpredict\u001b[0m\u001b[0;34m(\u001b[0m\u001b[0mdtrain\u001b[0m\u001b[0;34m)\u001b[0m\u001b[0;34m\u001b[0m\u001b[0;34m\u001b[0m\u001b[0m\n",
            "\u001b[0;31mNameError\u001b[0m: name 'xg_depth_18' is not defined"
          ]
        }
      ]
    },
    {
      "cell_type": "markdown",
      "metadata": {
        "id": "iUfkBEPhPm1w"
      },
      "source": [
        "# EDA Taxi dataSet"
      ]
    },
    {
      "cell_type": "markdown",
      "metadata": {
        "id": "QvnUChKKRWE7"
      },
      "source": [
        "1- Size of the data \n",
        "\n",
        "2- Properties of the target variable\n",
        "\n",
        "3- Properties of the features\n",
        "\n",
        "4- Generate ideas for feature engineering"
      ]
    },
    {
      "cell_type": "code",
      "metadata": {
        "id": "E86LTZA2ROpd",
        "colab": {
          "base_uri": "https://localhost:8080/",
          "height": 581
        },
        "outputId": "58a4c78e-dc9a-4ca6-f555-5a016c96490a"
      },
      "source": [
        "# Taxi prediction data\n",
        "\n",
        "\n",
        "ttrain = pd.read_csv('https://assets.datacamp.com/production/repositories/4443/datasets/1abe6ab7c7c0e880a2f6febcae946a33a9ef5e31/taxi_train_chapter_4.csv')\n",
        "\n",
        "display(ttrain.head())\n",
        "\n",
        "ttest = pd.read_csv('https://assets.datacamp.com/production/repositories/4443/datasets/f52d553ec3d3a8b469d58d20bf70a1b401765a30/taxi_test_chapter_4.csv')\n",
        "\n",
        "ttest.head()"
      ],
      "execution_count": null,
      "outputs": [
        {
          "output_type": "display_data",
          "data": {
            "text/html": [
              "<div>\n",
              "<style scoped>\n",
              "    .dataframe tbody tr th:only-of-type {\n",
              "        vertical-align: middle;\n",
              "    }\n",
              "\n",
              "    .dataframe tbody tr th {\n",
              "        vertical-align: top;\n",
              "    }\n",
              "\n",
              "    .dataframe thead th {\n",
              "        text-align: right;\n",
              "    }\n",
              "</style>\n",
              "<table border=\"1\" class=\"dataframe\">\n",
              "  <thead>\n",
              "    <tr style=\"text-align: right;\">\n",
              "      <th></th>\n",
              "      <th>id</th>\n",
              "      <th>fare_amount</th>\n",
              "      <th>pickup_datetime</th>\n",
              "      <th>pickup_longitude</th>\n",
              "      <th>pickup_latitude</th>\n",
              "      <th>dropoff_longitude</th>\n",
              "      <th>dropoff_latitude</th>\n",
              "      <th>passenger_count</th>\n",
              "    </tr>\n",
              "  </thead>\n",
              "  <tbody>\n",
              "    <tr>\n",
              "      <th>0</th>\n",
              "      <td>0</td>\n",
              "      <td>4.5</td>\n",
              "      <td>2009-06-15 17:26:21 UTC</td>\n",
              "      <td>-73.844311</td>\n",
              "      <td>40.721319</td>\n",
              "      <td>-73.841610</td>\n",
              "      <td>40.712278</td>\n",
              "      <td>1</td>\n",
              "    </tr>\n",
              "    <tr>\n",
              "      <th>1</th>\n",
              "      <td>1</td>\n",
              "      <td>16.9</td>\n",
              "      <td>2010-01-05 16:52:16 UTC</td>\n",
              "      <td>-74.016048</td>\n",
              "      <td>40.711303</td>\n",
              "      <td>-73.979268</td>\n",
              "      <td>40.782004</td>\n",
              "      <td>1</td>\n",
              "    </tr>\n",
              "    <tr>\n",
              "      <th>2</th>\n",
              "      <td>2</td>\n",
              "      <td>5.7</td>\n",
              "      <td>2011-08-18 00:35:00 UTC</td>\n",
              "      <td>-73.982738</td>\n",
              "      <td>40.761270</td>\n",
              "      <td>-73.991242</td>\n",
              "      <td>40.750562</td>\n",
              "      <td>2</td>\n",
              "    </tr>\n",
              "    <tr>\n",
              "      <th>3</th>\n",
              "      <td>3</td>\n",
              "      <td>7.7</td>\n",
              "      <td>2012-04-21 04:30:42 UTC</td>\n",
              "      <td>-73.987130</td>\n",
              "      <td>40.733143</td>\n",
              "      <td>-73.991567</td>\n",
              "      <td>40.758092</td>\n",
              "      <td>1</td>\n",
              "    </tr>\n",
              "    <tr>\n",
              "      <th>4</th>\n",
              "      <td>4</td>\n",
              "      <td>5.3</td>\n",
              "      <td>2010-03-09 07:51:00 UTC</td>\n",
              "      <td>-73.968095</td>\n",
              "      <td>40.768008</td>\n",
              "      <td>-73.956655</td>\n",
              "      <td>40.783762</td>\n",
              "      <td>1</td>\n",
              "    </tr>\n",
              "  </tbody>\n",
              "</table>\n",
              "</div>"
            ],
            "text/plain": [
              "   id  fare_amount  ... dropoff_latitude  passenger_count\n",
              "0   0          4.5  ...        40.712278                1\n",
              "1   1         16.9  ...        40.782004                1\n",
              "2   2          5.7  ...        40.750562                2\n",
              "3   3          7.7  ...        40.758092                1\n",
              "4   4          5.3  ...        40.783762                1\n",
              "\n",
              "[5 rows x 8 columns]"
            ]
          },
          "metadata": {
            "tags": []
          }
        },
        {
          "output_type": "execute_result",
          "data": {
            "text/html": [
              "<div>\n",
              "<style scoped>\n",
              "    .dataframe tbody tr th:only-of-type {\n",
              "        vertical-align: middle;\n",
              "    }\n",
              "\n",
              "    .dataframe tbody tr th {\n",
              "        vertical-align: top;\n",
              "    }\n",
              "\n",
              "    .dataframe thead th {\n",
              "        text-align: right;\n",
              "    }\n",
              "</style>\n",
              "<table border=\"1\" class=\"dataframe\">\n",
              "  <thead>\n",
              "    <tr style=\"text-align: right;\">\n",
              "      <th></th>\n",
              "      <th>id</th>\n",
              "      <th>pickup_datetime</th>\n",
              "      <th>pickup_longitude</th>\n",
              "      <th>pickup_latitude</th>\n",
              "      <th>dropoff_longitude</th>\n",
              "      <th>dropoff_latitude</th>\n",
              "      <th>passenger_count</th>\n",
              "    </tr>\n",
              "  </thead>\n",
              "  <tbody>\n",
              "    <tr>\n",
              "      <th>0</th>\n",
              "      <td>0</td>\n",
              "      <td>2015-01-27 13:08:24 UTC</td>\n",
              "      <td>-73.973320</td>\n",
              "      <td>40.763805</td>\n",
              "      <td>-73.981430</td>\n",
              "      <td>40.743835</td>\n",
              "      <td>1</td>\n",
              "    </tr>\n",
              "    <tr>\n",
              "      <th>1</th>\n",
              "      <td>1</td>\n",
              "      <td>2015-01-27 13:08:24 UTC</td>\n",
              "      <td>-73.986862</td>\n",
              "      <td>40.719383</td>\n",
              "      <td>-73.998886</td>\n",
              "      <td>40.739201</td>\n",
              "      <td>1</td>\n",
              "    </tr>\n",
              "    <tr>\n",
              "      <th>2</th>\n",
              "      <td>2</td>\n",
              "      <td>2011-10-08 11:53:44 UTC</td>\n",
              "      <td>-73.982524</td>\n",
              "      <td>40.751260</td>\n",
              "      <td>-73.979654</td>\n",
              "      <td>40.746139</td>\n",
              "      <td>1</td>\n",
              "    </tr>\n",
              "    <tr>\n",
              "      <th>3</th>\n",
              "      <td>3</td>\n",
              "      <td>2012-12-01 21:12:12 UTC</td>\n",
              "      <td>-73.981160</td>\n",
              "      <td>40.767807</td>\n",
              "      <td>-73.990448</td>\n",
              "      <td>40.751635</td>\n",
              "      <td>1</td>\n",
              "    </tr>\n",
              "    <tr>\n",
              "      <th>4</th>\n",
              "      <td>4</td>\n",
              "      <td>2012-12-01 21:12:12 UTC</td>\n",
              "      <td>-73.966046</td>\n",
              "      <td>40.789775</td>\n",
              "      <td>-73.988565</td>\n",
              "      <td>40.744427</td>\n",
              "      <td>1</td>\n",
              "    </tr>\n",
              "  </tbody>\n",
              "</table>\n",
              "</div>"
            ],
            "text/plain": [
              "   id          pickup_datetime  ...  dropoff_latitude  passenger_count\n",
              "0   0  2015-01-27 13:08:24 UTC  ...         40.743835                1\n",
              "1   1  2015-01-27 13:08:24 UTC  ...         40.739201                1\n",
              "2   2  2011-10-08 11:53:44 UTC  ...         40.746139                1\n",
              "3   3  2012-12-01 21:12:12 UTC  ...         40.751635                1\n",
              "4   4  2012-12-01 21:12:12 UTC  ...         40.744427                1\n",
              "\n",
              "[5 rows x 7 columns]"
            ]
          },
          "metadata": {
            "tags": []
          },
          "execution_count": 55
        }
      ]
    },
    {
      "cell_type": "code",
      "metadata": {
        "id": "bIrzKusWx3DN",
        "colab": {
          "base_uri": "https://localhost:8080/",
          "height": 309
        },
        "outputId": "31af1746-8989-4f93-b395-7f462c30d098"
      },
      "source": [
        "ttrain['pick_coords'] = [list(a) for a in zip(ttrain.pickup_longitude, ttrain.pickup_latitude)]\n",
        "ttrain['dropoff_coords'] = [list(a) for a in zip(ttrain.dropoff_longitude, ttrain.dropoff_latitude)]\n",
        "ttrain.head()"
      ],
      "execution_count": null,
      "outputs": [
        {
          "output_type": "execute_result",
          "data": {
            "text/html": [
              "<div>\n",
              "<style scoped>\n",
              "    .dataframe tbody tr th:only-of-type {\n",
              "        vertical-align: middle;\n",
              "    }\n",
              "\n",
              "    .dataframe tbody tr th {\n",
              "        vertical-align: top;\n",
              "    }\n",
              "\n",
              "    .dataframe thead th {\n",
              "        text-align: right;\n",
              "    }\n",
              "</style>\n",
              "<table border=\"1\" class=\"dataframe\">\n",
              "  <thead>\n",
              "    <tr style=\"text-align: right;\">\n",
              "      <th></th>\n",
              "      <th>id</th>\n",
              "      <th>fare_amount</th>\n",
              "      <th>pickup_datetime</th>\n",
              "      <th>pickup_longitude</th>\n",
              "      <th>pickup_latitude</th>\n",
              "      <th>dropoff_longitude</th>\n",
              "      <th>dropoff_latitude</th>\n",
              "      <th>passenger_count</th>\n",
              "      <th>pick_coords</th>\n",
              "      <th>dropoff_coords</th>\n",
              "    </tr>\n",
              "  </thead>\n",
              "  <tbody>\n",
              "    <tr>\n",
              "      <th>0</th>\n",
              "      <td>0</td>\n",
              "      <td>4.5</td>\n",
              "      <td>2009-06-15 17:26:21 UTC</td>\n",
              "      <td>-73.844311</td>\n",
              "      <td>40.721319</td>\n",
              "      <td>-73.841610</td>\n",
              "      <td>40.712278</td>\n",
              "      <td>1</td>\n",
              "      <td>[-73.844311, 40.721319]</td>\n",
              "      <td>[-73.84161, 40.71227800000001]</td>\n",
              "    </tr>\n",
              "    <tr>\n",
              "      <th>1</th>\n",
              "      <td>1</td>\n",
              "      <td>16.9</td>\n",
              "      <td>2010-01-05 16:52:16 UTC</td>\n",
              "      <td>-74.016048</td>\n",
              "      <td>40.711303</td>\n",
              "      <td>-73.979268</td>\n",
              "      <td>40.782004</td>\n",
              "      <td>1</td>\n",
              "      <td>[-74.016048, 40.711303]</td>\n",
              "      <td>[-73.979268, 40.782004]</td>\n",
              "    </tr>\n",
              "    <tr>\n",
              "      <th>2</th>\n",
              "      <td>2</td>\n",
              "      <td>5.7</td>\n",
              "      <td>2011-08-18 00:35:00 UTC</td>\n",
              "      <td>-73.982738</td>\n",
              "      <td>40.761270</td>\n",
              "      <td>-73.991242</td>\n",
              "      <td>40.750562</td>\n",
              "      <td>2</td>\n",
              "      <td>[-73.982738, 40.76127]</td>\n",
              "      <td>[-73.991242, 40.750562]</td>\n",
              "    </tr>\n",
              "    <tr>\n",
              "      <th>3</th>\n",
              "      <td>3</td>\n",
              "      <td>7.7</td>\n",
              "      <td>2012-04-21 04:30:42 UTC</td>\n",
              "      <td>-73.987130</td>\n",
              "      <td>40.733143</td>\n",
              "      <td>-73.991567</td>\n",
              "      <td>40.758092</td>\n",
              "      <td>1</td>\n",
              "      <td>[-73.98713000000002, 40.733143]</td>\n",
              "      <td>[-73.991567, 40.758092]</td>\n",
              "    </tr>\n",
              "    <tr>\n",
              "      <th>4</th>\n",
              "      <td>4</td>\n",
              "      <td>5.3</td>\n",
              "      <td>2010-03-09 07:51:00 UTC</td>\n",
              "      <td>-73.968095</td>\n",
              "      <td>40.768008</td>\n",
              "      <td>-73.956655</td>\n",
              "      <td>40.783762</td>\n",
              "      <td>1</td>\n",
              "      <td>[-73.96809499999998, 40.768008]</td>\n",
              "      <td>[-73.956655, 40.783762]</td>\n",
              "    </tr>\n",
              "  </tbody>\n",
              "</table>\n",
              "</div>"
            ],
            "text/plain": [
              "   id  ...                  dropoff_coords\n",
              "0   0  ...  [-73.84161, 40.71227800000001]\n",
              "1   1  ...         [-73.979268, 40.782004]\n",
              "2   2  ...         [-73.991242, 40.750562]\n",
              "3   3  ...         [-73.991567, 40.758092]\n",
              "4   4  ...         [-73.956655, 40.783762]\n",
              "\n",
              "[5 rows x 10 columns]"
            ]
          },
          "metadata": {
            "tags": []
          },
          "execution_count": 42
        }
      ]
    },
    {
      "cell_type": "code",
      "metadata": {
        "id": "S8mDhZuWthyD",
        "colab": {
          "base_uri": "https://localhost:8080/",
          "height": 51
        },
        "outputId": "5b2fdb1b-581f-49a8-f5c0-260b8da18a1c"
      },
      "source": [
        "# Shapes of train and test data\n",
        "print('Train shape:', ttrain.shape)\n",
        "print('Test shape:', ttest.shape)\n"
      ],
      "execution_count": null,
      "outputs": [
        {
          "output_type": "stream",
          "text": [
            "Train shape: (20000, 8)\n",
            "Test shape: (9914, 7)\n"
          ],
          "name": "stdout"
        }
      ]
    },
    {
      "cell_type": "code",
      "metadata": {
        "id": "Ov1827QZvoFu",
        "colab": {
          "base_uri": "https://localhost:8080/",
          "height": 272
        },
        "outputId": "561ea883-f50e-4ebe-fe51-363c9a67c41e"
      },
      "source": [
        "ttrain.info()"
      ],
      "execution_count": null,
      "outputs": [
        {
          "output_type": "stream",
          "text": [
            "<class 'pandas.core.frame.DataFrame'>\n",
            "RangeIndex: 20000 entries, 0 to 19999\n",
            "Data columns (total 8 columns):\n",
            " #   Column             Non-Null Count  Dtype  \n",
            "---  ------             --------------  -----  \n",
            " 0   id                 20000 non-null  int64  \n",
            " 1   fare_amount        20000 non-null  float64\n",
            " 2   pickup_datetime    20000 non-null  object \n",
            " 3   pickup_longitude   20000 non-null  float64\n",
            " 4   pickup_latitude    20000 non-null  float64\n",
            " 5   dropoff_longitude  20000 non-null  float64\n",
            " 6   dropoff_latitude   20000 non-null  float64\n",
            " 7   passenger_count    20000 non-null  int64  \n",
            "dtypes: float64(5), int64(2), object(1)\n",
            "memory usage: 1.2+ MB\n"
          ],
          "name": "stdout"
        }
      ]
    },
    {
      "cell_type": "code",
      "metadata": {
        "id": "oVMbITButp_z",
        "colab": {
          "base_uri": "https://localhost:8080/",
          "height": 265
        },
        "outputId": "e75c20d3-3fbd-414f-990e-72428f1fbd3f"
      },
      "source": [
        "# Describe the target variable\n",
        "\n",
        "ttrain.fare_amount.hist(bins=100)\n",
        "plt.show()"
      ],
      "execution_count": null,
      "outputs": [
        {
          "output_type": "display_data",
          "data": {
            "image/png": "[encoded data removed]",
            "text/plain": [
              "<Figure size 432x288 with 1 Axes>"
            ]
          },
          "metadata": {
            "tags": [],
            "needs_background": "light"
          }
        }
      ]
    },
    {
      "cell_type": "code",
      "metadata": {
        "id": "HtSZDg6kt6V0",
        "colab": {
          "base_uri": "https://localhost:8080/",
          "height": 306
        },
        "outputId": "9f3889dd-60ee-4258-943a-e1ed94f4fdd3"
      },
      "source": [
        "# Describe the target variable\n",
        "print(ttrain.fare_amount.describe())\n",
        "\n",
        "# Train distribution of passengers within rides\n",
        "print(ttrain.passenger_count.value_counts())"
      ],
      "execution_count": null,
      "outputs": [
        {
          "output_type": "stream",
          "text": [
            "count    20000.000000\n",
            "mean        11.303321\n",
            "std          9.541637\n",
            "min         -3.000000\n",
            "25%          6.000000\n",
            "50%          8.500000\n",
            "75%         12.500000\n",
            "max        180.000000\n",
            "Name: fare_amount, dtype: float64\n",
            "1    13999\n",
            "2     2912\n",
            "5     1327\n",
            "3      860\n",
            "4      420\n",
            "6      407\n",
            "0       75\n",
            "Name: passenger_count, dtype: int64\n"
          ],
          "name": "stdout"
        }
      ]
    },
    {
      "cell_type": "code",
      "metadata": {
        "id": "TlQt8pNyu2YK"
      },
      "source": [
        "from math import radians, cos, sin, asin, sqrt\n",
        "\n",
        "def haversine(df):\n",
        "    \"\"\"\n",
        "    Calculate the great circle distance between two points \n",
        "    on the earth (specified in decimal degrees)\n",
        "    \"\"\"\n",
        "    lon1, lat1, lon2, lat2 = df.pickup_longitude,\tdf.pickup_latitude,\tdf.dropoff_longitude, df.dropoff_latitude\n",
        "\n",
        "    # convert decimal degrees to radians \n",
        "    lon1, lat1, lon2, lat2 = map(radians, [lon1, lat1, lon2, lat2])\n",
        "\n",
        "    # haversine formula \n",
        "    dlon = lon2 - lon1 \n",
        "    dlat = lat2 - lat1 \n",
        "    a = sin(dlat/2)**2 + cos(lat1) * cos(lat2) * sin(dlon/2)**2\n",
        "    c = 2 * asin(sqrt(a)) \n",
        "    r = 6371 # Radius of earth in kilometers. Use 3956 for miles\n",
        "    return c * r"
      ],
      "execution_count": null,
      "outputs": []
    },
    {
      "cell_type": "code",
      "metadata": {
        "id": "btjArFq4vLSk",
        "colab": {
          "base_uri": "https://localhost:8080/",
          "height": 295
        },
        "outputId": "b81a9b56-7837-4c93-fb58-7f67868329d0"
      },
      "source": [
        "# Calculate the ride distance\n",
        "ttrain['distance_km'] = ttrain.apply(lambda row: haversine(row), axis=1)\n",
        "\n",
        "# Draw a scatterplot\n",
        "plt.scatter(x=ttrain['fare_amount'], y=ttrain['distance_km'], alpha=0.5)\n",
        "plt.xlabel('Fare amount')\n",
        "plt.ylabel('Distance, km')\n",
        "plt.title('Fare amount based on the distance')\n",
        "\n",
        "# Limit on the distance\n",
        "plt.ylim(0, 50)\n",
        "plt.show()"
      ],
      "execution_count": null,
      "outputs": [
        {
          "output_type": "display_data",
          "data": {
            "image/png": "[encoded data removed]",
            "text/plain": [
              "<Figure size 432x288 with 1 Axes>"
            ]
          },
          "metadata": {
            "tags": [],
            "needs_background": "light"
          }
        }
      ]
    },
    {
      "cell_type": "code",
      "metadata": {
        "id": "0h3DSwcU7EO6",
        "colab": {
          "base_uri": "https://localhost:8080/",
          "height": 295
        },
        "outputId": "ff6afd74-f263-411f-9a21-870b3d8951f0"
      },
      "source": [
        "# Create hour feature\n",
        "ttrain['pickup_datetime'] = pd.to_datetime(ttrain.pickup_datetime)\n",
        "ttrain['hour'] = ttrain.pickup_datetime.dt.hour\n",
        "\n",
        "# Find median fare_amount for each hour\n",
        "hour_price = ttrain.groupby('hour', as_index=False)['fare_amount'].median()\n",
        "\n",
        "# Plot the line plot\n",
        "plt.plot(hour_price['hour'], hour_price['fare_amount'], marker='o')\n",
        "plt.xlabel('Hour of the day')\n",
        "plt.ylabel('Median fare amount')\n",
        "plt.title('Fare amount based on day time')\n",
        "plt.xticks(range(24))\n",
        "plt.show()"
      ],
      "execution_count": null,
      "outputs": [
        {
          "output_type": "display_data",
          "data": {
            "image/png": "[encoded data removed]",
            "text/plain": [
              "<Figure size 432x288 with 1 Axes>"
            ]
          },
          "metadata": {
            "tags": [],
            "needs_background": "light"
          }
        }
      ]
    },
    {
      "cell_type": "markdown",
      "metadata": {
        "id": "oMa7_qh88Fku"
      },
      "source": [
        "We see that prices are a bit higher during the night. It is a good indicator that we should include the \"hour\" feature in the final model, or at least add a binary feature \"is_night\"."
      ]
    },
    {
      "cell_type": "markdown",
      "metadata": {
        "id": "wp76CVUKDGYa"
      },
      "source": [
        "# K-Fold validations"
      ]
    },
    {
      "cell_type": "markdown",
      "metadata": {
        "id": "kuNZ2qVEDMF8"
      },
      "source": [
        "### K-fold on Time series"
      ]
    },
    {
      "cell_type": "markdown",
      "metadata": {
        "id": "lKuclO1XEIdE"
      },
      "source": [
        "We can't use common cross validation, because we have time series data.cannot put the future to train as it where the past."
      ]
    },
    {
      "cell_type": "code",
      "metadata": {
        "id": "TZV2kB-NECLd"
      },
      "source": [
        "# Create TimeSeriesSplit object\n",
        "time_kfold = TimeSeriesSplit(n_splits=3)\n",
        "\n",
        "# Sort train data by date\n",
        "train = train.sort_values('date')\n",
        "\n",
        "# Iterate through each split\n",
        "fold = 0\n",
        "for train_index, test_index in time_kfold.split(train):\n",
        "    cv_train, cv_test = train.iloc[train_index], train.iloc[test_index]\n",
        "    \n",
        "    print('Fold :', fold)\n",
        "    print('Train date range: from {} to {}'.format(cv_train.date.min(), cv_train.date.max()))\n",
        "    print('Test date range: from {} to {}\\n'.format(cv_test.date.min(), cv_test.date.max()))\n",
        "    fold += 1"
      ],
      "execution_count": null,
      "outputs": []
    },
    {
      "cell_type": "markdown",
      "metadata": {
        "id": "MZlp2jd6G6Ew"
      },
      "source": [
        "## K-Fold comparison mean + std"
      ]
    },
    {
      "cell_type": "markdown",
      "metadata": {
        "id": "V-XjKezQHCGM"
      },
      "source": [
        "We compare with mean + std and not only with mean of loss for each cv.\n",
        "\n",
        "we usually compute np.mean of loss or accuracy scores on all cross_validation fold. We compare the results on each model to select the best performer one. It's better to compare the mean + std as a metric for comparison."
      ]
    },
    {
      "cell_type": "code",
      "metadata": {
        "id": "eSHdlDsp8Mcu"
      },
      "source": [
        "from sklearn.model_selection import TimeSeriesSplit\n",
        "import numpy as np\n",
        "\n",
        "print('Overall validation MSE: {:.5f}'.format(np.mean(mse_scores) + np.std(mse_scores)))"
      ],
      "execution_count": null,
      "outputs": []
    },
    {
      "cell_type": "markdown",
      "metadata": {
        "id": "H4yCwuUgH5Fk"
      },
      "source": [
        "# Modeling Stage of a competition"
      ]
    },
    {
      "cell_type": "markdown",
      "metadata": {
        "id": "ZXrHSY_PH7rm"
      },
      "source": [
        "We first 1) understood the problem, 2) made EDA and 3) selected Local Validation Scheme.\n",
        "\n",
        "In this stage we are going to focus on 5) Modeling."
      ]
    },
    {
      "cell_type": "markdown",
      "metadata": {
        "id": "6nrJulo-IZ_1"
      },
      "source": [
        "This stage is the longest one in the competition, and kind of feels like a marathon.\n",
        "\n",
        "During the modeling loop we pre-process data, create new features, enhance models, apply tricks and go all over again. \n",
        "\n",
        "This is the modeling loop.\n",
        "\n",
        "1- pre-process data, \n",
        "2- create new features, \n",
        "3- enhance models, \n",
        "4- apply tricks\n",
        "5- Observe validation scores and public validation on the competition, and return the loop\n",
        "\n"
      ]
    },
    {
      "cell_type": "markdown",
      "metadata": {
        "id": "OvPUspq2I9kU"
      },
      "source": [
        "Change one step at a time"
      ]
    },
    {
      "cell_type": "markdown",
      "metadata": {
        "id": "pt3O9CA1JBK2"
      },
      "source": [
        "## Feature engineering"
      ]
    },
    {
      "cell_type": "markdown",
      "metadata": {
        "id": "FmMFtao8LhYs"
      },
      "source": [
        "\"House Prices: Advanced Regression Techniques\". The goal of this competition is to predict the price of the house based on its properties. It's a regression problem with Root Mean Squared Error as an evaluation metric.\n",
        "\n",
        "Your goal is to create new features and determine whether they improve your validation score."
      ]
    },
    {
      "cell_type": "code",
      "metadata": {
        "id": "wnEXgqU_MGjC"
      },
      "source": [
        "train = pd.read_csv()"
      ],
      "execution_count": null,
      "outputs": []
    },
    {
      "cell_type": "code",
      "metadata": {
        "id": "W9MmmkedI7U6"
      },
      "source": [
        "# Look at the initial RMSE\n",
        "print('RMSE before feature engineering:', get_kfold_rmse(train))\n",
        "\n",
        "# Find the total area of the house\n",
        "train['TotalArea'] = train['TotalBsmtSF'] + train['FirstFlrSF'] + train['SecondFlrSF']\n",
        "print('RMSE with total area:', get_kfold_rmse(train))\n",
        "\n",
        "# Find the area of the garden\n",
        "train['GardenArea'] = train['LotArea'] - train['FirstFlrSF']\n",
        "print('RMSE with garden area:', get_kfold_rmse(train))\n",
        "\n",
        "# Find the total number of bathrooms\n",
        "# train['TotalBath'] = train['FullBath'] + train['HalfBath']\n",
        "# print('RMSE with number of bathrooms:', get_kfold_rmse(train))"
      ],
      "execution_count": null,
      "outputs": []
    },
    {
      "cell_type": "markdown",
      "metadata": {
        "id": "t0TTBEN6PJqs"
      },
      "source": [
        "\n",
        "<script.py> output:\n",
        "    RMSE before feature engineering: 36029.39\n",
        "    RMSE with total area: 35073.2\n",
        "    RMSE with garden area: 34413.55\n",
        "    RMSE with number of bathrooms: 34506.78"
      ]
    },
    {
      "cell_type": "markdown",
      "metadata": {
        "id": "uP70XwxHMUC8"
      },
      "source": [
        "You've created three new features. Here you see that house area improved the RMSE by almost $1,000. Adding garden area improved the RMSE by another $600. However, with the total number of bathrooms, the RMSE has increased. It means that you keep the new area features, but do not add \"TotalBath\" as a new feature."
      ]
    },
    {
      "cell_type": "markdown",
      "metadata": {
        "id": "UWXPSecLPPOv"
      },
      "source": [
        "Your objective is to generate date features from the pickup datetime. Recall that it's better to create new features for train and test data simultaneously. After the features are created, split the data back into the train and test DataFrames. Here it's done using pandas' isin() method.\n"
      ]
    },
    {
      "cell_type": "code",
      "metadata": {
        "id": "CqV4EjyTQPRn",
        "colab": {
          "base_uri": "https://localhost:8080/",
          "height": 581
        },
        "outputId": "f122f16d-9d81-46c9-9d8f-cd22bf9cf804"
      },
      "source": [
        "# Taxi prediction data\n",
        "\n",
        "ttrain = pd.read_csv('https://assets.datacamp.com/production/repositories/4443/datasets/1abe6ab7c7c0e880a2f6febcae946a33a9ef5e31/taxi_train_chapter_4.csv')\n",
        "\n",
        "display(ttrain.head())\n",
        "\n",
        "ttest = pd.read_csv('https://assets.datacamp.com/production/repositories/4443/datasets/f52d553ec3d3a8b469d58d20bf70a1b401765a30/taxi_test_chapter_4.csv')\n",
        "\n",
        "ttest.head()"
      ],
      "execution_count": null,
      "outputs": [
        {
          "output_type": "display_data",
          "data": {
            "text/html": [
              "<div>\n",
              "<style scoped>\n",
              "    .dataframe tbody tr th:only-of-type {\n",
              "        vertical-align: middle;\n",
              "    }\n",
              "\n",
              "    .dataframe tbody tr th {\n",
              "        vertical-align: top;\n",
              "    }\n",
              "\n",
              "    .dataframe thead th {\n",
              "        text-align: right;\n",
              "    }\n",
              "</style>\n",
              "<table border=\"1\" class=\"dataframe\">\n",
              "  <thead>\n",
              "    <tr style=\"text-align: right;\">\n",
              "      <th></th>\n",
              "      <th>id</th>\n",
              "      <th>fare_amount</th>\n",
              "      <th>pickup_datetime</th>\n",
              "      <th>pickup_longitude</th>\n",
              "      <th>pickup_latitude</th>\n",
              "      <th>dropoff_longitude</th>\n",
              "      <th>dropoff_latitude</th>\n",
              "      <th>passenger_count</th>\n",
              "    </tr>\n",
              "  </thead>\n",
              "  <tbody>\n",
              "    <tr>\n",
              "      <th>0</th>\n",
              "      <td>0</td>\n",
              "      <td>4.5</td>\n",
              "      <td>2009-06-15 17:26:21 UTC</td>\n",
              "      <td>-73.844311</td>\n",
              "      <td>40.721319</td>\n",
              "      <td>-73.841610</td>\n",
              "      <td>40.712278</td>\n",
              "      <td>1</td>\n",
              "    </tr>\n",
              "    <tr>\n",
              "      <th>1</th>\n",
              "      <td>1</td>\n",
              "      <td>16.9</td>\n",
              "      <td>2010-01-05 16:52:16 UTC</td>\n",
              "      <td>-74.016048</td>\n",
              "      <td>40.711303</td>\n",
              "      <td>-73.979268</td>\n",
              "      <td>40.782004</td>\n",
              "      <td>1</td>\n",
              "    </tr>\n",
              "    <tr>\n",
              "      <th>2</th>\n",
              "      <td>2</td>\n",
              "      <td>5.7</td>\n",
              "      <td>2011-08-18 00:35:00 UTC</td>\n",
              "      <td>-73.982738</td>\n",
              "      <td>40.761270</td>\n",
              "      <td>-73.991242</td>\n",
              "      <td>40.750562</td>\n",
              "      <td>2</td>\n",
              "    </tr>\n",
              "    <tr>\n",
              "      <th>3</th>\n",
              "      <td>3</td>\n",
              "      <td>7.7</td>\n",
              "      <td>2012-04-21 04:30:42 UTC</td>\n",
              "      <td>-73.987130</td>\n",
              "      <td>40.733143</td>\n",
              "      <td>-73.991567</td>\n",
              "      <td>40.758092</td>\n",
              "      <td>1</td>\n",
              "    </tr>\n",
              "    <tr>\n",
              "      <th>4</th>\n",
              "      <td>4</td>\n",
              "      <td>5.3</td>\n",
              "      <td>2010-03-09 07:51:00 UTC</td>\n",
              "      <td>-73.968095</td>\n",
              "      <td>40.768008</td>\n",
              "      <td>-73.956655</td>\n",
              "      <td>40.783762</td>\n",
              "      <td>1</td>\n",
              "    </tr>\n",
              "  </tbody>\n",
              "</table>\n",
              "</div>"
            ],
            "text/plain": [
              "   id  fare_amount  ... dropoff_latitude  passenger_count\n",
              "0   0          4.5  ...        40.712278                1\n",
              "1   1         16.9  ...        40.782004                1\n",
              "2   2          5.7  ...        40.750562                2\n",
              "3   3          7.7  ...        40.758092                1\n",
              "4   4          5.3  ...        40.783762                1\n",
              "\n",
              "[5 rows x 8 columns]"
            ]
          },
          "metadata": {
            "tags": []
          }
        },
        {
          "output_type": "execute_result",
          "data": {
            "text/html": [
              "<div>\n",
              "<style scoped>\n",
              "    .dataframe tbody tr th:only-of-type {\n",
              "        vertical-align: middle;\n",
              "    }\n",
              "\n",
              "    .dataframe tbody tr th {\n",
              "        vertical-align: top;\n",
              "    }\n",
              "\n",
              "    .dataframe thead th {\n",
              "        text-align: right;\n",
              "    }\n",
              "</style>\n",
              "<table border=\"1\" class=\"dataframe\">\n",
              "  <thead>\n",
              "    <tr style=\"text-align: right;\">\n",
              "      <th></th>\n",
              "      <th>id</th>\n",
              "      <th>pickup_datetime</th>\n",
              "      <th>pickup_longitude</th>\n",
              "      <th>pickup_latitude</th>\n",
              "      <th>dropoff_longitude</th>\n",
              "      <th>dropoff_latitude</th>\n",
              "      <th>passenger_count</th>\n",
              "    </tr>\n",
              "  </thead>\n",
              "  <tbody>\n",
              "    <tr>\n",
              "      <th>0</th>\n",
              "      <td>0</td>\n",
              "      <td>2015-01-27 13:08:24 UTC</td>\n",
              "      <td>-73.973320</td>\n",
              "      <td>40.763805</td>\n",
              "      <td>-73.981430</td>\n",
              "      <td>40.743835</td>\n",
              "      <td>1</td>\n",
              "    </tr>\n",
              "    <tr>\n",
              "      <th>1</th>\n",
              "      <td>1</td>\n",
              "      <td>2015-01-27 13:08:24 UTC</td>\n",
              "      <td>-73.986862</td>\n",
              "      <td>40.719383</td>\n",
              "      <td>-73.998886</td>\n",
              "      <td>40.739201</td>\n",
              "      <td>1</td>\n",
              "    </tr>\n",
              "    <tr>\n",
              "      <th>2</th>\n",
              "      <td>2</td>\n",
              "      <td>2011-10-08 11:53:44 UTC</td>\n",
              "      <td>-73.982524</td>\n",
              "      <td>40.751260</td>\n",
              "      <td>-73.979654</td>\n",
              "      <td>40.746139</td>\n",
              "      <td>1</td>\n",
              "    </tr>\n",
              "    <tr>\n",
              "      <th>3</th>\n",
              "      <td>3</td>\n",
              "      <td>2012-12-01 21:12:12 UTC</td>\n",
              "      <td>-73.981160</td>\n",
              "      <td>40.767807</td>\n",
              "      <td>-73.990448</td>\n",
              "      <td>40.751635</td>\n",
              "      <td>1</td>\n",
              "    </tr>\n",
              "    <tr>\n",
              "      <th>4</th>\n",
              "      <td>4</td>\n",
              "      <td>2012-12-01 21:12:12 UTC</td>\n",
              "      <td>-73.966046</td>\n",
              "      <td>40.789775</td>\n",
              "      <td>-73.988565</td>\n",
              "      <td>40.744427</td>\n",
              "      <td>1</td>\n",
              "    </tr>\n",
              "  </tbody>\n",
              "</table>\n",
              "</div>"
            ],
            "text/plain": [
              "   id          pickup_datetime  ...  dropoff_latitude  passenger_count\n",
              "0   0  2015-01-27 13:08:24 UTC  ...         40.743835                1\n",
              "1   1  2015-01-27 13:08:24 UTC  ...         40.739201                1\n",
              "2   2  2011-10-08 11:53:44 UTC  ...         40.746139                1\n",
              "3   3  2012-12-01 21:12:12 UTC  ...         40.751635                1\n",
              "4   4  2012-12-01 21:12:12 UTC  ...         40.744427                1\n",
              "\n",
              "[5 rows x 7 columns]"
            ]
          },
          "metadata": {
            "tags": []
          },
          "execution_count": 56
        }
      ]
    },
    {
      "cell_type": "code",
      "metadata": {
        "id": "sDynNIW-Ps6b"
      },
      "source": [
        "# Concatenate train and test together\n",
        "taxi = pd.concat([ttrain, ttest])\n",
        "\n",
        "# Convert pickup date to datetime object\n",
        "taxi['pickup_datetime'] = pd.to_datetime(taxi['pickup_datetime'], utc=True)\n",
        "\n",
        "# Create a day of week feature\n",
        "taxi['dayofweek'] = taxi['pickup_datetime'].dt.dayofweek\n",
        "\n",
        "# Create an hour feature\n",
        "taxi['hour'] = taxi['pickup_datetime'].dt.hour\n",
        "\n",
        "# Split back into train and test\n",
        "new_train = taxi[taxi['id'].isin(ttrain['id'])]\n",
        "new_test = taxi[taxi['id'].isin(ttest['id'])]"
      ],
      "execution_count": null,
      "outputs": []
    },
    {
      "cell_type": "markdown",
      "metadata": {
        "id": "7X7bJQnGKufI"
      },
      "source": [
        "# Label encoding"
      ]
    },
    {
      "cell_type": "markdown",
      "metadata": {
        "id": "nAVd_l_rK2Uz"
      },
      "source": [
        "House prices advanced regression techniques"
      ]
    },
    {
      "cell_type": "markdown",
      "metadata": {
        "id": "oc-G_elJLBA4"
      },
      "source": [
        "## Label encoder for binary categorical variable."
      ]
    },
    {
      "cell_type": "markdown",
      "metadata": {
        "id": "R4JkhgolLoiW"
      },
      "source": [
        "It can be ued for multiple categorical variables but this is not good for machine learning models. 0,1,2,3,4,5... etc"
      ]
    },
    {
      "cell_type": "code",
      "metadata": {
        "id": "n_Nu_-ovK1of"
      },
      "source": [
        "# Concatenate train and test together\n",
        "houses = pd.concat([train, test])\n",
        "\n",
        "# Label encoder\n",
        "from sklearn.preprocessing import LabelEncoder\n",
        "le = LabelEncoder()\n",
        "\n",
        "# Binary variable\n",
        "houses['CentralAir_enc'] = le.fit_transform(houses['CentralAir'])\n",
        "\n",
        "# Look at new features\n",
        "print(houses[['CentralAir', 'CentralAir_enc']].head())"
      ],
      "execution_count": null,
      "outputs": []
    },
    {
      "cell_type": "markdown",
      "metadata": {
        "id": "8ODaTj6XMW26"
      },
      "source": [
        "## One hot encoding"
      ]
    },
    {
      "cell_type": "code",
      "metadata": {
        "id": "qMnptUsLL9nG"
      },
      "source": [
        "# Create One-Hot encoded features\n",
        "ohe = pd.get_dummies(houses['RoofStyle'], prefix='RoofStyle')\n",
        "\n",
        "# Concatenate OHE features to houses\n",
        "houses = pd.concat([houses, ohe], axis=1)\n",
        "\n",
        "# Look at OHE features\n",
        "print(houses[[col for col in houses.columns if 'RoofStyle' in col]].head(3))"
      ],
      "execution_count": null,
      "outputs": []
    },
    {
      "cell_type": "markdown",
      "metadata": {
        "id": "rQLyzbY9MYwv"
      },
      "source": [
        "## IMPORTANT!: Target encoding"
      ]
    },
    {
      "cell_type": "markdown",
      "metadata": {
        "id": "MTo5LguxMhDv"
      },
      "source": [
        "Really important for Kaggle competitions"
      ]
    },
    {
      "cell_type": "markdown",
      "metadata": {
        "id": "-Am00AJLMqpJ"
      },
      "source": [
        "This works for high cardinality categorical features. (Over 10 different categories)\n",
        "\n",
        "We can do one hot encoder but create to many categorical variables.\n",
        "\n",
        "The alternative is target encoding that creates a single column but it also introduces the correlation between the categories and the target variable.\n",
        "\n",
        "Mean target encoding is the most frequently used on Kaggle."
      ]
    },
    {
      "cell_type": "markdown",
      "metadata": {
        "id": "DAve-FExRyc-"
      },
      "source": [
        "## For binary Classification"
      ]
    },
    {
      "cell_type": "code",
      "metadata": {
        "id": "OaKsnPEBMeHX"
      },
      "source": [
        "def test_mean_target_encoding(train, test, target, categorical, alpha=5):\n",
        "    # Calculate global mean on the train data\n",
        "    global_mean = train[target].mean()\n",
        "    \n",
        "    # Group by the categorical feature and calculate its properties\n",
        "    train_groups = train.groupby(categorical)\n",
        "    category_sum = train_groups[target].sum()\n",
        "    category_size = train_groups.size()\n",
        "    \n",
        "    # Calculate smoothed mean target statistics\n",
        "    train_statistics = (category_sum + global_mean * alpha) / (category_size + alpha)\n",
        "    \n",
        "    # Apply statistics to the test data and fill new categories\n",
        "    test_feature = test[categorical].map(train_statistics).fillna(global_mean)\n",
        "    return test_feature.values"
      ],
      "execution_count": null,
      "outputs": []
    },
    {
      "cell_type": "code",
      "metadata": {
        "id": "PmdNqJXXMffQ"
      },
      "source": [
        "def train_mean_target_encoding(train, target, categorical, alpha=5):\n",
        "    # Create 5-fold cross-validation\n",
        "    kf = KFold(n_splits=5, random_state=123, shuffle=True)\n",
        "    train_feature = pd.Series(index=train.index)\n",
        "    \n",
        "    # For each folds split\n",
        "    for train_index, test_index in kf.split(train):\n",
        "        cv_train, cv_test = train.iloc[train_index], train.iloc[test_index]\n",
        "      \n",
        "        # Calculate out-of-fold statistics and apply to cv_test\n",
        "        cv_test_feature = test_mean_target_encoding(cv_train, cv_test, target, categorical, alpha)\n",
        "        \n",
        "        # Save new feature for this particular fold\n",
        "        train_feature.iloc[test_index] = cv_test_feature       \n",
        "    return train_feature.values"
      ],
      "execution_count": null,
      "outputs": []
    },
    {
      "cell_type": "code",
      "metadata": {
        "id": "mLPD45NQW5T5"
      },
      "source": [
        "def mean_target_encoding(train, test, target, categorical, alpha=5):\n",
        "  \n",
        "    # Get the train feature\n",
        "    train_feature = train_mean_target_encoding(train, target, categorical, alpha)\n",
        "  \n",
        "    # Get the test feature\n",
        "    test_feature = test_mean_target_encoding(train, test, target, categorical, alpha)\n",
        "    \n",
        "    # Return new features to add to the model\n",
        "    return train_feature, test_feature"
      ],
      "execution_count": null,
      "outputs": []
    },
    {
      "cell_type": "markdown",
      "metadata": {
        "id": "8IyBg1iIYciH"
      },
      "source": [
        "I have a categorical feature game_id with 541 unique variables."
      ]
    },
    {
      "cell_type": "code",
      "metadata": {
        "id": "i4Y34xYmYj3v"
      },
      "source": [
        "# Create 5-fold cross-validation\n",
        "kf = KFold(n_splits=5, random_state=123, shuffle=True)\n",
        "\n",
        "# For each folds split\n",
        "for train_index, test_index in kf.split(df):\n",
        "    cv_train, cv_test = df.iloc[train_index], df.iloc[test_index]\n",
        "\n",
        "    # Create mean target encoded feature\n",
        "    cv_train['game_id_enc'], cv_test['game_id_enc'] = mean_target_encoding(train=cv_train,\n",
        "                                                                           test=cv_test,\n",
        "                                                                           target='shot_made_flag',\n",
        "                                                                           categorical='game_id',\n",
        "                                                                           alpha=5)\n",
        "    # Look at the encoding\n",
        "    print(cv_train[['game_id', 'shot_made_flag', 'game_id_enc']].sample(n=1))"
      ],
      "execution_count": null,
      "outputs": []
    },
    {
      "cell_type": "markdown",
      "metadata": {
        "id": "ldhpZwW3Z2_u"
      },
      "source": [
        "In [14]: cv_train.game_id_enc\n",
        "Out[14]: \n",
        "0       0.476136\n",
        "1       0.476136\n",
        "2       0.476562\n",
        "3       0.476562\n",
        "4       0.439388\n",
        "5       0.403906\n",
        "6       0.439388\n",
        "7       0.476136\n",
        "8       0.476562\n",
        "9       0.484844\n",
        "          ...   \n",
        "\n",
        "Name: game_id_enc, Length: 8000, dtype: float64"
      ]
    },
    {
      "cell_type": "markdown",
      "metadata": {
        "id": "ar1subPFacnp"
      },
      "source": [
        "binary classification is just a single special case. Target encoding could be applied to any target variable type:\n",
        "\n",
        "1- For binary classification usually mean target encoding is used\n",
        "\n",
        "2- For regression mean could be changed to median, quartiles, etc.\n",
        "\n",
        "3-For multi-class classification with N classes we create N features with target mean for each category in one vs. all fashion"
      ]
    },
    {
      "cell_type": "markdown",
      "metadata": {
        "id": "rrrViyfJaqk_"
      },
      "source": [
        "The mean_target_encoding() function you've created could be used for any target type specified above. Let's apply it for the regression problem on the example of House Prices Kaggle competition."
      ]
    },
    {
      "cell_type": "code",
      "metadata": {
        "id": "ETV8NfoCZ-ah"
      },
      "source": [
        "# Create mean target encoded feature\n",
        "train['RoofStyle_enc'], test['RoofStyle_enc'] = mean_target_encoding(train=train,\n",
        "                                                                     test=test,\n",
        "                                                                     target='SalePrice',\n",
        "                                                                     categorical='RoofStyle',\n",
        "                                                                     alpha=10)\n",
        "\n",
        "# Look at the encoding\n",
        "print(test[['RoofStyle', 'RoofStyle_enc']].drop_duplicates())"
      ],
      "execution_count": null,
      "outputs": []
    },
    {
      "cell_type": "code",
      "metadata": {
        "id": "cRUHc1JPb18f"
      },
      "source": [
        "# you've encoded categorical feature in such a manner that there is now \n",
        "# a correlation between category values and target variable.\n",
        "\n",
        "<script.py> output:\n",
        "         RoofStyle  RoofStyle_enc\n",
        "    0        Gable  171565.947836\n",
        "    1          Hip  217594.645131\n",
        "    98     Gambrel  164152.950424\n",
        "    133       Flat  188703.563431\n",
        "    362    Mansard  180775.938759\n",
        "    1053      Shed  188267.663242"
      ],
      "execution_count": null,
      "outputs": []
    },
    {
      "cell_type": "markdown",
      "metadata": {
        "id": "tInS9T1CbzCD"
      },
      "source": [
        " you've encoded categorical feature in such a manner that there is now a correlation between category values and target variable."
      ]
    },
    {
      "cell_type": "markdown",
      "metadata": {
        "id": "6K6C2z5idxRe"
      },
      "source": [
        "# Missing value"
      ]
    },
    {
      "cell_type": "markdown",
      "metadata": {
        "id": "aAV8ilEBdyxQ"
      },
      "source": [
        "Even with XGBoosting and LightGBM can treat missing data without any pre-processing. However, always pre-process the missing values in order to improve model performance."
      ]
    },
    {
      "cell_type": "markdown",
      "metadata": {
        "id": "l1LvZIy5eDWs"
      },
      "source": [
        "## Imputing"
      ]
    },
    {
      "cell_type": "markdown",
      "metadata": {
        "id": "a3bMtB13eWYv"
      },
      "source": [
        "*Imputing Numerical Data*\n",
        "\n",
        "We can impute with mean or median but we are going to loose the information that that value was actually missing, therefore we can use a constant value imputation like -999. While **-999 will lower linear model performances, it's a good choice for Tree-based models.**"
      ]
    },
    {
      "cell_type": "markdown",
      "metadata": {
        "id": "PJ_P8UkZe3nw"
      },
      "source": [
        "*Imputing Categorical Data*\n",
        "\n",
        "We can fill in the most frequent category in the data or create a new category for the missing values."
      ]
    },
    {
      "cell_type": "code",
      "metadata": {
        "id": "xrEW53_Vbp2n"
      },
      "source": [
        "\n",
        "# Find the number of missing values in each column\n",
        "print(df.isnull().sum())"
      ],
      "execution_count": null,
      "outputs": []
    },
    {
      "cell_type": "markdown",
      "metadata": {
        "id": "8_Nc07wwh7ZT"
      },
      "source": [
        "Numerical feature \"price\" will be encoded with a mean value of non-missing prices."
      ]
    },
    {
      "cell_type": "code",
      "metadata": {
        "id": "2wvjgTT2h6lK"
      },
      "source": [
        "# Import SimpleImputer\n",
        "from sklearn.impute import SimpleImputer\n",
        "\n",
        "# Create mean imputer\n",
        "mean_imputer = SimpleImputer(strategy='mean')\n",
        "\n",
        "# Price imputation\n",
        "rental_listings[['price']] = mean_imputer.fit_transform(rental_listings[['price']])"
      ],
      "execution_count": null,
      "outputs": []
    },
    {
      "cell_type": "markdown",
      "metadata": {
        "id": "hIAyzqOUiD4S"
      },
      "source": [
        "Categorical variable create a new feature MISSING."
      ]
    },
    {
      "cell_type": "code",
      "metadata": {
        "id": "gNVdwm0BiBt_"
      },
      "source": [
        "# Import SimpleImputer\n",
        "from sklearn.impute import SimpleImputer\n",
        "\n",
        "# Create constant imputer\n",
        "constant_imputer = SimpleImputer(strategy='constant', fill_value='MISSING')\n",
        "\n",
        "# building_id imputation\n",
        "rental_listings[['building_id']] = constant_imputer.fit_transform(rental_listings[['building_id']])"
      ],
      "execution_count": null,
      "outputs": []
    },
    {
      "cell_type": "markdown",
      "metadata": {
        "id": "6eXzirvnkd2l"
      },
      "source": [
        "# Feature engineering has many times more impact than hyperparameter tuning."
      ]
    },
    {
      "cell_type": "markdown",
      "metadata": {
        "id": "x37V6cuYlDDt"
      },
      "source": [
        "But in Deep Learning competitions we only have to optimize hyperparameters, because there is no feature engineering."
      ]
    },
    {
      "cell_type": "markdown",
      "metadata": {
        "id": "DJFhsAeOkptk"
      },
      "source": [
        "# Hyperparameter Optimization"
      ]
    },
    {
      "cell_type": "markdown",
      "metadata": {
        "id": "ozx2nTE7ktne"
      },
      "source": [
        "Once we are out of ideas for feature engineering, we move on to hyperparameter optimization. \n",
        "\n",
        "But in Deep Learning competitions we only have to optimize hyperparameters, because there is no feature engineering."
      ]
    },
    {
      "cell_type": "markdown",
      "metadata": {
        "id": "6NCcsPOGma0N"
      },
      "source": [
        "Go to hyperparameter optimization course"
      ]
    },
    {
      "cell_type": "markdown",
      "metadata": {
        "id": "aEPDfI6ymZxg"
      },
      "source": [
        "# Model ensembling"
      ]
    },
    {
      "cell_type": "markdown",
      "metadata": {
        "id": "cIy89gRcmhch"
      },
      "source": [
        "Most Kaggle top solutiong utilize multiple machine learning models in combination. \n",
        "\n"
      ]
    },
    {
      "cell_type": "markdown",
      "metadata": {
        "id": "r5bBEyT6n4QS"
      },
      "source": [
        "You will start creating model ensembles with a blending technique.\n",
        "\n",
        "Your goal is to train 2 different models on the New York City Taxi competition data. Make predictions on the test data and then blend them using a simple arithmetic mean."
      ]
    },
    {
      "cell_type": "markdown",
      "metadata": {
        "id": "o6nZE53goIwY"
      },
      "source": [
        "## Averaging multiple model predictions"
      ]
    },
    {
      "cell_type": "code",
      "metadata": {
        "id": "kcBEiKrQmf7J"
      },
      "source": [
        "from sklearn.ensemble import GradientBoostingRegressor, RandomForestRegressor\n",
        "\n",
        "# Train a Gradient Boosting model\n",
        "gb = GradientBoostingRegressor().fit(train[features], train.fare_amount)\n",
        "\n",
        "# Train a Random Forest model\n",
        "rf = RandomForestRegressor().fit(train[features], train.fare_amount)\n",
        "\n",
        "# Make predictions on the test data\n",
        "test['gb_pred'] = gb.predict(test[features])\n",
        "test['rf_pred'] = rf.predict(test[features])\n",
        "\n",
        "# Find mean of model predictions\n",
        "test['blend'] = (test['gb_pred'] + test['rf_pred']) / 2\n",
        "print(test[['gb_pred', 'rf_pred', 'blend']].head(3))"
      ],
      "execution_count": null,
      "outputs": []
    },
    {
      "cell_type": "markdown",
      "metadata": {
        "id": "gfcVxkCypB2R"
      },
      "source": [
        "## Stacking approach"
      ]
    },
    {
      "cell_type": "markdown",
      "metadata": {
        "id": "VhnzrxXIpPeh"
      },
      "source": [
        "Now it's time for stacking. To implement the stacking approach, you will follow  6 steps:\n",
        "\n",
        "Split train data into two parts\n",
        "Train multiple models on Part 1\n",
        "Make predictions on Part 2\n",
        "Make predictions on the test data\n",
        "Train a new model on Part 2 using predictions as features\n",
        "Make predictions on the test data using the 2nd level model"
      ]
    },
    {
      "cell_type": "markdown",
      "metadata": {
        "id": "RZHQz5mbp-HX"
      },
      "source": [
        "Split train data into two parts\n",
        "Train multiple models on Part 1"
      ]
    },
    {
      "cell_type": "code",
      "metadata": {
        "id": "w_ZjaePVpEBJ"
      },
      "source": [
        "from sklearn.model_selection import train_test_split\n",
        "from sklearn.ensemble import GradientBoostingRegressor, RandomForestRegressor\n",
        "\n",
        "# Split train data into two parts\n",
        "part_1, part_2 = train_test_split(train, test_size=0.5, random_state=123)\n",
        "\n",
        "# Train a Gradient Boosting model\n",
        "gb = GradientBoostingRegressor().fit(part_1[features], part_1.fare_amount)\n",
        "\n",
        "# Train a Random Forest model on Part 1\n",
        "rf = RandomForestRegressor().fit(part_1[features], part_1.fare_amount)"
      ],
      "execution_count": null,
      "outputs": []
    },
    {
      "cell_type": "markdown",
      "metadata": {
        "id": "ga8EStn_p85e"
      },
      "source": [
        "Make predictions on Part 2\n",
        "Make predictions on the test data"
      ]
    },
    {
      "cell_type": "code",
      "metadata": {
        "id": "BVCrWnuypyt4"
      },
      "source": [
        "# Make predictions on the Part 2 data\n",
        "part_2['gb_pred'] = gb.predict(part_2[features])\n",
        "part_2['rf_pred'] = rf.predict(part_2[features])\n",
        "\n",
        "# Make predictions on the test data\n",
        "test['gb_pred'] = gb.predict(test[features])\n",
        "test['rf_pred'] = rf.predict(test[features])"
      ],
      "execution_count": null,
      "outputs": []
    },
    {
      "cell_type": "code",
      "metadata": {
        "id": "ljH7pEihp4lx"
      },
      "source": [
        "from sklearn.linear_model import LinearRegression\n",
        "\n",
        "# Create linear regression model without the intercept\n",
        "lr = LinearRegression(fit_intercept=False)\n",
        "\n",
        "# Train 2nd level model on the Part 2 data\n",
        "lr.fit(part_2[['gb_pred', 'rf_pred']], part_2.fare_amount)\n",
        "\n",
        "# Make stacking predictions on the test data\n",
        "test['stacking'] = lr.predict(test[['gb_pred', 'rf_pred']])\n",
        "\n",
        "# Look at the model coefficients\n",
        "print(lr.coef_)"
      ],
      "execution_count": null,
      "outputs": []
    },
    {
      "cell_type": "code",
      "metadata": {
        "id": "GWcZJLq2qY7C"
      },
      "source": [
        "<script.py> output:\n",
        "    [0.72504358 0.27647395]"
      ],
      "execution_count": null,
      "outputs": []
    },
    {
      "cell_type": "markdown",
      "metadata": {
        "id": "p7WV6AMEqXSd"
      },
      "source": [
        "Usually, the 2nd level model is some simple model like Linear or Logistic Regressions. Also, note that you were not using intercept in the Linear Regression just to combine pure model predictions. Looking at the coefficients, it's clear that 2nd level model has more trust to the Gradient Boosting: 0.7 versus 0.3 for the Random Forest model."
      ]
    },
    {
      "cell_type": "markdown",
      "metadata": {
        "id": "7-Uzer4-qi2u"
      },
      "source": [
        "# Final tips"
      ]
    },
    {
      "cell_type": "markdown",
      "metadata": {
        "id": "GYh7GJlCqkLT"
      },
      "source": [
        "## Save folds to the disk"
      ]
    },
    {
      "cell_type": "markdown",
      "metadata": {
        "id": "ZCbf0ugNqn7A"
      },
      "source": [
        "save folds distribution to files\n",
        "\n",
        "Our goal is to track the validation score during the competition. This validation score should always be calculated on the same folds."
      ]
    },
    {
      "cell_type": "markdown",
      "metadata": {
        "id": "eJqgQv_4q0K3"
      },
      "source": [
        "## Save model runs"
      ]
    },
    {
      "cell_type": "markdown",
      "metadata": {
        "id": "vMBeXntqq5tw"
      },
      "source": [
        "One of the possibilities could be to create a separate git commit for each model run or submission"
      ]
    },
    {
      "cell_type": "markdown",
      "metadata": {
        "id": "Ivhbd6jVq_y-"
      },
      "source": [
        "## Save model predictions"
      ]
    },
    {
      "cell_type": "markdown",
      "metadata": {
        "id": "0qBn55M5rFjU"
      },
      "source": [
        "If we start saving validation and test predictions from the vary beginning of the competition it will allow us to simply build model ensembles near the end because we store predictions for the models blending as well as features for the models stacking."
      ]
    },
    {
      "cell_type": "markdown",
      "metadata": {
        "id": "R0cngoiTrW-v"
      },
      "source": [
        "## Save performance results to track performance progress."
      ]
    },
    {
      "cell_type": "markdown",
      "metadata": {
        "id": "qbS4X8jprcEM"
      },
      "source": [
        "Comments on git commit or notes in a document."
      ]
    },
    {
      "cell_type": "markdown",
      "metadata": {
        "id": "V_O_RyeDruZx"
      },
      "source": [
        "## Use Kaggle kernels\n",
        "\n",
        "for GPU"
      ]
    },
    {
      "cell_type": "markdown",
      "metadata": {
        "id": "rwGd6Ic8rymd"
      },
      "source": [
        "## Read winners solutions from the past similar competitions"
      ]
    },
    {
      "cell_type": "markdown",
      "metadata": {
        "id": "mg2bX4_Sr2Xm"
      },
      "source": [
        "## Go through baseline approaches from the past similar competitions"
      ]
    },
    {
      "cell_type": "markdown",
      "metadata": {
        "id": "vbP7ZQbhsUrt"
      },
      "source": [
        "## Select 2 submissions 1 best on local validation and other best on public leaderboard."
      ]
    }
  ]
}