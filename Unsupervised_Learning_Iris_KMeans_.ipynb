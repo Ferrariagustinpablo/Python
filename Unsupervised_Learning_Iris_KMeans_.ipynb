{
  "nbformat": 4,
  "nbformat_minor": 0,
  "metadata": {
    "colab": {
      "name": "Unsupervised Learning Iris - KMeans .ipynb",
      "provenance": [],
      "toc_visible": true,
      "authorship_tag": "ABX9TyOT43/gS84Pz42rRlYNw53M",
      "include_colab_link": true
    },
    "kernelspec": {
      "name": "python3",
      "display_name": "Python 3"
    }
  },
  "cells": [
    {
      "cell_type": "markdown",
      "metadata": {
        "id": "view-in-github",
        "colab_type": "text"
      },
      "source": [
        "<a href=\"https://colab.research.google.com/github/Ferrariagustinpablo/Python-Machine-Learning-notebooks/blob/main/Unsupervised_Learning_Iris_KMeans_.ipynb\" target=\"_parent\"><img src=\"https://colab.research.google.com/assets/colab-badge.svg\" alt=\"Open In Colab\"/></a>"
      ]
    },
    {
      "cell_type": "markdown",
      "metadata": {
        "id": "7pQNRD5bVelf"
      },
      "source": [
        "# Unsupervised Learning - KMeans"
      ]
    },
    {
      "cell_type": "markdown",
      "metadata": {
        "id": "ip8emR6jWN30"
      },
      "source": [
        "## Iris dataset"
      ]
    },
    {
      "cell_type": "code",
      "metadata": {
        "id": "ZuLubNpTVdns",
        "colab": {
          "base_uri": "https://localhost:8080/",
          "height": 71
        },
        "outputId": "1334efba-930e-477c-c93a-2ab6924e445e"
      },
      "source": [
        "from sklearn import datasets\n",
        "import pandas as pd\n",
        "import numpy as np\n",
        "import matplotlib.pyplot as plt\n",
        "plt.style.use('ggplot')\n",
        "\n",
        "iris = datasets.load_iris()\n",
        "print(type(iris))\n",
        "\n",
        "# Dataset of Iris we see is a \"Bunch\" class that works similar to a dictionary\n",
        "print(iris.keys())"
      ],
      "execution_count": null,
      "outputs": [
        {
          "output_type": "stream",
          "text": [
            "<class 'sklearn.utils.Bunch'>\n",
            "dict_keys(['data', 'target', 'target_names', 'DESCR', 'feature_names', 'filename'])\n"
          ],
          "name": "stdout"
        }
      ]
    },
    {
      "cell_type": "code",
      "metadata": {
        "id": "UPbrqh4_V75v",
        "colab": {
          "base_uri": "https://localhost:8080/",
          "height": 34
        },
        "outputId": "fbafd01a-d3c0-47a4-a80c-34b1142fbf07"
      },
      "source": [
        "# 4 dimensional\n",
        "\n",
        "iris.data.shape"
      ],
      "execution_count": null,
      "outputs": [
        {
          "output_type": "execute_result",
          "data": {
            "text/plain": [
              "(150, 4)"
            ]
          },
          "metadata": {
            "tags": []
          },
          "execution_count": 3
        }
      ]
    },
    {
      "cell_type": "code",
      "metadata": {
        "id": "AdrMOrLHWAnD",
        "colab": {
          "base_uri": "https://localhost:8080/",
          "height": 34
        },
        "outputId": "3ade93c4-9c69-42c9-aef9-01b9b227bc53"
      },
      "source": [
        "# iris.data is a numpy array, so we are go to go.\n",
        "\n",
        "type(iris.data)"
      ],
      "execution_count": null,
      "outputs": [
        {
          "output_type": "execute_result",
          "data": {
            "text/plain": [
              "numpy.ndarray"
            ]
          },
          "metadata": {
            "tags": []
          },
          "execution_count": 4
        }
      ]
    },
    {
      "cell_type": "markdown",
      "metadata": {
        "id": "6u98FujSWqCr"
      },
      "source": [
        "## Clustering with KMeans from scikit-learn"
      ]
    },
    {
      "cell_type": "markdown",
      "metadata": {
        "id": "5RKS6YBwWyCU"
      },
      "source": [
        "KMeans remembers the mean of each cluster ('the centroids'), therefore for new data KMeans can assign to existing clusters."
      ]
    },
    {
      "cell_type": "code",
      "metadata": {
        "id": "YNhWN_RsWLsn",
        "colab": {
          "base_uri": "https://localhost:8080/",
          "height": 136
        },
        "outputId": "74ac55da-ae31-4784-d612-7d799e761b07"
      },
      "source": [
        "from sklearn.cluster import KMeans\n",
        "\n",
        "samples = iris.data\n",
        "\n",
        "model = KMeans(n_clusters=3)\n",
        "model.fit(samples)\n",
        "labels = model.predict(samples)\n",
        "labels"
      ],
      "execution_count": null,
      "outputs": [
        {
          "output_type": "execute_result",
          "data": {
            "text/plain": [
              "array([0, 0, 0, 0, 0, 0, 0, 0, 0, 0, 0, 0, 0, 0, 0, 0, 0, 0, 0, 0, 0, 0,\n",
              "       0, 0, 0, 0, 0, 0, 0, 0, 0, 0, 0, 0, 0, 0, 0, 0, 0, 0, 0, 0, 0, 0,\n",
              "       0, 0, 0, 0, 0, 0, 1, 1, 2, 1, 1, 1, 1, 1, 1, 1, 1, 1, 1, 1, 1, 1,\n",
              "       1, 1, 1, 1, 1, 1, 1, 1, 1, 1, 1, 2, 1, 1, 1, 1, 1, 1, 1, 1, 1, 1,\n",
              "       1, 1, 1, 1, 1, 1, 1, 1, 1, 1, 1, 1, 2, 1, 2, 2, 2, 2, 1, 2, 2, 2,\n",
              "       2, 2, 2, 1, 1, 2, 2, 2, 2, 1, 2, 1, 2, 1, 2, 2, 1, 1, 2, 2, 2, 2,\n",
              "       2, 1, 2, 2, 2, 2, 1, 2, 2, 2, 1, 2, 2, 2, 1, 2, 2, 1], dtype=int32)"
            ]
          },
          "metadata": {
            "tags": []
          },
          "execution_count": 5
        }
      ]
    },
    {
      "cell_type": "markdown",
      "metadata": {
        "id": "RpcYa5GZXKTJ"
      },
      "source": [
        "## Scatter plot with colors of clusters"
      ]
    },
    {
      "cell_type": "code",
      "metadata": {
        "id": "3YeVAZd_WLvK",
        "colab": {
          "base_uri": "https://localhost:8080/",
          "height": 265
        },
        "outputId": "bcc87279-7a9f-498e-99e3-14bdda7dd539"
      },
      "source": [
        "\n",
        "# on x axis Sepal Length. 0th column of array\n",
        "xs = samples[:,0]\n",
        "\n",
        "# on y axis Petal Length. 2nd colum of array\n",
        "ys = samples[:,2]\n",
        "\n",
        "# can calculate the coordinates of the cluster centers using model.cluster_centers_\n",
        "centroids = model.cluster_centers_\n",
        "\n",
        "# Assign the columns of centroids: centroids_x, centroids_y\n",
        "centroids_x = centroids[:,0]\n",
        "centroids_y = centroids[:,2]\n",
        "\n",
        "# Scatter plot with cluster \n",
        "plt.scatter(xs,ys,c=labels,alpha=0.7)\n",
        "# Also plot centroids\n",
        "plt.scatter(centroids_x, centroids_y, marker='D',s=50)\n",
        "plt.show()\n"
      ],
      "execution_count": null,
      "outputs": [
        {
          "output_type": "display_data",
          "data": {
            "image/png": "[encoded data removed]",
            "text/plain": [
              "<Figure size 432x288 with 1 Axes>"
            ]
          },
          "metadata": {
            "tags": []
          }
        }
      ]
    },
    {
      "cell_type": "code",
      "metadata": {
        "id": "tegWAgUbWLqC",
        "colab": {
          "base_uri": "https://localhost:8080/",
          "height": 68
        },
        "outputId": "93589ed5-1add-4d4b-a2fc-75e22a777c1e"
      },
      "source": [
        "# Model saves the mean of each cluster\n",
        "\n",
        "model.cluster_centers_\n"
      ],
      "execution_count": null,
      "outputs": [
        {
          "output_type": "execute_result",
          "data": {
            "text/plain": [
              "array([[5.006     , 3.428     , 1.462     , 0.246     ],\n",
              "       [5.9016129 , 2.7483871 , 4.39354839, 1.43387097],\n",
              "       [6.85      , 3.07368421, 5.74210526, 2.07105263]])"
            ]
          },
          "metadata": {
            "tags": []
          },
          "execution_count": 7
        }
      ]
    },
    {
      "cell_type": "markdown",
      "metadata": {
        "id": "Wzr3IHrGZbks"
      },
      "source": [
        "## Evaluating a clustering"
      ]
    },
    {
      "cell_type": "markdown",
      "metadata": {
        "id": "FLdA4GmKZlLn"
      },
      "source": [
        "In iris set we **know** the dataset corresponds to 3 different species, therefore k in KMeans is natural to be 3.\n",
        "\n",
        "But what happens when we don't have this type of information?"
      ]
    },
    {
      "cell_type": "markdown",
      "metadata": {
        "id": "dz2DmqRGZ85j"
      },
      "source": [
        "In iris dataset, do the clusters corresponds to the species?"
      ]
    },
    {
      "cell_type": "markdown",
      "metadata": {
        "id": "IapINC5MgqFe"
      },
      "source": [
        "### Make a crosstab"
      ]
    },
    {
      "cell_type": "code",
      "metadata": {
        "id": "-H76xLszZeME",
        "colab": {
          "base_uri": "https://localhost:8080/",
          "height": 136
        },
        "outputId": "73dbbf8a-c21b-4c23-a54d-ca26bd051643"
      },
      "source": [
        "iris.target"
      ],
      "execution_count": null,
      "outputs": [
        {
          "output_type": "execute_result",
          "data": {
            "text/plain": [
              "array([0, 0, 0, 0, 0, 0, 0, 0, 0, 0, 0, 0, 0, 0, 0, 0, 0, 0, 0, 0, 0, 0,\n",
              "       0, 0, 0, 0, 0, 0, 0, 0, 0, 0, 0, 0, 0, 0, 0, 0, 0, 0, 0, 0, 0, 0,\n",
              "       0, 0, 0, 0, 0, 0, 1, 1, 1, 1, 1, 1, 1, 1, 1, 1, 1, 1, 1, 1, 1, 1,\n",
              "       1, 1, 1, 1, 1, 1, 1, 1, 1, 1, 1, 1, 1, 1, 1, 1, 1, 1, 1, 1, 1, 1,\n",
              "       1, 1, 1, 1, 1, 1, 1, 1, 1, 1, 1, 1, 2, 2, 2, 2, 2, 2, 2, 2, 2, 2,\n",
              "       2, 2, 2, 2, 2, 2, 2, 2, 2, 2, 2, 2, 2, 2, 2, 2, 2, 2, 2, 2, 2, 2,\n",
              "       2, 2, 2, 2, 2, 2, 2, 2, 2, 2, 2, 2, 2, 2, 2, 2, 2, 2])"
            ]
          },
          "metadata": {
            "tags": []
          },
          "execution_count": 8
        }
      ]
    },
    {
      "cell_type": "code",
      "metadata": {
        "id": "34DDirrDZeol",
        "colab": {
          "base_uri": "https://localhost:8080/",
          "height": 34
        },
        "outputId": "6c102cd5-43f7-4e7d-a4fe-f8aba32c67a1"
      },
      "source": [
        "iris.target_names"
      ],
      "execution_count": null,
      "outputs": [
        {
          "output_type": "execute_result",
          "data": {
            "text/plain": [
              "array(['setosa', 'versicolor', 'virginica'], dtype='<U10')"
            ]
          },
          "metadata": {
            "tags": []
          },
          "execution_count": 9
        }
      ]
    },
    {
      "cell_type": "code",
      "metadata": {
        "id": "OCNZabngdUu0"
      },
      "source": [
        "# Let's map from integer to species name\n",
        "iris_series = pd.Series(iris.target)\n",
        "iris_series.head()\n",
        "\n",
        "mapping = {0:'setosa', 1:'versicolor', 2:'virginica'}\n",
        "\n",
        "iris_s = iris_series.map(mapping)"
      ],
      "execution_count": null,
      "outputs": []
    },
    {
      "cell_type": "code",
      "metadata": {
        "id": "awsIulK1eJr0",
        "colab": {
          "base_uri": "https://localhost:8080/",
          "height": 419
        },
        "outputId": "466d2dfe-b06c-4502-ee64-6a8548d64976"
      },
      "source": [
        "# Prepare a Data Frame to use Crosstab function\n",
        "\n",
        "df = pd.DataFrame(labels,columns=['labels'])\n",
        "\n",
        "df['species'] = iris_s\n",
        "\n",
        "df"
      ],
      "execution_count": null,
      "outputs": [
        {
          "output_type": "execute_result",
          "data": {
            "text/html": [
              "<div>\n",
              "<style scoped>\n",
              "    .dataframe tbody tr th:only-of-type {\n",
              "        vertical-align: middle;\n",
              "    }\n",
              "\n",
              "    .dataframe tbody tr th {\n",
              "        vertical-align: top;\n",
              "    }\n",
              "\n",
              "    .dataframe thead th {\n",
              "        text-align: right;\n",
              "    }\n",
              "</style>\n",
              "<table border=\"1\" class=\"dataframe\">\n",
              "  <thead>\n",
              "    <tr style=\"text-align: right;\">\n",
              "      <th></th>\n",
              "      <th>labels</th>\n",
              "      <th>species</th>\n",
              "    </tr>\n",
              "  </thead>\n",
              "  <tbody>\n",
              "    <tr>\n",
              "      <th>0</th>\n",
              "      <td>0</td>\n",
              "      <td>setosa</td>\n",
              "    </tr>\n",
              "    <tr>\n",
              "      <th>1</th>\n",
              "      <td>0</td>\n",
              "      <td>setosa</td>\n",
              "    </tr>\n",
              "    <tr>\n",
              "      <th>2</th>\n",
              "      <td>0</td>\n",
              "      <td>setosa</td>\n",
              "    </tr>\n",
              "    <tr>\n",
              "      <th>3</th>\n",
              "      <td>0</td>\n",
              "      <td>setosa</td>\n",
              "    </tr>\n",
              "    <tr>\n",
              "      <th>4</th>\n",
              "      <td>0</td>\n",
              "      <td>setosa</td>\n",
              "    </tr>\n",
              "    <tr>\n",
              "      <th>...</th>\n",
              "      <td>...</td>\n",
              "      <td>...</td>\n",
              "    </tr>\n",
              "    <tr>\n",
              "      <th>145</th>\n",
              "      <td>2</td>\n",
              "      <td>virginica</td>\n",
              "    </tr>\n",
              "    <tr>\n",
              "      <th>146</th>\n",
              "      <td>1</td>\n",
              "      <td>virginica</td>\n",
              "    </tr>\n",
              "    <tr>\n",
              "      <th>147</th>\n",
              "      <td>2</td>\n",
              "      <td>virginica</td>\n",
              "    </tr>\n",
              "    <tr>\n",
              "      <th>148</th>\n",
              "      <td>2</td>\n",
              "      <td>virginica</td>\n",
              "    </tr>\n",
              "    <tr>\n",
              "      <th>149</th>\n",
              "      <td>1</td>\n",
              "      <td>virginica</td>\n",
              "    </tr>\n",
              "  </tbody>\n",
              "</table>\n",
              "<p>150 rows × 2 columns</p>\n",
              "</div>"
            ],
            "text/plain": [
              "     labels    species\n",
              "0         0     setosa\n",
              "1         0     setosa\n",
              "2         0     setosa\n",
              "3         0     setosa\n",
              "4         0     setosa\n",
              "..      ...        ...\n",
              "145       2  virginica\n",
              "146       1  virginica\n",
              "147       2  virginica\n",
              "148       2  virginica\n",
              "149       1  virginica\n",
              "\n",
              "[150 rows x 2 columns]"
            ]
          },
          "metadata": {
            "tags": []
          },
          "execution_count": 11
        }
      ]
    },
    {
      "cell_type": "code",
      "metadata": {
        "id": "LH4iHZ2xe6Fz",
        "colab": {
          "base_uri": "https://localhost:8080/",
          "height": 173
        },
        "outputId": "00b4008c-7f41-49ac-d10b-bfc3e12a71ca"
      },
      "source": [
        "# Not perfect clustering but pretty good\n",
        "\n",
        "ct = pd.crosstab(df['labels'],df['species'])\n",
        "ct"
      ],
      "execution_count": null,
      "outputs": [
        {
          "output_type": "execute_result",
          "data": {
            "text/html": [
              "<div>\n",
              "<style scoped>\n",
              "    .dataframe tbody tr th:only-of-type {\n",
              "        vertical-align: middle;\n",
              "    }\n",
              "\n",
              "    .dataframe tbody tr th {\n",
              "        vertical-align: top;\n",
              "    }\n",
              "\n",
              "    .dataframe thead th {\n",
              "        text-align: right;\n",
              "    }\n",
              "</style>\n",
              "<table border=\"1\" class=\"dataframe\">\n",
              "  <thead>\n",
              "    <tr style=\"text-align: right;\">\n",
              "      <th>species</th>\n",
              "      <th>setosa</th>\n",
              "      <th>versicolor</th>\n",
              "      <th>virginica</th>\n",
              "    </tr>\n",
              "    <tr>\n",
              "      <th>labels</th>\n",
              "      <th></th>\n",
              "      <th></th>\n",
              "      <th></th>\n",
              "    </tr>\n",
              "  </thead>\n",
              "  <tbody>\n",
              "    <tr>\n",
              "      <th>0</th>\n",
              "      <td>50</td>\n",
              "      <td>0</td>\n",
              "      <td>0</td>\n",
              "    </tr>\n",
              "    <tr>\n",
              "      <th>1</th>\n",
              "      <td>0</td>\n",
              "      <td>48</td>\n",
              "      <td>14</td>\n",
              "    </tr>\n",
              "    <tr>\n",
              "      <th>2</th>\n",
              "      <td>0</td>\n",
              "      <td>2</td>\n",
              "      <td>36</td>\n",
              "    </tr>\n",
              "  </tbody>\n",
              "</table>\n",
              "</div>"
            ],
            "text/plain": [
              "species  setosa  versicolor  virginica\n",
              "labels                                \n",
              "0            50           0          0\n",
              "1             0          48         14\n",
              "2             0           2         36"
            ]
          },
          "metadata": {
            "tags": []
          },
          "execution_count": 12
        }
      ]
    },
    {
      "cell_type": "markdown",
      "metadata": {
        "id": "42hxVPJNgw9j"
      },
      "source": [
        "### Measuring clustering quality\n",
        "\n",
        "A good clustering has tight clusters\n",
        "\n",
        "Samples in each cluster bunched together (not spread out): Calculate Inertia\n",
        "\n",
        "\n"
      ]
    },
    {
      "cell_type": "markdown",
      "metadata": {
        "id": "FCbxSR2QhA65"
      },
      "source": [
        "#### Inertia (in SciPy it's called distortions)\n",
        "\n",
        "How far samples are from the centroids of its cluster\n",
        "\n",
        "Lower values of inertia is better!"
      ]
    },
    {
      "cell_type": "code",
      "metadata": {
        "id": "-ad7x5PhgwbU",
        "colab": {
          "base_uri": "https://localhost:8080/",
          "height": 34
        },
        "outputId": "dd4ebeb6-2585-46ec-96cf-1fa989d83973"
      },
      "source": [
        "from sklearn.cluster import KMeans\n",
        "\n",
        "model = KMeans(n_clusters=3)\n",
        "model.fit(samples)\n",
        "model.inertia_\n"
      ],
      "execution_count": null,
      "outputs": [
        {
          "output_type": "execute_result",
          "data": {
            "text/plain": [
              "78.85144142614601"
            ]
          },
          "metadata": {
            "tags": []
          },
          "execution_count": 13
        }
      ]
    },
    {
      "cell_type": "markdown",
      "metadata": {
        "id": "28bQCg-bh0Vj"
      },
      "source": [
        "#### Elbow plot of inertias\n",
        "\n",
        "Inertia alone doesn't give a good parameter of clustering quality.\n",
        "\n",
        "How to choose a good number of clusters for a dataset using the k-means inertia graph?\n"
      ]
    },
    {
      "cell_type": "code",
      "metadata": {
        "id": "vWAGOBjrh5hx",
        "colab": {
          "base_uri": "https://localhost:8080/",
          "height": 282
        },
        "outputId": "6cd1788d-6789-47b2-ab93-7d2a8be53275"
      },
      "source": [
        "ks = range(1, 6)\n",
        "inertias = []\n",
        "\n",
        "for k in ks:\n",
        "    # Create a KMeans instance with k clusters: model\n",
        "    model = KMeans(n_clusters=k)\n",
        "    \n",
        "    # Fit model to samples\n",
        "    model.fit(samples)\n",
        "    \n",
        "    # Append the inertia to the list of inertias\n",
        "    inertias.append(model.inertia_)\n",
        "    \n",
        "# Plot ks vs inertias\n",
        "plt.plot(ks, inertias, '-o')\n",
        "plt.xlabel('number of clusters, k')\n",
        "plt.ylabel('inertia')\n",
        "plt.xticks(ks)\n",
        "plt.show()\n",
        "\n",
        "# k=3 seems the best choice"
      ],
      "execution_count": null,
      "outputs": [
        {
          "output_type": "display_data",
          "data": {
            "image/png": "[encoded data removed]",
            "text/plain": [
              "<Figure size 432x288 with 1 Axes>"
            ]
          },
          "metadata": {
            "tags": []
          }
        }
      ]
    },
    {
      "cell_type": "markdown",
      "metadata": {
        "id": "m-SD8fsVnv9-"
      },
      "source": [
        "## Scaling with StandardScaler from sklearn"
      ]
    },
    {
      "cell_type": "markdown",
      "metadata": {
        "id": "-xxVlzWuoX1I"
      },
      "source": [
        "### Scaling no pipeline"
      ]
    },
    {
      "cell_type": "markdown",
      "metadata": {
        "id": "PqSM0_DR3oYT"
      },
      "source": [
        "#### StandardScaler"
      ]
    },
    {
      "cell_type": "code",
      "metadata": {
        "id": "VWKi8uksh562"
      },
      "source": [
        "from sklearn.preprocessing import StandardScaler\n",
        "scaler = StandardScaler()\n",
        "scaler.fit(samples)\n",
        "\n",
        "StandardScaler(copy=True, with_mean=True, with_std=True)\n",
        "samples_scaled = scaler.transform(samples)"
      ],
      "execution_count": null,
      "outputs": []
    },
    {
      "cell_type": "markdown",
      "metadata": {
        "id": "3cBDsVmN3t_u"
      },
      "source": [
        "#### Normalize"
      ]
    },
    {
      "cell_type": "code",
      "metadata": {
        "id": "Adq1cOVR3nFI"
      },
      "source": [
        "# Import normalize\n",
        "from sklearn.preprocessing import normalize\n",
        "\n",
        "# Normalize the movements: normalized_movements\n",
        "normalized_movements = normalize(samples)"
      ],
      "execution_count": null,
      "outputs": []
    },
    {
      "cell_type": "markdown",
      "metadata": {
        "id": "f7aDD67HoblE"
      },
      "source": [
        "### Scalers and KMeans in pipeline"
      ]
    },
    {
      "cell_type": "markdown",
      "metadata": {
        "id": "JkwlexMtqa3c"
      },
      "source": [
        "### IMPORTANT: Try the most important scalers StandardScaler, MaxAbsScaler and Normalizer\n",
        "\n",
        "**In this Dataset StandardScaler show a decrease in accuracy of prediction, while Normalizer increases accuracy substantially.**\n",
        "\n",
        "What Normalizer() does is rescaling each sample (each row) independently of the other.\n",
        "\n"
      ]
    },
    {
      "cell_type": "code",
      "metadata": {
        "id": "1VA-JlflofvH",
        "colab": {
          "base_uri": "https://localhost:8080/",
          "height": 136
        },
        "outputId": "5791efc9-8d0d-4bc4-e739-94aa619c97a3"
      },
      "source": [
        "from sklearn.preprocessing import Normalizer\n",
        "from sklearn.cluster import KMeans\n",
        "from sklearn.pipeline import make_pipeline\n",
        "\n",
        "model = KMeans(n_clusters=3)\n",
        "scaler = Normalizer()\n",
        "\n",
        "# With make_pipeline we dont need to create a dictionary\n",
        "pipeline = make_pipeline(scaler, model)\n",
        "\n",
        "pipeline.fit(samples)\n",
        "\n",
        "labels = pipeline.predict(samples)\n",
        "labels\n"
      ],
      "execution_count": null,
      "outputs": [
        {
          "output_type": "execute_result",
          "data": {
            "text/plain": [
              "array([0, 0, 0, 0, 0, 0, 0, 0, 0, 0, 0, 0, 0, 0, 0, 0, 0, 0, 0, 0, 0, 0,\n",
              "       0, 0, 0, 0, 0, 0, 0, 0, 0, 0, 0, 0, 0, 0, 0, 0, 0, 0, 0, 0, 0, 0,\n",
              "       0, 0, 0, 0, 0, 0, 2, 2, 2, 2, 2, 2, 2, 2, 2, 2, 2, 2, 2, 2, 2, 2,\n",
              "       1, 2, 2, 2, 1, 2, 1, 2, 2, 2, 2, 2, 2, 2, 2, 2, 2, 1, 1, 2, 2, 2,\n",
              "       2, 2, 2, 2, 2, 2, 2, 2, 2, 2, 2, 2, 1, 1, 1, 1, 1, 1, 1, 1, 1, 1,\n",
              "       1, 1, 1, 1, 1, 1, 1, 1, 1, 1, 1, 1, 1, 1, 1, 1, 1, 1, 1, 1, 1, 1,\n",
              "       1, 1, 1, 1, 1, 1, 1, 1, 1, 1, 1, 1, 1, 1, 1, 1, 1, 1], dtype=int32)"
            ]
          },
          "metadata": {
            "tags": []
          },
          "execution_count": 17
        }
      ]
    },
    {
      "cell_type": "code",
      "metadata": {
        "id": "6FPcupyfpZ56",
        "colab": {
          "base_uri": "https://localhost:8080/",
          "height": 173
        },
        "outputId": "cbc2fb75-e75e-44ca-d5d0-1f58fa3086c2"
      },
      "source": [
        "# Make a crosstab for new labels on recent modeling\n",
        "\n",
        "df['labels'] = labels\n",
        "\n",
        "ct = pd.crosstab(df['labels'],df['species'])\n",
        "ct"
      ],
      "execution_count": null,
      "outputs": [
        {
          "output_type": "execute_result",
          "data": {
            "text/html": [
              "<div>\n",
              "<style scoped>\n",
              "    .dataframe tbody tr th:only-of-type {\n",
              "        vertical-align: middle;\n",
              "    }\n",
              "\n",
              "    .dataframe tbody tr th {\n",
              "        vertical-align: top;\n",
              "    }\n",
              "\n",
              "    .dataframe thead th {\n",
              "        text-align: right;\n",
              "    }\n",
              "</style>\n",
              "<table border=\"1\" class=\"dataframe\">\n",
              "  <thead>\n",
              "    <tr style=\"text-align: right;\">\n",
              "      <th>species</th>\n",
              "      <th>setosa</th>\n",
              "      <th>versicolor</th>\n",
              "      <th>virginica</th>\n",
              "    </tr>\n",
              "    <tr>\n",
              "      <th>labels</th>\n",
              "      <th></th>\n",
              "      <th></th>\n",
              "      <th></th>\n",
              "    </tr>\n",
              "  </thead>\n",
              "  <tbody>\n",
              "    <tr>\n",
              "      <th>0</th>\n",
              "      <td>50</td>\n",
              "      <td>0</td>\n",
              "      <td>0</td>\n",
              "    </tr>\n",
              "    <tr>\n",
              "      <th>1</th>\n",
              "      <td>0</td>\n",
              "      <td>5</td>\n",
              "      <td>50</td>\n",
              "    </tr>\n",
              "    <tr>\n",
              "      <th>2</th>\n",
              "      <td>0</td>\n",
              "      <td>45</td>\n",
              "      <td>0</td>\n",
              "    </tr>\n",
              "  </tbody>\n",
              "</table>\n",
              "</div>"
            ],
            "text/plain": [
              "species  setosa  versicolor  virginica\n",
              "labels                                \n",
              "0            50           0          0\n",
              "1             0           5         50\n",
              "2             0          45          0"
            ]
          },
          "metadata": {
            "tags": []
          },
          "execution_count": 18
        }
      ]
    },
    {
      "cell_type": "code",
      "metadata": {
        "id": "h3dOTiHep5jv",
        "colab": {
          "base_uri": "https://localhost:8080/",
          "height": 265
        },
        "outputId": "cec49764-0e47-4052-9072-2bb48c749a6e"
      },
      "source": [
        "\n",
        "# on x axis Sepal Length. 0th column of array\n",
        "xs = samples[:,0]\n",
        "\n",
        "# on y axis Petal Length. 2nd colum of array\n",
        "ys = samples[:,2]\n",
        "\n",
        "# Scatter plot with clusters by color\n",
        "plt.scatter(xs,ys,c=labels,alpha=0.7)\n",
        "\n",
        "plt.show()"
      ],
      "execution_count": null,
      "outputs": [
        {
          "output_type": "display_data",
          "data": {
            "image/png": "[encoded data removed]",
            "text/plain": [
              "<Figure size 432x288 with 1 Axes>"
            ]
          },
          "metadata": {
            "tags": []
          }
        }
      ]
    },
    {
      "cell_type": "code",
      "metadata": {
        "id": "K7GHDk6sq8OG"
      },
      "source": [
        ""
      ],
      "execution_count": null,
      "outputs": []
    },
    {
      "cell_type": "markdown",
      "metadata": {
        "id": "ZPEkICfZy94W"
      },
      "source": [
        "# Visualization techniques"
      ]
    },
    {
      "cell_type": "markdown",
      "metadata": {
        "id": "Kz2XzxXkzC6e"
      },
      "source": [
        "## Hierarchical clustering with SciPy\n",
        "\n",
        "Plot of hierarchical clustering is called a dendrogram\n",
        "\n",
        "Distance between clusters (y axis of dendrogram) is computed by a **\"linkage method\"**\n",
        "\n",
        "In Complete linkage: distance between clusters is max distance between their samples.\n",
        "In single linkage, the distance between clusters is the distance between the closest points of the clusters.\n",
        "\n"
      ]
    },
    {
      "cell_type": "code",
      "metadata": {
        "id": "AfIjDvenzMXr",
        "colab": {
          "base_uri": "https://localhost:8080/",
          "height": 285
        },
        "outputId": "ee366352-0377-46e8-9d3a-5e7e0081c80d"
      },
      "source": [
        "import matplotlib.pyplot as plt\n",
        "from scipy.cluster.hierarchy import linkage, dendrogram\n",
        "\n",
        "mergings = linkage(samples, method='complete')\n",
        "\n",
        "dendrogram(mergings, labels=df['species'].values, leaf_rotation=90,leaf_font_size=6) \n",
        "plt.show()\n"
      ],
      "execution_count": null,
      "outputs": [
        {
          "output_type": "display_data",
          "data": {
            "image/png": "[encoded data removed]",
            "text/plain": [
              "<Figure size 432x288 with 1 Axes>"
            ]
          },
          "metadata": {
            "tags": []
          }
        }
      ]
    },
    {
      "cell_type": "markdown",
      "metadata": {
        "id": "kJtnf0KY47LK"
      },
      "source": [
        "Hierarchical clustering with SciPy (cont.)\n",
        "\n",
        "with fcluster() we can select intermediate clustering filtering by distance.\n",
        "\n",
        "In our Dendrogram we can select a hight of 2.5 and you'll have 4 clusters. fcluster() returns a NumPy array of cluster labels.\n",
        "\n"
      ]
    },
    {
      "cell_type": "code",
      "metadata": {
        "id": "RRFJGOub5b32",
        "colab": {
          "base_uri": "https://localhost:8080/",
          "height": 323
        },
        "outputId": "6c454c28-b09a-4f2c-972d-14152dd4076f"
      },
      "source": [
        "from scipy.cluster.hierarchy import fcluster\n",
        "labels = fcluster(mergings, 2.5,criterion='distance')\n",
        "\n",
        "# Cluster labels starts at 1 in SciPy!\n",
        "display(labels)\n",
        "\n",
        "# You may crosstab this output\n",
        "df['labels_fcluster'] = labels\n",
        "\n",
        "ct = pd.crosstab(df['labels_fcluster'],df['species'])\n",
        "ct"
      ],
      "execution_count": null,
      "outputs": [
        {
          "output_type": "display_data",
          "data": {
            "text/plain": [
              "array([4, 4, 4, 4, 4, 4, 4, 4, 4, 4, 4, 4, 4, 4, 4, 4, 4, 4, 4, 4, 4, 4,\n",
              "       4, 4, 4, 4, 4, 4, 4, 4, 4, 4, 4, 4, 4, 4, 4, 4, 4, 4, 4, 4, 4, 4,\n",
              "       4, 4, 4, 4, 4, 4, 2, 2, 2, 3, 2, 3, 2, 3, 2, 3, 3, 3, 3, 2, 3, 2,\n",
              "       3, 3, 2, 3, 2, 3, 2, 2, 2, 2, 2, 2, 2, 3, 3, 3, 3, 2, 3, 2, 2, 2,\n",
              "       3, 3, 3, 2, 3, 3, 3, 3, 3, 2, 3, 3, 2, 2, 1, 2, 2, 1, 3, 1, 2, 1,\n",
              "       2, 2, 2, 2, 2, 2, 2, 1, 1, 2, 2, 2, 1, 2, 2, 1, 2, 2, 2, 1, 1, 1,\n",
              "       2, 2, 2, 1, 2, 2, 2, 2, 2, 2, 2, 2, 2, 2, 2, 2, 2, 2], dtype=int32)"
            ]
          },
          "metadata": {
            "tags": []
          }
        },
        {
          "output_type": "execute_result",
          "data": {
            "text/html": [
              "<div>\n",
              "<style scoped>\n",
              "    .dataframe tbody tr th:only-of-type {\n",
              "        vertical-align: middle;\n",
              "    }\n",
              "\n",
              "    .dataframe tbody tr th {\n",
              "        vertical-align: top;\n",
              "    }\n",
              "\n",
              "    .dataframe thead th {\n",
              "        text-align: right;\n",
              "    }\n",
              "</style>\n",
              "<table border=\"1\" class=\"dataframe\">\n",
              "  <thead>\n",
              "    <tr style=\"text-align: right;\">\n",
              "      <th>species</th>\n",
              "      <th>setosa</th>\n",
              "      <th>versicolor</th>\n",
              "      <th>virginica</th>\n",
              "    </tr>\n",
              "    <tr>\n",
              "      <th>labels_fcluster</th>\n",
              "      <th></th>\n",
              "      <th></th>\n",
              "      <th></th>\n",
              "    </tr>\n",
              "  </thead>\n",
              "  <tbody>\n",
              "    <tr>\n",
              "      <th>1</th>\n",
              "      <td>0</td>\n",
              "      <td>0</td>\n",
              "      <td>12</td>\n",
              "    </tr>\n",
              "    <tr>\n",
              "      <th>2</th>\n",
              "      <td>0</td>\n",
              "      <td>23</td>\n",
              "      <td>37</td>\n",
              "    </tr>\n",
              "    <tr>\n",
              "      <th>3</th>\n",
              "      <td>0</td>\n",
              "      <td>27</td>\n",
              "      <td>1</td>\n",
              "    </tr>\n",
              "    <tr>\n",
              "      <th>4</th>\n",
              "      <td>50</td>\n",
              "      <td>0</td>\n",
              "      <td>0</td>\n",
              "    </tr>\n",
              "  </tbody>\n",
              "</table>\n",
              "</div>"
            ],
            "text/plain": [
              "species          setosa  versicolor  virginica\n",
              "labels_fcluster                               \n",
              "1                     0           0         12\n",
              "2                     0          23         37\n",
              "3                     0          27          1\n",
              "4                    50           0          0"
            ]
          },
          "metadata": {
            "tags": []
          },
          "execution_count": 21
        }
      ]
    },
    {
      "cell_type": "markdown",
      "metadata": {
        "id": "UCAWG1SVzA7s"
      },
      "source": [
        "## t-SNE"
      ]
    },
    {
      "cell_type": "markdown",
      "metadata": {
        "id": "xSSkYVnT9UCV"
      },
      "source": [
        "\"t-distributed stochastic neighbor embedding\"\n",
        "\n",
        "Very simple purpose: It transforms high-dimensional spaces into a 2- or 3-dimensional space so thay can be visualized."
      ]
    },
    {
      "cell_type": "markdown",
      "metadata": {
        "id": "b0R9JvpI_h34"
      },
      "source": [
        "Iris is a 4-dimensional datased. t-SNE maps samples into 2D space\n",
        "\n",
        "Axes in t-SNE doesn't have a meaning"
      ]
    },
    {
      "cell_type": "code",
      "metadata": {
        "id": "dNT4t-bdA9PT"
      },
      "source": [
        "# Transform species into colors for t-SNE\n",
        "\n",
        "mapping_colors= {'setosa':'b','virginica':'g', 'versicolor':'r'}\n",
        "\n",
        "colors = pd.Series(df['species'].values)\n",
        "plot_colors = colors.map(mapping_colors)"
      ],
      "execution_count": null,
      "outputs": []
    },
    {
      "cell_type": "code",
      "metadata": {
        "id": "vS9iWgcbzClh",
        "colab": {
          "base_uri": "https://localhost:8080/",
          "height": 265
        },
        "outputId": "b544d1ea-752c-4100-e05a-e8e2a0411a95"
      },
      "source": [
        "from sklearn.manifold import TSNE\n",
        "\n",
        "# Learning rate is a hyperparameter\n",
        "# normally try values between 50 and 200.\n",
        "model = TSNE(learning_rate=100)\n",
        "\n",
        "# Use normalized_movements !!!!!!!!!!!\n",
        "transformed = model.fit_transform(normalized_movements)\n",
        "\n",
        "xs = transformed[:,0]\n",
        "ys = transformed[:,1]\n",
        "\n",
        "plt.scatter(xs,ys,c=plot_colors)\n",
        "plt.show()"
      ],
      "execution_count": null,
      "outputs": [
        {
          "output_type": "display_data",
          "data": {
            "image/png": "[encoded data removed]",
            "text/plain": [
              "<Figure size 432x288 with 1 Axes>"
            ]
          },
          "metadata": {
            "tags": []
          }
        }
      ]
    },
    {
      "cell_type": "markdown",
      "metadata": {
        "id": "JkIWGf3U79cd"
      },
      "source": [
        "# Dimension reduction\n",
        "\n",
        "More efficient storage and computation.\n",
        "\n",
        "Remove less-informative 'noise' features with causes problems for prediction tasks."
      ]
    },
    {
      "cell_type": "markdown",
      "metadata": {
        "id": "Kt-RlLUn8hAs"
      },
      "source": [
        "## PCA: Decorrelation\n",
        "\n",
        "Fundamental technique calles Principal Component Analysis\n",
        "\n",
        "1st: Decorrelation. Shifts data so they have mean 0 and decorrelates between features. \n",
        "\n",
        "2nd: Reduces dimensions"
      ]
    },
    {
      "cell_type": "code",
      "metadata": {
        "id": "z-8zIT12zG0r",
        "colab": {
          "base_uri": "https://localhost:8080/",
          "height": 282
        },
        "outputId": "f708323d-23b2-4b9e-e804-79efd7abfe39"
      },
      "source": [
        "# We calculate correlation between petal length and petal width \n",
        "\n",
        "from scipy.stats import pearsonr \n",
        "\n",
        "# I create a DataFrame with column names\n",
        "iris_df = pd.DataFrame(iris.data, columns=iris.feature_names)\n",
        "\n",
        "width = iris_df['petal width (cm)']\n",
        "length = iris_df['petal length (cm)']\n",
        "\n",
        "# Scatter plot width vs length\n",
        "plt.scatter(width, length)\n",
        "plt.arrow(1.2, 4, 2.3, 5, color='b', width=0.01)\n",
        "plt.axis('equal')\n",
        "plt.show()\n",
        "\n",
        "# Calculate the Pearson correlation\n",
        "correlation, pvalue = pearsonr(width, length)\n",
        "\n",
        "# Display the correlation\n",
        "print('The correlation between this two features are: {}'.format(correlation))\n",
        "\n"
      ],
      "execution_count": null,
      "outputs": [
        {
          "output_type": "display_data",
          "data": {
            "image/png": "[encoded data removed]",
            "text/plain": [
              "<Figure size 432x288 with 1 Axes>"
            ]
          },
          "metadata": {
            "tags": []
          }
        },
        {
          "output_type": "stream",
          "text": [
            "The correlation between this two features are: 0.962865431402796\n"
          ],
          "name": "stdout"
        }
      ]
    },
    {
      "cell_type": "code",
      "metadata": {
        "id": "LxRjDvQ-_naA",
        "colab": {
          "base_uri": "https://localhost:8080/",
          "height": 419
        },
        "outputId": "9bafc6c9-6720-4428-fca0-05875da820c4"
      },
      "source": [
        "iris_df = pd.DataFrame(iris.data, columns=iris.feature_names)\n",
        "iris_df"
      ],
      "execution_count": null,
      "outputs": [
        {
          "output_type": "execute_result",
          "data": {
            "text/html": [
              "<div>\n",
              "<style scoped>\n",
              "    .dataframe tbody tr th:only-of-type {\n",
              "        vertical-align: middle;\n",
              "    }\n",
              "\n",
              "    .dataframe tbody tr th {\n",
              "        vertical-align: top;\n",
              "    }\n",
              "\n",
              "    .dataframe thead th {\n",
              "        text-align: right;\n",
              "    }\n",
              "</style>\n",
              "<table border=\"1\" class=\"dataframe\">\n",
              "  <thead>\n",
              "    <tr style=\"text-align: right;\">\n",
              "      <th></th>\n",
              "      <th>sepal length (cm)</th>\n",
              "      <th>sepal width (cm)</th>\n",
              "      <th>petal length (cm)</th>\n",
              "      <th>petal width (cm)</th>\n",
              "    </tr>\n",
              "  </thead>\n",
              "  <tbody>\n",
              "    <tr>\n",
              "      <th>0</th>\n",
              "      <td>5.1</td>\n",
              "      <td>3.5</td>\n",
              "      <td>1.4</td>\n",
              "      <td>0.2</td>\n",
              "    </tr>\n",
              "    <tr>\n",
              "      <th>1</th>\n",
              "      <td>4.9</td>\n",
              "      <td>3.0</td>\n",
              "      <td>1.4</td>\n",
              "      <td>0.2</td>\n",
              "    </tr>\n",
              "    <tr>\n",
              "      <th>2</th>\n",
              "      <td>4.7</td>\n",
              "      <td>3.2</td>\n",
              "      <td>1.3</td>\n",
              "      <td>0.2</td>\n",
              "    </tr>\n",
              "    <tr>\n",
              "      <th>3</th>\n",
              "      <td>4.6</td>\n",
              "      <td>3.1</td>\n",
              "      <td>1.5</td>\n",
              "      <td>0.2</td>\n",
              "    </tr>\n",
              "    <tr>\n",
              "      <th>4</th>\n",
              "      <td>5.0</td>\n",
              "      <td>3.6</td>\n",
              "      <td>1.4</td>\n",
              "      <td>0.2</td>\n",
              "    </tr>\n",
              "    <tr>\n",
              "      <th>...</th>\n",
              "      <td>...</td>\n",
              "      <td>...</td>\n",
              "      <td>...</td>\n",
              "      <td>...</td>\n",
              "    </tr>\n",
              "    <tr>\n",
              "      <th>145</th>\n",
              "      <td>6.7</td>\n",
              "      <td>3.0</td>\n",
              "      <td>5.2</td>\n",
              "      <td>2.3</td>\n",
              "    </tr>\n",
              "    <tr>\n",
              "      <th>146</th>\n",
              "      <td>6.3</td>\n",
              "      <td>2.5</td>\n",
              "      <td>5.0</td>\n",
              "      <td>1.9</td>\n",
              "    </tr>\n",
              "    <tr>\n",
              "      <th>147</th>\n",
              "      <td>6.5</td>\n",
              "      <td>3.0</td>\n",
              "      <td>5.2</td>\n",
              "      <td>2.0</td>\n",
              "    </tr>\n",
              "    <tr>\n",
              "      <th>148</th>\n",
              "      <td>6.2</td>\n",
              "      <td>3.4</td>\n",
              "      <td>5.4</td>\n",
              "      <td>2.3</td>\n",
              "    </tr>\n",
              "    <tr>\n",
              "      <th>149</th>\n",
              "      <td>5.9</td>\n",
              "      <td>3.0</td>\n",
              "      <td>5.1</td>\n",
              "      <td>1.8</td>\n",
              "    </tr>\n",
              "  </tbody>\n",
              "</table>\n",
              "<p>150 rows × 4 columns</p>\n",
              "</div>"
            ],
            "text/plain": [
              "     sepal length (cm)  sepal width (cm)  petal length (cm)  petal width (cm)\n",
              "0                  5.1               3.5                1.4               0.2\n",
              "1                  4.9               3.0                1.4               0.2\n",
              "2                  4.7               3.2                1.3               0.2\n",
              "3                  4.6               3.1                1.5               0.2\n",
              "4                  5.0               3.6                1.4               0.2\n",
              "..                 ...               ...                ...               ...\n",
              "145                6.7               3.0                5.2               2.3\n",
              "146                6.3               2.5                5.0               1.9\n",
              "147                6.5               3.0                5.2               2.0\n",
              "148                6.2               3.4                5.4               2.3\n",
              "149                5.9               3.0                5.1               1.8\n",
              "\n",
              "[150 rows x 4 columns]"
            ]
          },
          "metadata": {
            "tags": []
          },
          "execution_count": 25
        }
      ]
    },
    {
      "cell_type": "code",
      "metadata": {
        "id": "mShCWTEs86RX"
      },
      "source": [
        "# First decorrelation with PCA.\n",
        "\n",
        "from sklearn.decomposition import PCA\n",
        "\n",
        "pca = PCA()\n",
        "pca.fit(iris_df)\n",
        "\n",
        "# Can also transform new samples\n",
        "transformed = pca.transform(iris_df)"
      ],
      "execution_count": null,
      "outputs": []
    },
    {
      "cell_type": "code",
      "metadata": {
        "id": "C6QADZYKAqqz",
        "colab": {
          "base_uri": "https://localhost:8080/",
          "height": 282
        },
        "outputId": "f596d29d-bbe2-4672-8f33-a7a56bfc8ad9"
      },
      "source": [
        "#Control decorrelation\n",
        "\n",
        "width = transformed[:,3]\n",
        "length = transformed[:,2]\n",
        "\n",
        "# Scatter plot width vs length\n",
        "plt.scatter(width, length)\n",
        "plt.axis('equal')\n",
        "plt.show()\n",
        "\n",
        "# Calculate the Pearson correlation\n",
        "correlation, pvalue = pearsonr(width, length)\n",
        "\n",
        "# Display the correlation\n",
        "print('The correlation between this two features are: {}'.format(correlation))"
      ],
      "execution_count": null,
      "outputs": [
        {
          "output_type": "display_data",
          "data": {
            "image/png": "[encoded data removed]",
            "text/plain": [
              "<Figure size 432x288 with 1 Axes>"
            ]
          },
          "metadata": {
            "tags": []
          }
        },
        {
          "output_type": "stream",
          "text": [
            "The correlation between this two features are: -7.632783294297951e-17\n"
          ],
          "name": "stdout"
        }
      ]
    },
    {
      "cell_type": "markdown",
      "metadata": {
        "id": "mksjwhquCAQ4"
      },
      "source": [
        "## PCA: Dimension reduction\n",
        "\n",
        "Intrinsic dimension = number of features needed to approximate the dataset\n",
        "\n",
        "What is the most compact representatio of the samples?. \n",
        "\n",
        "Can be detected with PCA"
      ]
    },
    {
      "cell_type": "markdown",
      "metadata": {
        "id": "wRzhklKaCfhJ"
      },
      "source": [
        "Iris dataset has intrinsic dimension: 2!, even when we have 4 features.\n",
        "\n",
        "Intrinsic dimension is the number of PCA features with significant variance."
      ]
    },
    {
      "cell_type": "code",
      "metadata": {
        "id": "D7zd72shCAGv",
        "colab": {
          "base_uri": "https://localhost:8080/",
          "height": 282
        },
        "outputId": "b9e0c070-a25e-4a8e-9c12-22f79f813cf7"
      },
      "source": [
        "from sklearn.decomposition import PCA\n",
        "\n",
        "pca = PCA()\n",
        "pca.fit(iris_df)\n",
        "\n",
        "features = range(pca.n_components_)\n",
        "variance = pca.explained_variance_\n",
        "\n",
        "plt.bar(features, variance)\n",
        "plt.xticks(features)\n",
        "plt.ylabel('Variance')\n",
        "plt.xlabel('PCA feature')\n",
        "plt.show()"
      ],
      "execution_count": null,
      "outputs": [
        {
          "output_type": "display_data",
          "data": {
            "image/png": "[encoded data removed]",
            "text/plain": [
              "<Figure size 432x288 with 1 Axes>"
            ]
          },
          "metadata": {
            "tags": []
          }
        }
      ]
    },
    {
      "cell_type": "markdown",
      "metadata": {
        "id": "FCyzlyEjFODE"
      },
      "source": [
        "## Complete Scaler/PCA Pipeline"
      ]
    },
    {
      "cell_type": "markdown",
      "metadata": {
        "id": "A3xLWGOBHECV"
      },
      "source": [
        "### Pipeline"
      ]
    },
    {
      "cell_type": "code",
      "metadata": {
        "id": "lHI5L99QFVHB",
        "colab": {
          "base_uri": "https://localhost:8080/",
          "height": 282
        },
        "outputId": "143255b5-e101-4b5f-b6cb-c9267871d22e"
      },
      "source": [
        "# Perform the necessary imports\n",
        "from sklearn.decomposition import PCA\n",
        "from sklearn.preprocessing import StandardScaler\n",
        "from sklearn.pipeline import make_pipeline\n",
        "import matplotlib.pyplot as plt\n",
        "\n",
        "# Create scaler: scaler\n",
        "scaler = StandardScaler()\n",
        "\n",
        "# Create a PCA instance: pca\n",
        "pca = PCA()\n",
        "\n",
        "# Create pipeline: pipeline\n",
        "pipeline = make_pipeline(scaler, pca)\n",
        "\n",
        "# Fit the pipeline to 'samples'\n",
        "pipeline.fit(samples)\n",
        "\n",
        "# Plot the explained variances\n",
        "features = range(pca.n_components_)\n",
        "plt.bar(features, pca.explained_variance_)\n",
        "plt.xlabel('PCA feature')\n",
        "plt.ylabel('variance')\n",
        "plt.xticks(features)\n",
        "plt.show()"
      ],
      "execution_count": null,
      "outputs": [
        {
          "output_type": "display_data",
          "data": {
            "image/png": "[encoded data removed]",
            "text/plain": [
              "<Figure size 432x288 with 1 Axes>"
            ]
          },
          "metadata": {
            "tags": []
          }
        }
      ]
    },
    {
      "cell_type": "markdown",
      "metadata": {
        "id": "r84AAiWPG9Bh"
      },
      "source": [
        "### Keeping only the important features with PCA\n",
        "\n"
      ]
    },
    {
      "cell_type": "code",
      "metadata": {
        "id": "XYoUkxEMHISJ",
        "colab": {
          "base_uri": "https://localhost:8080/",
          "height": 34
        },
        "outputId": "a41457e5-08de-47b9-d8a7-e98c5d66dbb9"
      },
      "source": [
        "\n",
        "# Here I choose only 2 features\n",
        "\n",
        "scaler = Normalizer()\n",
        "\n",
        "# Create a PCA with only 2 features!!!!!\n",
        "pca = PCA(n_components=2)\n",
        "\n",
        "# Create pipeline\n",
        "pipeline = make_pipeline(scaler, pca)\n",
        "\n",
        "# Fit the pipeline to 'samples'\n",
        "pipeline.fit(samples)\n",
        "\n",
        "transformed = pipeline.transform(samples)\n",
        "\n",
        "# We see we only have two features now\n",
        "transformed.shape\n"
      ],
      "execution_count": null,
      "outputs": [
        {
          "output_type": "execute_result",
          "data": {
            "text/plain": [
              "(150, 2)"
            ]
          },
          "metadata": {
            "tags": []
          },
          "execution_count": 30
        }
      ]
    },
    {
      "cell_type": "code",
      "metadata": {
        "id": "US9iF3cLH1tq",
        "colab": {
          "base_uri": "https://localhost:8080/",
          "height": 265
        },
        "outputId": "ed14a813-ac1d-45cf-9575-ae978fd6fab8"
      },
      "source": [
        "# Plot with only 2 dimensions\n",
        "\n",
        "xs = transformed[:,0]\n",
        "ys = transformed[:,1]\n",
        "\n",
        "plt.scatter(xs,ys,c=plot_colors)\n",
        "plt.show()\n",
        "\n",
        "# Remember the mapping of colors: \n",
        "#{'setosa':'b','virginica':'g', 'versicolor':'r'}"
      ],
      "execution_count": null,
      "outputs": [
        {
          "output_type": "display_data",
          "data": {
            "image/png": "[encoded data removed]",
            "text/plain": [
              "<Figure size 432x288 with 1 Axes>"
            ]
          },
          "metadata": {
            "tags": []
          }
        }
      ]
    },
    {
      "cell_type": "markdown",
      "metadata": {
        "id": "srY6sHW9KD2x"
      },
      "source": [
        "## PCA for tf-idf matrices (NLP)"
      ]
    },
    {
      "cell_type": "markdown",
      "metadata": {
        "id": "HROU3clIKn8q"
      },
      "source": [
        "TfidfVectorizer from sklearn transforms a list of documents into a word frequency array, which it outputs as a csr_matrix"
      ]
    },
    {
      "cell_type": "code",
      "metadata": {
        "id": "uTmFNmnmKH7M"
      },
      "source": [
        "# Import TfidfVectorizer\n",
        "from sklearn.feature_extraction.text import TfidfVectorizer\n",
        "\n",
        "# Create a TfidfVectorizer: tfidf\n",
        "tfidf = TfidfVectorizer() \n",
        "\n",
        "# Apply fit_transform to document: csr_mat\n",
        "csr_mat = tfidf.fit_transform(documents)\n",
        "\n",
        "# Print result of toarray() method\n",
        "print(csr_mat.toarray())\n",
        "\n",
        "# Get the words: words\n",
        "words = tfidf.get_feature_names()\n",
        "\n",
        "# Print words\n",
        "print(words)\n"
      ],
      "execution_count": null,
      "outputs": []
    },
    {
      "cell_type": "markdown",
      "metadata": {
        "id": "4i_R09xVK0oR"
      },
      "source": [
        "TruncatedSVD is able to perform PCA on sparse arrays in csr_matrix format, such as word-frequency arrays. \n",
        "\n",
        "We now are going to create a pipeline for this reduction with TruncatedSVD + KMeans"
      ]
    },
    {
      "cell_type": "code",
      "metadata": {
        "id": "5Er65UnPLBAU"
      },
      "source": [
        "# Perform the necessary imports\n",
        "from sklearn.decomposition import TruncatedSVD\n",
        "from sklearn.cluster import KMeans\n",
        "from sklearn.pipeline import make_pipeline\n",
        "\n",
        "# Create a TruncatedSVD instance: svd\n",
        "svd = TruncatedSVD(n_components=50)\n",
        "\n",
        "# Create a KMeans instance: kmeans\n",
        "kmeans = KMeans(n_clusters=6)\n",
        "\n",
        "# Create a pipeline: pipeline\n",
        "pipeline = make_pipeline(svd, kmeans)\n",
        "\n",
        "# Fit the pipeline to articles\n",
        "pipeline.fit(articles)\n",
        "\n",
        "# Calculate the cluster labels: labels\n",
        "labels = pipeline.predict(articles)\n",
        "\n",
        "# Create a DataFrame aligning labels and titles: df\n",
        "df = pd.DataFrame({'label': labels, 'article': titles})\n",
        "\n",
        "# Display df sorted by cluster label\n",
        "print(df.sort_values('label'))\n"
      ],
      "execution_count": null,
      "outputs": []
    },
    {
      "cell_type": "markdown",
      "metadata": {
        "id": "2JN2ZZOT580g"
      },
      "source": [
        "# NMF (Non-negative matrix factorization)\n",
        "\n",
        "PCA doesn't learn parts\n",
        "Unlike NMF, PCA doesn't learn the parts of things. Its components do not correspond to topics (in the case of documents) or to parts of images, when trained on images."
      ]
    },
    {
      "cell_type": "markdown",
      "metadata": {
        "id": "5OW4ZMzc9Mzf"
      },
      "source": [
        "## For TF-IDF (Documents, NLP)"
      ]
    },
    {
      "cell_type": "markdown",
      "metadata": {
        "id": "fPmUP-S86IPN"
      },
      "source": [
        "\n",
        "Same as PCA but easier to understand.\n",
        "\n",
        "Unlike PCA, the desired n_components must be specified\n",
        "\n",
        "Values of samples **must not be negative!!!!**\n",
        "\n",
        "Works with csr_matrix"
      ]
    },
    {
      "cell_type": "code",
      "metadata": {
        "id": "ap1tAWdm6C7s"
      },
      "source": [
        "from sklearn.decomposition import NMF\n",
        "\n",
        "model = NMF(n_components=2)\n",
        "\n",
        "model.fit(samples)\n",
        "\n",
        "# Transform the articles: nmf_features\n",
        "nmf_features = model.transform(tfidf_samples)\n",
        "\n",
        "# Create a pandas DataFrame: df\n",
        "df = pd.DataFrame(nmf_features, index=labels)\n",
        "df\n",
        "\n",
        "# Create a DataFrame: components_df\n",
        "components_df = pd.DataFrame(model.components_, columns=words)\n",
        "\n",
        "# Print the shape of the DataFrame\n",
        "print(components_df.shape)\n",
        "\n",
        "\n",
        "# Select row 3: one component\n",
        "component = components_df.iloc[3]\n",
        "\n",
        "# Print result of nlargest that is the largest components (parameters) \n",
        "# to multiply then by the matrix of nmf_features. This is for the 3rd row\n",
        "print(component.nlargest())"
      ],
      "execution_count": null,
      "outputs": []
    },
    {
      "cell_type": "markdown",
      "metadata": {
        "id": "VX-dkfZ79STi"
      },
      "source": [
        "## For images"
      ]
    },
    {
      "cell_type": "code",
      "metadata": {
        "id": "dcIlLGE79Wsh"
      },
      "source": [
        "# Import pyplot\n",
        "from matplotlib import pyplot as plt\n",
        "\n",
        "# Select the 0th row: digit\n",
        "digit = samples[0,:]\n",
        "\n",
        "# Print digit\n",
        "print(digit)\n",
        "\n",
        "# Reshape digit to a 13x8 array: bitmap\n",
        "bitmap = digit.reshape((13, 8))\n",
        "\n",
        "# Print bitmap\n",
        "print(bitmap)\n",
        "\n",
        "# Use plt.imshow to display bitmap\n",
        "plt.imshow(bitmap, cmap='gray', interpolation='nearest')\n",
        "plt.colorbar()\n",
        "plt.show()\n",
        "\n",
        "# Import NMF\n",
        "from sklearn.decomposition import NMF\n",
        "\n",
        "# Create an NMF model: model\n",
        "model = NMF(n_components=7)\n",
        "\n",
        "# Apply fit_transform to samples: features\n",
        "features = model.fit_transform(samples)\n",
        "\n",
        "def show_as_image(sample):\n",
        "    bitmap = sample.reshape((13, 8))\n",
        "    plt.figure()\n",
        "    plt.imshow(bitmap, cmap='gray', interpolation='nearest')\n",
        "    plt.colorbar()\n",
        "    plt.show()\n",
        "\n",
        "# Call show_as_image on each component\n",
        "for component in model.components_:\n",
        "    show_as_image(component)\n",
        "\n",
        "# Select the 0th row of features: digit_features\n",
        "digit_features = features[0,:]\n",
        "\n",
        "# Print digit_features\n",
        "print(digit_features)\n",
        "\n",
        "#This is digit_features\n",
        "<script.py> output:\n",
        "    [4.76823559e-01 0.00000000e+00 0.00000000e+00 5.90605054e-01\n",
        "     4.81559442e-01 0.00000000e+00 7.37557191e-16"
      ],
      "execution_count": null,
      "outputs": []
    },
    {
      "cell_type": "markdown",
      "metadata": {
        "id": "ngC-sH2E_Vqj"
      },
      "source": [
        "## Building recommender systems using NMF and Cosine Similarity\n",
        "\n",
        "Online newspaper\n",
        "\n",
        "Recommend articles similar to article being read by customer\n",
        "\n",
        "Somos articles should have similar topics\n",
        "\n",
        "Apply NMF to the tf-idf (word-frequency array)\n",
        "\n",
        "Similar articles should have similar NMF features"
      ]
    },
    {
      "cell_type": "markdown",
      "metadata": {
        "id": "IUidN_mVAWpp"
      },
      "source": [
        "In the video, you learned how to use NMF features and the cosine similarity to find similar articles. Apply this to your NMF model for popular Wikipedia articles, by finding the articles most similar to the article about the footballer Cristiano Ronaldo. The NMF features you obtained earlier are available as nmf_features, while titles is a list of the article titles."
      ]
    },
    {
      "cell_type": "code",
      "metadata": {
        "id": "AGsCzRzj_mHe"
      },
      "source": [
        "# Perform the necessary imports\n",
        "import pandas as pd\n",
        "from sklearn.preprocessing import normalize\n",
        "\n",
        "# Normalize the NMF features: norm_features\n",
        "norm_features = normalize(nmf_features)\n",
        "\n",
        "# Create a DataFrame: df\n",
        "df = pd.DataFrame(norm_features, index=titles)\n",
        "\n",
        "# Select the row corresponding to 'Cristiano Ronaldo': article\n",
        "article = df.loc['Cristiano Ronaldo']\n",
        "\n",
        "# Compute the dot products: similarities\n",
        "similarities = df.dot(article)\n",
        "\n",
        "# Display those with the largest cosine similarity\n",
        "print(similarities.nlargest())"
      ],
      "execution_count": null,
      "outputs": []
    },
    {
      "cell_type": "markdown",
      "metadata": {
        "id": "9Xwcelk6At4w"
      },
      "source": [
        "### Recommend musical artists"
      ]
    },
    {
      "cell_type": "markdown",
      "metadata": {
        "id": "gFAreSWbAgQu"
      },
      "source": [
        "Recommend musical artists part I\n",
        "In this exercise and the next, you'll use what you've learned about NMF to recommend popular music artists! You are given a sparse array artists whose rows correspond to artists and whose columns correspond to users. The entries give the number of times each artist was listened to by each user.\n",
        "\n",
        "In this exercise, build a pipeline and transform the array into normalized NMF features. The first step in the pipeline, MaxAbsScaler, transforms the data so that all users have the same influence on the model, regardless of how many different artists they've listened to. In the next exercise, you'll use the resulting normalized NMF features for recommendation!"
      ]
    },
    {
      "cell_type": "code",
      "metadata": {
        "id": "JZmwwIzhAlC0"
      },
      "source": [
        "# Perform the necessary imports\n",
        "from sklearn.decomposition import NMF\n",
        "from sklearn.preprocessing import Normalizer, MaxAbsScaler\n",
        "from sklearn.pipeline import make_pipeline\n",
        "\n",
        "# Create a MaxAbsScaler: scaler\n",
        "scaler = MaxAbsScaler()\n",
        "\n",
        "# Create an NMF model: nmf\n",
        "nmf = NMF(n_components=20)\n",
        "\n",
        "# Create a Normalizer: normalizer\n",
        "normalizer = Normalizer()\n",
        "\n",
        "# Create a pipeline: pipeline\n",
        "pipeline = make_pipeline(scaler, nmf, normalizer)\n",
        "\n",
        "# Apply fit_transform to artists: norm_features\n",
        "norm_features = pipeline.fit_transform(artists)"
      ],
      "execution_count": null,
      "outputs": []
    },
    {
      "cell_type": "markdown",
      "metadata": {
        "id": "hq2_BhEnAs8B"
      },
      "source": [
        "Recommend musical artists part II\n",
        "Suppose you were a big fan of Bruce Springsteen - which other musicial artists might you like? Use your NMF features from the previous exercise and the cosine similarity to find similar musical artists. A solution to the previous exercise has been run, so norm_features is an array containing the normalized NMF features as rows. The names of the musical artists are available as the list artist_names."
      ]
    },
    {
      "cell_type": "code",
      "metadata": {
        "id": "Vm13M8i_AxCz"
      },
      "source": [
        "# Import pandas\n",
        "import pandas as pd\n",
        "\n",
        "# Create a DataFrame: df\n",
        "df = pd.DataFrame(norm_features, index=artist_names)\n",
        "\n",
        "# Select row of 'Bruce Springsteen': artist\n",
        "artist = df.loc['Bruce Springsteen']\n",
        "\n",
        "# Compute cosine similarities: similarities\n",
        "similarities = df.dot(artist)\n",
        "\n",
        "# Display those with highest cosine similarity\n",
        "print(similarities.nlargest())\n",
        "\n",
        "<script.py> output:\n",
        "    Bruce Springsteen    1.000000\n",
        "    Neil Young           0.955896\n",
        "    Van Morrison         0.872452\n",
        "    Leonard Cohen        0.864763\n",
        "    Bob Dylan            0.859047\n",
        "    dtype: float64\n",
        "\n",
        "# If I want the components parameter: nmf.components_\n",
        "# n_components_integer\n",
        "#The number of components. It is same as the n_components parameter if\n",
        "# it was given. Otherwise, it will be same as the number of features."
      ],
      "execution_count": null,
      "outputs": []
    }
  ]
}