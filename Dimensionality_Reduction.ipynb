{
  "nbformat": 4,
  "nbformat_minor": 0,
  "metadata": {
    "colab": {
      "name": "Dimensionality Reduction.ipynb",
      "provenance": [],
      "toc_visible": true,
      "authorship_tag": "ABX9TyNxkuJn+HsLczpCIpX5x2SZ",
      "include_colab_link": true
    },
    "kernelspec": {
      "name": "python3",
      "display_name": "Python 3"
    }
  },
  "cells": [
    {
      "cell_type": "markdown",
      "metadata": {
        "id": "view-in-github",
        "colab_type": "text"
      },
      "source": [
        "<a href=\"https://colab.research.google.com/github/Ferrariagustinpablo/Python-Machine-Learning-notebooks/blob/main/Dimensionality_Reduction.ipynb\" target=\"_parent\"><img src=\"https://colab.research.google.com/assets/colab-badge.svg\" alt=\"Open In Colab\"/></a>"
      ]
    },
    {
      "cell_type": "markdown",
      "metadata": {
        "id": "r7Q43KbJk3As"
      },
      "source": [
        "# Dimensionality reduction on CLASSIFICATION\n",
        "\n",
        "Reduce number of columns of dataset.\n",
        "\n",
        "Tidy dataset, that is every columns is a feature. Each row is an observation.\n",
        "\n",
        "If you have more than 10 features, the dataset is considered **high dimensional**. It could be hard to find the important patterns because of the complexity that comes with high-dimensionality.\n",
        "\n",
        "Reduce number of columns, also usefull for low-dimensional"
      ]
    },
    {
      "cell_type": "markdown",
      "metadata": {
        "id": "WIt36kZFp00l"
      },
      "source": [
        "## Dataset pokemon and pre-processing"
      ]
    },
    {
      "cell_type": "code",
      "metadata": {
        "id": "amgCT263m5d8",
        "colab": {
          "base_uri": "https://localhost:8080/",
          "height": 238
        },
        "outputId": "9da0f99a-64dd-42fd-c049-41fb75ac8298"
      },
      "source": [
        "import pandas as pd\n",
        "\n",
        "df = pd.read_csv('https://assets.datacamp.com/production/repositories/3515/datasets/9b0682ecacc5a3429f62947794d1adbeecbd5a11/pokemon.csv')\n",
        "\n",
        "df.head()"
      ],
      "execution_count": null,
      "outputs": [
        {
          "output_type": "execute_result",
          "data": {
            "text/html": [
              "<div>\n",
              "<style scoped>\n",
              "    .dataframe tbody tr th:only-of-type {\n",
              "        vertical-align: middle;\n",
              "    }\n",
              "\n",
              "    .dataframe tbody tr th {\n",
              "        vertical-align: top;\n",
              "    }\n",
              "\n",
              "    .dataframe thead th {\n",
              "        text-align: right;\n",
              "    }\n",
              "</style>\n",
              "<table border=\"1\" class=\"dataframe\">\n",
              "  <thead>\n",
              "    <tr style=\"text-align: right;\">\n",
              "      <th></th>\n",
              "      <th>#</th>\n",
              "      <th>Name</th>\n",
              "      <th>Type 1</th>\n",
              "      <th>Type 2</th>\n",
              "      <th>Total</th>\n",
              "      <th>HP</th>\n",
              "      <th>Attack</th>\n",
              "      <th>Defense</th>\n",
              "      <th>Sp. Atk</th>\n",
              "      <th>Sp. Def</th>\n",
              "      <th>Speed</th>\n",
              "      <th>Generation</th>\n",
              "      <th>Legendary</th>\n",
              "    </tr>\n",
              "  </thead>\n",
              "  <tbody>\n",
              "    <tr>\n",
              "      <th>0</th>\n",
              "      <td>1</td>\n",
              "      <td>Bulbasaur</td>\n",
              "      <td>Grass</td>\n",
              "      <td>Poison</td>\n",
              "      <td>318</td>\n",
              "      <td>45</td>\n",
              "      <td>49</td>\n",
              "      <td>49</td>\n",
              "      <td>65</td>\n",
              "      <td>65</td>\n",
              "      <td>45</td>\n",
              "      <td>1</td>\n",
              "      <td>False</td>\n",
              "    </tr>\n",
              "    <tr>\n",
              "      <th>1</th>\n",
              "      <td>2</td>\n",
              "      <td>Ivysaur</td>\n",
              "      <td>Grass</td>\n",
              "      <td>Poison</td>\n",
              "      <td>405</td>\n",
              "      <td>60</td>\n",
              "      <td>62</td>\n",
              "      <td>63</td>\n",
              "      <td>80</td>\n",
              "      <td>80</td>\n",
              "      <td>60</td>\n",
              "      <td>1</td>\n",
              "      <td>False</td>\n",
              "    </tr>\n",
              "    <tr>\n",
              "      <th>2</th>\n",
              "      <td>3</td>\n",
              "      <td>Venusaur</td>\n",
              "      <td>Grass</td>\n",
              "      <td>Poison</td>\n",
              "      <td>525</td>\n",
              "      <td>80</td>\n",
              "      <td>82</td>\n",
              "      <td>83</td>\n",
              "      <td>100</td>\n",
              "      <td>100</td>\n",
              "      <td>80</td>\n",
              "      <td>1</td>\n",
              "      <td>False</td>\n",
              "    </tr>\n",
              "    <tr>\n",
              "      <th>3</th>\n",
              "      <td>3</td>\n",
              "      <td>VenusaurMega Venusaur</td>\n",
              "      <td>Grass</td>\n",
              "      <td>Poison</td>\n",
              "      <td>625</td>\n",
              "      <td>80</td>\n",
              "      <td>100</td>\n",
              "      <td>123</td>\n",
              "      <td>122</td>\n",
              "      <td>120</td>\n",
              "      <td>80</td>\n",
              "      <td>1</td>\n",
              "      <td>False</td>\n",
              "    </tr>\n",
              "    <tr>\n",
              "      <th>4</th>\n",
              "      <td>4</td>\n",
              "      <td>Charmander</td>\n",
              "      <td>Fire</td>\n",
              "      <td>NaN</td>\n",
              "      <td>309</td>\n",
              "      <td>39</td>\n",
              "      <td>52</td>\n",
              "      <td>43</td>\n",
              "      <td>60</td>\n",
              "      <td>50</td>\n",
              "      <td>65</td>\n",
              "      <td>1</td>\n",
              "      <td>False</td>\n",
              "    </tr>\n",
              "  </tbody>\n",
              "</table>\n",
              "</div>"
            ],
            "text/plain": [
              "   #                   Name Type 1  ... Speed  Generation  Legendary\n",
              "0  1              Bulbasaur  Grass  ...    45           1      False\n",
              "1  2                Ivysaur  Grass  ...    60           1      False\n",
              "2  3               Venusaur  Grass  ...    80           1      False\n",
              "3  3  VenusaurMega Venusaur  Grass  ...    80           1      False\n",
              "4  4             Charmander   Fire  ...    65           1      False\n",
              "\n",
              "[5 rows x 13 columns]"
            ]
          },
          "metadata": {
            "tags": []
          },
          "execution_count": 1
        }
      ]
    },
    {
      "cell_type": "code",
      "metadata": {
        "id": "nAmRPQh1oEvL"
      },
      "source": [
        "# Leave only Generation 1 pokemons\n",
        "\n",
        "df = df[df['Generation'] == 1]\n"
      ],
      "execution_count": null,
      "outputs": []
    },
    {
      "cell_type": "code",
      "metadata": {
        "id": "-F3hfgGVkXpQ",
        "colab": {
          "base_uri": "https://localhost:8080/",
          "height": 473
        },
        "outputId": "ecd2a45a-c0fd-4164-b87d-39703885b503"
      },
      "source": [
        "# Describe numerical\n",
        "display(df.describe())\n",
        "\n",
        "# Describe only categorical\n",
        "df.describe(exclude='number')"
      ],
      "execution_count": null,
      "outputs": [
        {
          "output_type": "display_data",
          "data": {
            "text/html": [
              "<div>\n",
              "<style scoped>\n",
              "    .dataframe tbody tr th:only-of-type {\n",
              "        vertical-align: middle;\n",
              "    }\n",
              "\n",
              "    .dataframe tbody tr th {\n",
              "        vertical-align: top;\n",
              "    }\n",
              "\n",
              "    .dataframe thead th {\n",
              "        text-align: right;\n",
              "    }\n",
              "</style>\n",
              "<table border=\"1\" class=\"dataframe\">\n",
              "  <thead>\n",
              "    <tr style=\"text-align: right;\">\n",
              "      <th></th>\n",
              "      <th>#</th>\n",
              "      <th>Total</th>\n",
              "      <th>HP</th>\n",
              "      <th>Attack</th>\n",
              "      <th>Defense</th>\n",
              "      <th>Sp. Atk</th>\n",
              "      <th>Sp. Def</th>\n",
              "      <th>Speed</th>\n",
              "      <th>Generation</th>\n",
              "    </tr>\n",
              "  </thead>\n",
              "  <tbody>\n",
              "    <tr>\n",
              "      <th>count</th>\n",
              "      <td>166.000000</td>\n",
              "      <td>166.000000</td>\n",
              "      <td>166.000000</td>\n",
              "      <td>166.000000</td>\n",
              "      <td>166.000000</td>\n",
              "      <td>166.000000</td>\n",
              "      <td>166.000000</td>\n",
              "      <td>166.000000</td>\n",
              "      <td>166.0</td>\n",
              "    </tr>\n",
              "    <tr>\n",
              "      <th>mean</th>\n",
              "      <td>75.819277</td>\n",
              "      <td>426.813253</td>\n",
              "      <td>65.819277</td>\n",
              "      <td>76.638554</td>\n",
              "      <td>70.861446</td>\n",
              "      <td>71.819277</td>\n",
              "      <td>69.090361</td>\n",
              "      <td>72.584337</td>\n",
              "      <td>1.0</td>\n",
              "    </tr>\n",
              "    <tr>\n",
              "      <th>std</th>\n",
              "      <td>45.153246</td>\n",
              "      <td>115.878076</td>\n",
              "      <td>28.153968</td>\n",
              "      <td>30.744727</td>\n",
              "      <td>28.641336</td>\n",
              "      <td>34.439106</td>\n",
              "      <td>25.505275</td>\n",
              "      <td>29.675857</td>\n",
              "      <td>0.0</td>\n",
              "    </tr>\n",
              "    <tr>\n",
              "      <th>min</th>\n",
              "      <td>1.000000</td>\n",
              "      <td>195.000000</td>\n",
              "      <td>10.000000</td>\n",
              "      <td>5.000000</td>\n",
              "      <td>5.000000</td>\n",
              "      <td>15.000000</td>\n",
              "      <td>20.000000</td>\n",
              "      <td>15.000000</td>\n",
              "      <td>1.0</td>\n",
              "    </tr>\n",
              "    <tr>\n",
              "      <th>25%</th>\n",
              "      <td>36.250000</td>\n",
              "      <td>325.000000</td>\n",
              "      <td>46.500000</td>\n",
              "      <td>55.000000</td>\n",
              "      <td>50.000000</td>\n",
              "      <td>45.000000</td>\n",
              "      <td>50.000000</td>\n",
              "      <td>50.000000</td>\n",
              "      <td>1.0</td>\n",
              "    </tr>\n",
              "    <tr>\n",
              "      <th>50%</th>\n",
              "      <td>76.500000</td>\n",
              "      <td>436.500000</td>\n",
              "      <td>62.000000</td>\n",
              "      <td>75.000000</td>\n",
              "      <td>66.000000</td>\n",
              "      <td>65.000000</td>\n",
              "      <td>70.000000</td>\n",
              "      <td>70.000000</td>\n",
              "      <td>1.0</td>\n",
              "    </tr>\n",
              "    <tr>\n",
              "      <th>75%</th>\n",
              "      <td>115.000000</td>\n",
              "      <td>500.000000</td>\n",
              "      <td>80.000000</td>\n",
              "      <td>95.000000</td>\n",
              "      <td>85.000000</td>\n",
              "      <td>95.000000</td>\n",
              "      <td>85.000000</td>\n",
              "      <td>92.250000</td>\n",
              "      <td>1.0</td>\n",
              "    </tr>\n",
              "    <tr>\n",
              "      <th>max</th>\n",
              "      <td>151.000000</td>\n",
              "      <td>780.000000</td>\n",
              "      <td>250.000000</td>\n",
              "      <td>190.000000</td>\n",
              "      <td>180.000000</td>\n",
              "      <td>194.000000</td>\n",
              "      <td>130.000000</td>\n",
              "      <td>150.000000</td>\n",
              "      <td>1.0</td>\n",
              "    </tr>\n",
              "  </tbody>\n",
              "</table>\n",
              "</div>"
            ],
            "text/plain": [
              "                #       Total          HP  ...     Sp. Def       Speed  Generation\n",
              "count  166.000000  166.000000  166.000000  ...  166.000000  166.000000       166.0\n",
              "mean    75.819277  426.813253   65.819277  ...   69.090361   72.584337         1.0\n",
              "std     45.153246  115.878076   28.153968  ...   25.505275   29.675857         0.0\n",
              "min      1.000000  195.000000   10.000000  ...   20.000000   15.000000         1.0\n",
              "25%     36.250000  325.000000   46.500000  ...   50.000000   50.000000         1.0\n",
              "50%     76.500000  436.500000   62.000000  ...   70.000000   70.000000         1.0\n",
              "75%    115.000000  500.000000   80.000000  ...   85.000000   92.250000         1.0\n",
              "max    151.000000  780.000000  250.000000  ...  130.000000  150.000000         1.0\n",
              "\n",
              "[8 rows x 9 columns]"
            ]
          },
          "metadata": {
            "tags": []
          }
        },
        {
          "output_type": "execute_result",
          "data": {
            "text/html": [
              "<div>\n",
              "<style scoped>\n",
              "    .dataframe tbody tr th:only-of-type {\n",
              "        vertical-align: middle;\n",
              "    }\n",
              "\n",
              "    .dataframe tbody tr th {\n",
              "        vertical-align: top;\n",
              "    }\n",
              "\n",
              "    .dataframe thead th {\n",
              "        text-align: right;\n",
              "    }\n",
              "</style>\n",
              "<table border=\"1\" class=\"dataframe\">\n",
              "  <thead>\n",
              "    <tr style=\"text-align: right;\">\n",
              "      <th></th>\n",
              "      <th>Name</th>\n",
              "      <th>Type 1</th>\n",
              "      <th>Type 2</th>\n",
              "      <th>Legendary</th>\n",
              "    </tr>\n",
              "  </thead>\n",
              "  <tbody>\n",
              "    <tr>\n",
              "      <th>count</th>\n",
              "      <td>166</td>\n",
              "      <td>166</td>\n",
              "      <td>78</td>\n",
              "      <td>166</td>\n",
              "    </tr>\n",
              "    <tr>\n",
              "      <th>unique</th>\n",
              "      <td>166</td>\n",
              "      <td>15</td>\n",
              "      <td>13</td>\n",
              "      <td>2</td>\n",
              "    </tr>\n",
              "    <tr>\n",
              "      <th>top</th>\n",
              "      <td>Psyduck</td>\n",
              "      <td>Water</td>\n",
              "      <td>Flying</td>\n",
              "      <td>False</td>\n",
              "    </tr>\n",
              "    <tr>\n",
              "      <th>freq</th>\n",
              "      <td>1</td>\n",
              "      <td>31</td>\n",
              "      <td>23</td>\n",
              "      <td>160</td>\n",
              "    </tr>\n",
              "  </tbody>\n",
              "</table>\n",
              "</div>"
            ],
            "text/plain": [
              "           Name Type 1  Type 2 Legendary\n",
              "count       166    166      78       166\n",
              "unique      166     15      13         2\n",
              "top     Psyduck  Water  Flying     False\n",
              "freq          1     31      23       160"
            ]
          },
          "metadata": {
            "tags": []
          },
          "execution_count": 3
        }
      ]
    },
    {
      "cell_type": "code",
      "metadata": {
        "id": "V8ioHtbhooAr",
        "colab": {
          "base_uri": "https://localhost:8080/",
          "height": 119
        },
        "outputId": "ff04113e-fdc4-467b-b44d-1f67fc7d5f2f"
      },
      "source": [
        "# Droping the column with no variance that is 'Generation' and 'Legendary'\n",
        "# And we will we working only with \n",
        "\n",
        "number_cols = ['HP', 'Attack', 'Defense']\n",
        "non_number_cols = ['Name', 'Type 1']\n",
        "# Create a new dataframe by subselecting the chosen features\n",
        "df_selected = df[number_cols + non_number_cols]\n",
        "# Prints the first 5 lines of the new dataframe\n",
        "print(df_selected.head())"
      ],
      "execution_count": null,
      "outputs": [
        {
          "output_type": "stream",
          "text": [
            "   HP  Attack  Defense                   Name Type 1\n",
            "0  45      49       49              Bulbasaur  Grass\n",
            "1  60      62       63                Ivysaur  Grass\n",
            "2  80      82       83               Venusaur  Grass\n",
            "3  80     100      123  VenusaurMega Venusaur  Grass\n",
            "4  39      52       43             Charmander   Fire\n"
          ],
          "name": "stdout"
        }
      ]
    },
    {
      "cell_type": "markdown",
      "metadata": {
        "id": "Pa0kR7zAp3v0"
      },
      "source": [
        "## Why reduce dimensionality?\n",
        "\n",
        "Your dataset will:\n",
        "\n",
        "1- Be less complex\n",
        "\n",
        "2- Less disk space\n",
        "\n",
        "3- require less computation time\n",
        "\n",
        "4- **have lower chance of model overfitting**\n",
        "\n",
        "\n",
        "Try to minimize the information loss by removing feeatures that are irrelevant or hold little unique information. Feature selection and Feature extraction.\n",
        "\n",
        "Feature extraction: It has the same goal of reducing dimensionality, instead of selecting a subset of features, will only extract new features from the original ones. This new features has little redundant information in them as possible and are therefore fewer in number."
      ]
    },
    {
      "cell_type": "code",
      "metadata": {
        "id": "udgENjEqhfXv",
        "colab": {
          "base_uri": "https://localhost:8080/",
          "height": 68
        },
        "outputId": "d829eecd-26a1-47d5-d519-581f65b30ce9"
      },
      "source": [
        "import pandas as pd\n",
        "\n",
        "# Dataset \n",
        "\n",
        "ansur_female = pd.read_csv('https://assets.datacamp.com/production/repositories/3515/datasets/802fc5cdbe3a29248483e496a966627ea9629e7a/ANSUR_II_FEMALE.csv')\n",
        "ansur_male = pd.read_csv('https://assets.datacamp.com/production/repositories/3515/datasets/28edd853c0a6aa7316b0d84a21f8e0d821e5010d/ANSUR_II_MALE.csv')\n",
        "\n",
        "display(ansur_female.shape)\n",
        "display(ansur_male.shape)\n",
        "\n",
        "df = pd.concat([ansur_female,ansur_male])\n",
        "df.shape"
      ],
      "execution_count": null,
      "outputs": [
        {
          "output_type": "display_data",
          "data": {
            "text/plain": [
              "(1986, 99)"
            ]
          },
          "metadata": {
            "tags": []
          }
        },
        {
          "output_type": "display_data",
          "data": {
            "text/plain": [
              "(4082, 99)"
            ]
          },
          "metadata": {
            "tags": []
          }
        },
        {
          "output_type": "execute_result",
          "data": {
            "text/plain": [
              "(6068, 99)"
            ]
          },
          "metadata": {
            "tags": []
          },
          "execution_count": 6
        }
      ]
    },
    {
      "cell_type": "code",
      "metadata": {
        "id": "1FKT1qMYna6f",
        "colab": {
          "base_uri": "https://localhost:8080/",
          "height": 197
        },
        "outputId": "200bf06b-d7bc-4672-e23d-9953964fa059"
      },
      "source": [
        "# he uses pairplot to see redundant features to extract.\n",
        "\n",
        "sns.pairplot(df, hue='Gender', diag_kind='hist')"
      ],
      "execution_count": null,
      "outputs": [
        {
          "output_type": "error",
          "ename": "NameError",
          "evalue": "ignored",
          "traceback": [
            "\u001b[0;31m---------------------------------------------------------------------------\u001b[0m",
            "\u001b[0;31mNameError\u001b[0m                                 Traceback (most recent call last)",
            "\u001b[0;32m<ipython-input-7-6776b61ff016>\u001b[0m in \u001b[0;36m<module>\u001b[0;34m()\u001b[0m\n\u001b[1;32m      1\u001b[0m \u001b[0;31m# he uses pairplot to see redundant features to extract.\u001b[0m\u001b[0;34m\u001b[0m\u001b[0;34m\u001b[0m\u001b[0;34m\u001b[0m\u001b[0m\n\u001b[1;32m      2\u001b[0m \u001b[0;34m\u001b[0m\u001b[0m\n\u001b[0;32m----> 3\u001b[0;31m \u001b[0msns\u001b[0m\u001b[0;34m.\u001b[0m\u001b[0mpairplot\u001b[0m\u001b[0;34m(\u001b[0m\u001b[0mdf\u001b[0m\u001b[0;34m,\u001b[0m \u001b[0mhue\u001b[0m\u001b[0;34m=\u001b[0m\u001b[0;34m'Gender'\u001b[0m\u001b[0;34m,\u001b[0m \u001b[0mdiag_kind\u001b[0m\u001b[0;34m=\u001b[0m\u001b[0;34m'hist'\u001b[0m\u001b[0;34m)\u001b[0m\u001b[0;34m\u001b[0m\u001b[0;34m\u001b[0m\u001b[0m\n\u001b[0m",
            "\u001b[0;31mNameError\u001b[0m: name 'sns' is not defined"
          ]
        }
      ]
    },
    {
      "cell_type": "markdown",
      "metadata": {
        "id": "h1mdf2jtnnzB"
      },
      "source": [
        "# t-SNE\n",
        "\n",
        "t-SNE is super powerful. Use it when you want to visually explore the patterns in a high dimensional dataset.\n",
        "t-SNE is a great technique for visual exploration of high dimensional datasets."
      ]
    },
    {
      "cell_type": "markdown",
      "metadata": {
        "id": "tKB3XFfqvQdS"
      },
      "source": [
        "## T-SNE in ANSUR"
      ]
    },
    {
      "cell_type": "code",
      "metadata": {
        "id": "nkxS3Ul5lvxh",
        "colab": {
          "base_uri": "https://localhost:8080/",
          "height": 389
        },
        "outputId": "ea6228d8-ec80-4ad1-fba6-ce67b940e00c"
      },
      "source": [
        "ansur_female.head()"
      ],
      "execution_count": null,
      "outputs": [
        {
          "output_type": "execute_result",
          "data": {
            "text/html": [
              "<div>\n",
              "<style scoped>\n",
              "    .dataframe tbody tr th:only-of-type {\n",
              "        vertical-align: middle;\n",
              "    }\n",
              "\n",
              "    .dataframe tbody tr th {\n",
              "        vertical-align: top;\n",
              "    }\n",
              "\n",
              "    .dataframe thead th {\n",
              "        text-align: right;\n",
              "    }\n",
              "</style>\n",
              "<table border=\"1\" class=\"dataframe\">\n",
              "  <thead>\n",
              "    <tr style=\"text-align: right;\">\n",
              "      <th></th>\n",
              "      <th>Branch</th>\n",
              "      <th>Component</th>\n",
              "      <th>Gender</th>\n",
              "      <th>abdominalextensiondepthsitting</th>\n",
              "      <th>acromialheight</th>\n",
              "      <th>acromionradialelength</th>\n",
              "      <th>anklecircumference</th>\n",
              "      <th>axillaheight</th>\n",
              "      <th>balloffootcircumference</th>\n",
              "      <th>balloffootlength</th>\n",
              "      <th>biacromialbreadth</th>\n",
              "      <th>bicepscircumferenceflexed</th>\n",
              "      <th>bicristalbreadth</th>\n",
              "      <th>bideltoidbreadth</th>\n",
              "      <th>bimalleolarbreadth</th>\n",
              "      <th>bitragionchinarc</th>\n",
              "      <th>bitragionsubmandibulararc</th>\n",
              "      <th>bizygomaticbreadth</th>\n",
              "      <th>buttockcircumference</th>\n",
              "      <th>buttockdepth</th>\n",
              "      <th>buttockheight</th>\n",
              "      <th>buttockkneelength</th>\n",
              "      <th>buttockpopliteallength</th>\n",
              "      <th>calfcircumference</th>\n",
              "      <th>cervicaleheight</th>\n",
              "      <th>chestbreadth</th>\n",
              "      <th>chestcircumference</th>\n",
              "      <th>chestdepth</th>\n",
              "      <th>chestheight</th>\n",
              "      <th>crotchheight</th>\n",
              "      <th>crotchlengthomphalion</th>\n",
              "      <th>crotchlengthposterioromphalion</th>\n",
              "      <th>earbreadth</th>\n",
              "      <th>earlength</th>\n",
              "      <th>earprotrusion</th>\n",
              "      <th>elbowrestheight</th>\n",
              "      <th>eyeheightsitting</th>\n",
              "      <th>footbreadthhorizontal</th>\n",
              "      <th>footlength</th>\n",
              "      <th>forearmcenterofgriplength</th>\n",
              "      <th>...</th>\n",
              "      <th>kneeheightsitting</th>\n",
              "      <th>lateralfemoralepicondyleheight</th>\n",
              "      <th>lateralmalleolusheight</th>\n",
              "      <th>lowerthighcircumference</th>\n",
              "      <th>mentonsellionlength</th>\n",
              "      <th>neckcircumference</th>\n",
              "      <th>neckcircumferencebase</th>\n",
              "      <th>overheadfingertipreachsitting</th>\n",
              "      <th>palmlength</th>\n",
              "      <th>poplitealheight</th>\n",
              "      <th>radialestylionlength</th>\n",
              "      <th>shouldercircumference</th>\n",
              "      <th>shoulderelbowlength</th>\n",
              "      <th>shoulderlength</th>\n",
              "      <th>sittingheight</th>\n",
              "      <th>sleevelengthspinewrist</th>\n",
              "      <th>sleeveoutseam</th>\n",
              "      <th>span</th>\n",
              "      <th>suprasternaleheight</th>\n",
              "      <th>tenthribheight</th>\n",
              "      <th>thighcircumference</th>\n",
              "      <th>thighclearance</th>\n",
              "      <th>thumbtipreach</th>\n",
              "      <th>tibialheight</th>\n",
              "      <th>tragiontopofhead</th>\n",
              "      <th>trochanterionheight</th>\n",
              "      <th>verticaltrunkcircumferenceusa</th>\n",
              "      <th>waistbacklength</th>\n",
              "      <th>waistbreadth</th>\n",
              "      <th>waistcircumference</th>\n",
              "      <th>waistdepth</th>\n",
              "      <th>waistfrontlengthsitting</th>\n",
              "      <th>waistheightomphalion</th>\n",
              "      <th>wristcircumference</th>\n",
              "      <th>wristheight</th>\n",
              "      <th>weight_kg</th>\n",
              "      <th>stature_m</th>\n",
              "      <th>BMI</th>\n",
              "      <th>BMI_class</th>\n",
              "      <th>Height_class</th>\n",
              "    </tr>\n",
              "  </thead>\n",
              "  <tbody>\n",
              "    <tr>\n",
              "      <th>0</th>\n",
              "      <td>Combat Support</td>\n",
              "      <td>Regular Army</td>\n",
              "      <td>Female</td>\n",
              "      <td>231</td>\n",
              "      <td>1282</td>\n",
              "      <td>301</td>\n",
              "      <td>204</td>\n",
              "      <td>1180</td>\n",
              "      <td>222</td>\n",
              "      <td>177</td>\n",
              "      <td>373</td>\n",
              "      <td>315</td>\n",
              "      <td>263</td>\n",
              "      <td>466</td>\n",
              "      <td>65</td>\n",
              "      <td>338</td>\n",
              "      <td>301</td>\n",
              "      <td>141</td>\n",
              "      <td>1011</td>\n",
              "      <td>223</td>\n",
              "      <td>836</td>\n",
              "      <td>587</td>\n",
              "      <td>476</td>\n",
              "      <td>360</td>\n",
              "      <td>1336</td>\n",
              "      <td>274</td>\n",
              "      <td>922</td>\n",
              "      <td>245</td>\n",
              "      <td>1095</td>\n",
              "      <td>759</td>\n",
              "      <td>557</td>\n",
              "      <td>310</td>\n",
              "      <td>35</td>\n",
              "      <td>65</td>\n",
              "      <td>16</td>\n",
              "      <td>220</td>\n",
              "      <td>713</td>\n",
              "      <td>91</td>\n",
              "      <td>246</td>\n",
              "      <td>316</td>\n",
              "      <td>...</td>\n",
              "      <td>496</td>\n",
              "      <td>447</td>\n",
              "      <td>55</td>\n",
              "      <td>404</td>\n",
              "      <td>118</td>\n",
              "      <td>335</td>\n",
              "      <td>368</td>\n",
              "      <td>1268</td>\n",
              "      <td>113</td>\n",
              "      <td>362</td>\n",
              "      <td>235</td>\n",
              "      <td>1062</td>\n",
              "      <td>327</td>\n",
              "      <td>148</td>\n",
              "      <td>803</td>\n",
              "      <td>809</td>\n",
              "      <td>513</td>\n",
              "      <td>1647</td>\n",
              "      <td>1280</td>\n",
              "      <td>1013</td>\n",
              "      <td>622</td>\n",
              "      <td>174</td>\n",
              "      <td>736</td>\n",
              "      <td>430</td>\n",
              "      <td>110</td>\n",
              "      <td>844</td>\n",
              "      <td>1488</td>\n",
              "      <td>406</td>\n",
              "      <td>295</td>\n",
              "      <td>850</td>\n",
              "      <td>217</td>\n",
              "      <td>345</td>\n",
              "      <td>942</td>\n",
              "      <td>152</td>\n",
              "      <td>756</td>\n",
              "      <td>65.7</td>\n",
              "      <td>1.560</td>\n",
              "      <td>26.997041</td>\n",
              "      <td>Overweight</td>\n",
              "      <td>Normal</td>\n",
              "    </tr>\n",
              "    <tr>\n",
              "      <th>1</th>\n",
              "      <td>Combat Service Support</td>\n",
              "      <td>Regular Army</td>\n",
              "      <td>Female</td>\n",
              "      <td>194</td>\n",
              "      <td>1379</td>\n",
              "      <td>320</td>\n",
              "      <td>207</td>\n",
              "      <td>1292</td>\n",
              "      <td>225</td>\n",
              "      <td>178</td>\n",
              "      <td>372</td>\n",
              "      <td>272</td>\n",
              "      <td>250</td>\n",
              "      <td>430</td>\n",
              "      <td>64</td>\n",
              "      <td>294</td>\n",
              "      <td>270</td>\n",
              "      <td>126</td>\n",
              "      <td>893</td>\n",
              "      <td>186</td>\n",
              "      <td>900</td>\n",
              "      <td>583</td>\n",
              "      <td>483</td>\n",
              "      <td>350</td>\n",
              "      <td>1440</td>\n",
              "      <td>261</td>\n",
              "      <td>839</td>\n",
              "      <td>206</td>\n",
              "      <td>1234</td>\n",
              "      <td>835</td>\n",
              "      <td>549</td>\n",
              "      <td>329</td>\n",
              "      <td>32</td>\n",
              "      <td>60</td>\n",
              "      <td>23</td>\n",
              "      <td>208</td>\n",
              "      <td>726</td>\n",
              "      <td>91</td>\n",
              "      <td>249</td>\n",
              "      <td>341</td>\n",
              "      <td>...</td>\n",
              "      <td>532</td>\n",
              "      <td>492</td>\n",
              "      <td>69</td>\n",
              "      <td>334</td>\n",
              "      <td>115</td>\n",
              "      <td>302</td>\n",
              "      <td>345</td>\n",
              "      <td>1389</td>\n",
              "      <td>110</td>\n",
              "      <td>426</td>\n",
              "      <td>259</td>\n",
              "      <td>1014</td>\n",
              "      <td>346</td>\n",
              "      <td>142</td>\n",
              "      <td>835</td>\n",
              "      <td>810</td>\n",
              "      <td>575</td>\n",
              "      <td>1751</td>\n",
              "      <td>1372</td>\n",
              "      <td>1107</td>\n",
              "      <td>524</td>\n",
              "      <td>152</td>\n",
              "      <td>771</td>\n",
              "      <td>475</td>\n",
              "      <td>125</td>\n",
              "      <td>901</td>\n",
              "      <td>1470</td>\n",
              "      <td>422</td>\n",
              "      <td>254</td>\n",
              "      <td>708</td>\n",
              "      <td>168</td>\n",
              "      <td>329</td>\n",
              "      <td>1032</td>\n",
              "      <td>155</td>\n",
              "      <td>815</td>\n",
              "      <td>53.4</td>\n",
              "      <td>1.665</td>\n",
              "      <td>19.262506</td>\n",
              "      <td>Normal</td>\n",
              "      <td>Normal</td>\n",
              "    </tr>\n",
              "    <tr>\n",
              "      <th>2</th>\n",
              "      <td>Combat Service Support</td>\n",
              "      <td>Regular Army</td>\n",
              "      <td>Female</td>\n",
              "      <td>183</td>\n",
              "      <td>1369</td>\n",
              "      <td>329</td>\n",
              "      <td>233</td>\n",
              "      <td>1271</td>\n",
              "      <td>237</td>\n",
              "      <td>196</td>\n",
              "      <td>397</td>\n",
              "      <td>300</td>\n",
              "      <td>276</td>\n",
              "      <td>450</td>\n",
              "      <td>69</td>\n",
              "      <td>309</td>\n",
              "      <td>270</td>\n",
              "      <td>128</td>\n",
              "      <td>987</td>\n",
              "      <td>204</td>\n",
              "      <td>861</td>\n",
              "      <td>583</td>\n",
              "      <td>466</td>\n",
              "      <td>384</td>\n",
              "      <td>1451</td>\n",
              "      <td>287</td>\n",
              "      <td>874</td>\n",
              "      <td>223</td>\n",
              "      <td>1226</td>\n",
              "      <td>821</td>\n",
              "      <td>643</td>\n",
              "      <td>374</td>\n",
              "      <td>36</td>\n",
              "      <td>65</td>\n",
              "      <td>26</td>\n",
              "      <td>204</td>\n",
              "      <td>790</td>\n",
              "      <td>100</td>\n",
              "      <td>265</td>\n",
              "      <td>343</td>\n",
              "      <td>...</td>\n",
              "      <td>530</td>\n",
              "      <td>469</td>\n",
              "      <td>64</td>\n",
              "      <td>401</td>\n",
              "      <td>135</td>\n",
              "      <td>325</td>\n",
              "      <td>369</td>\n",
              "      <td>1414</td>\n",
              "      <td>122</td>\n",
              "      <td>398</td>\n",
              "      <td>258</td>\n",
              "      <td>1049</td>\n",
              "      <td>362</td>\n",
              "      <td>164</td>\n",
              "      <td>904</td>\n",
              "      <td>855</td>\n",
              "      <td>568</td>\n",
              "      <td>1779</td>\n",
              "      <td>1383</td>\n",
              "      <td>1089</td>\n",
              "      <td>577</td>\n",
              "      <td>164</td>\n",
              "      <td>814</td>\n",
              "      <td>458</td>\n",
              "      <td>129</td>\n",
              "      <td>882</td>\n",
              "      <td>1542</td>\n",
              "      <td>419</td>\n",
              "      <td>269</td>\n",
              "      <td>727</td>\n",
              "      <td>159</td>\n",
              "      <td>367</td>\n",
              "      <td>1035</td>\n",
              "      <td>162</td>\n",
              "      <td>799</td>\n",
              "      <td>66.3</td>\n",
              "      <td>1.711</td>\n",
              "      <td>22.647148</td>\n",
              "      <td>Normal</td>\n",
              "      <td>Tall</td>\n",
              "    </tr>\n",
              "    <tr>\n",
              "      <th>3</th>\n",
              "      <td>Combat Service Support</td>\n",
              "      <td>Regular Army</td>\n",
              "      <td>Female</td>\n",
              "      <td>261</td>\n",
              "      <td>1356</td>\n",
              "      <td>306</td>\n",
              "      <td>214</td>\n",
              "      <td>1250</td>\n",
              "      <td>240</td>\n",
              "      <td>188</td>\n",
              "      <td>384</td>\n",
              "      <td>364</td>\n",
              "      <td>276</td>\n",
              "      <td>484</td>\n",
              "      <td>68</td>\n",
              "      <td>340</td>\n",
              "      <td>294</td>\n",
              "      <td>144</td>\n",
              "      <td>1012</td>\n",
              "      <td>253</td>\n",
              "      <td>897</td>\n",
              "      <td>599</td>\n",
              "      <td>471</td>\n",
              "      <td>372</td>\n",
              "      <td>1430</td>\n",
              "      <td>269</td>\n",
              "      <td>1008</td>\n",
              "      <td>285</td>\n",
              "      <td>1170</td>\n",
              "      <td>804</td>\n",
              "      <td>640</td>\n",
              "      <td>351</td>\n",
              "      <td>38</td>\n",
              "      <td>62</td>\n",
              "      <td>22</td>\n",
              "      <td>244</td>\n",
              "      <td>775</td>\n",
              "      <td>97</td>\n",
              "      <td>265</td>\n",
              "      <td>331</td>\n",
              "      <td>...</td>\n",
              "      <td>520</td>\n",
              "      <td>478</td>\n",
              "      <td>67</td>\n",
              "      <td>402</td>\n",
              "      <td>118</td>\n",
              "      <td>357</td>\n",
              "      <td>386</td>\n",
              "      <td>1329</td>\n",
              "      <td>115</td>\n",
              "      <td>394</td>\n",
              "      <td>250</td>\n",
              "      <td>1121</td>\n",
              "      <td>333</td>\n",
              "      <td>157</td>\n",
              "      <td>875</td>\n",
              "      <td>815</td>\n",
              "      <td>536</td>\n",
              "      <td>1708</td>\n",
              "      <td>1358</td>\n",
              "      <td>1065</td>\n",
              "      <td>679</td>\n",
              "      <td>187</td>\n",
              "      <td>736</td>\n",
              "      <td>463</td>\n",
              "      <td>125</td>\n",
              "      <td>866</td>\n",
              "      <td>1627</td>\n",
              "      <td>451</td>\n",
              "      <td>302</td>\n",
              "      <td>923</td>\n",
              "      <td>235</td>\n",
              "      <td>371</td>\n",
              "      <td>999</td>\n",
              "      <td>173</td>\n",
              "      <td>818</td>\n",
              "      <td>78.2</td>\n",
              "      <td>1.660</td>\n",
              "      <td>28.378575</td>\n",
              "      <td>Overweight</td>\n",
              "      <td>Normal</td>\n",
              "    </tr>\n",
              "    <tr>\n",
              "      <th>4</th>\n",
              "      <td>Combat Arms</td>\n",
              "      <td>Regular Army</td>\n",
              "      <td>Female</td>\n",
              "      <td>309</td>\n",
              "      <td>1303</td>\n",
              "      <td>308</td>\n",
              "      <td>214</td>\n",
              "      <td>1210</td>\n",
              "      <td>217</td>\n",
              "      <td>182</td>\n",
              "      <td>378</td>\n",
              "      <td>320</td>\n",
              "      <td>336</td>\n",
              "      <td>525</td>\n",
              "      <td>67</td>\n",
              "      <td>300</td>\n",
              "      <td>295</td>\n",
              "      <td>135</td>\n",
              "      <td>1281</td>\n",
              "      <td>284</td>\n",
              "      <td>811</td>\n",
              "      <td>607</td>\n",
              "      <td>467</td>\n",
              "      <td>433</td>\n",
              "      <td>1362</td>\n",
              "      <td>305</td>\n",
              "      <td>1089</td>\n",
              "      <td>290</td>\n",
              "      <td>1112</td>\n",
              "      <td>726</td>\n",
              "      <td>686</td>\n",
              "      <td>356</td>\n",
              "      <td>34</td>\n",
              "      <td>65</td>\n",
              "      <td>18</td>\n",
              "      <td>233</td>\n",
              "      <td>732</td>\n",
              "      <td>88</td>\n",
              "      <td>247</td>\n",
              "      <td>339</td>\n",
              "      <td>...</td>\n",
              "      <td>491</td>\n",
              "      <td>441</td>\n",
              "      <td>63</td>\n",
              "      <td>479</td>\n",
              "      <td>114</td>\n",
              "      <td>340</td>\n",
              "      <td>358</td>\n",
              "      <td>1350</td>\n",
              "      <td>116</td>\n",
              "      <td>345</td>\n",
              "      <td>242</td>\n",
              "      <td>1151</td>\n",
              "      <td>329</td>\n",
              "      <td>156</td>\n",
              "      <td>824</td>\n",
              "      <td>810</td>\n",
              "      <td>559</td>\n",
              "      <td>1702</td>\n",
              "      <td>1292</td>\n",
              "      <td>1030</td>\n",
              "      <td>766</td>\n",
              "      <td>197</td>\n",
              "      <td>766</td>\n",
              "      <td>429</td>\n",
              "      <td>116</td>\n",
              "      <td>800</td>\n",
              "      <td>1698</td>\n",
              "      <td>452</td>\n",
              "      <td>405</td>\n",
              "      <td>1163</td>\n",
              "      <td>300</td>\n",
              "      <td>380</td>\n",
              "      <td>911</td>\n",
              "      <td>152</td>\n",
              "      <td>762</td>\n",
              "      <td>88.6</td>\n",
              "      <td>1.572</td>\n",
              "      <td>35.853259</td>\n",
              "      <td>Overweight</td>\n",
              "      <td>Normal</td>\n",
              "    </tr>\n",
              "  </tbody>\n",
              "</table>\n",
              "<p>5 rows × 99 columns</p>\n",
              "</div>"
            ],
            "text/plain": [
              "                   Branch     Component  ...   BMI_class  Height_class\n",
              "0          Combat Support  Regular Army  ...  Overweight        Normal\n",
              "1  Combat Service Support  Regular Army  ...      Normal        Normal\n",
              "2  Combat Service Support  Regular Army  ...      Normal          Tall\n",
              "3  Combat Service Support  Regular Army  ...  Overweight        Normal\n",
              "4             Combat Arms  Regular Army  ...  Overweight        Normal\n",
              "\n",
              "[5 rows x 99 columns]"
            ]
          },
          "metadata": {
            "tags": []
          },
          "execution_count": 8
        }
      ]
    },
    {
      "cell_type": "code",
      "metadata": {
        "id": "RdA0qFrzl6sN",
        "colab": {
          "base_uri": "https://localhost:8080/",
          "height": 270
        },
        "outputId": "5191fd08-a73c-4258-fc69-4ec43abbdc0e"
      },
      "source": [
        "non_numeric = ['BMI_class','Height_class','Gender','Component','Branch']\n",
        "\n",
        "df_numeric = ansur_female.drop(non_numeric,axis=1)\n",
        "\n",
        "print(df_numeric.shape)\n",
        "df_numeric.head()\n"
      ],
      "execution_count": null,
      "outputs": [
        {
          "output_type": "stream",
          "text": [
            "(1986, 94)\n"
          ],
          "name": "stdout"
        },
        {
          "output_type": "execute_result",
          "data": {
            "text/html": [
              "<div>\n",
              "<style scoped>\n",
              "    .dataframe tbody tr th:only-of-type {\n",
              "        vertical-align: middle;\n",
              "    }\n",
              "\n",
              "    .dataframe tbody tr th {\n",
              "        vertical-align: top;\n",
              "    }\n",
              "\n",
              "    .dataframe thead th {\n",
              "        text-align: right;\n",
              "    }\n",
              "</style>\n",
              "<table border=\"1\" class=\"dataframe\">\n",
              "  <thead>\n",
              "    <tr style=\"text-align: right;\">\n",
              "      <th></th>\n",
              "      <th>abdominalextensiondepthsitting</th>\n",
              "      <th>acromialheight</th>\n",
              "      <th>acromionradialelength</th>\n",
              "      <th>anklecircumference</th>\n",
              "      <th>axillaheight</th>\n",
              "      <th>balloffootcircumference</th>\n",
              "      <th>balloffootlength</th>\n",
              "      <th>biacromialbreadth</th>\n",
              "      <th>bicepscircumferenceflexed</th>\n",
              "      <th>bicristalbreadth</th>\n",
              "      <th>bideltoidbreadth</th>\n",
              "      <th>bimalleolarbreadth</th>\n",
              "      <th>bitragionchinarc</th>\n",
              "      <th>bitragionsubmandibulararc</th>\n",
              "      <th>bizygomaticbreadth</th>\n",
              "      <th>buttockcircumference</th>\n",
              "      <th>buttockdepth</th>\n",
              "      <th>buttockheight</th>\n",
              "      <th>buttockkneelength</th>\n",
              "      <th>buttockpopliteallength</th>\n",
              "      <th>calfcircumference</th>\n",
              "      <th>cervicaleheight</th>\n",
              "      <th>chestbreadth</th>\n",
              "      <th>chestcircumference</th>\n",
              "      <th>chestdepth</th>\n",
              "      <th>chestheight</th>\n",
              "      <th>crotchheight</th>\n",
              "      <th>crotchlengthomphalion</th>\n",
              "      <th>crotchlengthposterioromphalion</th>\n",
              "      <th>earbreadth</th>\n",
              "      <th>earlength</th>\n",
              "      <th>earprotrusion</th>\n",
              "      <th>elbowrestheight</th>\n",
              "      <th>eyeheightsitting</th>\n",
              "      <th>footbreadthhorizontal</th>\n",
              "      <th>footlength</th>\n",
              "      <th>forearmcenterofgriplength</th>\n",
              "      <th>forearmcircumferenceflexed</th>\n",
              "      <th>forearmforearmbreadth</th>\n",
              "      <th>forearmhandlength</th>\n",
              "      <th>...</th>\n",
              "      <th>interscyeii</th>\n",
              "      <th>kneeheightmidpatella</th>\n",
              "      <th>kneeheightsitting</th>\n",
              "      <th>lateralfemoralepicondyleheight</th>\n",
              "      <th>lateralmalleolusheight</th>\n",
              "      <th>lowerthighcircumference</th>\n",
              "      <th>mentonsellionlength</th>\n",
              "      <th>neckcircumference</th>\n",
              "      <th>neckcircumferencebase</th>\n",
              "      <th>overheadfingertipreachsitting</th>\n",
              "      <th>palmlength</th>\n",
              "      <th>poplitealheight</th>\n",
              "      <th>radialestylionlength</th>\n",
              "      <th>shouldercircumference</th>\n",
              "      <th>shoulderelbowlength</th>\n",
              "      <th>shoulderlength</th>\n",
              "      <th>sittingheight</th>\n",
              "      <th>sleevelengthspinewrist</th>\n",
              "      <th>sleeveoutseam</th>\n",
              "      <th>span</th>\n",
              "      <th>suprasternaleheight</th>\n",
              "      <th>tenthribheight</th>\n",
              "      <th>thighcircumference</th>\n",
              "      <th>thighclearance</th>\n",
              "      <th>thumbtipreach</th>\n",
              "      <th>tibialheight</th>\n",
              "      <th>tragiontopofhead</th>\n",
              "      <th>trochanterionheight</th>\n",
              "      <th>verticaltrunkcircumferenceusa</th>\n",
              "      <th>waistbacklength</th>\n",
              "      <th>waistbreadth</th>\n",
              "      <th>waistcircumference</th>\n",
              "      <th>waistdepth</th>\n",
              "      <th>waistfrontlengthsitting</th>\n",
              "      <th>waistheightomphalion</th>\n",
              "      <th>wristcircumference</th>\n",
              "      <th>wristheight</th>\n",
              "      <th>weight_kg</th>\n",
              "      <th>stature_m</th>\n",
              "      <th>BMI</th>\n",
              "    </tr>\n",
              "  </thead>\n",
              "  <tbody>\n",
              "    <tr>\n",
              "      <th>0</th>\n",
              "      <td>231</td>\n",
              "      <td>1282</td>\n",
              "      <td>301</td>\n",
              "      <td>204</td>\n",
              "      <td>1180</td>\n",
              "      <td>222</td>\n",
              "      <td>177</td>\n",
              "      <td>373</td>\n",
              "      <td>315</td>\n",
              "      <td>263</td>\n",
              "      <td>466</td>\n",
              "      <td>65</td>\n",
              "      <td>338</td>\n",
              "      <td>301</td>\n",
              "      <td>141</td>\n",
              "      <td>1011</td>\n",
              "      <td>223</td>\n",
              "      <td>836</td>\n",
              "      <td>587</td>\n",
              "      <td>476</td>\n",
              "      <td>360</td>\n",
              "      <td>1336</td>\n",
              "      <td>274</td>\n",
              "      <td>922</td>\n",
              "      <td>245</td>\n",
              "      <td>1095</td>\n",
              "      <td>759</td>\n",
              "      <td>557</td>\n",
              "      <td>310</td>\n",
              "      <td>35</td>\n",
              "      <td>65</td>\n",
              "      <td>16</td>\n",
              "      <td>220</td>\n",
              "      <td>713</td>\n",
              "      <td>91</td>\n",
              "      <td>246</td>\n",
              "      <td>316</td>\n",
              "      <td>265</td>\n",
              "      <td>517</td>\n",
              "      <td>432</td>\n",
              "      <td>...</td>\n",
              "      <td>399</td>\n",
              "      <td>435</td>\n",
              "      <td>496</td>\n",
              "      <td>447</td>\n",
              "      <td>55</td>\n",
              "      <td>404</td>\n",
              "      <td>118</td>\n",
              "      <td>335</td>\n",
              "      <td>368</td>\n",
              "      <td>1268</td>\n",
              "      <td>113</td>\n",
              "      <td>362</td>\n",
              "      <td>235</td>\n",
              "      <td>1062</td>\n",
              "      <td>327</td>\n",
              "      <td>148</td>\n",
              "      <td>803</td>\n",
              "      <td>809</td>\n",
              "      <td>513</td>\n",
              "      <td>1647</td>\n",
              "      <td>1280</td>\n",
              "      <td>1013</td>\n",
              "      <td>622</td>\n",
              "      <td>174</td>\n",
              "      <td>736</td>\n",
              "      <td>430</td>\n",
              "      <td>110</td>\n",
              "      <td>844</td>\n",
              "      <td>1488</td>\n",
              "      <td>406</td>\n",
              "      <td>295</td>\n",
              "      <td>850</td>\n",
              "      <td>217</td>\n",
              "      <td>345</td>\n",
              "      <td>942</td>\n",
              "      <td>152</td>\n",
              "      <td>756</td>\n",
              "      <td>65.7</td>\n",
              "      <td>1.560</td>\n",
              "      <td>26.997041</td>\n",
              "    </tr>\n",
              "    <tr>\n",
              "      <th>1</th>\n",
              "      <td>194</td>\n",
              "      <td>1379</td>\n",
              "      <td>320</td>\n",
              "      <td>207</td>\n",
              "      <td>1292</td>\n",
              "      <td>225</td>\n",
              "      <td>178</td>\n",
              "      <td>372</td>\n",
              "      <td>272</td>\n",
              "      <td>250</td>\n",
              "      <td>430</td>\n",
              "      <td>64</td>\n",
              "      <td>294</td>\n",
              "      <td>270</td>\n",
              "      <td>126</td>\n",
              "      <td>893</td>\n",
              "      <td>186</td>\n",
              "      <td>900</td>\n",
              "      <td>583</td>\n",
              "      <td>483</td>\n",
              "      <td>350</td>\n",
              "      <td>1440</td>\n",
              "      <td>261</td>\n",
              "      <td>839</td>\n",
              "      <td>206</td>\n",
              "      <td>1234</td>\n",
              "      <td>835</td>\n",
              "      <td>549</td>\n",
              "      <td>329</td>\n",
              "      <td>32</td>\n",
              "      <td>60</td>\n",
              "      <td>23</td>\n",
              "      <td>208</td>\n",
              "      <td>726</td>\n",
              "      <td>91</td>\n",
              "      <td>249</td>\n",
              "      <td>341</td>\n",
              "      <td>247</td>\n",
              "      <td>468</td>\n",
              "      <td>463</td>\n",
              "      <td>...</td>\n",
              "      <td>375</td>\n",
              "      <td>483</td>\n",
              "      <td>532</td>\n",
              "      <td>492</td>\n",
              "      <td>69</td>\n",
              "      <td>334</td>\n",
              "      <td>115</td>\n",
              "      <td>302</td>\n",
              "      <td>345</td>\n",
              "      <td>1389</td>\n",
              "      <td>110</td>\n",
              "      <td>426</td>\n",
              "      <td>259</td>\n",
              "      <td>1014</td>\n",
              "      <td>346</td>\n",
              "      <td>142</td>\n",
              "      <td>835</td>\n",
              "      <td>810</td>\n",
              "      <td>575</td>\n",
              "      <td>1751</td>\n",
              "      <td>1372</td>\n",
              "      <td>1107</td>\n",
              "      <td>524</td>\n",
              "      <td>152</td>\n",
              "      <td>771</td>\n",
              "      <td>475</td>\n",
              "      <td>125</td>\n",
              "      <td>901</td>\n",
              "      <td>1470</td>\n",
              "      <td>422</td>\n",
              "      <td>254</td>\n",
              "      <td>708</td>\n",
              "      <td>168</td>\n",
              "      <td>329</td>\n",
              "      <td>1032</td>\n",
              "      <td>155</td>\n",
              "      <td>815</td>\n",
              "      <td>53.4</td>\n",
              "      <td>1.665</td>\n",
              "      <td>19.262506</td>\n",
              "    </tr>\n",
              "    <tr>\n",
              "      <th>2</th>\n",
              "      <td>183</td>\n",
              "      <td>1369</td>\n",
              "      <td>329</td>\n",
              "      <td>233</td>\n",
              "      <td>1271</td>\n",
              "      <td>237</td>\n",
              "      <td>196</td>\n",
              "      <td>397</td>\n",
              "      <td>300</td>\n",
              "      <td>276</td>\n",
              "      <td>450</td>\n",
              "      <td>69</td>\n",
              "      <td>309</td>\n",
              "      <td>270</td>\n",
              "      <td>128</td>\n",
              "      <td>987</td>\n",
              "      <td>204</td>\n",
              "      <td>861</td>\n",
              "      <td>583</td>\n",
              "      <td>466</td>\n",
              "      <td>384</td>\n",
              "      <td>1451</td>\n",
              "      <td>287</td>\n",
              "      <td>874</td>\n",
              "      <td>223</td>\n",
              "      <td>1226</td>\n",
              "      <td>821</td>\n",
              "      <td>643</td>\n",
              "      <td>374</td>\n",
              "      <td>36</td>\n",
              "      <td>65</td>\n",
              "      <td>26</td>\n",
              "      <td>204</td>\n",
              "      <td>790</td>\n",
              "      <td>100</td>\n",
              "      <td>265</td>\n",
              "      <td>343</td>\n",
              "      <td>262</td>\n",
              "      <td>488</td>\n",
              "      <td>469</td>\n",
              "      <td>...</td>\n",
              "      <td>399</td>\n",
              "      <td>470</td>\n",
              "      <td>530</td>\n",
              "      <td>469</td>\n",
              "      <td>64</td>\n",
              "      <td>401</td>\n",
              "      <td>135</td>\n",
              "      <td>325</td>\n",
              "      <td>369</td>\n",
              "      <td>1414</td>\n",
              "      <td>122</td>\n",
              "      <td>398</td>\n",
              "      <td>258</td>\n",
              "      <td>1049</td>\n",
              "      <td>362</td>\n",
              "      <td>164</td>\n",
              "      <td>904</td>\n",
              "      <td>855</td>\n",
              "      <td>568</td>\n",
              "      <td>1779</td>\n",
              "      <td>1383</td>\n",
              "      <td>1089</td>\n",
              "      <td>577</td>\n",
              "      <td>164</td>\n",
              "      <td>814</td>\n",
              "      <td>458</td>\n",
              "      <td>129</td>\n",
              "      <td>882</td>\n",
              "      <td>1542</td>\n",
              "      <td>419</td>\n",
              "      <td>269</td>\n",
              "      <td>727</td>\n",
              "      <td>159</td>\n",
              "      <td>367</td>\n",
              "      <td>1035</td>\n",
              "      <td>162</td>\n",
              "      <td>799</td>\n",
              "      <td>66.3</td>\n",
              "      <td>1.711</td>\n",
              "      <td>22.647148</td>\n",
              "    </tr>\n",
              "    <tr>\n",
              "      <th>3</th>\n",
              "      <td>261</td>\n",
              "      <td>1356</td>\n",
              "      <td>306</td>\n",
              "      <td>214</td>\n",
              "      <td>1250</td>\n",
              "      <td>240</td>\n",
              "      <td>188</td>\n",
              "      <td>384</td>\n",
              "      <td>364</td>\n",
              "      <td>276</td>\n",
              "      <td>484</td>\n",
              "      <td>68</td>\n",
              "      <td>340</td>\n",
              "      <td>294</td>\n",
              "      <td>144</td>\n",
              "      <td>1012</td>\n",
              "      <td>253</td>\n",
              "      <td>897</td>\n",
              "      <td>599</td>\n",
              "      <td>471</td>\n",
              "      <td>372</td>\n",
              "      <td>1430</td>\n",
              "      <td>269</td>\n",
              "      <td>1008</td>\n",
              "      <td>285</td>\n",
              "      <td>1170</td>\n",
              "      <td>804</td>\n",
              "      <td>640</td>\n",
              "      <td>351</td>\n",
              "      <td>38</td>\n",
              "      <td>62</td>\n",
              "      <td>22</td>\n",
              "      <td>244</td>\n",
              "      <td>775</td>\n",
              "      <td>97</td>\n",
              "      <td>265</td>\n",
              "      <td>331</td>\n",
              "      <td>309</td>\n",
              "      <td>529</td>\n",
              "      <td>455</td>\n",
              "      <td>...</td>\n",
              "      <td>435</td>\n",
              "      <td>469</td>\n",
              "      <td>520</td>\n",
              "      <td>478</td>\n",
              "      <td>67</td>\n",
              "      <td>402</td>\n",
              "      <td>118</td>\n",
              "      <td>357</td>\n",
              "      <td>386</td>\n",
              "      <td>1329</td>\n",
              "      <td>115</td>\n",
              "      <td>394</td>\n",
              "      <td>250</td>\n",
              "      <td>1121</td>\n",
              "      <td>333</td>\n",
              "      <td>157</td>\n",
              "      <td>875</td>\n",
              "      <td>815</td>\n",
              "      <td>536</td>\n",
              "      <td>1708</td>\n",
              "      <td>1358</td>\n",
              "      <td>1065</td>\n",
              "      <td>679</td>\n",
              "      <td>187</td>\n",
              "      <td>736</td>\n",
              "      <td>463</td>\n",
              "      <td>125</td>\n",
              "      <td>866</td>\n",
              "      <td>1627</td>\n",
              "      <td>451</td>\n",
              "      <td>302</td>\n",
              "      <td>923</td>\n",
              "      <td>235</td>\n",
              "      <td>371</td>\n",
              "      <td>999</td>\n",
              "      <td>173</td>\n",
              "      <td>818</td>\n",
              "      <td>78.2</td>\n",
              "      <td>1.660</td>\n",
              "      <td>28.378575</td>\n",
              "    </tr>\n",
              "    <tr>\n",
              "      <th>4</th>\n",
              "      <td>309</td>\n",
              "      <td>1303</td>\n",
              "      <td>308</td>\n",
              "      <td>214</td>\n",
              "      <td>1210</td>\n",
              "      <td>217</td>\n",
              "      <td>182</td>\n",
              "      <td>378</td>\n",
              "      <td>320</td>\n",
              "      <td>336</td>\n",
              "      <td>525</td>\n",
              "      <td>67</td>\n",
              "      <td>300</td>\n",
              "      <td>295</td>\n",
              "      <td>135</td>\n",
              "      <td>1281</td>\n",
              "      <td>284</td>\n",
              "      <td>811</td>\n",
              "      <td>607</td>\n",
              "      <td>467</td>\n",
              "      <td>433</td>\n",
              "      <td>1362</td>\n",
              "      <td>305</td>\n",
              "      <td>1089</td>\n",
              "      <td>290</td>\n",
              "      <td>1112</td>\n",
              "      <td>726</td>\n",
              "      <td>686</td>\n",
              "      <td>356</td>\n",
              "      <td>34</td>\n",
              "      <td>65</td>\n",
              "      <td>18</td>\n",
              "      <td>233</td>\n",
              "      <td>732</td>\n",
              "      <td>88</td>\n",
              "      <td>247</td>\n",
              "      <td>339</td>\n",
              "      <td>260</td>\n",
              "      <td>596</td>\n",
              "      <td>447</td>\n",
              "      <td>...</td>\n",
              "      <td>435</td>\n",
              "      <td>440</td>\n",
              "      <td>491</td>\n",
              "      <td>441</td>\n",
              "      <td>63</td>\n",
              "      <td>479</td>\n",
              "      <td>114</td>\n",
              "      <td>340</td>\n",
              "      <td>358</td>\n",
              "      <td>1350</td>\n",
              "      <td>116</td>\n",
              "      <td>345</td>\n",
              "      <td>242</td>\n",
              "      <td>1151</td>\n",
              "      <td>329</td>\n",
              "      <td>156</td>\n",
              "      <td>824</td>\n",
              "      <td>810</td>\n",
              "      <td>559</td>\n",
              "      <td>1702</td>\n",
              "      <td>1292</td>\n",
              "      <td>1030</td>\n",
              "      <td>766</td>\n",
              "      <td>197</td>\n",
              "      <td>766</td>\n",
              "      <td>429</td>\n",
              "      <td>116</td>\n",
              "      <td>800</td>\n",
              "      <td>1698</td>\n",
              "      <td>452</td>\n",
              "      <td>405</td>\n",
              "      <td>1163</td>\n",
              "      <td>300</td>\n",
              "      <td>380</td>\n",
              "      <td>911</td>\n",
              "      <td>152</td>\n",
              "      <td>762</td>\n",
              "      <td>88.6</td>\n",
              "      <td>1.572</td>\n",
              "      <td>35.853259</td>\n",
              "    </tr>\n",
              "  </tbody>\n",
              "</table>\n",
              "<p>5 rows × 94 columns</p>\n",
              "</div>"
            ],
            "text/plain": [
              "   abdominalextensiondepthsitting  acromialheight  ...  stature_m        BMI\n",
              "0                             231            1282  ...      1.560  26.997041\n",
              "1                             194            1379  ...      1.665  19.262506\n",
              "2                             183            1369  ...      1.711  22.647148\n",
              "3                             261            1356  ...      1.660  28.378575\n",
              "4                             309            1303  ...      1.572  35.853259\n",
              "\n",
              "[5 rows x 94 columns]"
            ]
          },
          "metadata": {
            "tags": []
          },
          "execution_count": 9
        }
      ]
    },
    {
      "cell_type": "markdown",
      "metadata": {
        "id": "3FLiZKoPm6Xm"
      },
      "source": [
        " Usually learning rates between 10 and 1000 range\n",
        "\n",
        " tsne will project our high-dimensional dataset onto a NumPy array with two dimensions"
      ]
    },
    {
      "cell_type": "code",
      "metadata": {
        "id": "nrUyWG24msXr"
      },
      "source": [
        "from sklearn.manifold import TSNE\n",
        "\n",
        "m = TSNE(learning_rate=50)\n",
        "\n",
        "tsne_features = m.fit_transform(df_numeric)\n",
        "\n",
        "#tsne will project our high-dimensional dataset onto a NumPy array with two dimensions\n",
        "tsne_features[1:4,:]\n",
        "\n",
        "df_numeric['x'] = tsne_features[:,0]\n",
        "df_numeric['y'] = tsne_features[:,1]\n"
      ],
      "execution_count": null,
      "outputs": []
    },
    {
      "cell_type": "code",
      "metadata": {
        "id": "sbJ6uC4houx2",
        "colab": {
          "base_uri": "https://localhost:8080/",
          "height": 333
        },
        "outputId": "f9e869e0-085f-4198-c63b-3792f544d19a"
      },
      "source": [
        "import seaborn as sns\n",
        "import matplotlib.pyplot as plt\n",
        "\n",
        "sns.scatterplot(x='x',y='y',data=df_numeric)\n",
        "plt.show()\n",
        "\n",
        "# we see a huge and only cluster using only numerical features.\n",
        "# Maybe adding columns like BMI_class to the dataset will sepparate values as classes"
      ],
      "execution_count": null,
      "outputs": [
        {
          "output_type": "stream",
          "text": [
            "/usr/local/lib/python3.6/dist-packages/statsmodels/tools/_testing.py:19: FutureWarning: pandas.util.testing is deprecated. Use the functions in the public API at pandas.testing instead.\n",
            "  import pandas.util.testing as tm\n"
          ],
          "name": "stderr"
        },
        {
          "output_type": "display_data",
          "data": {
            "image/png": "[encoded data removed]",
            "text/plain": [
              "<Figure size 432x288 with 1 Axes>"
            ]
          },
          "metadata": {
            "tags": [],
            "needs_background": "light"
          }
        }
      ]
    },
    {
      "cell_type": "markdown",
      "metadata": {
        "id": "tKD-G_uwr2WZ"
      },
      "source": [
        "Df with BMI"
      ]
    },
    {
      "cell_type": "code",
      "metadata": {
        "id": "a_IzENKRpct2",
        "colab": {
          "base_uri": "https://localhost:8080/",
          "height": 279
        },
        "outputId": "23a8bcd0-a98b-4ae1-d08f-ded08ac42f52"
      },
      "source": [
        "df_bmi = pd.read_csv('https://assets.datacamp.com/production/repositories/3515/datasets/802fc5cdbe3a29248483e496a966627ea9629e7a/ANSUR_II_FEMALE.csv')\n",
        "non_numeric = ['Gender','Component','Branch']\n",
        "\n",
        "df_bmi  = ansur_female.drop(non_numeric,axis=1)\n",
        "\n",
        "from sklearn.manifold import TSNE\n",
        "\n",
        "m = TSNE(learning_rate=50)\n",
        "\n",
        "tsne_features = m.fit_transform(df_numeric)\n",
        "\n",
        "#tsne will project our high-dimensional dataset onto a NumPy array with two dimensions\n",
        "tsne_features[1:4,:]\n",
        "\n",
        "df_bmi['x'] = tsne_features[:,0]\n",
        "df_bmi['y'] = tsne_features[:,1]\n",
        "\n",
        "sns.scatterplot(x='x',y='y',hue='BMI_class',data=df_bmi)\n",
        "plt.show()"
      ],
      "execution_count": null,
      "outputs": [
        {
          "output_type": "display_data",
          "data": {
            "image/png": "[encoded data removed]",
            "text/plain": [
              "<Figure size 432x288 with 1 Axes>"
            ]
          },
          "metadata": {
            "tags": [],
            "needs_background": "light"
          }
        }
      ]
    },
    {
      "cell_type": "code",
      "metadata": {
        "id": "6ThvdGOhsZF7",
        "colab": {
          "base_uri": "https://localhost:8080/",
          "height": 279
        },
        "outputId": "c76f0051-30f8-4fa7-80d0-d78d0978726c"
      },
      "source": [
        "sns.scatterplot(x='x',y='y',hue='Height_class',data=df_bmi)\n",
        "plt.show()"
      ],
      "execution_count": null,
      "outputs": [
        {
          "output_type": "display_data",
          "data": {
            "image/png": "[encoded data removed]",
            "text/plain": [
              "<Figure size 432x288 with 1 Axes>"
            ]
          },
          "metadata": {
            "tags": [],
            "needs_background": "light"
          }
        }
      ]
    },
    {
      "cell_type": "markdown",
      "metadata": {
        "id": "skAVR_-WvMvK"
      },
      "source": [
        "## Model tend to overfit badly on high-dimensional data\n",
        "\n",
        "Try to detect low quality features and drop them (Feature selection)\n",
        "In fact, every time a dataset has one more feature it should have exponentially more samples to prevent overfitting.\n",
        "\n",
        "This fenomenon is called curse of dimensionality. If you don't have many observations, it is crucial to apply dimensionality reduction. \n"
      ]
    },
    {
      "cell_type": "code",
      "metadata": {
        "id": "kuCwWbT_xRjQ",
        "colab": {
          "base_uri": "https://localhost:8080/",
          "height": 68
        },
        "outputId": "c197724e-21c7-4e1e-902e-db60c47c9853"
      },
      "source": [
        "# Work with ANSUR data of male and female together\n",
        "\n",
        "# We will try to predict GENDER\n",
        "\n",
        "import pandas as pd\n",
        "\n",
        "# Dataset \n",
        "\n",
        "ansur_female = pd.read_csv('https://assets.datacamp.com/production/repositories/3515/datasets/802fc5cdbe3a29248483e496a966627ea9629e7a/ANSUR_II_FEMALE.csv')\n",
        "ansur_male = pd.read_csv('https://assets.datacamp.com/production/repositories/3515/datasets/28edd853c0a6aa7316b0d84a21f8e0d821e5010d/ANSUR_II_MALE.csv')\n",
        "\n",
        "display(ansur_female.shape)\n",
        "display(ansur_male.shape)\n",
        "\n",
        "ansur_df = pd.concat([ansur_female,ansur_male])\n",
        "ansur_df.shape"
      ],
      "execution_count": null,
      "outputs": [
        {
          "output_type": "display_data",
          "data": {
            "text/plain": [
              "(1986, 99)"
            ]
          },
          "metadata": {
            "tags": []
          }
        },
        {
          "output_type": "display_data",
          "data": {
            "text/plain": [
              "(4082, 99)"
            ]
          },
          "metadata": {
            "tags": []
          }
        },
        {
          "output_type": "execute_result",
          "data": {
            "text/plain": [
              "(6068, 99)"
            ]
          },
          "metadata": {
            "tags": []
          },
          "execution_count": 12
        }
      ]
    },
    {
      "cell_type": "code",
      "metadata": {
        "id": "eJsXuc6S2in7"
      },
      "source": [
        "non_numeric = ['BMI_class','Height_class','Component','Branch']\n",
        "ansur_df = pd.get_dummies(data= ansur_df, columns=non_numeric)\n"
      ],
      "execution_count": null,
      "outputs": []
    },
    {
      "cell_type": "code",
      "metadata": {
        "id": "2IDAtHxK31kC",
        "colab": {
          "base_uri": "https://localhost:8080/",
          "height": 34
        },
        "outputId": "1cf8d654-e62e-43e7-e554-643ff35fd1c6"
      },
      "source": [
        "ansur_df.shape\n"
      ],
      "execution_count": null,
      "outputs": [
        {
          "output_type": "execute_result",
          "data": {
            "text/plain": [
              "(6068, 107)"
            ]
          },
          "metadata": {
            "tags": []
          },
          "execution_count": 14
        }
      ]
    },
    {
      "cell_type": "code",
      "metadata": {
        "id": "0EUZ2JpUwJOq",
        "colab": {
          "base_uri": "https://localhost:8080/",
          "height": 34
        },
        "outputId": "5db86cec-d11d-4b51-dd25-60b567ecb31a"
      },
      "source": [
        "# Import train_test_split()\n",
        "from sklearn.model_selection import train_test_split\n",
        "\n",
        "# Select the Gender column as the feature to be predicted (y)\n",
        "y = ansur_df['Gender']\n",
        "\n",
        "# Remove the Gender column to create the training data\n",
        "X = ansur_df.drop('Gender', axis=1)\n",
        "\n",
        "# Perform a 70% train and 30% test data split\n",
        "X_train, X_test, y_train, y_test = train_test_split(X, y, test_size=0.3)\n",
        "\n",
        "print(\"{} rows in test set vs. {} in training set. {} Features.\".format(X_test.shape[0], X_train.shape[0], X_test.shape[1]))"
      ],
      "execution_count": null,
      "outputs": [
        {
          "output_type": "stream",
          "text": [
            "1821 rows in test set vs. 4247 in training set. 106 Features.\n"
          ],
          "name": "stdout"
        }
      ]
    },
    {
      "cell_type": "code",
      "metadata": {
        "id": "uWUq5XuG1INX",
        "colab": {
          "base_uri": "https://localhost:8080/",
          "height": 34
        },
        "outputId": "d2637a8c-1b97-41a4-c895-985c6245c624"
      },
      "source": [
        "# Import SVC from sklearn.svm and accuracy_score from sklearn.metrics\n",
        "from sklearn.svm import SVC\n",
        "from sklearn.metrics import accuracy_score\n",
        "\n",
        "# Create an instance of the Support Vector Classification class\n",
        "svc = SVC()\n",
        "\n",
        "# Fit the model to the training data\n",
        "svc.fit(X_train, y_train)\n",
        "\n",
        "# Calculate accuracy scores on both train and test data\n",
        "accuracy_train = accuracy_score(y_train, svc.predict(X_train))\n",
        "accuracy_test = accuracy_score(y_test, svc.predict(X_test))\n",
        "\n",
        "print(\"{0:.1%} accuracy on test set vs. {1:.1%} on training set\".format(accuracy_test, accuracy_train))"
      ],
      "execution_count": null,
      "outputs": [
        {
          "output_type": "stream",
          "text": [
            "98.5% accuracy on test set vs. 99.0% on training set\n"
          ],
          "name": "stdout"
        }
      ]
    },
    {
      "cell_type": "markdown",
      "metadata": {
        "id": "04I6hBmx4KaR"
      },
      "source": [
        "## Accuracy after dimensionality reduction\n",
        "\n",
        "Here we are computing a model SVC with all rows that are more than 6000. In Datacamp it computes with only 1000 therefore the model got overfitted.\n",
        "\n",
        "Will proceed with dimensionality reduction to create a more accurate model.\n",
        "\n",
        "The model badly overfits when we feed it too many features. e.g. it overlooks that neck circumference by itself is pretty different for males and females.\n",
        "With neck circumference a model prediction on 1000 observation has an accuracy of 93.3%\n"
      ]
    },
    {
      "cell_type": "markdown",
      "metadata": {
        "id": "59R2tuFF5YrL"
      },
      "source": [
        "# Dropping Features with missing values or little variance\n",
        "\n",
        "Low variance features are so similar between different observations that they may contain little information to use in analysis.\n",
        "\n",
        "There is a sklearn tool called VarianceThreshold()*texto en cursiva*\n"
      ]
    },
    {
      "cell_type": "markdown",
      "metadata": {
        "id": "dkfkAMaIBxJm"
      },
      "source": [
        "## Little Variance on Features"
      ]
    },
    {
      "cell_type": "code",
      "metadata": {
        "id": "87iORPwf6tLY",
        "colab": {
          "base_uri": "https://localhost:8080/",
          "height": 238
        },
        "outputId": "adabfc08-2484-420f-f0ef-a8f1f6004fab"
      },
      "source": [
        "import pandas as pd\n",
        "from sklearn.feature_selection import VarianceThreshold\n",
        "\n",
        "# Dataset \n",
        "\n",
        "ansur_female = pd.read_csv('https://assets.datacamp.com/production/repositories/3515/datasets/802fc5cdbe3a29248483e496a966627ea9629e7a/ANSUR_II_FEMALE.csv')\n",
        "ansur_male = pd.read_csv('https://assets.datacamp.com/production/repositories/3515/datasets/28edd853c0a6aa7316b0d84a21f8e0d821e5010d/ANSUR_II_MALE.csv')\n",
        "ansur_df = pd.concat([ansur_female,ansur_male])\n",
        "print(ansur_df.shape)\n",
        "\n",
        "non_numeric = ['BMI_class','Gender','Height_class','Component','Branch']\n",
        "\n",
        "ansur_categorical = ansur_df[non_numeric]\n",
        "ansur_numeric = ansur_df.drop(non_numeric,axis=1)\n",
        "\n",
        "# Normalize just dividing mean, we want variance to keep the same not reduced like standization\n",
        "normalized_df = ansur_numeric/ansur_numeric.mean()\n",
        "\n",
        "print(normalized_df.var())\n"
      ],
      "execution_count": null,
      "outputs": [
        {
          "output_type": "stream",
          "text": [
            "(6068, 99)\n",
            "abdominalextensiondepthsitting    0.023026\n",
            "acromialheight                    0.003164\n",
            "acromionradialelength             0.004006\n",
            "anklecircumference                0.005095\n",
            "axillaheight                      0.003071\n",
            "                                    ...   \n",
            "wristcircumference                0.006031\n",
            "wristheight                       0.003295\n",
            "weight_kg                         0.038563\n",
            "stature_m                         0.002757\n",
            "BMI                               0.022027\n",
            "Length: 94, dtype: float64\n"
          ],
          "name": "stdout"
        }
      ]
    },
    {
      "cell_type": "code",
      "metadata": {
        "id": "4k9ROg0MDV5s",
        "colab": {
          "base_uri": "https://localhost:8080/",
          "height": 170
        },
        "outputId": "93262711-bf0a-46c5-d20d-65673c71b45c"
      },
      "source": [
        "# Select a VarianceThreshold of 0.005.\n",
        "# The variance we ask in threshold is really low because data is NORMALIZED\n",
        "sel = VarianceThreshold(threshold=0.005) # Variance of 0.005 \n",
        "\n",
        "sel.fit(normalized_df)\n",
        "\n",
        "# we create a mask of the feature that has variance above 1.\n",
        "# we can feature select with the .loc method\n",
        "mask = sel.get_support()\n",
        "print(mask)\n",
        "# we can feature select with the .loc method\n",
        "reduced_df = ansur_numeric.loc[:,mask]\n",
        "\n",
        "print(\"Dimensionality reduced from {} to {}.\".format(ansur_numeric.shape[1], reduced_df.shape[1]))"
      ],
      "execution_count": null,
      "outputs": [
        {
          "output_type": "stream",
          "text": [
            "[ True False False  True False False False  True  True False  True  True\n",
            " False False False  True  True False False False  True False  True  True\n",
            "  True False False  True  True  True  True  True  True False False False\n",
            " False  True  True False False  True  True False False False False False\n",
            "  True  True  True False False  True  True False False False  True  True\n",
            " False  True  True False False  True  True  True False  True False False\n",
            " False False False False  True  True False False False False False  True\n",
            "  True  True  True  True False  True False  True False  True]\n",
            "Dimensionality reduced from 94 to 45.\n"
          ],
          "name": "stdout"
        }
      ]
    },
    {
      "cell_type": "code",
      "metadata": {
        "id": "_wxC6b52_S-e",
        "colab": {
          "base_uri": "https://localhost:8080/",
          "height": 34
        },
        "outputId": "ef05a135-2057-4ad4-ba69-b3c54f959f5c"
      },
      "source": [
        "df = pd.concat([reduced_df,ansur_categorical],axis=1)\n",
        "df.shape"
      ],
      "execution_count": null,
      "outputs": [
        {
          "output_type": "execute_result",
          "data": {
            "text/plain": [
              "(6068, 50)"
            ]
          },
          "metadata": {
            "tags": []
          },
          "execution_count": 22
        }
      ]
    },
    {
      "cell_type": "markdown",
      "metadata": {
        "id": "c2zmGOx-B1Wt"
      },
      "source": [
        "## Features with missing values"
      ]
    },
    {
      "cell_type": "markdown",
      "metadata": {
        "id": "Nx6B2DXYGo7k"
      },
      "source": [
        "When a high % of observations has NaN on that feature. It's better to drop it."
      ]
    },
    {
      "cell_type": "code",
      "metadata": {
        "id": "iuhRz8XyAEcf",
        "colab": {
          "base_uri": "https://localhost:8080/",
          "height": 425
        },
        "outputId": "035a740e-aa11-4b2a-b7eb-2f68a71c32d9"
      },
      "source": [
        "#  Identify Nan with boolean\n",
        "\n",
        "# Adds all NaN values in a column.\n",
        "display(ansur_df.isna().sum())\n",
        "\n",
        "# Shows ratio of missing values by total observations\n",
        "display(ansur_df.isna().sum() / len(ansur_df))"
      ],
      "execution_count": null,
      "outputs": [
        {
          "output_type": "display_data",
          "data": {
            "text/plain": [
              "Branch                            0\n",
              "Component                         0\n",
              "Gender                            0\n",
              "abdominalextensiondepthsitting    0\n",
              "acromialheight                    0\n",
              "                                 ..\n",
              "weight_kg                         0\n",
              "stature_m                         0\n",
              "BMI                               0\n",
              "BMI_class                         0\n",
              "Height_class                      0\n",
              "Length: 99, dtype: int64"
            ]
          },
          "metadata": {
            "tags": []
          }
        },
        {
          "output_type": "display_data",
          "data": {
            "text/plain": [
              "Branch                            0.0\n",
              "Component                         0.0\n",
              "Gender                            0.0\n",
              "abdominalextensiondepthsitting    0.0\n",
              "acromialheight                    0.0\n",
              "                                 ... \n",
              "weight_kg                         0.0\n",
              "stature_m                         0.0\n",
              "BMI                               0.0\n",
              "BMI_class                         0.0\n",
              "Height_class                      0.0\n",
              "Length: 99, dtype: float64"
            ]
          },
          "metadata": {
            "tags": []
          }
        }
      ]
    },
    {
      "cell_type": "markdown",
      "metadata": {
        "id": "YiFkniHSHc3y"
      },
      "source": [
        "Let's say we have some feature that have more than x% of observations as NaN values\n"
      ]
    },
    {
      "cell_type": "code",
      "metadata": {
        "id": "VOVpG-nfG_Rt"
      },
      "source": [
        "# Create a boolean mask on whether each feature less than 50% missing values.\n",
        "mask = df.isna().sum() / len(df) < 0.5\n",
        "\n",
        "# Create a reduced dataset by applying the mask\n",
        "reduced_df = df.loc[:,mask]\n",
        "\n",
        "print(df.shape)\n",
        "print(reduced_df.shape)\n"
      ],
      "execution_count": null,
      "outputs": []
    },
    {
      "cell_type": "markdown",
      "metadata": {
        "id": "Bl8EZ3djH2un"
      },
      "source": [
        "## Correlation between features (Pairwise correlation)"
      ]
    },
    {
      "cell_type": "markdown",
      "metadata": {
        "id": "YlxdylX6IAT4"
      },
      "source": [
        "We can see correlation between features in sns.pairplot, but we don't know the actual correlation value.\n",
        "\n",
        "Pearson correlation between -1 and 1.\n",
        " 0 no correlation at all.\n",
        "\n",
        "In the correlation matrix we need to look at the peaston correlation that is near 1 (without looking at the correlation of 1 of the diagonal)"
      ]
    },
    {
      "cell_type": "markdown",
      "metadata": {
        "id": "jYVrC1rEJqky"
      },
      "source": [
        "### Correlation Matrix"
      ]
    },
    {
      "cell_type": "markdown",
      "metadata": {
        "id": "oJIWr7pvNRWv"
      },
      "source": [
        "Here we are going to only filter by some features because we have 90."
      ]
    },
    {
      "cell_type": "code",
      "metadata": {
        "id": "LIxVPz62H9wc",
        "colab": {
          "base_uri": "https://localhost:8080/",
          "height": 204
        },
        "outputId": "14e7a88c-f011-466f-9e29-bb4eb1dd0c89"
      },
      "source": [
        "# Display what is called 'Correlation Matrix'\n",
        "df = ansur_df.loc[:,['elbowrestheight', 'wristcircumference', 'anklecircumference', 'buttockheight', 'crotchheight']]\n",
        "df.corr()"
      ],
      "execution_count": null,
      "outputs": [
        {
          "output_type": "execute_result",
          "data": {
            "text/html": [
              "<div>\n",
              "<style scoped>\n",
              "    .dataframe tbody tr th:only-of-type {\n",
              "        vertical-align: middle;\n",
              "    }\n",
              "\n",
              "    .dataframe tbody tr th {\n",
              "        vertical-align: top;\n",
              "    }\n",
              "\n",
              "    .dataframe thead th {\n",
              "        text-align: right;\n",
              "    }\n",
              "</style>\n",
              "<table border=\"1\" class=\"dataframe\">\n",
              "  <thead>\n",
              "    <tr style=\"text-align: right;\">\n",
              "      <th></th>\n",
              "      <th>elbowrestheight</th>\n",
              "      <th>wristcircumference</th>\n",
              "      <th>anklecircumference</th>\n",
              "      <th>buttockheight</th>\n",
              "      <th>crotchheight</th>\n",
              "    </tr>\n",
              "  </thead>\n",
              "  <tbody>\n",
              "    <tr>\n",
              "      <th>elbowrestheight</th>\n",
              "      <td>1.000000</td>\n",
              "      <td>0.294753</td>\n",
              "      <td>0.301963</td>\n",
              "      <td>-0.007013</td>\n",
              "      <td>-0.026090</td>\n",
              "    </tr>\n",
              "    <tr>\n",
              "      <th>wristcircumference</th>\n",
              "      <td>0.294753</td>\n",
              "      <td>1.000000</td>\n",
              "      <td>0.702178</td>\n",
              "      <td>0.576679</td>\n",
              "      <td>0.606582</td>\n",
              "    </tr>\n",
              "    <tr>\n",
              "      <th>anklecircumference</th>\n",
              "      <td>0.301963</td>\n",
              "      <td>0.702178</td>\n",
              "      <td>1.000000</td>\n",
              "      <td>0.367548</td>\n",
              "      <td>0.386502</td>\n",
              "    </tr>\n",
              "    <tr>\n",
              "      <th>buttockheight</th>\n",
              "      <td>-0.007013</td>\n",
              "      <td>0.576679</td>\n",
              "      <td>0.367548</td>\n",
              "      <td>1.000000</td>\n",
              "      <td>0.929411</td>\n",
              "    </tr>\n",
              "    <tr>\n",
              "      <th>crotchheight</th>\n",
              "      <td>-0.026090</td>\n",
              "      <td>0.606582</td>\n",
              "      <td>0.386502</td>\n",
              "      <td>0.929411</td>\n",
              "      <td>1.000000</td>\n",
              "    </tr>\n",
              "  </tbody>\n",
              "</table>\n",
              "</div>"
            ],
            "text/plain": [
              "                    elbowrestheight  ...  crotchheight\n",
              "elbowrestheight            1.000000  ...     -0.026090\n",
              "wristcircumference         0.294753  ...      0.606582\n",
              "anklecircumference         0.301963  ...      0.386502\n",
              "buttockheight             -0.007013  ...      0.929411\n",
              "crotchheight              -0.026090  ...      1.000000\n",
              "\n",
              "[5 rows x 5 columns]"
            ]
          },
          "metadata": {
            "tags": []
          },
          "execution_count": 23
        }
      ]
    },
    {
      "cell_type": "markdown",
      "metadata": {
        "id": "uqyJLwW-JsYi"
      },
      "source": [
        "### Seaborn HeatMap function\n"
      ]
    },
    {
      "cell_type": "code",
      "metadata": {
        "id": "DUpZpeucJ52m",
        "colab": {
          "base_uri": "https://localhost:8080/",
          "height": 354
        },
        "outputId": "2c534160-d307-4f41-9778-2198dd009e50"
      },
      "source": [
        "import numpy as np\n",
        "\n",
        "corr = df.corr()\n",
        "\n",
        "# Let's make a mask to ignore identity and upper triangle duplicate values.\n",
        "# triu comes for uppertriangle\n",
        "mask = np.triu(np.ones_like(corr,dtype=bool))\n",
        "\n",
        "cmap = sns.diverging_palette(h_neg=10,h_pos=240,as_cmap=True)\n",
        "\n",
        "sns.heatmap(corr,mask=mask,center=0, cmap=cmap, linewidths=1,annot=True,fmt='.2f')\n",
        "plt.show()"
      ],
      "execution_count": null,
      "outputs": [
        {
          "output_type": "display_data",
          "data": {
            "image/png": "[encoded data removed]",
            "text/plain": [
              "<Figure size 432x288 with 2 Axes>"
            ]
          },
          "metadata": {
            "tags": [],
            "needs_background": "light"
          }
        }
      ]
    },
    {
      "cell_type": "markdown",
      "metadata": {
        "id": "BMGilTFFNd1n"
      },
      "source": [
        "### Removing highly correlated features manually"
      ]
    },
    {
      "cell_type": "markdown",
      "metadata": {
        "id": "-TwfNFinjSV1"
      },
      "source": [
        "here we are going to filter and drop one of each pair of features that has correlation near -1 or 1\n",
        "\n",
        "Be careful about droping features. You need to have a good understanding of the data set, furthermore remember that pearson correlation only works for linear relationships. Vizually check your data\n",
        "\n",
        "But never misunderstand correlation vs causation. Correlation doesn't mean causation. e.g. pool drownings and nuclear energy 0.9 correlation. "
      ]
    },
    {
      "cell_type": "code",
      "metadata": {
        "id": "Sc2mZMnOmMPg",
        "colab": {
          "base_uri": "https://localhost:8080/",
          "height": 389
        },
        "outputId": "c7be0f74-46b3-4b13-bff8-1f2b6a6f9157"
      },
      "source": [
        "# we are going to use ANSUR male\n",
        "print(ansur_male.shape)\n",
        "ansur_male.head()"
      ],
      "execution_count": null,
      "outputs": [
        {
          "output_type": "stream",
          "text": [
            "(4082, 99)\n"
          ],
          "name": "stdout"
        },
        {
          "output_type": "execute_result",
          "data": {
            "text/html": [
              "<div>\n",
              "<style scoped>\n",
              "    .dataframe tbody tr th:only-of-type {\n",
              "        vertical-align: middle;\n",
              "    }\n",
              "\n",
              "    .dataframe tbody tr th {\n",
              "        vertical-align: top;\n",
              "    }\n",
              "\n",
              "    .dataframe thead th {\n",
              "        text-align: right;\n",
              "    }\n",
              "</style>\n",
              "<table border=\"1\" class=\"dataframe\">\n",
              "  <thead>\n",
              "    <tr style=\"text-align: right;\">\n",
              "      <th></th>\n",
              "      <th>Branch</th>\n",
              "      <th>Component</th>\n",
              "      <th>Gender</th>\n",
              "      <th>abdominalextensiondepthsitting</th>\n",
              "      <th>acromialheight</th>\n",
              "      <th>acromionradialelength</th>\n",
              "      <th>anklecircumference</th>\n",
              "      <th>axillaheight</th>\n",
              "      <th>balloffootcircumference</th>\n",
              "      <th>balloffootlength</th>\n",
              "      <th>biacromialbreadth</th>\n",
              "      <th>bicepscircumferenceflexed</th>\n",
              "      <th>bicristalbreadth</th>\n",
              "      <th>bideltoidbreadth</th>\n",
              "      <th>bimalleolarbreadth</th>\n",
              "      <th>bitragionchinarc</th>\n",
              "      <th>bitragionsubmandibulararc</th>\n",
              "      <th>bizygomaticbreadth</th>\n",
              "      <th>buttockcircumference</th>\n",
              "      <th>buttockdepth</th>\n",
              "      <th>buttockheight</th>\n",
              "      <th>buttockkneelength</th>\n",
              "      <th>buttockpopliteallength</th>\n",
              "      <th>calfcircumference</th>\n",
              "      <th>cervicaleheight</th>\n",
              "      <th>chestbreadth</th>\n",
              "      <th>chestcircumference</th>\n",
              "      <th>chestdepth</th>\n",
              "      <th>chestheight</th>\n",
              "      <th>crotchheight</th>\n",
              "      <th>crotchlengthomphalion</th>\n",
              "      <th>crotchlengthposterioromphalion</th>\n",
              "      <th>earbreadth</th>\n",
              "      <th>earlength</th>\n",
              "      <th>earprotrusion</th>\n",
              "      <th>elbowrestheight</th>\n",
              "      <th>eyeheightsitting</th>\n",
              "      <th>footbreadthhorizontal</th>\n",
              "      <th>footlength</th>\n",
              "      <th>forearmcenterofgriplength</th>\n",
              "      <th>...</th>\n",
              "      <th>kneeheightsitting</th>\n",
              "      <th>lateralfemoralepicondyleheight</th>\n",
              "      <th>lateralmalleolusheight</th>\n",
              "      <th>lowerthighcircumference</th>\n",
              "      <th>mentonsellionlength</th>\n",
              "      <th>neckcircumference</th>\n",
              "      <th>neckcircumferencebase</th>\n",
              "      <th>overheadfingertipreachsitting</th>\n",
              "      <th>palmlength</th>\n",
              "      <th>poplitealheight</th>\n",
              "      <th>radialestylionlength</th>\n",
              "      <th>shouldercircumference</th>\n",
              "      <th>shoulderelbowlength</th>\n",
              "      <th>shoulderlength</th>\n",
              "      <th>sittingheight</th>\n",
              "      <th>sleevelengthspinewrist</th>\n",
              "      <th>sleeveoutseam</th>\n",
              "      <th>span</th>\n",
              "      <th>suprasternaleheight</th>\n",
              "      <th>tenthribheight</th>\n",
              "      <th>thighcircumference</th>\n",
              "      <th>thighclearance</th>\n",
              "      <th>thumbtipreach</th>\n",
              "      <th>tibialheight</th>\n",
              "      <th>tragiontopofhead</th>\n",
              "      <th>trochanterionheight</th>\n",
              "      <th>verticaltrunkcircumferenceusa</th>\n",
              "      <th>waistbacklength</th>\n",
              "      <th>waistbreadth</th>\n",
              "      <th>waistcircumference</th>\n",
              "      <th>waistdepth</th>\n",
              "      <th>waistfrontlengthsitting</th>\n",
              "      <th>waistheightomphalion</th>\n",
              "      <th>wristcircumference</th>\n",
              "      <th>wristheight</th>\n",
              "      <th>weight_kg</th>\n",
              "      <th>stature_m</th>\n",
              "      <th>BMI</th>\n",
              "      <th>BMI_class</th>\n",
              "      <th>Height_class</th>\n",
              "    </tr>\n",
              "  </thead>\n",
              "  <tbody>\n",
              "    <tr>\n",
              "      <th>0</th>\n",
              "      <td>Combat Arms</td>\n",
              "      <td>Regular Army</td>\n",
              "      <td>Male</td>\n",
              "      <td>266</td>\n",
              "      <td>1467</td>\n",
              "      <td>337</td>\n",
              "      <td>222</td>\n",
              "      <td>1347</td>\n",
              "      <td>253</td>\n",
              "      <td>202</td>\n",
              "      <td>401</td>\n",
              "      <td>369</td>\n",
              "      <td>274</td>\n",
              "      <td>493</td>\n",
              "      <td>71</td>\n",
              "      <td>319</td>\n",
              "      <td>291</td>\n",
              "      <td>142</td>\n",
              "      <td>979</td>\n",
              "      <td>240</td>\n",
              "      <td>882</td>\n",
              "      <td>619</td>\n",
              "      <td>509</td>\n",
              "      <td>373</td>\n",
              "      <td>1535</td>\n",
              "      <td>291</td>\n",
              "      <td>1074</td>\n",
              "      <td>259</td>\n",
              "      <td>1292</td>\n",
              "      <td>877</td>\n",
              "      <td>607</td>\n",
              "      <td>351</td>\n",
              "      <td>36</td>\n",
              "      <td>71</td>\n",
              "      <td>19</td>\n",
              "      <td>247</td>\n",
              "      <td>802</td>\n",
              "      <td>101</td>\n",
              "      <td>273</td>\n",
              "      <td>349</td>\n",
              "      <td>...</td>\n",
              "      <td>560</td>\n",
              "      <td>500</td>\n",
              "      <td>77</td>\n",
              "      <td>391</td>\n",
              "      <td>118</td>\n",
              "      <td>400</td>\n",
              "      <td>436</td>\n",
              "      <td>1447</td>\n",
              "      <td>113</td>\n",
              "      <td>437</td>\n",
              "      <td>273</td>\n",
              "      <td>1151</td>\n",
              "      <td>368</td>\n",
              "      <td>145</td>\n",
              "      <td>928</td>\n",
              "      <td>883</td>\n",
              "      <td>600</td>\n",
              "      <td>1782</td>\n",
              "      <td>1449</td>\n",
              "      <td>1092</td>\n",
              "      <td>610</td>\n",
              "      <td>164</td>\n",
              "      <td>786</td>\n",
              "      <td>491</td>\n",
              "      <td>140</td>\n",
              "      <td>919</td>\n",
              "      <td>1700</td>\n",
              "      <td>501</td>\n",
              "      <td>329</td>\n",
              "      <td>933</td>\n",
              "      <td>240</td>\n",
              "      <td>440</td>\n",
              "      <td>1054</td>\n",
              "      <td>175</td>\n",
              "      <td>853</td>\n",
              "      <td>81.5</td>\n",
              "      <td>1.776</td>\n",
              "      <td>25.838761</td>\n",
              "      <td>Overweight</td>\n",
              "      <td>Tall</td>\n",
              "    </tr>\n",
              "    <tr>\n",
              "      <th>1</th>\n",
              "      <td>Combat Support</td>\n",
              "      <td>Regular Army</td>\n",
              "      <td>Male</td>\n",
              "      <td>233</td>\n",
              "      <td>1395</td>\n",
              "      <td>326</td>\n",
              "      <td>220</td>\n",
              "      <td>1293</td>\n",
              "      <td>245</td>\n",
              "      <td>193</td>\n",
              "      <td>394</td>\n",
              "      <td>338</td>\n",
              "      <td>257</td>\n",
              "      <td>479</td>\n",
              "      <td>67</td>\n",
              "      <td>344</td>\n",
              "      <td>320</td>\n",
              "      <td>135</td>\n",
              "      <td>944</td>\n",
              "      <td>232</td>\n",
              "      <td>870</td>\n",
              "      <td>584</td>\n",
              "      <td>468</td>\n",
              "      <td>357</td>\n",
              "      <td>1471</td>\n",
              "      <td>269</td>\n",
              "      <td>1021</td>\n",
              "      <td>253</td>\n",
              "      <td>1244</td>\n",
              "      <td>851</td>\n",
              "      <td>615</td>\n",
              "      <td>376</td>\n",
              "      <td>33</td>\n",
              "      <td>62</td>\n",
              "      <td>18</td>\n",
              "      <td>232</td>\n",
              "      <td>781</td>\n",
              "      <td>98</td>\n",
              "      <td>263</td>\n",
              "      <td>348</td>\n",
              "      <td>...</td>\n",
              "      <td>540</td>\n",
              "      <td>488</td>\n",
              "      <td>73</td>\n",
              "      <td>371</td>\n",
              "      <td>131</td>\n",
              "      <td>380</td>\n",
              "      <td>420</td>\n",
              "      <td>1380</td>\n",
              "      <td>118</td>\n",
              "      <td>417</td>\n",
              "      <td>254</td>\n",
              "      <td>1119</td>\n",
              "      <td>353</td>\n",
              "      <td>141</td>\n",
              "      <td>884</td>\n",
              "      <td>868</td>\n",
              "      <td>564</td>\n",
              "      <td>1745</td>\n",
              "      <td>1387</td>\n",
              "      <td>1076</td>\n",
              "      <td>572</td>\n",
              "      <td>169</td>\n",
              "      <td>822</td>\n",
              "      <td>476</td>\n",
              "      <td>120</td>\n",
              "      <td>918</td>\n",
              "      <td>1627</td>\n",
              "      <td>432</td>\n",
              "      <td>316</td>\n",
              "      <td>870</td>\n",
              "      <td>225</td>\n",
              "      <td>371</td>\n",
              "      <td>1054</td>\n",
              "      <td>167</td>\n",
              "      <td>815</td>\n",
              "      <td>72.6</td>\n",
              "      <td>1.702</td>\n",
              "      <td>25.062103</td>\n",
              "      <td>Overweight</td>\n",
              "      <td>Normal</td>\n",
              "    </tr>\n",
              "    <tr>\n",
              "      <th>2</th>\n",
              "      <td>Combat Support</td>\n",
              "      <td>Regular Army</td>\n",
              "      <td>Male</td>\n",
              "      <td>287</td>\n",
              "      <td>1430</td>\n",
              "      <td>341</td>\n",
              "      <td>230</td>\n",
              "      <td>1327</td>\n",
              "      <td>256</td>\n",
              "      <td>196</td>\n",
              "      <td>427</td>\n",
              "      <td>408</td>\n",
              "      <td>261</td>\n",
              "      <td>544</td>\n",
              "      <td>75</td>\n",
              "      <td>345</td>\n",
              "      <td>330</td>\n",
              "      <td>135</td>\n",
              "      <td>1054</td>\n",
              "      <td>258</td>\n",
              "      <td>901</td>\n",
              "      <td>623</td>\n",
              "      <td>506</td>\n",
              "      <td>412</td>\n",
              "      <td>1501</td>\n",
              "      <td>288</td>\n",
              "      <td>1120</td>\n",
              "      <td>267</td>\n",
              "      <td>1288</td>\n",
              "      <td>854</td>\n",
              "      <td>636</td>\n",
              "      <td>359</td>\n",
              "      <td>40</td>\n",
              "      <td>61</td>\n",
              "      <td>23</td>\n",
              "      <td>237</td>\n",
              "      <td>810</td>\n",
              "      <td>103</td>\n",
              "      <td>270</td>\n",
              "      <td>355</td>\n",
              "      <td>...</td>\n",
              "      <td>556</td>\n",
              "      <td>482</td>\n",
              "      <td>72</td>\n",
              "      <td>409</td>\n",
              "      <td>123</td>\n",
              "      <td>403</td>\n",
              "      <td>434</td>\n",
              "      <td>1447</td>\n",
              "      <td>121</td>\n",
              "      <td>431</td>\n",
              "      <td>268</td>\n",
              "      <td>1276</td>\n",
              "      <td>367</td>\n",
              "      <td>167</td>\n",
              "      <td>917</td>\n",
              "      <td>910</td>\n",
              "      <td>604</td>\n",
              "      <td>1867</td>\n",
              "      <td>1438</td>\n",
              "      <td>1105</td>\n",
              "      <td>685</td>\n",
              "      <td>198</td>\n",
              "      <td>807</td>\n",
              "      <td>477</td>\n",
              "      <td>125</td>\n",
              "      <td>918</td>\n",
              "      <td>1678</td>\n",
              "      <td>472</td>\n",
              "      <td>329</td>\n",
              "      <td>964</td>\n",
              "      <td>255</td>\n",
              "      <td>411</td>\n",
              "      <td>1041</td>\n",
              "      <td>180</td>\n",
              "      <td>831</td>\n",
              "      <td>92.9</td>\n",
              "      <td>1.735</td>\n",
              "      <td>30.861480</td>\n",
              "      <td>Overweight</td>\n",
              "      <td>Normal</td>\n",
              "    </tr>\n",
              "    <tr>\n",
              "      <th>3</th>\n",
              "      <td>Combat Service Support</td>\n",
              "      <td>Regular Army</td>\n",
              "      <td>Male</td>\n",
              "      <td>234</td>\n",
              "      <td>1347</td>\n",
              "      <td>310</td>\n",
              "      <td>230</td>\n",
              "      <td>1239</td>\n",
              "      <td>262</td>\n",
              "      <td>199</td>\n",
              "      <td>401</td>\n",
              "      <td>359</td>\n",
              "      <td>262</td>\n",
              "      <td>518</td>\n",
              "      <td>73</td>\n",
              "      <td>328</td>\n",
              "      <td>309</td>\n",
              "      <td>143</td>\n",
              "      <td>991</td>\n",
              "      <td>242</td>\n",
              "      <td>821</td>\n",
              "      <td>560</td>\n",
              "      <td>437</td>\n",
              "      <td>395</td>\n",
              "      <td>1423</td>\n",
              "      <td>296</td>\n",
              "      <td>1114</td>\n",
              "      <td>262</td>\n",
              "      <td>1205</td>\n",
              "      <td>769</td>\n",
              "      <td>590</td>\n",
              "      <td>341</td>\n",
              "      <td>39</td>\n",
              "      <td>66</td>\n",
              "      <td>25</td>\n",
              "      <td>272</td>\n",
              "      <td>794</td>\n",
              "      <td>106</td>\n",
              "      <td>267</td>\n",
              "      <td>352</td>\n",
              "      <td>...</td>\n",
              "      <td>511</td>\n",
              "      <td>452</td>\n",
              "      <td>76</td>\n",
              "      <td>393</td>\n",
              "      <td>106</td>\n",
              "      <td>407</td>\n",
              "      <td>446</td>\n",
              "      <td>1357</td>\n",
              "      <td>118</td>\n",
              "      <td>393</td>\n",
              "      <td>249</td>\n",
              "      <td>1155</td>\n",
              "      <td>330</td>\n",
              "      <td>148</td>\n",
              "      <td>903</td>\n",
              "      <td>848</td>\n",
              "      <td>550</td>\n",
              "      <td>1708</td>\n",
              "      <td>1346</td>\n",
              "      <td>1021</td>\n",
              "      <td>604</td>\n",
              "      <td>180</td>\n",
              "      <td>803</td>\n",
              "      <td>445</td>\n",
              "      <td>127</td>\n",
              "      <td>847</td>\n",
              "      <td>1625</td>\n",
              "      <td>461</td>\n",
              "      <td>315</td>\n",
              "      <td>857</td>\n",
              "      <td>205</td>\n",
              "      <td>399</td>\n",
              "      <td>968</td>\n",
              "      <td>176</td>\n",
              "      <td>793</td>\n",
              "      <td>79.4</td>\n",
              "      <td>1.655</td>\n",
              "      <td>28.988417</td>\n",
              "      <td>Overweight</td>\n",
              "      <td>Normal</td>\n",
              "    </tr>\n",
              "    <tr>\n",
              "      <th>4</th>\n",
              "      <td>Combat Service Support</td>\n",
              "      <td>Regular Army</td>\n",
              "      <td>Male</td>\n",
              "      <td>250</td>\n",
              "      <td>1585</td>\n",
              "      <td>372</td>\n",
              "      <td>247</td>\n",
              "      <td>1478</td>\n",
              "      <td>267</td>\n",
              "      <td>224</td>\n",
              "      <td>435</td>\n",
              "      <td>356</td>\n",
              "      <td>263</td>\n",
              "      <td>524</td>\n",
              "      <td>80</td>\n",
              "      <td>340</td>\n",
              "      <td>310</td>\n",
              "      <td>138</td>\n",
              "      <td>1029</td>\n",
              "      <td>275</td>\n",
              "      <td>1080</td>\n",
              "      <td>706</td>\n",
              "      <td>567</td>\n",
              "      <td>425</td>\n",
              "      <td>1684</td>\n",
              "      <td>304</td>\n",
              "      <td>1048</td>\n",
              "      <td>232</td>\n",
              "      <td>1452</td>\n",
              "      <td>1014</td>\n",
              "      <td>682</td>\n",
              "      <td>382</td>\n",
              "      <td>32</td>\n",
              "      <td>56</td>\n",
              "      <td>19</td>\n",
              "      <td>188</td>\n",
              "      <td>814</td>\n",
              "      <td>111</td>\n",
              "      <td>305</td>\n",
              "      <td>399</td>\n",
              "      <td>...</td>\n",
              "      <td>666</td>\n",
              "      <td>585</td>\n",
              "      <td>85</td>\n",
              "      <td>458</td>\n",
              "      <td>135</td>\n",
              "      <td>398</td>\n",
              "      <td>430</td>\n",
              "      <td>1572</td>\n",
              "      <td>132</td>\n",
              "      <td>523</td>\n",
              "      <td>302</td>\n",
              "      <td>1231</td>\n",
              "      <td>400</td>\n",
              "      <td>180</td>\n",
              "      <td>919</td>\n",
              "      <td>995</td>\n",
              "      <td>641</td>\n",
              "      <td>2035</td>\n",
              "      <td>1596</td>\n",
              "      <td>1292</td>\n",
              "      <td>672</td>\n",
              "      <td>194</td>\n",
              "      <td>962</td>\n",
              "      <td>584</td>\n",
              "      <td>122</td>\n",
              "      <td>1090</td>\n",
              "      <td>1679</td>\n",
              "      <td>467</td>\n",
              "      <td>303</td>\n",
              "      <td>868</td>\n",
              "      <td>214</td>\n",
              "      <td>379</td>\n",
              "      <td>1245</td>\n",
              "      <td>188</td>\n",
              "      <td>954</td>\n",
              "      <td>94.6</td>\n",
              "      <td>1.914</td>\n",
              "      <td>25.823034</td>\n",
              "      <td>Overweight</td>\n",
              "      <td>Tall</td>\n",
              "    </tr>\n",
              "  </tbody>\n",
              "</table>\n",
              "<p>5 rows × 99 columns</p>\n",
              "</div>"
            ],
            "text/plain": [
              "                   Branch     Component  ...   BMI_class  Height_class\n",
              "0             Combat Arms  Regular Army  ...  Overweight          Tall\n",
              "1          Combat Support  Regular Army  ...  Overweight        Normal\n",
              "2          Combat Support  Regular Army  ...  Overweight        Normal\n",
              "3  Combat Service Support  Regular Army  ...  Overweight        Normal\n",
              "4  Combat Service Support  Regular Army  ...  Overweight          Tall\n",
              "\n",
              "[5 rows x 99 columns]"
            ]
          },
          "metadata": {
            "tags": []
          },
          "execution_count": 119
        }
      ]
    },
    {
      "cell_type": "code",
      "metadata": {
        "id": "-S0d99fWmUT8",
        "colab": {
          "base_uri": "https://localhost:8080/",
          "height": 34
        },
        "outputId": "2851351a-26ad-4445-8e13-a87433b4f034"
      },
      "source": [
        "import numpy as np \n",
        "\n",
        "# Calculate the correlation matrix and take the absolute value\n",
        "corr_matrix = ansur_df.corr().abs()\n",
        "\n",
        "# Create a True/False mask and apply it\n",
        "mask = np.triu(np.ones_like(corr_matrix, dtype=bool))\n",
        "tri_df = corr_matrix.mask(mask)\n",
        "\n",
        "# List column names of highly correlated features (r > 0.95)\n",
        "to_drop = [c for c in tri_df.columns if any(tri_df[c] > 0.95)]\n",
        "\n",
        "# you can use this filtering for selecting columns that has more de x% of correlation\n",
        "# and with only those columns plot the heat map and plot type of relationship\n",
        "# between features (linear or not linear)\n",
        "\n",
        "# Drop the features in the to_drop list\n",
        "reduced_df = ansur_df.drop(to_drop, axis=1)\n",
        "\n",
        "print(\"The reduced_df dataframe has {} columns\".format(reduced_df.shape[1]))"
      ],
      "execution_count": null,
      "outputs": [
        {
          "output_type": "stream",
          "text": [
            "The reduced_df dataframe has 80 columns\n"
          ],
          "name": "stdout"
        }
      ]
    },
    {
      "cell_type": "code",
      "metadata": {
        "id": "CX-Nvui-n4dz",
        "colab": {
          "base_uri": "https://localhost:8080/",
          "height": 340
        },
        "outputId": "57115359-b90e-499b-db63-03a249e29843"
      },
      "source": [
        "to_drop # or columns to filter"
      ],
      "execution_count": null,
      "outputs": [
        {
          "output_type": "execute_result",
          "data": {
            "text/plain": [
              "['abdominalextensiondepthsitting',\n",
              " 'acromialheight',\n",
              " 'acromionradialelength',\n",
              " 'axillaheight',\n",
              " 'balloffootlength',\n",
              " 'buttockheight',\n",
              " 'cervicaleheight',\n",
              " 'chestheight',\n",
              " 'eyeheightsitting',\n",
              " 'forearmcenterofgriplength',\n",
              " 'handbreadth',\n",
              " 'iliocristaleheight',\n",
              " 'interscyei',\n",
              " 'kneeheightmidpatella',\n",
              " 'kneeheightsitting',\n",
              " 'neckcircumference',\n",
              " 'suprasternaleheight',\n",
              " 'waistbreadth',\n",
              " 'waistcircumference']"
            ]
          },
          "metadata": {
            "tags": []
          },
          "execution_count": 126
        }
      ]
    },
    {
      "cell_type": "markdown",
      "metadata": {
        "id": "AoIc1R7JrBjA"
      },
      "source": [
        "# Selecting features for model performance"
      ]
    },
    {
      "cell_type": "markdown",
      "metadata": {
        "id": "0t5VD5-WxQBh"
      },
      "source": [
        "## Manually feature droping through modeling"
      ]
    },
    {
      "cell_type": "markdown",
      "metadata": {
        "id": "adW1aIweOCtd"
      },
      "source": [
        "** DON'T DROP ALL UNIMPORTANT FEATURES AT ONCE, DO IT ONE BY ONE, fitting the model with every iteration. Because parameters change in every drop."
      ]
    },
    {
      "cell_type": "code",
      "metadata": {
        "id": "TM2F1JPbtq_T",
        "colab": {
          "base_uri": "https://localhost:8080/",
          "height": 204
        },
        "outputId": "e2e47e2a-a877-444f-cbae-8d5a441c0577"
      },
      "source": [
        "import pandas as pd\n",
        "\n",
        "df = pd.read_csv('https://assets.datacamp.com/production/repositories/3515/datasets/87ced33d5371cdc13f9301ecb99ead36a63c8197/PimaIndians.csv')\n",
        "display(df.head())\n",
        "\n",
        "y = df['test']\n",
        "\n",
        "X = df.drop('test',axis=1)\n"
      ],
      "execution_count": null,
      "outputs": [
        {
          "output_type": "display_data",
          "data": {
            "text/html": [
              "<div>\n",
              "<style scoped>\n",
              "    .dataframe tbody tr th:only-of-type {\n",
              "        vertical-align: middle;\n",
              "    }\n",
              "\n",
              "    .dataframe tbody tr th {\n",
              "        vertical-align: top;\n",
              "    }\n",
              "\n",
              "    .dataframe thead th {\n",
              "        text-align: right;\n",
              "    }\n",
              "</style>\n",
              "<table border=\"1\" class=\"dataframe\">\n",
              "  <thead>\n",
              "    <tr style=\"text-align: right;\">\n",
              "      <th></th>\n",
              "      <th>pregnant</th>\n",
              "      <th>glucose</th>\n",
              "      <th>diastolic</th>\n",
              "      <th>triceps</th>\n",
              "      <th>insulin</th>\n",
              "      <th>bmi</th>\n",
              "      <th>family</th>\n",
              "      <th>age</th>\n",
              "      <th>test</th>\n",
              "    </tr>\n",
              "  </thead>\n",
              "  <tbody>\n",
              "    <tr>\n",
              "      <th>0</th>\n",
              "      <td>1</td>\n",
              "      <td>89</td>\n",
              "      <td>66</td>\n",
              "      <td>23</td>\n",
              "      <td>94</td>\n",
              "      <td>28.1</td>\n",
              "      <td>0.167</td>\n",
              "      <td>21</td>\n",
              "      <td>negative</td>\n",
              "    </tr>\n",
              "    <tr>\n",
              "      <th>1</th>\n",
              "      <td>0</td>\n",
              "      <td>137</td>\n",
              "      <td>40</td>\n",
              "      <td>35</td>\n",
              "      <td>168</td>\n",
              "      <td>43.1</td>\n",
              "      <td>2.288</td>\n",
              "      <td>33</td>\n",
              "      <td>positive</td>\n",
              "    </tr>\n",
              "    <tr>\n",
              "      <th>2</th>\n",
              "      <td>3</td>\n",
              "      <td>78</td>\n",
              "      <td>50</td>\n",
              "      <td>32</td>\n",
              "      <td>88</td>\n",
              "      <td>31.0</td>\n",
              "      <td>0.248</td>\n",
              "      <td>26</td>\n",
              "      <td>positive</td>\n",
              "    </tr>\n",
              "    <tr>\n",
              "      <th>3</th>\n",
              "      <td>2</td>\n",
              "      <td>197</td>\n",
              "      <td>70</td>\n",
              "      <td>45</td>\n",
              "      <td>543</td>\n",
              "      <td>30.5</td>\n",
              "      <td>0.158</td>\n",
              "      <td>53</td>\n",
              "      <td>positive</td>\n",
              "    </tr>\n",
              "    <tr>\n",
              "      <th>4</th>\n",
              "      <td>1</td>\n",
              "      <td>189</td>\n",
              "      <td>60</td>\n",
              "      <td>23</td>\n",
              "      <td>846</td>\n",
              "      <td>30.1</td>\n",
              "      <td>0.398</td>\n",
              "      <td>59</td>\n",
              "      <td>positive</td>\n",
              "    </tr>\n",
              "  </tbody>\n",
              "</table>\n",
              "</div>"
            ],
            "text/plain": [
              "   pregnant  glucose  diastolic  triceps  insulin   bmi  family  age      test\n",
              "0         1       89         66       23       94  28.1   0.167   21  negative\n",
              "1         0      137         40       35      168  43.1   2.288   33  positive\n",
              "2         3       78         50       32       88  31.0   0.248   26  positive\n",
              "3         2      197         70       45      543  30.5   0.158   53  positive\n",
              "4         1      189         60       23      846  30.1   0.398   59  positive"
            ]
          },
          "metadata": {
            "tags": []
          }
        }
      ]
    },
    {
      "cell_type": "code",
      "metadata": {
        "id": "-foVnxnQuMfe",
        "colab": {
          "base_uri": "https://localhost:8080/",
          "height": 170
        },
        "outputId": "779e75ce-dc65-4676-b046-314c494ada09"
      },
      "source": [
        "from sklearn.preprocessing import StandardScaler\n",
        "from sklearn.linear_model import LogisticRegression\n",
        "from sklearn.metrics import accuracy_score\n",
        "\n",
        "scaler = StandardScaler()\n",
        "lr = LogisticRegression()\n",
        "\n",
        "X_train, X_test, y_train, y_test = train_test_split(X, y, test_size=0.3)\n",
        "\n",
        "# Fit the scaler on the training features and transform these in one go\n",
        "X_train_std = scaler.fit_transform(X_train)\n",
        "\n",
        "# Fit the logistic regression model on the scaled training data\n",
        "lr.fit(X_train_std, y_train)\n",
        "\n",
        "# Scale the test features\n",
        "X_test_std = scaler.transform(X_test)\n",
        "\n",
        "# Predict diabetes presence on the scaled test set\n",
        "y_pred = lr.predict(X_test_std)\n",
        "\n",
        "# Prints accuracy metrics and feature coefficients\n",
        "print(\"{0:.1%} accuracy on test set.\".format(accuracy_score(y_test, y_pred))) \n",
        "display(dict(zip(X.columns, abs(lr.coef_[0]).round(2))))\n"
      ],
      "execution_count": null,
      "outputs": [
        {
          "output_type": "stream",
          "text": [
            "71.2% accuracy on test set.\n"
          ],
          "name": "stdout"
        },
        {
          "output_type": "display_data",
          "data": {
            "text/plain": [
              "{'age': 0.31,\n",
              " 'bmi': 0.64,\n",
              " 'diastolic': 0.13,\n",
              " 'family': 0.13,\n",
              " 'glucose': 1.32,\n",
              " 'insulin': 0.18,\n",
              " 'pregnant': 0.2,\n",
              " 'triceps': 0.1}"
            ]
          },
          "metadata": {
            "tags": []
          }
        }
      ]
    },
    {
      "cell_type": "code",
      "metadata": {
        "id": "eJDi5emZxzZ_"
      },
      "source": [
        "# Diastolic has a very low coefficient in the model.\n",
        "# droping the feature, we generate a higher accuracy model of \n",
        "# 76.3% accuracy on test set.\n",
        "\n",
        "X = X.drop('diastolic',axis=1)"
      ],
      "execution_count": null,
      "outputs": []
    },
    {
      "cell_type": "code",
      "metadata": {
        "id": "ITrA9Ls5xfnE",
        "colab": {
          "base_uri": "https://localhost:8080/",
          "height": 153
        },
        "outputId": "b116a02f-965d-4d6c-d835-d5092f61e49f"
      },
      "source": [
        "X_train, X_test, y_train, y_test = train_test_split(X, y, test_size=0.3)\n",
        "\n",
        "# Fit the scaler on the training features and transform these in one go\n",
        "X_train_std = scaler.fit_transform(X_train)\n",
        "\n",
        "# Fit the logistic regression model on the scaled training data\n",
        "lr.fit(X_train_std, y_train)\n",
        "\n",
        "# Scale the test features\n",
        "X_test_std = scaler.transform(X_test)\n",
        "\n",
        "# Predict diabetes presence on the scaled test set\n",
        "y_pred = lr.predict(X_test_std)\n",
        "\n",
        "# Prints accuracy metrics and feature coefficients\n",
        "print(\"{0:.1%} accuracy on test set.\".format(accuracy_score(y_test, y_pred))) \n",
        "display(dict(zip(X.columns, abs(lr.coef_[0]).round(2))))"
      ],
      "execution_count": null,
      "outputs": [
        {
          "output_type": "stream",
          "text": [
            "70.3% accuracy on test set.\n"
          ],
          "name": "stdout"
        },
        {
          "output_type": "display_data",
          "data": {
            "text/plain": [
              "{'age': 0.17,\n",
              " 'bmi': 0.39,\n",
              " 'family': 0.4,\n",
              " 'glucose': 1.11,\n",
              " 'insulin': 0.09,\n",
              " 'pregnant': 0.47,\n",
              " 'triceps': 0.26}"
            ]
          },
          "metadata": {
            "tags": []
          }
        }
      ]
    },
    {
      "cell_type": "markdown",
      "metadata": {
        "id": "mhEPw_4orEZy"
      },
      "source": [
        "## RFE of Scikit-Learn (Automatic Recursive Feature Elimination)\n",
        "\n"
      ]
    },
    {
      "cell_type": "code",
      "metadata": {
        "id": "Bf4axmnKFBA2",
        "colab": {
          "base_uri": "https://localhost:8080/",
          "height": 292
        },
        "outputId": "c4b7b9dd-6a7c-4aa4-d5bb-88783f9ff855"
      },
      "source": [
        "from sklearn.feature_selection import RFE\n",
        "\n",
        "# Create the RFE with a LogisticRegression estimator and 3 features to select\n",
        "rfe = RFE(estimator=LogisticRegression(), n_features_to_select=3, verbose=1)\n",
        "\n",
        "# Fit the eliminator to the data\n",
        "rfe.fit(X_train, y_train)\n",
        "\n",
        "# Print the features and their ranking (high = dropped early on)\n",
        "print(dict(zip(X.columns, rfe.ranking_)))\n",
        "\n",
        "# Print the 3 features that are not eliminated\n",
        "print(X.columns[rfe.support_])\n",
        "\n",
        "# Calculates the test set accuracy\n",
        "acc = accuracy_score(y_test, rfe.predict(X_test))\n",
        "print(\"{0:.1%} accuracy on test set.\".format(acc)) "
      ],
      "execution_count": null,
      "outputs": [
        {
          "output_type": "stream",
          "text": [
            "Fitting estimator with 7 features.\n",
            "Fitting estimator with 6 features.\n",
            "Fitting estimator with 5 features.\n",
            "Fitting estimator with 4 features.\n",
            "{'pregnant': 1, 'glucose': 2, 'triceps': 4, 'insulin': 5, 'bmi': 1, 'family': 1, 'age': 3}\n",
            "Index(['pregnant', 'bmi', 'family'], dtype='object')\n",
            "75.4% accuracy on test set.\n"
          ],
          "name": "stdout"
        },
        {
          "output_type": "stream",
          "text": [
            "/usr/local/lib/python3.6/dist-packages/sklearn/linear_model/_logistic.py:940: ConvergenceWarning: lbfgs failed to converge (status=1):\n",
            "STOP: TOTAL NO. of ITERATIONS REACHED LIMIT.\n",
            "\n",
            "Increase the number of iterations (max_iter) or scale the data as shown in:\n",
            "    https://scikit-learn.org/stable/modules/preprocessing.html\n",
            "Please also refer to the documentation for alternative solver options:\n",
            "    https://scikit-learn.org/stable/modules/linear_model.html#logistic-regression\n",
            "  extra_warning_msg=_LOGISTIC_SOLVER_CONVERGENCE_MSG)\n"
          ],
          "name": "stderr"
        }
      ]
    },
    {
      "cell_type": "markdown",
      "metadata": {
        "id": "uMIvDuAqHG0T"
      },
      "source": [
        "## Feature importance through Random Forest"
      ]
    },
    {
      "cell_type": "markdown",
      "metadata": {
        "id": "tIJktFq4Qh0t"
      },
      "source": [
        "### Manually through .feature_importances_"
      ]
    },
    {
      "cell_type": "code",
      "metadata": {
        "id": "gl4I6AyVHak0",
        "colab": {
          "base_uri": "https://localhost:8080/",
          "height": 71
        },
        "outputId": "6b380903-682a-4062-e1f7-970fe1896e98"
      },
      "source": [
        "from sklearn.model_selection import train_test_split\n",
        "from sklearn.ensemble import RandomForestClassifier\n",
        "# Perform a 75% training and 25% test data split\n",
        "X_train, X_test, y_train, y_test = train_test_split(X, y, test_size=0.25, random_state=0)\n",
        "\n",
        "# Fit the random forest model to the training data\n",
        "rf = RandomForestClassifier(random_state=0)\n",
        "rf.fit(X_train, y_train)\n",
        "\n",
        "# Calculate the test set accuracy\n",
        "acc = accuracy_score(y_test, rf.predict(X_test))\n",
        "\n",
        "# Print the importances per feature\n",
        "print(dict(zip(X.columns, rf.feature_importances_.round(2))))\n",
        "\n",
        "# Print accuracy\n",
        "print(\"{0:.1%} accuracy on test set.\".format(acc)) "
      ],
      "execution_count": null,
      "outputs": [
        {
          "output_type": "stream",
          "text": [
            "{'pregnant': 0.07, 'glucose': 0.28, 'triceps': 0.1, 'insulin': 0.15, 'bmi': 0.14, 'family': 0.12, 'age': 0.14}\n",
            "80.6% accuracy on test set.\n"
          ],
          "name": "stdout"
        }
      ]
    },
    {
      "cell_type": "code",
      "metadata": {
        "id": "w7qkoK4PQUDG",
        "colab": {
          "base_uri": "https://localhost:8080/",
          "height": 34
        },
        "outputId": "afd1599e-b7fd-4487-f0b1-e08c2dec31b5"
      },
      "source": [
        "# Create a mask for features importances above the threshold\n",
        "mask = rf.feature_importances_ > 0.15\n",
        "\n",
        "# Apply the mask to the feature dataset X\n",
        "reduced_X = X.loc[:,mask]\n",
        "\n",
        "# prints out the selected column names\n",
        "print(reduced_X.columns)"
      ],
      "execution_count": null,
      "outputs": [
        {
          "output_type": "stream",
          "text": [
            "Index(['glucose'], dtype='object')\n"
          ],
          "name": "stdout"
        }
      ]
    },
    {
      "cell_type": "markdown",
      "metadata": {
        "id": "MsHdsS9MQqOA"
      },
      "source": [
        "### RFE Random Forest Classifier"
      ]
    },
    {
      "cell_type": "markdown",
      "metadata": {
        "id": "lKCeLrJxP3kY"
      },
      "source": [
        "wrap a Recursive Feature Eliminator around a random forest model to remove features step by step. This method is more conservative compared to selecting features after applying a single importance threshold. Since dropping one feature can influence the relative importances of the others."
      ]
    },
    {
      "cell_type": "code",
      "metadata": {
        "id": "CrPW5OQiQYOs",
        "colab": {
          "base_uri": "https://localhost:8080/",
          "height": 102
        },
        "outputId": "d2a15bb7-8b1c-4112-ee6a-81dbcebfad4f"
      },
      "source": [
        "from sklearn.feature_selection import RFE\n",
        "# Set the feature eliminator to remove 2 features on each step\n",
        "rfe = RFE(estimator=RandomForestClassifier(), n_features_to_select=2, step=2, verbose=1)\n",
        "\n",
        "# Fit the model to the training data\n",
        "rfe.fit(X_train, y_train)\n",
        "\n",
        "# Create a mask\n",
        "mask = rfe.support_\n",
        "\n",
        "# Apply the mask to the feature dataset X and print the result\n",
        "reduced_X = X.loc[:, mask]\n",
        "print(reduced_X.columns)\n",
        "\n",
        "# Calculates the test set accuracy\n",
        "acc = accuracy_score(y_test, rfe.predict(X_test))\n",
        "print(\"{0:.1%} accuracy on test set.\".format(acc)) "
      ],
      "execution_count": null,
      "outputs": [
        {
          "output_type": "stream",
          "text": [
            "Fitting estimator with 7 features.\n",
            "Fitting estimator with 5 features.\n",
            "Fitting estimator with 3 features.\n",
            "Index(['glucose', 'bmi'], dtype='object')\n",
            "71.4% accuracy on test set.\n"
          ],
          "name": "stdout"
        }
      ]
    },
    {
      "cell_type": "markdown",
      "metadata": {
        "id": "7MxzPe5FRZok"
      },
      "source": [
        "# Dimensionality reduction on LINEAR MODEL"
      ]
    },
    {
      "cell_type": "markdown",
      "metadata": {
        "id": "L6XSueGySbsh"
      },
      "source": [
        "## Lasso "
      ]
    },
    {
      "cell_type": "code",
      "metadata": {
        "id": "Atqf4AyrUiSk",
        "colab": {
          "base_uri": "https://localhost:8080/",
          "height": 34
        },
        "outputId": "4930b4d5-7787-4ae2-f828-fc312beb876a"
      },
      "source": [
        "# Les make BMI our target variable\n",
        "\n",
        "ansur_male = pd.read_csv('https://assets.datacamp.com/production/repositories/3515/datasets/28edd853c0a6aa7316b0d84a21f8e0d821e5010d/ANSUR_II_MALE.csv')\n",
        "ansur_male.shape"
      ],
      "execution_count": null,
      "outputs": [
        {
          "output_type": "execute_result",
          "data": {
            "text/plain": [
              "(4082, 99)"
            ]
          },
          "metadata": {
            "tags": []
          },
          "execution_count": 127
        }
      ]
    },
    {
      "cell_type": "code",
      "metadata": {
        "id": "ISVOCYuQUlIx"
      },
      "source": [
        "y= ansur_male.BMI\n",
        "\n",
        "X = ansur_male.drop('BMI',axis=1)\n",
        "\n",
        "non_numeric = ['BMI_class','Gender','Height_class','Component','Branch']\n",
        "X = pd.get_dummies(data=X, columns=non_numeric)"
      ],
      "execution_count": null,
      "outputs": []
    },
    {
      "cell_type": "code",
      "metadata": {
        "id": "o9ybSsPBVDd3",
        "colab": {
          "base_uri": "https://localhost:8080/",
          "height": 51
        },
        "outputId": "afdf4fbe-8264-4838-e996-3b0e6a5af55d"
      },
      "source": [
        "from sklearn.linear_model import Lasso\n",
        "from sklearn.preprocessing import StandardScaler\n",
        "from sklearn.metrics import accuracy_score\n",
        "\n",
        "scaler = StandardScaler()\n",
        "\n",
        "# Set the test size to 30% to get a 70-30% train test split\n",
        "X_train, X_test, y_train, y_test = train_test_split(X, y, test_size=0.3, random_state=0)\n",
        "\n",
        "# Fit the scaler on the training features and transform these in one go\n",
        "X_train_std = scaler.fit_transform(X_train)\n",
        "\n",
        "# Create the Lasso model for alpha 1 that is the default value.\n",
        "la = Lasso(alpha=0.1)\n",
        "\n",
        "# Fit it to the standardized training data\n",
        "la.fit(X_train_std, y_train)\n",
        "\n",
        "# Transform the test set with the pre-fitted scaler\n",
        "X_test_std = scaler.transform(X_test)\n",
        "\n",
        "# Calculate the coefficient of determination (R squared) on X_test_std\n",
        "r_squared = la.score(X_test_std, y_test)\n",
        "print(\"The model can predict {0:.1%} of the variance in the test set.\".format(r_squared))\n",
        "\n",
        "# Create a list that has True values when coefficients equal 0\n",
        "zero_coef = la.coef_ == 0\n",
        "\n",
        "# Calculate how many features have a zero coefficient\n",
        "n_ignored = sum(zero_coef)\n",
        "print(\"The model has ignored {} out of {} features.\".format(n_ignored, len(la.coef_)))"
      ],
      "execution_count": null,
      "outputs": [
        {
          "output_type": "stream",
          "text": [
            "The model can predict 99.2% of the variance in the test set.\n",
            "The model has ignored 88 out of 106 features.\n"
          ],
          "name": "stdout"
        }
      ]
    },
    {
      "cell_type": "markdown",
      "metadata": {
        "id": "l16OlE7VXbSw"
      },
      "source": [
        "We can predict almost 85% of the variance in the BMI value using just 9 out of 91 of the features. The R^2 could be higher though.\n",
        "\n",
        "We can get alpha= 0.1 and would return **98.3% R2** with only 18 of 91 features."
      ]
    },
    {
      "cell_type": "markdown",
      "metadata": {
        "id": "LgbpBgJCYao1"
      },
      "source": [
        "### LassoCV to automate alpha tuning"
      ]
    },
    {
      "cell_type": "markdown",
      "metadata": {
        "id": "5jJCHSAd_gyc"
      },
      "source": [
        "With LassoCV we can make Lasso to compute feature importance and the best parameter of alpha. Balance between removing as much features as possible and model accuracy.\n",
        "\n",
        "Is better to reduce dimensionality not just with one model but with an ensemble. So what we are doing first is to make a LassoCV model, where it fits and calculates the best alpha parameter. We take the number of features that has been selected by LassoCV model (e.g 66 features), after that insert that number into a RFE (n_features_to_select=66) with RandomForestRegressor. Then do the same with RFE (n_features_to_select=66) with GradientBoostingRegressor (is an ensemble method per se). At last we have 3 masks with feature importances we sum and check votes of 0,1,2 or 3.\n",
        "\n"
      ]
    },
    {
      "cell_type": "code",
      "metadata": {
        "id": "MfRDFnA2Ye-G"
      },
      "source": [
        "# Les make biceps circumference our target variable\n",
        "\n",
        "ansur_male = pd.read_csv('https://assets.datacamp.com/production/repositories/3515/datasets/28edd853c0a6aa7316b0d84a21f8e0d821e5010d/ANSUR_II_MALE.csv')\n",
        "ansur_male.shape\n",
        "\n",
        "y= ansur_male['bicepscircumferenceflexed']\n",
        "\n",
        "X = ansur_male.drop('bicepscircumferenceflexed',axis=1)\n",
        "\n",
        "non_numeric = ['BMI_class','Gender','Height_class','Component','Branch']\n",
        "X = pd.get_dummies(data=X, columns=non_numeric)\n"
      ],
      "execution_count": null,
      "outputs": []
    },
    {
      "cell_type": "code",
      "metadata": {
        "id": "aaPLDS9WDRwy",
        "colab": {
          "base_uri": "https://localhost:8080/",
          "height": 68
        },
        "outputId": "aedb59ed-d0c9-4690-b644-2a2d59fa1638"
      },
      "source": [
        "# First LassoCV\n",
        "\n",
        "from sklearn.linear_model import LassoCV\n",
        "\n",
        "# Create and fit the LassoCV model on the training set\n",
        "lcv = LassoCV()\n",
        "lcv.fit(X_train, y_train)\n",
        "print('Optimal alpha = {0:.3f}'.format(lcv.alpha_))\n",
        "\n",
        "# Calculate R squared on the test set\n",
        "r_squared = lcv.score(X_test, y_test)\n",
        "print('The model explains {0:.1%} of the test set variance'.format(r_squared))\n",
        "\n",
        "# Create a mask for coefficients not equal to zero\n",
        "lcv_mask = lcv.coef_ != 0\n",
        "print('{} features out of {} selected'.format(sum(lcv_mask), len(lcv_mask)))"
      ],
      "execution_count": null,
      "outputs": [
        {
          "output_type": "stream",
          "text": [
            "Optimal alpha = 0.404\n",
            "The model explains 99.1% of the test set variance\n",
            "38 features out of 106 selected\n"
          ],
          "name": "stdout"
        }
      ]
    },
    {
      "cell_type": "markdown",
      "metadata": {
        "id": "djOJvxnYvhuy"
      },
      "source": [
        "## Second GradiendBoostingRegressor"
      ]
    },
    {
      "cell_type": "code",
      "metadata": {
        "id": "qSBpUTVMFCrc",
        "colab": {
          "base_uri": "https://localhost:8080/",
          "height": 425
        },
        "outputId": "8ca41385-35b3-407b-8717-fda12b6f128b"
      },
      "source": [
        "# Second GradiendBoostingRegressor\n",
        "\n",
        "from sklearn.feature_selection import RFE\n",
        "from sklearn.ensemble import GradientBoostingRegressor\n",
        "\n",
        "# Select sum(lcv_mask) features with RFE on a GradientBoostingRegressor, drop 3 features on each step\n",
        "rfe_gb = RFE(estimator=GradientBoostingRegressor(), \n",
        "             n_features_to_select=sum(lcv_mask), step=3, verbose=1)\n",
        "rfe_gb.fit(X_train, y_train)\n",
        "\n",
        "# Calculate the R squared on the test set\n",
        "r_squared = rfe_gb.score(X_test, y_test)\n",
        "print('The model can explain {0:.1%} of the variance in the test set'.format(r_squared))\n",
        "\n",
        "# Assign the support array to gb_mask\n",
        "gb_mask = rfe_gb.support_"
      ],
      "execution_count": null,
      "outputs": [
        {
          "output_type": "stream",
          "text": [
            "Fitting estimator with 106 features.\n",
            "Fitting estimator with 103 features.\n",
            "Fitting estimator with 100 features.\n",
            "Fitting estimator with 97 features.\n",
            "Fitting estimator with 94 features.\n",
            "Fitting estimator with 91 features.\n",
            "Fitting estimator with 88 features.\n",
            "Fitting estimator with 85 features.\n",
            "Fitting estimator with 82 features.\n",
            "Fitting estimator with 79 features.\n",
            "Fitting estimator with 76 features.\n",
            "Fitting estimator with 73 features.\n",
            "Fitting estimator with 70 features.\n",
            "Fitting estimator with 67 features.\n",
            "Fitting estimator with 64 features.\n",
            "Fitting estimator with 61 features.\n",
            "Fitting estimator with 58 features.\n",
            "Fitting estimator with 55 features.\n",
            "Fitting estimator with 52 features.\n",
            "Fitting estimator with 49 features.\n",
            "Fitting estimator with 46 features.\n",
            "Fitting estimator with 43 features.\n",
            "Fitting estimator with 40 features.\n",
            "The model can explain 98.0% of the variance in the test set\n"
          ],
          "name": "stdout"
        }
      ]
    },
    {
      "cell_type": "code",
      "metadata": {
        "colab": {
          "base_uri": "https://localhost:8080/",
          "height": 197
        },
        "id": "jTpUhzLGvf4l",
        "outputId": "2e967839-26ca-4771-a0dc-c70c08e3954e"
      },
      "source": [
        "from sklearn.metrics import mean_squared_log_error\n",
        "\n",
        "# Calculate the R squared on the test set\n",
        "msq = mean_squared_log_error(X_test, rfe_gb.predict(X_train), multioutput='raw_values')\n",
        "msq = mean_squared_log_error(X_test, rfe_gb.predict(X_train), multioutput='raw_values')\n"
      ],
      "execution_count": null,
      "outputs": [
        {
          "output_type": "error",
          "ename": "NameError",
          "evalue": "ignored",
          "traceback": [
            "\u001b[0;31m---------------------------------------------------------------------------\u001b[0m",
            "\u001b[0;31mNameError\u001b[0m                                 Traceback (most recent call last)",
            "\u001b[0;32m<ipython-input-1-548e0fa9d044>\u001b[0m in \u001b[0;36m<module>\u001b[0;34m()\u001b[0m\n\u001b[1;32m      2\u001b[0m \u001b[0;34m\u001b[0m\u001b[0m\n\u001b[1;32m      3\u001b[0m \u001b[0;31m# Calculate the R squared on the test set\u001b[0m\u001b[0;34m\u001b[0m\u001b[0;34m\u001b[0m\u001b[0;34m\u001b[0m\u001b[0m\n\u001b[0;32m----> 4\u001b[0;31m \u001b[0mmsq\u001b[0m \u001b[0;34m=\u001b[0m \u001b[0mmean_squared_log_error\u001b[0m\u001b[0;34m(\u001b[0m\u001b[0mX_test\u001b[0m\u001b[0;34m,\u001b[0m \u001b[0mrfe_gb\u001b[0m\u001b[0;34m.\u001b[0m\u001b[0mpredict\u001b[0m\u001b[0;34m(\u001b[0m\u001b[0mX_train\u001b[0m\u001b[0;34m)\u001b[0m\u001b[0;34m,\u001b[0m \u001b[0mmultioutput\u001b[0m\u001b[0;34m=\u001b[0m\u001b[0;34m'raw_values'\u001b[0m\u001b[0;34m)\u001b[0m\u001b[0;34m\u001b[0m\u001b[0;34m\u001b[0m\u001b[0m\n\u001b[0m",
            "\u001b[0;31mNameError\u001b[0m: name 'X_test' is not defined"
          ]
        }
      ]
    },
    {
      "cell_type": "code",
      "metadata": {
        "id": "TP_PrpJ_yB1g"
      },
      "source": [
        ""
      ],
      "execution_count": null,
      "outputs": []
    },
    {
      "cell_type": "code",
      "metadata": {
        "id": "jXlXFrtoGJHd",
        "colab": {
          "base_uri": "https://localhost:8080/",
          "height": 425
        },
        "outputId": "2471f5cf-2be9-4221-bba0-0f63ad5565eb"
      },
      "source": [
        "# Third RandomForestRegressor\n",
        "\n",
        "from sklearn.feature_selection import RFE\n",
        "from sklearn.ensemble import RandomForestRegressor\n",
        "\n",
        "# Select sum(lcv_mask) features with RFE on a RandomForestRegressor, drop 3 features on each step\n",
        "rfe_rf = RFE(estimator=RandomForestRegressor(), \n",
        "             n_features_to_select=sum(lcv_mask), step=3, verbose=1)\n",
        "rfe_rf.fit(X_train, y_train)\n",
        "\n",
        "# Calculate the R squared on the test set\n",
        "r_squared = rfe_rf.score(X_test, y_test)\n",
        "print('The model can explain {0:.1%} of the variance in the test set'.format(r_squared))\n",
        "\n",
        "# Assign the support array to gb_mask\n",
        "rf_mask = rfe_rf.support_\n"
      ],
      "execution_count": null,
      "outputs": [
        {
          "output_type": "stream",
          "text": [
            "Fitting estimator with 106 features.\n",
            "Fitting estimator with 103 features.\n",
            "Fitting estimator with 100 features.\n",
            "Fitting estimator with 97 features.\n",
            "Fitting estimator with 94 features.\n",
            "Fitting estimator with 91 features.\n",
            "Fitting estimator with 88 features.\n",
            "Fitting estimator with 85 features.\n",
            "Fitting estimator with 82 features.\n",
            "Fitting estimator with 79 features.\n",
            "Fitting estimator with 76 features.\n",
            "Fitting estimator with 73 features.\n",
            "Fitting estimator with 70 features.\n",
            "Fitting estimator with 67 features.\n",
            "Fitting estimator with 64 features.\n",
            "Fitting estimator with 61 features.\n",
            "Fitting estimator with 58 features.\n",
            "Fitting estimator with 55 features.\n",
            "Fitting estimator with 52 features.\n",
            "Fitting estimator with 49 features.\n",
            "Fitting estimator with 46 features.\n",
            "Fitting estimator with 43 features.\n",
            "Fitting estimator with 40 features.\n",
            "The model can explain 97.6% of the variance in the test set\n"
          ],
          "name": "stdout"
        }
      ]
    },
    {
      "cell_type": "code",
      "metadata": {
        "id": "YnYE8SGuIR4O",
        "colab": {
          "base_uri": "https://localhost:8080/",
          "height": 153
        },
        "outputId": "fd784271-ee11-4121-efee-e9dc70aa41ed"
      },
      "source": [
        "# Fourth Step: Voting\n",
        "\n",
        "# Sum the votes of the three models\n",
        "votes = np.sum([lcv_mask, rf_mask, gb_mask], axis=0)\n",
        "\n",
        "# Create a mask for features selected by all 3 models\n",
        "meta_mask = votes >= 3\n",
        "\n",
        "# Apply the dimensionality reduction on X\n",
        "X_reduced = X.loc[:, meta_mask]\n",
        "X_reduced.columns"
      ],
      "execution_count": null,
      "outputs": [
        {
          "output_type": "execute_result",
          "data": {
            "text/plain": [
              "Index(['abdominalextensiondepthsitting', 'axillaheight', 'bicristalbreadth',\n",
              "       'buttockdepth', 'buttockheight', 'cervicaleheight', 'chestdepth',\n",
              "       'chestheight', 'forearmforearmbreadth', 'forearmhandlength',\n",
              "       'mentonsellionlength', 'neckcircumferencebase', 'radialestylionlength',\n",
              "       'sleevelengthspinewrist', 'tenthribheight', 'thighclearance',\n",
              "       'thumbtipreach', 'tragiontopofhead', 'waistdepth',\n",
              "       'waistfrontlengthsitting', 'wristcircumference', 'stature_m'],\n",
              "      dtype='object')"
            ]
          },
          "metadata": {
            "tags": []
          },
          "execution_count": 55
        }
      ]
    },
    {
      "cell_type": "markdown",
      "metadata": {
        "id": "EBmayd00JrJ8"
      },
      "source": [
        "# Feature Extraction"
      ]
    },
    {
      "cell_type": "markdown",
      "metadata": {
        "id": "VJShVPrnKGE1"
      },
      "source": [
        "Feature extraction calculates new features based on the existing one. \n",
        "\n",
        "On Feature selection some features are dropped completely.\n",
        "\n",
        "Feature extraction creates new features with combinations of existing ones. Powerful tools that will calculate new features. **You need to know dataset really well**.\n",
        "\n",
        "For example BMI is the calculation between weight and height. Use BMI and drop the others.\n",
        "\n",
        "Other example is to use average of features. e.g. right arm length, left arm length. only one average feature. There is a cost to use average of two features, depending on the variance between 2 features.\n",
        "\n",
        "For example if we are comparing leg lenght and arm length there is high variance. Instead of taking the mean, there is an alternative technique: **PCA**.\n",
        "\n",
        "PCA: is important to SCALE feature first. (with StandardScaler). Reference correlation and variance with two vectors (coordinates to points). This reference systems is called **Principal Components**.--> **PCA** is Principal Component Analysis.\n"
      ]
    },
    {
      "cell_type": "markdown",
      "metadata": {
        "id": "A0qOivsrOU7u"
      },
      "source": [
        "## Combination of existing features"
      ]
    },
    {
      "cell_type": "code",
      "metadata": {
        "id": "uA1V846YJqZX",
        "colab": {
          "base_uri": "https://localhost:8080/",
          "height": 204
        },
        "outputId": "32a5dd4d-45e8-42d9-b040-256115bd514f"
      },
      "source": [
        "import pandas as pd\n",
        "\n",
        "sales_df = pd.read_csv('https://assets.datacamp.com/production/repositories/3515/datasets/236dfa1d124bf01147dd5b3da595066fcf84a1a4/grocery_sales.csv')\n",
        "sales_df.head()"
      ],
      "execution_count": null,
      "outputs": [
        {
          "output_type": "execute_result",
          "data": {
            "text/html": [
              "<div>\n",
              "<style scoped>\n",
              "    .dataframe tbody tr th:only-of-type {\n",
              "        vertical-align: middle;\n",
              "    }\n",
              "\n",
              "    .dataframe tbody tr th {\n",
              "        vertical-align: top;\n",
              "    }\n",
              "\n",
              "    .dataframe thead th {\n",
              "        text-align: right;\n",
              "    }\n",
              "</style>\n",
              "<table border=\"1\" class=\"dataframe\">\n",
              "  <thead>\n",
              "    <tr style=\"text-align: right;\">\n",
              "      <th></th>\n",
              "      <th>storeID</th>\n",
              "      <th>product</th>\n",
              "      <th>quantity</th>\n",
              "      <th>revenue</th>\n",
              "    </tr>\n",
              "  </thead>\n",
              "  <tbody>\n",
              "    <tr>\n",
              "      <th>0</th>\n",
              "      <td>A</td>\n",
              "      <td>Apples</td>\n",
              "      <td>1811</td>\n",
              "      <td>9300.6</td>\n",
              "    </tr>\n",
              "    <tr>\n",
              "      <th>1</th>\n",
              "      <td>A</td>\n",
              "      <td>Bananas</td>\n",
              "      <td>1003</td>\n",
              "      <td>3375.2</td>\n",
              "    </tr>\n",
              "    <tr>\n",
              "      <th>2</th>\n",
              "      <td>A</td>\n",
              "      <td>Oranges</td>\n",
              "      <td>1604</td>\n",
              "      <td>8528.5</td>\n",
              "    </tr>\n",
              "    <tr>\n",
              "      <th>3</th>\n",
              "      <td>B</td>\n",
              "      <td>Apples</td>\n",
              "      <td>1785</td>\n",
              "      <td>9181.0</td>\n",
              "    </tr>\n",
              "    <tr>\n",
              "      <th>4</th>\n",
              "      <td>B</td>\n",
              "      <td>Bananas</td>\n",
              "      <td>944</td>\n",
              "      <td>3680.2</td>\n",
              "    </tr>\n",
              "  </tbody>\n",
              "</table>\n",
              "</div>"
            ],
            "text/plain": [
              "  storeID  product  quantity  revenue\n",
              "0       A   Apples      1811   9300.6\n",
              "1       A  Bananas      1003   3375.2\n",
              "2       A  Oranges      1604   8528.5\n",
              "3       B   Apples      1785   9181.0\n",
              "4       B  Bananas       944   3680.2"
            ]
          },
          "metadata": {
            "tags": []
          },
          "execution_count": 57
        }
      ]
    },
    {
      "cell_type": "code",
      "metadata": {
        "id": "OMFE-iUVNGrL",
        "colab": {
          "base_uri": "https://localhost:8080/",
          "height": 119
        },
        "outputId": "74432e21-7a4e-446c-f760-dd7bd2031365"
      },
      "source": [
        "# For example You want to compare prices for specific products between stores.\n",
        "# It's more important to know average price sold.\n",
        "\n",
        "# Calculate the price from the quantity sold and revenue\n",
        "sales_df['price'] = sales_df['revenue'] / sales_df['quantity']\n",
        "\n",
        "# Drop the quantity and revenue features\n",
        "reduced_df = sales_df.drop(['revenue', 'quantity'], axis=1)\n",
        "\n",
        "print(reduced_df.head())"
      ],
      "execution_count": null,
      "outputs": [
        {
          "output_type": "stream",
          "text": [
            "  storeID  product     price\n",
            "0       A   Apples  5.135616\n",
            "1       A  Bananas  3.365105\n",
            "2       A  Oranges  5.317020\n",
            "3       B   Apples  5.143417\n",
            "4       B  Bananas  3.898517\n"
          ],
          "name": "stdout"
        }
      ]
    },
    {
      "cell_type": "markdown",
      "metadata": {
        "id": "FYASCYdsONfq"
      },
      "source": [
        "## PCA"
      ]
    },
    {
      "cell_type": "markdown",
      "metadata": {
        "id": "TObKmoMOeUOL"
      },
      "source": [
        "**PCA is NOT the preferred algorithm to reduce the dimensionality of categorical datasets. But we can check if they align with the most important sources of variance in the data**"
      ]
    },
    {
      "cell_type": "markdown",
      "metadata": {
        "id": "Uw1rXQwnOPga"
      },
      "source": [
        "Before doing anything with PCA --> Use StarndarScaler()\n",
        "\n",
        "PCA removes correlation between features. Taking vectors of principal components (coordinates).\n",
        "\n",
        "The components of PCA are much harder to understand than original features.\n",
        "You can describe 100 feature dataset with 100 principal components.\n",
        "Why do I want to do such thing? The components are much more difficult to understand but components share no duplicate information and that they are ranked for most to least important. We can acces the explained variance ratio of each principal component after fitting the algorithm to the data.\n"
      ]
    },
    {
      "cell_type": "code",
      "metadata": {
        "id": "unLCqbr9V19_",
        "colab": {
          "base_uri": "https://localhost:8080/",
          "height": 68
        },
        "outputId": "e7f83463-c0f4-482e-fb60-fe1dc7681f58"
      },
      "source": [
        "# Les make Gender our target variable\n",
        "\n",
        "# Dataset \n",
        "\n",
        "ansur_female = pd.read_csv('https://assets.datacamp.com/production/repositories/3515/datasets/802fc5cdbe3a29248483e496a966627ea9629e7a/ANSUR_II_FEMALE.csv')\n",
        "ansur_male = pd.read_csv('https://assets.datacamp.com/production/repositories/3515/datasets/28edd853c0a6aa7316b0d84a21f8e0d821e5010d/ANSUR_II_MALE.csv')\n",
        "\n",
        "display(ansur_female.shape)\n",
        "display(ansur_male.shape)\n",
        "\n",
        "ansur_df = pd.concat([ansur_female,ansur_male])\n",
        "\n",
        "mapping = {'Female':0,'Male':1}\n",
        "ansur_df.Gender = ansur_df.Gender.map(mapping)\n",
        "\n",
        "\n",
        "non_numeric = ['BMI_class','Height_class','Component','Branch']\n",
        "ansur_df = pd.get_dummies(data=ansur_df, columns=non_numeric)\n",
        "print(ansur_df.shape)\n",
        "\n",
        "y= ansur_df['Gender']\n",
        "\n",
        "X = ansur_df.drop('Gender',axis=1)\n",
        "\n",
        "# Import train_test_split()\n",
        "from sklearn.model_selection import train_test_split\n",
        "\n",
        "# Perform a 70% train and 30% test data split\n",
        "X_train, X_test, y_train, y_test = train_test_split(X, y, test_size=0.3)\n"
      ],
      "execution_count": null,
      "outputs": [
        {
          "output_type": "display_data",
          "data": {
            "text/plain": [
              "(1986, 99)"
            ]
          },
          "metadata": {
            "tags": []
          }
        },
        {
          "output_type": "display_data",
          "data": {
            "text/plain": [
              "(4082, 99)"
            ]
          },
          "metadata": {
            "tags": []
          }
        },
        {
          "output_type": "stream",
          "text": [
            "(6068, 107)\n"
          ],
          "name": "stdout"
        }
      ]
    },
    {
      "cell_type": "code",
      "metadata": {
        "id": "P1Pz1sEsWNy5",
        "colab": {
          "base_uri": "https://localhost:8080/",
          "height": 323
        },
        "outputId": "b2721b0a-8db5-4b3a-e67b-72077003bed0"
      },
      "source": [
        "\n",
        "from sklearn.preprocessing import StandardScaler\n",
        "from sklearn.decomposition import PCA\n",
        "\n",
        "# Create the scaler and standardize the data\n",
        "scaler = StandardScaler()\n",
        "ansur_std = scaler.fit_transform(ansur_df)\n",
        "\n",
        "# Create the PCA instance and fit and transform the data with pca\n",
        "pca = PCA()\n",
        "pca.fit_transform(ansur_std)\n",
        "\n",
        "#Explain variance ratio cumulatively\n",
        "print(pca.explained_variance_ratio_.cumsum())"
      ],
      "execution_count": null,
      "outputs": [
        {
          "output_type": "stream",
          "text": [
            "[0.50571192 0.6299911  0.67964412 0.70859059 0.72916563 0.74724224\n",
            " 0.76278221 0.7771437  0.7901157  0.80187621 0.81318405 0.82334502\n",
            " 0.83323667 0.84271916 0.85188482 0.86040145 0.86835544 0.87588896\n",
            " 0.88292206 0.88878045 0.89439769 0.89992196 0.90517948 0.91020825\n",
            " 0.91521576 0.91976583 0.92402549 0.92807202 0.93190507 0.93554222\n",
            " 0.93912424 0.94244974 0.9456695  0.94853003 0.95127982 0.95379022\n",
            " 0.95626119 0.95866282 0.96088154 0.96286508 0.96475524 0.96652695\n",
            " 0.96824809 0.96994157 0.97156435 0.97307615 0.97447567 0.97580725\n",
            " 0.97708857 0.9783239  0.97946046 0.98057886 0.98168172 0.98267888\n",
            " 0.98362907 0.98454762 0.98542909 0.98626583 0.9870639  0.98783212\n",
            " 0.98858784 0.98925501 0.98989511 0.99048972 0.991062   0.99162801\n",
            " 0.99212511 0.99260411 0.99305977 0.99349864 0.99391053 0.99430123\n",
            " 0.99466128 0.99500611 0.99533025 0.99564504 0.99593444 0.9962155\n",
            " 0.99648716 0.99675404 0.99701836 0.997257   0.99748831 0.99770093\n",
            " 0.99790413 0.9980993  0.99827952 0.99845472 0.99862428 0.99878826\n",
            " 0.99894534 0.99908292 0.99921647 0.9993454  0.999473   0.99959127\n",
            " 0.99969249 0.99978337 0.99986182 0.99990804 0.99994765 0.99998143\n",
            " 1.         1.         1.         1.         1.        ]\n"
          ],
          "name": "stdout"
        }
      ]
    },
    {
      "cell_type": "code",
      "metadata": {
        "id": "yjdgLbxOYoC7",
        "colab": {
          "base_uri": "https://localhost:8080/",
          "height": 102
        },
        "outputId": "ccd9a00e-016c-4b69-f600-0e18be98246a"
      },
      "source": [
        "# how many principal components to I have to keep in order to explain 90%\n",
        "# of variances\n",
        "\n",
        "explain = [0.7,0.8,0.9,0.95,0.98]\n",
        "for percentage in explain:\n",
        "  mask = pca.explained_variance_ratio_.cumsum()> percentage\n",
        "  num_features = sum(mask) - len(mask) -1\n",
        "  print('To explain more than {}% of variances PCA uses {} numbers of features'.format(percentage*100, -num_features))"
      ],
      "execution_count": null,
      "outputs": [
        {
          "output_type": "stream",
          "text": [
            "To explain more than 70.0% of variances PCA uses 4 numbers of features\n",
            "To explain more than 80.0% of variances PCA uses 10 numbers of features\n",
            "To explain more than 90.0% of variances PCA uses 23 numbers of features\n",
            "To explain more than 95.0% of variances PCA uses 35 numbers of features\n",
            "To explain more than 98.0% of variances PCA uses 52 numbers of features\n"
          ],
          "name": "stdout"
        }
      ]
    },
    {
      "cell_type": "markdown",
      "metadata": {
        "id": "C-yAxo5bcK6F"
      },
      "source": [
        "## Plot principal components"
      ]
    },
    {
      "cell_type": "code",
      "metadata": {
        "id": "E1r7zFpEcKZD",
        "colab": {
          "base_uri": "https://localhost:8080/",
          "height": 279
        },
        "outputId": "f91dea6d-7bcb-4f80-f231-0f46ee11c2f5"
      },
      "source": [
        "#Plot first 25 components\n",
        "features = range(pca.n_components_)\n",
        "variance = pca.explained_variance_\n",
        "\n",
        "num_features = 25\n",
        "\n",
        "plt.bar(features[:num_features], variance[:num_features])\n",
        "plt.xticks(features[:num_features])\n",
        "plt.ylabel('Variance')\n",
        "plt.xlabel('PCA feature')\n",
        "plt.show()"
      ],
      "execution_count": null,
      "outputs": [
        {
          "output_type": "display_data",
          "data": {
            "image/png": "[encoded data removed]",
            "text/plain": [
              "<Figure size 432x288 with 1 Axes>"
            ]
          },
          "metadata": {
            "tags": [],
            "needs_background": "light"
          }
        }
      ]
    },
    {
      "cell_type": "code",
      "metadata": {
        "id": "6i1P0gvxdCJx",
        "colab": {
          "base_uri": "https://localhost:8080/",
          "height": 279
        },
        "outputId": "79e423ca-44b9-45e2-c407-e9b7d2787b73"
      },
      "source": [
        "# Plot cumulative\n",
        "\n",
        "#Plot first 25 components\n",
        "features = range(pca.n_components_)\n",
        "cum = pca.explained_variance_ratio_.cumsum()\n",
        "\n",
        "num_features = 25\n",
        "\n",
        "plt.bar(features[:num_features], cum[:num_features])\n",
        "plt.xticks(features[:num_features])\n",
        "plt.ylabel('Cumulative variance explanation')\n",
        "plt.xlabel('PCA feature')\n",
        "plt.show()"
      ],
      "execution_count": null,
      "outputs": [
        {
          "output_type": "display_data",
          "data": {
            "image/png": "[encoded data removed]",
            "text/plain": [
              "<Figure size 432x288 with 1 Axes>"
            ]
          },
          "metadata": {
            "tags": [],
            "needs_background": "light"
          }
        }
      ]
    },
    {
      "cell_type": "markdown",
      "metadata": {
        "id": "PNoHaRfFbbc7"
      },
      "source": [
        "## After PCA analysis we put it into model"
      ]
    },
    {
      "cell_type": "markdown",
      "metadata": {
        "id": "3KwUvuTUjXvg"
      },
      "source": [
        "### With only 4 features we have an accuracy score of 99%\n"
      ]
    },
    {
      "cell_type": "markdown",
      "metadata": {
        "id": "1wRSWnmFbf4U"
      },
      "source": [
        "To improve understanding of the components we should use the components_ attribute (pca.components_)\n",
        "\n"
      ]
    },
    {
      "cell_type": "code",
      "metadata": {
        "id": "vuzVj8a_d0Tw",
        "colab": {
          "base_uri": "https://localhost:8080/",
          "height": 119
        },
        "outputId": "ce78cd08-570c-457d-87ae-0e2ee2ec33f8"
      },
      "source": [
        "from sklearn.preprocessing import StandardScaler\n",
        "from sklearn.decomposition import PCA\n",
        "from sklearn.pipeline import Pipeline\n",
        "\n",
        "# We select 4 features that explained 70% of dataset variance\n",
        "num_features = 4\n",
        "\n",
        "pipeline = Pipeline([\n",
        "                     ('scaler',StandardScaler()),\n",
        "                     ('PCA', PCA(n_components=num_features)),\n",
        "                     ('classifier', RandomForestClassifier())  ])\n",
        "\n",
        "pipeline.fit(X_train,y_train)\n",
        "\n",
        "# In a pipeline, how to get to the fitted PCA model?\n",
        "# Here we see in step[1] it is the PCA, and we need to get to the model, \n",
        "# not the name, so we need steps[1][1]\n",
        "print(pipeline.steps[1])\n",
        "print(pipeline.steps[1][1])\n",
        "print(pipeline.steps[1][1].explained_variance_ratio_.cumsum())\n",
        "\n",
        "\n",
        "# With only 4 features we have an accuracy score of 99% !!!!!!!\n",
        "print(pipeline.score(X_test,y_test))"
      ],
      "execution_count": null,
      "outputs": [
        {
          "output_type": "stream",
          "text": [
            "('PCA', PCA(copy=True, iterated_power='auto', n_components=4, random_state=None,\n",
            "    svd_solver='auto', tol=0.0, whiten=False))\n",
            "PCA(copy=True, iterated_power='auto', n_components=4, random_state=None,\n",
            "    svd_solver='auto', tol=0.0, whiten=False)\n",
            "[0.50174157 0.62995089 0.67715353 0.70651767]\n",
            "0.9923119165293794\n"
          ],
          "name": "stdout"
        }
      ]
    },
    {
      "cell_type": "markdown",
      "metadata": {
        "id": "-v61LnYhx-gs"
      },
      "source": [
        "## Setting an explained variance threshold\n"
      ]
    },
    {
      "cell_type": "markdown",
      "metadata": {
        "id": "5JdGQmqWyCoD"
      },
      "source": [
        "If I want to get 90% of explained variance I ask PCA to give me the number of variables the model should have. \n",
        "\n"
      ]
    },
    {
      "cell_type": "code",
      "metadata": {
        "id": "q0xvPkz_yNdi",
        "colab": {
          "base_uri": "https://localhost:8080/",
          "height": 207
        },
        "outputId": "0b493f69-25ca-4332-c3f0-9067661cee09"
      },
      "source": [
        "from sklearn.preprocessing import StandardScaler\n",
        "from sklearn.decomposition import PCA\n",
        "from sklearn.pipeline import Pipeline\n",
        "\n",
        "# We select 90% of dataset variance\n",
        "explained_variance_threshold = 0.9\n",
        "\n",
        "pipeline = Pipeline([\n",
        "                     ('scaler',StandardScaler()),\n",
        "                     ('PCA', PCA(n_components=explained_variance_threshold)),\n",
        "                     ('classifier', RandomForestClassifier())  ])\n",
        "\n",
        "pipeline.fit(X_train,y_train)\n",
        "\n",
        "# In a pipeline, how to get to the fitted PCA model?\n",
        "# Here we see in step[1] it is the PCA, and we need to get to the model, \n",
        "# not the name, so we need steps[1][1]\n",
        "print(pipeline.steps[1])\n",
        "print(pipeline.steps[1][1])\n",
        "print('Number of features to explain 90% of variance: ', len(pipeline.steps[1][1].components_))\n",
        "print(pipeline.steps[1][1].explained_variance_ratio_.cumsum())\n",
        "\n",
        "\n",
        "# With only 4 features we have an accuracy score of 99% !!!!!!!\n",
        "print(pipeline.score(X_test,y_test))"
      ],
      "execution_count": null,
      "outputs": [
        {
          "output_type": "stream",
          "text": [
            "('PCA', PCA(copy=True, iterated_power='auto', n_components=0.9, random_state=None,\n",
            "    svd_solver='auto', tol=0.0, whiten=False))\n",
            "PCA(copy=True, iterated_power='auto', n_components=0.9, random_state=None,\n",
            "    svd_solver='auto', tol=0.0, whiten=False)\n",
            "Number of features to explain 90% of variance:  23\n",
            "[0.50174157 0.62995089 0.67715353 0.70651767 0.7272936  0.74566624\n",
            " 0.76123434 0.77561611 0.78883386 0.80083882 0.81233804 0.82261999\n",
            " 0.83270109 0.84209426 0.85142458 0.86020676 0.86825281 0.87576665\n",
            " 0.88281198 0.88879223 0.8944632  0.89997416 0.90530155]\n",
            "0.9917627677100495\n"
          ],
          "name": "stdout"
        }
      ]
    },
    {
      "cell_type": "markdown",
      "metadata": {
        "id": "557zrbs3y519"
      },
      "source": [
        "## But, how many components should I pick?"
      ]
    },
    {
      "cell_type": "markdown",
      "metadata": {
        "id": "L_5cATgeztzY"
      },
      "source": [
        "**Check the elbow in plot**"
      ]
    },
    {
      "cell_type": "code",
      "metadata": {
        "id": "sB_9ayl7y5LY",
        "colab": {
          "base_uri": "https://localhost:8080/",
          "height": 279
        },
        "outputId": "3d8cb785-9d1a-4bce-87b4-ae4910b032c8"
      },
      "source": [
        "#Plot first 25 components\n",
        "features = range(pipeline.steps[1][1].n_components_)\n",
        "variance = pipeline.steps[1][1].explained_variance_ratio_\n",
        "\n",
        "num_features = 25\n",
        "\n",
        "plt.plot(features[:num_features], variance[:num_features])\n",
        "plt.xticks(features[:num_features])\n",
        "plt.ylabel('Explained Variance ratio')\n",
        "plt.xlabel('PCA feature index')\n",
        "plt.show()\n",
        "\n",
        "# In this dataset DataCamp says I should pick 3 components. 0,1 and 2 on PCA index."
      ],
      "execution_count": null,
      "outputs": [
        {
          "output_type": "display_data",
          "data": {
            "image/png": "[encoded data removed]",
            "text/plain": [
              "<Figure size 432x288 with 1 Axes>"
            ]
          },
          "metadata": {
            "tags": [],
            "needs_background": "light"
          }
        }
      ]
    },
    {
      "cell_type": "markdown",
      "metadata": {
        "id": "FOdis7Zhz8uY"
      },
      "source": [
        "## How to go back from Principal Components to the features again."
      ]
    },
    {
      "cell_type": "markdown",
      "metadata": {
        "id": "v1tg9EvM0D4-"
      },
      "source": [
        "You've reduced the size of the data X fold but were able to reconstruct images with reasonable quality.\n",
        "\n",
        "pca.inverse_transform()"
      ]
    }
  ]
}