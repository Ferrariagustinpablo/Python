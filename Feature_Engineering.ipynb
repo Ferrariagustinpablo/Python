{
  "nbformat": 4,
  "nbformat_minor": 0,
  "metadata": {
    "colab": {
      "name": "Feature Engineering.ipynb",
      "provenance": [],
      "authorship_tag": "ABX9TyNk7H355N1XhPSi+MfbQlxv",
      "include_colab_link": true
    },
    "kernelspec": {
      "name": "python3",
      "display_name": "Python 3"
    }
  },
  "cells": [
    {
      "cell_type": "markdown",
      "metadata": {
        "id": "view-in-github",
        "colab_type": "text"
      },
      "source": [
        "<a href=\"https://colab.research.google.com/github/Ferrariagustinpablo/Python-Machine-Learning-notebooks/blob/main/Feature_Engineering.ipynb\" target=\"_parent\"><img src=\"https://colab.research.google.com/assets/colab-badge.svg\" alt=\"Open In Colab\"/></a>"
      ]
    },
    {
      "cell_type": "markdown",
      "metadata": {
        "id": "Ji05tZm9y11u"
      },
      "source": [
        "# Feature engineering\n",
        "\n",
        "The act of taking raw data and extracting features for machine learning\n",
        "\n",
        "Most ML work with tabular data. \n",
        "\n",
        "Incorporate feature engineering into the data science workflow.\n",
        "\n",
        "Many ML models assume the data to be distributed normally.\n",
        "\n",
        "You need to transform raw data into the format fot the ML model.\n",
        "\n",
        "** Data manipulation and feature engineering is the most important aspect of the project.**\n",
        "\n"
      ]
    },
    {
      "cell_type": "markdown",
      "metadata": {
        "id": "Auh0ChVw2ww7"
      },
      "source": [
        "## Importing, shape, dtypes and columns"
      ]
    },
    {
      "cell_type": "code",
      "metadata": {
        "id": "kKfR5UNc0cjd"
      },
      "source": [
        "import pandas as pd"
      ],
      "execution_count": null,
      "outputs": []
    },
    {
      "cell_type": "code",
      "metadata": {
        "id": "smwZjFJExat6",
        "colab": {
          "base_uri": "https://localhost:8080/",
          "height": 428
        },
        "outputId": "a4882e03-6de3-49f8-e5fd-43b8e8a8efbd"
      },
      "source": [
        "# Stack Overflow Survey Responses (Modified)\n",
        "\n",
        "path = 'https://assets.datacamp.com/production/repositories/3752/datasets/19699a2441073ad6459bf5e3e17690e2cae86cf1/Combined_DS_v10.csv'\n",
        "\n",
        "df = pd.read_csv(path)\n",
        "df.head()"
      ],
      "execution_count": null,
      "outputs": [
        {
          "output_type": "execute_result",
          "data": {
            "text/html": [
              "<div>\n",
              "<style scoped>\n",
              "    .dataframe tbody tr th:only-of-type {\n",
              "        vertical-align: middle;\n",
              "    }\n",
              "\n",
              "    .dataframe tbody tr th {\n",
              "        vertical-align: top;\n",
              "    }\n",
              "\n",
              "    .dataframe thead th {\n",
              "        text-align: right;\n",
              "    }\n",
              "</style>\n",
              "<table border=\"1\" class=\"dataframe\">\n",
              "  <thead>\n",
              "    <tr style=\"text-align: right;\">\n",
              "      <th></th>\n",
              "      <th>SurveyDate</th>\n",
              "      <th>FormalEducation</th>\n",
              "      <th>ConvertedSalary</th>\n",
              "      <th>Hobby</th>\n",
              "      <th>Country</th>\n",
              "      <th>StackOverflowJobsRecommend</th>\n",
              "      <th>VersionControl</th>\n",
              "      <th>Age</th>\n",
              "      <th>Years Experience</th>\n",
              "      <th>Gender</th>\n",
              "      <th>RawSalary</th>\n",
              "    </tr>\n",
              "  </thead>\n",
              "  <tbody>\n",
              "    <tr>\n",
              "      <th>0</th>\n",
              "      <td>2/28/18 20:20</td>\n",
              "      <td>Bachelor's degree (BA. BS. B.Eng.. etc.)</td>\n",
              "      <td>NaN</td>\n",
              "      <td>Yes</td>\n",
              "      <td>South Africa</td>\n",
              "      <td>NaN</td>\n",
              "      <td>Git</td>\n",
              "      <td>21</td>\n",
              "      <td>13</td>\n",
              "      <td>Male</td>\n",
              "      <td>NaN</td>\n",
              "    </tr>\n",
              "    <tr>\n",
              "      <th>1</th>\n",
              "      <td>6/28/18 13:26</td>\n",
              "      <td>Bachelor's degree (BA. BS. B.Eng.. etc.)</td>\n",
              "      <td>70841.0</td>\n",
              "      <td>Yes</td>\n",
              "      <td>Sweeden</td>\n",
              "      <td>7.0</td>\n",
              "      <td>Git;Subversion</td>\n",
              "      <td>38</td>\n",
              "      <td>9</td>\n",
              "      <td>Male</td>\n",
              "      <td>70,841.00</td>\n",
              "    </tr>\n",
              "    <tr>\n",
              "      <th>2</th>\n",
              "      <td>6/6/18 3:37</td>\n",
              "      <td>Bachelor's degree (BA. BS. B.Eng.. etc.)</td>\n",
              "      <td>NaN</td>\n",
              "      <td>No</td>\n",
              "      <td>Sweeden</td>\n",
              "      <td>8.0</td>\n",
              "      <td>Git</td>\n",
              "      <td>45</td>\n",
              "      <td>11</td>\n",
              "      <td>NaN</td>\n",
              "      <td>NaN</td>\n",
              "    </tr>\n",
              "    <tr>\n",
              "      <th>3</th>\n",
              "      <td>5/9/18 1:06</td>\n",
              "      <td>Some college/university study without earning ...</td>\n",
              "      <td>21426.0</td>\n",
              "      <td>Yes</td>\n",
              "      <td>Sweeden</td>\n",
              "      <td>NaN</td>\n",
              "      <td>Zip file back-ups</td>\n",
              "      <td>46</td>\n",
              "      <td>12</td>\n",
              "      <td>Male</td>\n",
              "      <td>21,426.00</td>\n",
              "    </tr>\n",
              "    <tr>\n",
              "      <th>4</th>\n",
              "      <td>4/12/18 22:41</td>\n",
              "      <td>Bachelor's degree (BA. BS. B.Eng.. etc.)</td>\n",
              "      <td>41671.0</td>\n",
              "      <td>Yes</td>\n",
              "      <td>UK</td>\n",
              "      <td>8.0</td>\n",
              "      <td>Git</td>\n",
              "      <td>39</td>\n",
              "      <td>7</td>\n",
              "      <td>Male</td>\n",
              "      <td>£41,671.00</td>\n",
              "    </tr>\n",
              "  </tbody>\n",
              "</table>\n",
              "</div>"
            ],
            "text/plain": [
              "      SurveyDate  ...   RawSalary\n",
              "0  2/28/18 20:20  ...         NaN\n",
              "1  6/28/18 13:26  ...   70,841.00\n",
              "2    6/6/18 3:37  ...         NaN\n",
              "3    5/9/18 1:06  ...   21,426.00\n",
              "4  4/12/18 22:41  ...  £41,671.00\n",
              "\n",
              "[5 rows x 11 columns]"
            ]
          },
          "metadata": {
            "tags": []
          },
          "execution_count": 2
        }
      ]
    },
    {
      "cell_type": "code",
      "metadata": {
        "id": "U65_heBf0t7T",
        "colab": {
          "base_uri": "https://localhost:8080/",
          "height": 306
        },
        "outputId": "4167b85f-53bc-45ed-b7e4-c4d2312767d3"
      },
      "source": [
        "print(df.shape)\n",
        "print(df.dtypes)\n",
        "print(df.columns)"
      ],
      "execution_count": null,
      "outputs": [
        {
          "output_type": "stream",
          "text": [
            "(999, 11)\n",
            "SurveyDate                     object\n",
            "FormalEducation                object\n",
            "ConvertedSalary               float64\n",
            "Hobby                          object\n",
            "Country                        object\n",
            "StackOverflowJobsRecommend    float64\n",
            "VersionControl                 object\n",
            "Age                             int64\n",
            "Years Experience                int64\n",
            "Gender                         object\n",
            "RawSalary                      object\n",
            "dtype: object\n",
            "Index(['SurveyDate', 'FormalEducation', 'ConvertedSalary', 'Hobby', 'Country',\n",
            "       'StackOverflowJobsRecommend', 'VersionControl', 'Age',\n",
            "       'Years Experience', 'Gender', 'RawSalary'],\n",
            "      dtype='object')\n"
          ],
          "name": "stdout"
        }
      ]
    },
    {
      "cell_type": "markdown",
      "metadata": {
        "id": "ukI5zo3D2fS_"
      },
      "source": [
        "## Selecting specific data types\n",
        "\n",
        "Often a data set will contain columns with several different data types (like the one you are working with). The majority of machine learning models require you to have a consistent data type across features. Similarly, most feature engineering techniques are applicable to only one type of data at a time. For these reasons among others, you will often want to be able to access just the columns of certain types when working with a DataFrame."
      ]
    },
    {
      "cell_type": "code",
      "metadata": {
        "id": "zgSWdd9W06N0",
        "colab": {
          "base_uri": "https://localhost:8080/",
          "height": 119
        },
        "outputId": "732d0031-e4df-44ae-92e2-53f9dd85fd66"
      },
      "source": [
        "# Selecting specific data types\n",
        "\n",
        "df_ints = df.select_dtypes(include=['int','float'])\n",
        "\n",
        "df_strs = df.select_dtypes(include=['object'])\n",
        "\n",
        "print(df_ints.columns)\n",
        "df_strs.columns"
      ],
      "execution_count": null,
      "outputs": [
        {
          "output_type": "stream",
          "text": [
            "Index(['ConvertedSalary', 'StackOverflowJobsRecommend', 'Age',\n",
            "       'Years Experience'],\n",
            "      dtype='object')\n"
          ],
          "name": "stdout"
        },
        {
          "output_type": "execute_result",
          "data": {
            "text/plain": [
              "Index(['SurveyDate', 'FormalEducation', 'Hobby', 'Country', 'VersionControl',\n",
              "       'Gender', 'RawSalary'],\n",
              "      dtype='object')"
            ]
          },
          "metadata": {
            "tags": []
          },
          "execution_count": 4
        }
      ]
    },
    {
      "cell_type": "markdown",
      "metadata": {
        "id": "aLad_GUI3Ur_"
      },
      "source": [
        "## Dealing with categorical features\n",
        "\n",
        "Represent groups that are qualitative in nature, like country of birth, colors, etc. \n",
        "\n",
        "You need to encode categorical features for the computer to understand it. \n",
        "\n",
        "From qualitative to quantitative.\n",
        "\n",
        "Cannot allocate random numbers to each category. We need additionally binary features:\n",
        "\n",
        "1- One hot encoding (.get_dummies in pandas). Creates explainable features.\n",
        "\n",
        "2 - Dummy encoding, creates n-1 features for n categories  (.get_dummies in pandas with drop_first=True). Creates necessary features with no duplication.\n",
        "\n",
        "1 and 2 are different and often confused.\n",
        "\n",
        "\n"
      ]
    },
    {
      "cell_type": "markdown",
      "metadata": {
        "id": "dAkVmGNh53Hi"
      },
      "source": [
        "### Dealing with uncommon categories \n",
        "\n",
        "**Limit your columns and then get_dummies**\n",
        "\n",
        "You limit your columns by counting them and seeing what values will I include.\n",
        "\n",
        "Am I going to include 'I never completed any formal education' that has only 1 sample for that category?. This is when categories have **uneven distribution**\n",
        "\n",
        "Some features can have many different categories but a very uneven distribution of their occurrences.\n",
        "\n",
        "You can get: 'I never completed any formal education' + Secondary school (e.g. American high school. German Realschule or Gymnasium. etc.) + Primary/elementary school  into only one category of **\"NO relevant education\"** for example. "
      ]
    },
    {
      "cell_type": "code",
      "metadata": {
        "id": "VnmlGBClAst9",
        "colab": {
          "base_uri": "https://localhost:8080/",
          "height": 85
        },
        "outputId": "737d6d03-d4f1-4330-b74f-4c8e2ac95d13"
      },
      "source": [
        "df['FormalEducation'].value_counts()[df['FormalEducation'].value_counts()<50].index"
      ],
      "execution_count": null,
      "outputs": [
        {
          "output_type": "execute_result",
          "data": {
            "text/plain": [
              "Index(['Associate degree', 'Other doctoral degree (Ph.D. Ed.D.. etc.)',\n",
              "       'Professional degree (JD. MD. etc.)', 'Primary/elementary school',\n",
              "       'I never completed any formal education'],\n",
              "      dtype='object')"
            ]
          },
          "metadata": {
            "tags": []
          },
          "execution_count": 5
        }
      ]
    },
    {
      "cell_type": "code",
      "metadata": {
        "id": "YHhZneLj5olT",
        "colab": {
          "base_uri": "https://localhost:8080/",
          "height": 530
        },
        "outputId": "61e36ad8-d678-43be-bfdf-d7e1e9102420"
      },
      "source": [
        "education_categ = df['FormalEducation']\n",
        "education_counts = education_categ.value_counts()\n",
        "display(education_counts)\n",
        "\n",
        "categories_to_change = education_counts[education_counts <50].index\n",
        "print(categories_to_change)\n",
        "\n",
        "mask = education_categ.isin(categories_to_change)\n",
        "\n",
        "education_categ[mask] = 'Other'\n",
        "\n",
        "print(education_counts)"
      ],
      "execution_count": null,
      "outputs": [
        {
          "output_type": "display_data",
          "data": {
            "text/plain": [
              "Bachelor's degree (BA. BS. B.Eng.. etc.)                                              482\n",
              "Master's degree (MA. MS. M.Eng.. MBA. etc.)                                           241\n",
              "Some college/university study without earning a degree                                130\n",
              "Secondary school (e.g. American high school. German Realschule or Gymnasium. etc.)     58\n",
              "Associate degree                                                                       33\n",
              "Other doctoral degree (Ph.D. Ed.D.. etc.)                                              30\n",
              "Professional degree (JD. MD. etc.)                                                     19\n",
              "Primary/elementary school                                                               5\n",
              "I never completed any formal education                                                  1\n",
              "Name: FormalEducation, dtype: int64"
            ]
          },
          "metadata": {
            "tags": []
          }
        },
        {
          "output_type": "stream",
          "text": [
            "Index(['Associate degree', 'Other doctoral degree (Ph.D. Ed.D.. etc.)',\n",
            "       'Professional degree (JD. MD. etc.)', 'Primary/elementary school',\n",
            "       'I never completed any formal education'],\n",
            "      dtype='object')\n",
            "Bachelor's degree (BA. BS. B.Eng.. etc.)                                              482\n",
            "Master's degree (MA. MS. M.Eng.. MBA. etc.)                                           241\n",
            "Some college/university study without earning a degree                                130\n",
            "Secondary school (e.g. American high school. German Realschule or Gymnasium. etc.)     58\n",
            "Associate degree                                                                       33\n",
            "Other doctoral degree (Ph.D. Ed.D.. etc.)                                              30\n",
            "Professional degree (JD. MD. etc.)                                                     19\n",
            "Primary/elementary school                                                               5\n",
            "I never completed any formal education                                                  1\n",
            "Name: FormalEducation, dtype: int64\n"
          ],
          "name": "stdout"
        },
        {
          "output_type": "stream",
          "text": [
            "/usr/local/lib/python3.6/dist-packages/ipykernel_launcher.py:10: SettingWithCopyWarning: \n",
            "A value is trying to be set on a copy of a slice from a DataFrame\n",
            "\n",
            "See the caveats in the documentation: https://pandas.pydata.org/pandas-docs/stable/user_guide/indexing.html#returning-a-view-versus-a-copy\n",
            "  # Remove the CWD from sys.path while we load stuff.\n"
          ],
          "name": "stderr"
        }
      ]
    },
    {
      "cell_type": "code",
      "metadata": {
        "id": "BlaIDPgc2odn",
        "colab": {
          "base_uri": "https://localhost:8080/",
          "height": 711
        },
        "outputId": "165112f3-ccaf-4c17-ad96-e6bd1c605c6a"
      },
      "source": [
        "df = pd.get_dummies(df, drop_first=True, columns=['Gender','Country','FormalEducation'], prefix=['G','C','FE'])\n",
        "df"
      ],
      "execution_count": null,
      "outputs": [
        {
          "output_type": "execute_result",
          "data": {
            "text/html": [
              "<div>\n",
              "<style scoped>\n",
              "    .dataframe tbody tr th:only-of-type {\n",
              "        vertical-align: middle;\n",
              "    }\n",
              "\n",
              "    .dataframe tbody tr th {\n",
              "        vertical-align: top;\n",
              "    }\n",
              "\n",
              "    .dataframe thead th {\n",
              "        text-align: right;\n",
              "    }\n",
              "</style>\n",
              "<table border=\"1\" class=\"dataframe\">\n",
              "  <thead>\n",
              "    <tr style=\"text-align: right;\">\n",
              "      <th></th>\n",
              "      <th>SurveyDate</th>\n",
              "      <th>ConvertedSalary</th>\n",
              "      <th>Hobby</th>\n",
              "      <th>StackOverflowJobsRecommend</th>\n",
              "      <th>VersionControl</th>\n",
              "      <th>Age</th>\n",
              "      <th>Years Experience</th>\n",
              "      <th>RawSalary</th>\n",
              "      <th>G_Female;Male</th>\n",
              "      <th>G_Female;Male;Transgender;Non-binary. genderqueer. or gender non-conforming</th>\n",
              "      <th>G_Female;Transgender</th>\n",
              "      <th>G_Male</th>\n",
              "      <th>G_Male;Non-binary. genderqueer. or gender non-conforming</th>\n",
              "      <th>G_Non-binary. genderqueer. or gender non-conforming</th>\n",
              "      <th>G_Transgender</th>\n",
              "      <th>C_India</th>\n",
              "      <th>C_Ireland</th>\n",
              "      <th>C_Russia</th>\n",
              "      <th>C_South Africa</th>\n",
              "      <th>C_Spain</th>\n",
              "      <th>C_Sweeden</th>\n",
              "      <th>C_UK</th>\n",
              "      <th>C_USA</th>\n",
              "      <th>C_Ukraine</th>\n",
              "      <th>FE_Master's degree (MA. MS. M.Eng.. MBA. etc.)</th>\n",
              "      <th>FE_Other</th>\n",
              "      <th>FE_Secondary school (e.g. American high school. German Realschule or Gymnasium. etc.)</th>\n",
              "      <th>FE_Some college/university study without earning a degree</th>\n",
              "    </tr>\n",
              "  </thead>\n",
              "  <tbody>\n",
              "    <tr>\n",
              "      <th>0</th>\n",
              "      <td>2/28/18 20:20</td>\n",
              "      <td>NaN</td>\n",
              "      <td>Yes</td>\n",
              "      <td>NaN</td>\n",
              "      <td>Git</td>\n",
              "      <td>21</td>\n",
              "      <td>13</td>\n",
              "      <td>NaN</td>\n",
              "      <td>0</td>\n",
              "      <td>0</td>\n",
              "      <td>0</td>\n",
              "      <td>1</td>\n",
              "      <td>0</td>\n",
              "      <td>0</td>\n",
              "      <td>0</td>\n",
              "      <td>0</td>\n",
              "      <td>0</td>\n",
              "      <td>0</td>\n",
              "      <td>1</td>\n",
              "      <td>0</td>\n",
              "      <td>0</td>\n",
              "      <td>0</td>\n",
              "      <td>0</td>\n",
              "      <td>0</td>\n",
              "      <td>0</td>\n",
              "      <td>0</td>\n",
              "      <td>0</td>\n",
              "      <td>0</td>\n",
              "    </tr>\n",
              "    <tr>\n",
              "      <th>1</th>\n",
              "      <td>6/28/18 13:26</td>\n",
              "      <td>70841.0</td>\n",
              "      <td>Yes</td>\n",
              "      <td>7.0</td>\n",
              "      <td>Git;Subversion</td>\n",
              "      <td>38</td>\n",
              "      <td>9</td>\n",
              "      <td>70,841.00</td>\n",
              "      <td>0</td>\n",
              "      <td>0</td>\n",
              "      <td>0</td>\n",
              "      <td>1</td>\n",
              "      <td>0</td>\n",
              "      <td>0</td>\n",
              "      <td>0</td>\n",
              "      <td>0</td>\n",
              "      <td>0</td>\n",
              "      <td>0</td>\n",
              "      <td>0</td>\n",
              "      <td>0</td>\n",
              "      <td>1</td>\n",
              "      <td>0</td>\n",
              "      <td>0</td>\n",
              "      <td>0</td>\n",
              "      <td>0</td>\n",
              "      <td>0</td>\n",
              "      <td>0</td>\n",
              "      <td>0</td>\n",
              "    </tr>\n",
              "    <tr>\n",
              "      <th>2</th>\n",
              "      <td>6/6/18 3:37</td>\n",
              "      <td>NaN</td>\n",
              "      <td>No</td>\n",
              "      <td>8.0</td>\n",
              "      <td>Git</td>\n",
              "      <td>45</td>\n",
              "      <td>11</td>\n",
              "      <td>NaN</td>\n",
              "      <td>0</td>\n",
              "      <td>0</td>\n",
              "      <td>0</td>\n",
              "      <td>0</td>\n",
              "      <td>0</td>\n",
              "      <td>0</td>\n",
              "      <td>0</td>\n",
              "      <td>0</td>\n",
              "      <td>0</td>\n",
              "      <td>0</td>\n",
              "      <td>0</td>\n",
              "      <td>0</td>\n",
              "      <td>1</td>\n",
              "      <td>0</td>\n",
              "      <td>0</td>\n",
              "      <td>0</td>\n",
              "      <td>0</td>\n",
              "      <td>0</td>\n",
              "      <td>0</td>\n",
              "      <td>0</td>\n",
              "    </tr>\n",
              "    <tr>\n",
              "      <th>3</th>\n",
              "      <td>5/9/18 1:06</td>\n",
              "      <td>21426.0</td>\n",
              "      <td>Yes</td>\n",
              "      <td>NaN</td>\n",
              "      <td>Zip file back-ups</td>\n",
              "      <td>46</td>\n",
              "      <td>12</td>\n",
              "      <td>21,426.00</td>\n",
              "      <td>0</td>\n",
              "      <td>0</td>\n",
              "      <td>0</td>\n",
              "      <td>1</td>\n",
              "      <td>0</td>\n",
              "      <td>0</td>\n",
              "      <td>0</td>\n",
              "      <td>0</td>\n",
              "      <td>0</td>\n",
              "      <td>0</td>\n",
              "      <td>0</td>\n",
              "      <td>0</td>\n",
              "      <td>1</td>\n",
              "      <td>0</td>\n",
              "      <td>0</td>\n",
              "      <td>0</td>\n",
              "      <td>0</td>\n",
              "      <td>0</td>\n",
              "      <td>0</td>\n",
              "      <td>1</td>\n",
              "    </tr>\n",
              "    <tr>\n",
              "      <th>4</th>\n",
              "      <td>4/12/18 22:41</td>\n",
              "      <td>41671.0</td>\n",
              "      <td>Yes</td>\n",
              "      <td>8.0</td>\n",
              "      <td>Git</td>\n",
              "      <td>39</td>\n",
              "      <td>7</td>\n",
              "      <td>£41,671.00</td>\n",
              "      <td>0</td>\n",
              "      <td>0</td>\n",
              "      <td>0</td>\n",
              "      <td>1</td>\n",
              "      <td>0</td>\n",
              "      <td>0</td>\n",
              "      <td>0</td>\n",
              "      <td>0</td>\n",
              "      <td>0</td>\n",
              "      <td>0</td>\n",
              "      <td>0</td>\n",
              "      <td>0</td>\n",
              "      <td>0</td>\n",
              "      <td>1</td>\n",
              "      <td>0</td>\n",
              "      <td>0</td>\n",
              "      <td>0</td>\n",
              "      <td>0</td>\n",
              "      <td>0</td>\n",
              "      <td>0</td>\n",
              "    </tr>\n",
              "    <tr>\n",
              "      <th>...</th>\n",
              "      <td>...</td>\n",
              "      <td>...</td>\n",
              "      <td>...</td>\n",
              "      <td>...</td>\n",
              "      <td>...</td>\n",
              "      <td>...</td>\n",
              "      <td>...</td>\n",
              "      <td>...</td>\n",
              "      <td>...</td>\n",
              "      <td>...</td>\n",
              "      <td>...</td>\n",
              "      <td>...</td>\n",
              "      <td>...</td>\n",
              "      <td>...</td>\n",
              "      <td>...</td>\n",
              "      <td>...</td>\n",
              "      <td>...</td>\n",
              "      <td>...</td>\n",
              "      <td>...</td>\n",
              "      <td>...</td>\n",
              "      <td>...</td>\n",
              "      <td>...</td>\n",
              "      <td>...</td>\n",
              "      <td>...</td>\n",
              "      <td>...</td>\n",
              "      <td>...</td>\n",
              "      <td>...</td>\n",
              "      <td>...</td>\n",
              "    </tr>\n",
              "    <tr>\n",
              "      <th>994</th>\n",
              "      <td>10/19/18 13:50</td>\n",
              "      <td>NaN</td>\n",
              "      <td>Yes</td>\n",
              "      <td>NaN</td>\n",
              "      <td>Subversion</td>\n",
              "      <td>45</td>\n",
              "      <td>10</td>\n",
              "      <td>NaN</td>\n",
              "      <td>0</td>\n",
              "      <td>0</td>\n",
              "      <td>0</td>\n",
              "      <td>1</td>\n",
              "      <td>0</td>\n",
              "      <td>0</td>\n",
              "      <td>0</td>\n",
              "      <td>0</td>\n",
              "      <td>0</td>\n",
              "      <td>0</td>\n",
              "      <td>0</td>\n",
              "      <td>0</td>\n",
              "      <td>0</td>\n",
              "      <td>0</td>\n",
              "      <td>0</td>\n",
              "      <td>0</td>\n",
              "      <td>0</td>\n",
              "      <td>0</td>\n",
              "      <td>0</td>\n",
              "      <td>1</td>\n",
              "    </tr>\n",
              "    <tr>\n",
              "      <th>995</th>\n",
              "      <td>4/14/18 15:31</td>\n",
              "      <td>58746.0</td>\n",
              "      <td>No</td>\n",
              "      <td>8.0</td>\n",
              "      <td>Git</td>\n",
              "      <td>27</td>\n",
              "      <td>16</td>\n",
              "      <td>58,746.00</td>\n",
              "      <td>0</td>\n",
              "      <td>0</td>\n",
              "      <td>0</td>\n",
              "      <td>1</td>\n",
              "      <td>0</td>\n",
              "      <td>0</td>\n",
              "      <td>0</td>\n",
              "      <td>0</td>\n",
              "      <td>0</td>\n",
              "      <td>0</td>\n",
              "      <td>0</td>\n",
              "      <td>1</td>\n",
              "      <td>0</td>\n",
              "      <td>0</td>\n",
              "      <td>0</td>\n",
              "      <td>0</td>\n",
              "      <td>0</td>\n",
              "      <td>0</td>\n",
              "      <td>0</td>\n",
              "      <td>0</td>\n",
              "    </tr>\n",
              "    <tr>\n",
              "      <th>996</th>\n",
              "      <td>3/21/18 6:34</td>\n",
              "      <td>55000.0</td>\n",
              "      <td>Yes</td>\n",
              "      <td>NaN</td>\n",
              "      <td>Git</td>\n",
              "      <td>54</td>\n",
              "      <td>16</td>\n",
              "      <td>$55,000.00</td>\n",
              "      <td>0</td>\n",
              "      <td>0</td>\n",
              "      <td>0</td>\n",
              "      <td>1</td>\n",
              "      <td>0</td>\n",
              "      <td>0</td>\n",
              "      <td>0</td>\n",
              "      <td>0</td>\n",
              "      <td>0</td>\n",
              "      <td>0</td>\n",
              "      <td>0</td>\n",
              "      <td>0</td>\n",
              "      <td>0</td>\n",
              "      <td>0</td>\n",
              "      <td>1</td>\n",
              "      <td>0</td>\n",
              "      <td>0</td>\n",
              "      <td>0</td>\n",
              "      <td>0</td>\n",
              "      <td>0</td>\n",
              "    </tr>\n",
              "    <tr>\n",
              "      <th>997</th>\n",
              "      <td>2/5/18 20:01</td>\n",
              "      <td>NaN</td>\n",
              "      <td>Yes</td>\n",
              "      <td>NaN</td>\n",
              "      <td>Git;Subversion</td>\n",
              "      <td>23</td>\n",
              "      <td>9</td>\n",
              "      <td>NaN</td>\n",
              "      <td>0</td>\n",
              "      <td>0</td>\n",
              "      <td>0</td>\n",
              "      <td>0</td>\n",
              "      <td>0</td>\n",
              "      <td>0</td>\n",
              "      <td>0</td>\n",
              "      <td>0</td>\n",
              "      <td>0</td>\n",
              "      <td>0</td>\n",
              "      <td>0</td>\n",
              "      <td>0</td>\n",
              "      <td>1</td>\n",
              "      <td>0</td>\n",
              "      <td>0</td>\n",
              "      <td>0</td>\n",
              "      <td>0</td>\n",
              "      <td>0</td>\n",
              "      <td>0</td>\n",
              "      <td>0</td>\n",
              "    </tr>\n",
              "    <tr>\n",
              "      <th>998</th>\n",
              "      <td>2/11/18 21:23</td>\n",
              "      <td>1000000.0</td>\n",
              "      <td>No</td>\n",
              "      <td>NaN</td>\n",
              "      <td>Git</td>\n",
              "      <td>18</td>\n",
              "      <td>7</td>\n",
              "      <td>1,000,000.00</td>\n",
              "      <td>0</td>\n",
              "      <td>0</td>\n",
              "      <td>0</td>\n",
              "      <td>0</td>\n",
              "      <td>0</td>\n",
              "      <td>0</td>\n",
              "      <td>0</td>\n",
              "      <td>0</td>\n",
              "      <td>0</td>\n",
              "      <td>1</td>\n",
              "      <td>0</td>\n",
              "      <td>0</td>\n",
              "      <td>0</td>\n",
              "      <td>0</td>\n",
              "      <td>0</td>\n",
              "      <td>0</td>\n",
              "      <td>0</td>\n",
              "      <td>0</td>\n",
              "      <td>0</td>\n",
              "      <td>0</td>\n",
              "    </tr>\n",
              "  </tbody>\n",
              "</table>\n",
              "<p>999 rows × 28 columns</p>\n",
              "</div>"
            ],
            "text/plain": [
              "         SurveyDate  ...  FE_Some college/university study without earning a degree\n",
              "0     2/28/18 20:20  ...                                                  0        \n",
              "1     6/28/18 13:26  ...                                                  0        \n",
              "2       6/6/18 3:37  ...                                                  0        \n",
              "3       5/9/18 1:06  ...                                                  1        \n",
              "4     4/12/18 22:41  ...                                                  0        \n",
              "..              ...  ...                                                ...        \n",
              "994  10/19/18 13:50  ...                                                  1        \n",
              "995   4/14/18 15:31  ...                                                  0        \n",
              "996    3/21/18 6:34  ...                                                  0        \n",
              "997    2/5/18 20:01  ...                                                  0        \n",
              "998   2/11/18 21:23  ...                                                  0        \n",
              "\n",
              "[999 rows x 28 columns]"
            ]
          },
          "metadata": {
            "tags": []
          },
          "execution_count": 7
        }
      ]
    },
    {
      "cell_type": "markdown",
      "metadata": {
        "id": "r9nhDq-qMhS-"
      },
      "source": [
        "## Numeric features\n",
        "\n",
        "Age, price, counts, coordinates, etc.\n",
        "\n",
        "Possible feature engineering steps: \n",
        "\n",
        "1- Ask if the magnitude of the feature is its most important trait, or just its direction. Maybe you don't need, how many times a person went to jail 0,1,2,3,4,5,6,etc but maybe its better to know if never went to jail (0), once or had some problems (1 and 2) or repeated actions (>=3). Another example are violations of restaurant municipal policies, any violation, one vaiolation or a repeat offender. You can create a multiple categorical feature or a binary category. 0 no violation, 1 has violated at least once.\n",
        "\n"
      ]
    },
    {
      "cell_type": "markdown",
      "metadata": {
        "id": "0ArlhcD1P4Sh"
      },
      "source": [
        "### Binary transformation for numerical (can apply for categorical binary)"
      ]
    },
    {
      "cell_type": "code",
      "metadata": {
        "id": "Uht0blxpOG9v",
        "colab": {
          "base_uri": "https://localhost:8080/",
          "height": 833
        },
        "outputId": "ccfb0792-55bb-41b9-bc63-8e45bf6e8af7"
      },
      "source": [
        "# Convert into a binary feature\n",
        "\n",
        "# Create the columns\n",
        "df['Binary_Violation'] = 0\n",
        "\n",
        "#\n",
        "df.loc[df['Number_of_violations']>0, 'Binary_Violation' ] = 1\n",
        "\n",
        "# or I could do the following:\n",
        "df['Binary_Violation'] = df['Number_of_violations'].apply(lambda val: 0 if row == 0 else 1 )\n",
        "\n",
        "\n"
      ],
      "execution_count": null,
      "outputs": [
        {
          "output_type": "error",
          "ename": "KeyError",
          "evalue": "ignored",
          "traceback": [
            "\u001b[0;31m---------------------------------------------------------------------------\u001b[0m",
            "\u001b[0;31mKeyError\u001b[0m                                  Traceback (most recent call last)",
            "\u001b[0;32m/usr/local/lib/python3.6/dist-packages/pandas/core/indexes/base.py\u001b[0m in \u001b[0;36mget_loc\u001b[0;34m(self, key, method, tolerance)\u001b[0m\n\u001b[1;32m   2645\u001b[0m             \u001b[0;32mtry\u001b[0m\u001b[0;34m:\u001b[0m\u001b[0;34m\u001b[0m\u001b[0;34m\u001b[0m\u001b[0m\n\u001b[0;32m-> 2646\u001b[0;31m                 \u001b[0;32mreturn\u001b[0m \u001b[0mself\u001b[0m\u001b[0;34m.\u001b[0m\u001b[0m_engine\u001b[0m\u001b[0;34m.\u001b[0m\u001b[0mget_loc\u001b[0m\u001b[0;34m(\u001b[0m\u001b[0mkey\u001b[0m\u001b[0;34m)\u001b[0m\u001b[0;34m\u001b[0m\u001b[0;34m\u001b[0m\u001b[0m\n\u001b[0m\u001b[1;32m   2647\u001b[0m             \u001b[0;32mexcept\u001b[0m \u001b[0mKeyError\u001b[0m\u001b[0;34m:\u001b[0m\u001b[0;34m\u001b[0m\u001b[0;34m\u001b[0m\u001b[0m\n",
            "\u001b[0;32mpandas/_libs/index.pyx\u001b[0m in \u001b[0;36mpandas._libs.index.IndexEngine.get_loc\u001b[0;34m()\u001b[0m\n",
            "\u001b[0;32mpandas/_libs/index.pyx\u001b[0m in \u001b[0;36mpandas._libs.index.IndexEngine.get_loc\u001b[0;34m()\u001b[0m\n",
            "\u001b[0;32mpandas/_libs/hashtable_class_helper.pxi\u001b[0m in \u001b[0;36mpandas._libs.hashtable.PyObjectHashTable.get_item\u001b[0;34m()\u001b[0m\n",
            "\u001b[0;32mpandas/_libs/hashtable_class_helper.pxi\u001b[0m in \u001b[0;36mpandas._libs.hashtable.PyObjectHashTable.get_item\u001b[0;34m()\u001b[0m\n",
            "\u001b[0;31mKeyError\u001b[0m: 'Number_of_violations'",
            "\nDuring handling of the above exception, another exception occurred:\n",
            "\u001b[0;31mKeyError\u001b[0m                                  Traceback (most recent call last)",
            "\u001b[0;32m<ipython-input-8-ce2567cf83bf>\u001b[0m in \u001b[0;36m<module>\u001b[0;34m()\u001b[0m\n\u001b[1;32m      5\u001b[0m \u001b[0;34m\u001b[0m\u001b[0m\n\u001b[1;32m      6\u001b[0m \u001b[0;31m#\u001b[0m\u001b[0;34m\u001b[0m\u001b[0;34m\u001b[0m\u001b[0;34m\u001b[0m\u001b[0m\n\u001b[0;32m----> 7\u001b[0;31m \u001b[0mdf\u001b[0m\u001b[0;34m.\u001b[0m\u001b[0mloc\u001b[0m\u001b[0;34m[\u001b[0m\u001b[0mdf\u001b[0m\u001b[0;34m[\u001b[0m\u001b[0;34m'Number_of_violations'\u001b[0m\u001b[0;34m]\u001b[0m\u001b[0;34m>\u001b[0m\u001b[0;36m0\u001b[0m\u001b[0;34m,\u001b[0m \u001b[0;34m'Binary_Violation'\u001b[0m \u001b[0;34m]\u001b[0m \u001b[0;34m=\u001b[0m \u001b[0;36m1\u001b[0m\u001b[0;34m\u001b[0m\u001b[0;34m\u001b[0m\u001b[0m\n\u001b[0m\u001b[1;32m      8\u001b[0m \u001b[0;34m\u001b[0m\u001b[0m\n\u001b[1;32m      9\u001b[0m \u001b[0;31m# or I could do the following:\u001b[0m\u001b[0;34m\u001b[0m\u001b[0;34m\u001b[0m\u001b[0;34m\u001b[0m\u001b[0m\n",
            "\u001b[0;32m/usr/local/lib/python3.6/dist-packages/pandas/core/frame.py\u001b[0m in \u001b[0;36m__getitem__\u001b[0;34m(self, key)\u001b[0m\n\u001b[1;32m   2798\u001b[0m             \u001b[0;32mif\u001b[0m \u001b[0mself\u001b[0m\u001b[0;34m.\u001b[0m\u001b[0mcolumns\u001b[0m\u001b[0;34m.\u001b[0m\u001b[0mnlevels\u001b[0m \u001b[0;34m>\u001b[0m \u001b[0;36m1\u001b[0m\u001b[0;34m:\u001b[0m\u001b[0;34m\u001b[0m\u001b[0;34m\u001b[0m\u001b[0m\n\u001b[1;32m   2799\u001b[0m                 \u001b[0;32mreturn\u001b[0m \u001b[0mself\u001b[0m\u001b[0;34m.\u001b[0m\u001b[0m_getitem_multilevel\u001b[0m\u001b[0;34m(\u001b[0m\u001b[0mkey\u001b[0m\u001b[0;34m)\u001b[0m\u001b[0;34m\u001b[0m\u001b[0;34m\u001b[0m\u001b[0m\n\u001b[0;32m-> 2800\u001b[0;31m             \u001b[0mindexer\u001b[0m \u001b[0;34m=\u001b[0m \u001b[0mself\u001b[0m\u001b[0;34m.\u001b[0m\u001b[0mcolumns\u001b[0m\u001b[0;34m.\u001b[0m\u001b[0mget_loc\u001b[0m\u001b[0;34m(\u001b[0m\u001b[0mkey\u001b[0m\u001b[0;34m)\u001b[0m\u001b[0;34m\u001b[0m\u001b[0;34m\u001b[0m\u001b[0m\n\u001b[0m\u001b[1;32m   2801\u001b[0m             \u001b[0;32mif\u001b[0m \u001b[0mis_integer\u001b[0m\u001b[0;34m(\u001b[0m\u001b[0mindexer\u001b[0m\u001b[0;34m)\u001b[0m\u001b[0;34m:\u001b[0m\u001b[0;34m\u001b[0m\u001b[0;34m\u001b[0m\u001b[0m\n\u001b[1;32m   2802\u001b[0m                 \u001b[0mindexer\u001b[0m \u001b[0;34m=\u001b[0m \u001b[0;34m[\u001b[0m\u001b[0mindexer\u001b[0m\u001b[0;34m]\u001b[0m\u001b[0;34m\u001b[0m\u001b[0;34m\u001b[0m\u001b[0m\n",
            "\u001b[0;32m/usr/local/lib/python3.6/dist-packages/pandas/core/indexes/base.py\u001b[0m in \u001b[0;36mget_loc\u001b[0;34m(self, key, method, tolerance)\u001b[0m\n\u001b[1;32m   2646\u001b[0m                 \u001b[0;32mreturn\u001b[0m \u001b[0mself\u001b[0m\u001b[0;34m.\u001b[0m\u001b[0m_engine\u001b[0m\u001b[0;34m.\u001b[0m\u001b[0mget_loc\u001b[0m\u001b[0;34m(\u001b[0m\u001b[0mkey\u001b[0m\u001b[0;34m)\u001b[0m\u001b[0;34m\u001b[0m\u001b[0;34m\u001b[0m\u001b[0m\n\u001b[1;32m   2647\u001b[0m             \u001b[0;32mexcept\u001b[0m \u001b[0mKeyError\u001b[0m\u001b[0;34m:\u001b[0m\u001b[0;34m\u001b[0m\u001b[0;34m\u001b[0m\u001b[0m\n\u001b[0;32m-> 2648\u001b[0;31m                 \u001b[0;32mreturn\u001b[0m \u001b[0mself\u001b[0m\u001b[0;34m.\u001b[0m\u001b[0m_engine\u001b[0m\u001b[0;34m.\u001b[0m\u001b[0mget_loc\u001b[0m\u001b[0;34m(\u001b[0m\u001b[0mself\u001b[0m\u001b[0;34m.\u001b[0m\u001b[0m_maybe_cast_indexer\u001b[0m\u001b[0;34m(\u001b[0m\u001b[0mkey\u001b[0m\u001b[0;34m)\u001b[0m\u001b[0;34m)\u001b[0m\u001b[0;34m\u001b[0m\u001b[0;34m\u001b[0m\u001b[0m\n\u001b[0m\u001b[1;32m   2649\u001b[0m         \u001b[0mindexer\u001b[0m \u001b[0;34m=\u001b[0m \u001b[0mself\u001b[0m\u001b[0;34m.\u001b[0m\u001b[0mget_indexer\u001b[0m\u001b[0;34m(\u001b[0m\u001b[0;34m[\u001b[0m\u001b[0mkey\u001b[0m\u001b[0;34m]\u001b[0m\u001b[0;34m,\u001b[0m \u001b[0mmethod\u001b[0m\u001b[0;34m=\u001b[0m\u001b[0mmethod\u001b[0m\u001b[0;34m,\u001b[0m \u001b[0mtolerance\u001b[0m\u001b[0;34m=\u001b[0m\u001b[0mtolerance\u001b[0m\u001b[0;34m)\u001b[0m\u001b[0;34m\u001b[0m\u001b[0;34m\u001b[0m\u001b[0m\n\u001b[1;32m   2650\u001b[0m         \u001b[0;32mif\u001b[0m \u001b[0mindexer\u001b[0m\u001b[0;34m.\u001b[0m\u001b[0mndim\u001b[0m \u001b[0;34m>\u001b[0m \u001b[0;36m1\u001b[0m \u001b[0;32mor\u001b[0m \u001b[0mindexer\u001b[0m\u001b[0;34m.\u001b[0m\u001b[0msize\u001b[0m \u001b[0;34m>\u001b[0m \u001b[0;36m1\u001b[0m\u001b[0;34m:\u001b[0m\u001b[0;34m\u001b[0m\u001b[0;34m\u001b[0m\u001b[0m\n",
            "\u001b[0;32mpandas/_libs/index.pyx\u001b[0m in \u001b[0;36mpandas._libs.index.IndexEngine.get_loc\u001b[0;34m()\u001b[0m\n",
            "\u001b[0;32mpandas/_libs/index.pyx\u001b[0m in \u001b[0;36mpandas._libs.index.IndexEngine.get_loc\u001b[0;34m()\u001b[0m\n",
            "\u001b[0;32mpandas/_libs/hashtable_class_helper.pxi\u001b[0m in \u001b[0;36mpandas._libs.hashtable.PyObjectHashTable.get_item\u001b[0;34m()\u001b[0m\n",
            "\u001b[0;32mpandas/_libs/hashtable_class_helper.pxi\u001b[0m in \u001b[0;36mpandas._libs.hashtable.PyObjectHashTable.get_item\u001b[0;34m()\u001b[0m\n",
            "\u001b[0;31mKeyError\u001b[0m: 'Number_of_violations'"
          ]
        }
      ]
    },
    {
      "cell_type": "code",
      "metadata": {
        "id": "7HAd-68UPgSp"
      },
      "source": [
        "# Hobby columns is not numerical but we are going to transform it into binary\n",
        "\n",
        "df['Hobby'] = df['Hobby'].apply(lambda val: 0 if val == 'No' else 1)\n",
        "\n",
        "df['Hobby'].head()"
      ],
      "execution_count": null,
      "outputs": []
    },
    {
      "cell_type": "markdown",
      "metadata": {
        "id": "0QDGlLkHQImx"
      },
      "source": [
        "### Binning numeric variables with more than two bins\n",
        "\n",
        "Age, wage brackets for example. Where exact numbers are less relevant than the general magnitude of the value. \n",
        "\n",
        "\n",
        "\n"
      ]
    },
    {
      "cell_type": "markdown",
      "metadata": {
        "id": "OMEyL-wsS9pZ"
      },
      "source": [
        "Binarizing columns\n",
        "While numeric values can often be used without any feature engineering, there will be cases when some form of manipulation can be useful. For example on some occasions, you might not care about the magnitude of a value but only care about its direction, or if it exists at all. In these situations, you will want to binarize a column."
      ]
    },
    {
      "cell_type": "code",
      "metadata": {
        "id": "K9VIAfeWQx55",
        "colab": {
          "base_uri": "https://localhost:8080/",
          "height": 290
        },
        "outputId": "352366fa-0211-4f86-debd-eacc16404854"
      },
      "source": [
        "# For our dataset, we should transform 'ConvertedSalary' into a multicategory numerical format.\n",
        "# For this, we need to perform binning and first see the distribution.\n",
        "\n",
        "import matplotlib.pyplot as plt\n",
        "import seaborn as sns\n",
        "\n",
        "sns.distplot(df['ConvertedSalary'])\n",
        "plt.show()"
      ],
      "execution_count": null,
      "outputs": [
        {
          "output_type": "display_data",
          "data": {
            "image/png": "[encoded data removed]",
            "text/plain": [
              "<Figure size 432x288 with 1 Axes>"
            ]
          },
          "metadata": {
            "tags": [],
            "needs_background": "light"
          }
        }
      ]
    },
    {
      "cell_type": "markdown",
      "metadata": {
        "id": "85pBpo2sU5Ov"
      },
      "source": [
        "#### Binning with predefined boundaries"
      ]
    },
    {
      "cell_type": "code",
      "metadata": {
        "id": "RecnEXzJRoFC",
        "colab": {
          "base_uri": "https://localhost:8080/",
          "height": 85
        },
        "outputId": "fd1a182a-5c1d-4831-dc00-b889816ea942"
      },
      "source": [
        "# Create 3 binns for ConvertedSalary\n",
        "# From 0 to $30000, up to $50000 and more than $50000\n",
        "\n",
        "\n",
        "# Binning with predefined boundaries.\n",
        "\n",
        "\n",
        "import numpy as np\n",
        "\n",
        "# You can label with integers or with strings like in this case\n",
        "df['Binned_ConvertedSalary'] = pd.cut(df['ConvertedSalary'],bins=[-np.inf,30000,70000,np.inf],labels=['Low', 'Medium', 'High'])\n",
        "\n",
        "# Is your binning well distributed? YES\n",
        "df['Binned_ConvertedSalary'].value_counts()\n",
        "\n",
        "\n"
      ],
      "execution_count": null,
      "outputs": [
        {
          "output_type": "execute_result",
          "data": {
            "text/plain": [
              "High      249\n",
              "Medium    231\n",
              "Low       185\n",
              "Name: Binned_ConvertedSalary, dtype: int64"
            ]
          },
          "metadata": {
            "tags": []
          },
          "execution_count": 101
        }
      ]
    },
    {
      "cell_type": "markdown",
      "metadata": {
        "id": "XDV3DG4CU7yu"
      },
      "source": [
        "#### Evenly spaced bins"
      ]
    },
    {
      "cell_type": "code",
      "metadata": {
        "id": "R2qKYS_-SwKM",
        "colab": {
          "base_uri": "https://localhost:8080/",
          "height": 119
        },
        "outputId": "c3e33d0d-dd08-4a95-cec8-b6369ebe077a"
      },
      "source": [
        "# If we want to create 5 even spaced bins our code would be:\n",
        "\n",
        "# Bin the continuous variable ConvertedSalary into 5 bins\n",
        "df['equal_binned'] = pd.cut(df['ConvertedSalary'], 5)\n",
        "\n",
        "# After binning we see ig we have even distributed categories.\n",
        "df['equal_binned'].value_counts()\n",
        "\n",
        "# In this case we see that cutting in evenly spaced bins it's not the best approach."
      ],
      "execution_count": null,
      "outputs": [
        {
          "output_type": "execute_result",
          "data": {
            "text/plain": [
              "(-2000.0, 400000.0]       645\n",
              "(800000.0, 1200000.0]       9\n",
              "(400000.0, 800000.0]        6\n",
              "(1600000.0, 2000000.0]      5\n",
              "(1200000.0, 1600000.0]      0\n",
              "Name: equal_binned, dtype: int64"
            ]
          },
          "metadata": {
            "tags": []
          },
          "execution_count": 102
        }
      ]
    },
    {
      "cell_type": "markdown",
      "metadata": {
        "id": "M7kJeozmZX6X"
      },
      "source": [
        "## Missing values\n",
        "\n",
        "How to deal with them.\n",
        "\n",
        "Real world data often has noise and omissions.:\n",
        "\n",
        "* Data not being collected properly\n",
        "* Collection and management errors\n",
        "* Data inentionally being omitted (by users)\n",
        "\n",
        "Missing data is extremely important! \n",
        "\n",
        "Some missing data can imply that the value is zero.\n"
      ]
    },
    {
      "cell_type": "markdown",
      "metadata": {
        "id": "cyBWAawtbfui"
      },
      "source": [
        "### Locate missing values"
      ]
    },
    {
      "cell_type": "code",
      "metadata": {
        "id": "IYMQL_J5aARw",
        "colab": {
          "base_uri": "https://localhost:8080/",
          "height": 119
        },
        "outputId": "6539fb7d-2748-433a-a7d6-3995881a606f"
      },
      "source": [
        "#Calculate the columns that have missing values\n",
        "\n",
        "null_columns = df.isnull().sum()>0\n",
        "df.isnull().sum()[null_columns]"
      ],
      "execution_count": null,
      "outputs": [
        {
          "output_type": "execute_result",
          "data": {
            "text/plain": [
              "ConvertedSalary               334\n",
              "StackOverflowJobsRecommend    512\n",
              "RawSalary                     334\n",
              "Binned_ConvertedSalary        334\n",
              "equal_binned                  334\n",
              "dtype: int64"
            ]
          },
          "metadata": {
            "tags": []
          },
          "execution_count": 103
        }
      ]
    },
    {
      "cell_type": "markdown",
      "metadata": {
        "id": "fpbrODNkbhhx"
      },
      "source": [
        "### missing values: Complete case analysis or listwise deletion\n",
        "\n"
      ]
    },
    {
      "cell_type": "markdown",
      "metadata": {
        "id": "rybFKjD-bznf"
      },
      "source": [
        "#### Listwise deletion (droping)\n",
        "\n",
        "Droping all rows that has at least one NaN value\n",
        "\n",
        "Issues of deletion:\n",
        "\n",
        "*It deletes valid data points\n",
        "\n",
        "*Relies on randomness\n",
        "\n",
        "*Reduces information"
      ]
    },
    {
      "cell_type": "code",
      "metadata": {
        "id": "J3I3EXjlbzRC"
      },
      "source": [
        "# Dropping all rows that has at least one NaN value\n",
        "df = df.dropna(how='any')"
      ],
      "execution_count": null,
      "outputs": []
    },
    {
      "cell_type": "code",
      "metadata": {
        "id": "6QBgZFa1b9al",
        "colab": {
          "base_uri": "https://localhost:8080/",
          "height": 745
        },
        "outputId": "4e6b2384-dd8f-4be2-aafa-3b67d87edaaa"
      },
      "source": [
        "# Dropping all rows that has at least one NaN value in a particular feature\n",
        "\n",
        "df.dropna(subset=['ConvertedSalary'])\n"
      ],
      "execution_count": null,
      "outputs": [
        {
          "output_type": "execute_result",
          "data": {
            "text/html": [
              "<div>\n",
              "<style scoped>\n",
              "    .dataframe tbody tr th:only-of-type {\n",
              "        vertical-align: middle;\n",
              "    }\n",
              "\n",
              "    .dataframe tbody tr th {\n",
              "        vertical-align: top;\n",
              "    }\n",
              "\n",
              "    .dataframe thead th {\n",
              "        text-align: right;\n",
              "    }\n",
              "</style>\n",
              "<table border=\"1\" class=\"dataframe\">\n",
              "  <thead>\n",
              "    <tr style=\"text-align: right;\">\n",
              "      <th></th>\n",
              "      <th>SurveyDate</th>\n",
              "      <th>ConvertedSalary</th>\n",
              "      <th>Hobby</th>\n",
              "      <th>StackOverflowJobsRecommend</th>\n",
              "      <th>VersionControl</th>\n",
              "      <th>Age</th>\n",
              "      <th>Years Experience</th>\n",
              "      <th>G_Female;Male</th>\n",
              "      <th>G_Female;Male;Transgender;Non-binary. genderqueer. or gender non-conforming</th>\n",
              "      <th>G_Female;Transgender</th>\n",
              "      <th>G_Male</th>\n",
              "      <th>G_Male;Non-binary. genderqueer. or gender non-conforming</th>\n",
              "      <th>G_Non-binary. genderqueer. or gender non-conforming</th>\n",
              "      <th>G_Transgender</th>\n",
              "      <th>C_India</th>\n",
              "      <th>C_Ireland</th>\n",
              "      <th>C_Russia</th>\n",
              "      <th>C_South Africa</th>\n",
              "      <th>C_Spain</th>\n",
              "      <th>C_Sweeden</th>\n",
              "      <th>C_UK</th>\n",
              "      <th>C_USA</th>\n",
              "      <th>C_Ukraine</th>\n",
              "      <th>FE_Master's degree (MA. MS. M.Eng.. MBA. etc.)</th>\n",
              "      <th>FE_Other</th>\n",
              "      <th>FE_Secondary school (e.g. American high school. German Realschule or Gymnasium. etc.)</th>\n",
              "      <th>FE_Some college/university study without earning a degree</th>\n",
              "      <th>Binned_ConvertedSalary</th>\n",
              "      <th>equal_binned</th>\n",
              "    </tr>\n",
              "  </thead>\n",
              "  <tbody>\n",
              "    <tr>\n",
              "      <th>1</th>\n",
              "      <td>6/28/18 13:26</td>\n",
              "      <td>70841.0</td>\n",
              "      <td>1</td>\n",
              "      <td>7.0</td>\n",
              "      <td>Git;Subversion</td>\n",
              "      <td>38</td>\n",
              "      <td>9</td>\n",
              "      <td>0</td>\n",
              "      <td>0</td>\n",
              "      <td>0</td>\n",
              "      <td>1</td>\n",
              "      <td>0</td>\n",
              "      <td>0</td>\n",
              "      <td>0</td>\n",
              "      <td>0</td>\n",
              "      <td>0</td>\n",
              "      <td>0</td>\n",
              "      <td>0</td>\n",
              "      <td>0</td>\n",
              "      <td>1</td>\n",
              "      <td>0</td>\n",
              "      <td>0</td>\n",
              "      <td>0</td>\n",
              "      <td>0</td>\n",
              "      <td>0</td>\n",
              "      <td>0</td>\n",
              "      <td>0</td>\n",
              "      <td>High</td>\n",
              "      <td>(-2000.0, 400000.0]</td>\n",
              "    </tr>\n",
              "    <tr>\n",
              "      <th>3</th>\n",
              "      <td>5/9/18 1:06</td>\n",
              "      <td>21426.0</td>\n",
              "      <td>1</td>\n",
              "      <td>0.0</td>\n",
              "      <td>Zip file back-ups</td>\n",
              "      <td>46</td>\n",
              "      <td>12</td>\n",
              "      <td>0</td>\n",
              "      <td>0</td>\n",
              "      <td>0</td>\n",
              "      <td>1</td>\n",
              "      <td>0</td>\n",
              "      <td>0</td>\n",
              "      <td>0</td>\n",
              "      <td>0</td>\n",
              "      <td>0</td>\n",
              "      <td>0</td>\n",
              "      <td>0</td>\n",
              "      <td>0</td>\n",
              "      <td>1</td>\n",
              "      <td>0</td>\n",
              "      <td>0</td>\n",
              "      <td>0</td>\n",
              "      <td>0</td>\n",
              "      <td>0</td>\n",
              "      <td>0</td>\n",
              "      <td>1</td>\n",
              "      <td>Low</td>\n",
              "      <td>(-2000.0, 400000.0]</td>\n",
              "    </tr>\n",
              "    <tr>\n",
              "      <th>4</th>\n",
              "      <td>4/12/18 22:41</td>\n",
              "      <td>41671.0</td>\n",
              "      <td>1</td>\n",
              "      <td>8.0</td>\n",
              "      <td>Git</td>\n",
              "      <td>39</td>\n",
              "      <td>7</td>\n",
              "      <td>0</td>\n",
              "      <td>0</td>\n",
              "      <td>0</td>\n",
              "      <td>1</td>\n",
              "      <td>0</td>\n",
              "      <td>0</td>\n",
              "      <td>0</td>\n",
              "      <td>0</td>\n",
              "      <td>0</td>\n",
              "      <td>0</td>\n",
              "      <td>0</td>\n",
              "      <td>0</td>\n",
              "      <td>0</td>\n",
              "      <td>1</td>\n",
              "      <td>0</td>\n",
              "      <td>0</td>\n",
              "      <td>0</td>\n",
              "      <td>0</td>\n",
              "      <td>0</td>\n",
              "      <td>0</td>\n",
              "      <td>Medium</td>\n",
              "      <td>(-2000.0, 400000.0]</td>\n",
              "    </tr>\n",
              "    <tr>\n",
              "      <th>5</th>\n",
              "      <td>2/9/18 19:09</td>\n",
              "      <td>120000.0</td>\n",
              "      <td>1</td>\n",
              "      <td>7.0</td>\n",
              "      <td>Git</td>\n",
              "      <td>39</td>\n",
              "      <td>2</td>\n",
              "      <td>0</td>\n",
              "      <td>0</td>\n",
              "      <td>0</td>\n",
              "      <td>1</td>\n",
              "      <td>0</td>\n",
              "      <td>0</td>\n",
              "      <td>0</td>\n",
              "      <td>0</td>\n",
              "      <td>0</td>\n",
              "      <td>1</td>\n",
              "      <td>0</td>\n",
              "      <td>0</td>\n",
              "      <td>0</td>\n",
              "      <td>0</td>\n",
              "      <td>0</td>\n",
              "      <td>0</td>\n",
              "      <td>0</td>\n",
              "      <td>0</td>\n",
              "      <td>0</td>\n",
              "      <td>1</td>\n",
              "      <td>High</td>\n",
              "      <td>(-2000.0, 400000.0]</td>\n",
              "    </tr>\n",
              "    <tr>\n",
              "      <th>7</th>\n",
              "      <td>10/16/18 23:36</td>\n",
              "      <td>250000.0</td>\n",
              "      <td>1</td>\n",
              "      <td>7.0</td>\n",
              "      <td>Git</td>\n",
              "      <td>24</td>\n",
              "      <td>2</td>\n",
              "      <td>0</td>\n",
              "      <td>0</td>\n",
              "      <td>0</td>\n",
              "      <td>0</td>\n",
              "      <td>0</td>\n",
              "      <td>0</td>\n",
              "      <td>0</td>\n",
              "      <td>0</td>\n",
              "      <td>0</td>\n",
              "      <td>0</td>\n",
              "      <td>0</td>\n",
              "      <td>0</td>\n",
              "      <td>0</td>\n",
              "      <td>0</td>\n",
              "      <td>0</td>\n",
              "      <td>0</td>\n",
              "      <td>0</td>\n",
              "      <td>0</td>\n",
              "      <td>0</td>\n",
              "      <td>1</td>\n",
              "      <td>High</td>\n",
              "      <td>(-2000.0, 400000.0]</td>\n",
              "    </tr>\n",
              "    <tr>\n",
              "      <th>...</th>\n",
              "      <td>...</td>\n",
              "      <td>...</td>\n",
              "      <td>...</td>\n",
              "      <td>...</td>\n",
              "      <td>...</td>\n",
              "      <td>...</td>\n",
              "      <td>...</td>\n",
              "      <td>...</td>\n",
              "      <td>...</td>\n",
              "      <td>...</td>\n",
              "      <td>...</td>\n",
              "      <td>...</td>\n",
              "      <td>...</td>\n",
              "      <td>...</td>\n",
              "      <td>...</td>\n",
              "      <td>...</td>\n",
              "      <td>...</td>\n",
              "      <td>...</td>\n",
              "      <td>...</td>\n",
              "      <td>...</td>\n",
              "      <td>...</td>\n",
              "      <td>...</td>\n",
              "      <td>...</td>\n",
              "      <td>...</td>\n",
              "      <td>...</td>\n",
              "      <td>...</td>\n",
              "      <td>...</td>\n",
              "      <td>...</td>\n",
              "      <td>...</td>\n",
              "    </tr>\n",
              "    <tr>\n",
              "      <th>991</th>\n",
              "      <td>7/14/18 4:51</td>\n",
              "      <td>55562.0</td>\n",
              "      <td>1</td>\n",
              "      <td>9.0</td>\n",
              "      <td>Git</td>\n",
              "      <td>34</td>\n",
              "      <td>1</td>\n",
              "      <td>0</td>\n",
              "      <td>0</td>\n",
              "      <td>0</td>\n",
              "      <td>0</td>\n",
              "      <td>0</td>\n",
              "      <td>0</td>\n",
              "      <td>0</td>\n",
              "      <td>0</td>\n",
              "      <td>0</td>\n",
              "      <td>0</td>\n",
              "      <td>0</td>\n",
              "      <td>0</td>\n",
              "      <td>1</td>\n",
              "      <td>0</td>\n",
              "      <td>0</td>\n",
              "      <td>0</td>\n",
              "      <td>1</td>\n",
              "      <td>0</td>\n",
              "      <td>0</td>\n",
              "      <td>0</td>\n",
              "      <td>Medium</td>\n",
              "      <td>(-2000.0, 400000.0]</td>\n",
              "    </tr>\n",
              "    <tr>\n",
              "      <th>993</th>\n",
              "      <td>3/4/18 19:11</td>\n",
              "      <td>30000.0</td>\n",
              "      <td>1</td>\n",
              "      <td>0.0</td>\n",
              "      <td>Git</td>\n",
              "      <td>28</td>\n",
              "      <td>5</td>\n",
              "      <td>0</td>\n",
              "      <td>0</td>\n",
              "      <td>0</td>\n",
              "      <td>1</td>\n",
              "      <td>0</td>\n",
              "      <td>0</td>\n",
              "      <td>0</td>\n",
              "      <td>1</td>\n",
              "      <td>0</td>\n",
              "      <td>0</td>\n",
              "      <td>0</td>\n",
              "      <td>0</td>\n",
              "      <td>0</td>\n",
              "      <td>0</td>\n",
              "      <td>0</td>\n",
              "      <td>0</td>\n",
              "      <td>0</td>\n",
              "      <td>0</td>\n",
              "      <td>0</td>\n",
              "      <td>1</td>\n",
              "      <td>Low</td>\n",
              "      <td>(-2000.0, 400000.0]</td>\n",
              "    </tr>\n",
              "    <tr>\n",
              "      <th>995</th>\n",
              "      <td>4/14/18 15:31</td>\n",
              "      <td>58746.0</td>\n",
              "      <td>0</td>\n",
              "      <td>8.0</td>\n",
              "      <td>Git</td>\n",
              "      <td>27</td>\n",
              "      <td>16</td>\n",
              "      <td>0</td>\n",
              "      <td>0</td>\n",
              "      <td>0</td>\n",
              "      <td>1</td>\n",
              "      <td>0</td>\n",
              "      <td>0</td>\n",
              "      <td>0</td>\n",
              "      <td>0</td>\n",
              "      <td>0</td>\n",
              "      <td>0</td>\n",
              "      <td>0</td>\n",
              "      <td>1</td>\n",
              "      <td>0</td>\n",
              "      <td>0</td>\n",
              "      <td>0</td>\n",
              "      <td>0</td>\n",
              "      <td>0</td>\n",
              "      <td>0</td>\n",
              "      <td>0</td>\n",
              "      <td>0</td>\n",
              "      <td>Medium</td>\n",
              "      <td>(-2000.0, 400000.0]</td>\n",
              "    </tr>\n",
              "    <tr>\n",
              "      <th>996</th>\n",
              "      <td>3/21/18 6:34</td>\n",
              "      <td>55000.0</td>\n",
              "      <td>1</td>\n",
              "      <td>0.0</td>\n",
              "      <td>Git</td>\n",
              "      <td>54</td>\n",
              "      <td>16</td>\n",
              "      <td>0</td>\n",
              "      <td>0</td>\n",
              "      <td>0</td>\n",
              "      <td>1</td>\n",
              "      <td>0</td>\n",
              "      <td>0</td>\n",
              "      <td>0</td>\n",
              "      <td>0</td>\n",
              "      <td>0</td>\n",
              "      <td>0</td>\n",
              "      <td>0</td>\n",
              "      <td>0</td>\n",
              "      <td>0</td>\n",
              "      <td>0</td>\n",
              "      <td>1</td>\n",
              "      <td>0</td>\n",
              "      <td>0</td>\n",
              "      <td>0</td>\n",
              "      <td>0</td>\n",
              "      <td>0</td>\n",
              "      <td>Medium</td>\n",
              "      <td>(-2000.0, 400000.0]</td>\n",
              "    </tr>\n",
              "    <tr>\n",
              "      <th>998</th>\n",
              "      <td>2/11/18 21:23</td>\n",
              "      <td>1000000.0</td>\n",
              "      <td>0</td>\n",
              "      <td>0.0</td>\n",
              "      <td>Git</td>\n",
              "      <td>18</td>\n",
              "      <td>7</td>\n",
              "      <td>0</td>\n",
              "      <td>0</td>\n",
              "      <td>0</td>\n",
              "      <td>0</td>\n",
              "      <td>0</td>\n",
              "      <td>0</td>\n",
              "      <td>0</td>\n",
              "      <td>0</td>\n",
              "      <td>0</td>\n",
              "      <td>1</td>\n",
              "      <td>0</td>\n",
              "      <td>0</td>\n",
              "      <td>0</td>\n",
              "      <td>0</td>\n",
              "      <td>0</td>\n",
              "      <td>0</td>\n",
              "      <td>0</td>\n",
              "      <td>0</td>\n",
              "      <td>0</td>\n",
              "      <td>0</td>\n",
              "      <td>High</td>\n",
              "      <td>(800000.0, 1200000.0]</td>\n",
              "    </tr>\n",
              "  </tbody>\n",
              "</table>\n",
              "<p>665 rows × 29 columns</p>\n",
              "</div>"
            ],
            "text/plain": [
              "         SurveyDate  ...           equal_binned\n",
              "1     6/28/18 13:26  ...    (-2000.0, 400000.0]\n",
              "3       5/9/18 1:06  ...    (-2000.0, 400000.0]\n",
              "4     4/12/18 22:41  ...    (-2000.0, 400000.0]\n",
              "5      2/9/18 19:09  ...    (-2000.0, 400000.0]\n",
              "7    10/16/18 23:36  ...    (-2000.0, 400000.0]\n",
              "..              ...  ...                    ...\n",
              "991    7/14/18 4:51  ...    (-2000.0, 400000.0]\n",
              "993    3/4/18 19:11  ...    (-2000.0, 400000.0]\n",
              "995   4/14/18 15:31  ...    (-2000.0, 400000.0]\n",
              "996    3/21/18 6:34  ...    (-2000.0, 400000.0]\n",
              "998   2/11/18 21:23  ...  (800000.0, 1200000.0]\n",
              "\n",
              "[665 rows x 29 columns]"
            ]
          },
          "metadata": {
            "tags": []
          },
          "execution_count": 89
        }
      ]
    },
    {
      "cell_type": "markdown",
      "metadata": {
        "id": "DbYykLbacTKK"
      },
      "source": [
        ""
      ]
    },
    {
      "cell_type": "markdown",
      "metadata": {
        "id": "9n7WqZbkcOBP"
      },
      "source": [
        "#### Fill NaN values"
      ]
    },
    {
      "cell_type": "code",
      "metadata": {
        "id": "wUPAIwDickOJ",
        "colab": {
          "base_uri": "https://localhost:8080/",
          "height": 122
        },
        "outputId": "d2085c83-e787-4c20-f054-53ff487066f2"
      },
      "source": [
        "# Can fill with numeric values or strings\n",
        "df['StackOverflowJobsRecommend'].fillna(value=0,inplace=True)"
      ],
      "execution_count": null,
      "outputs": [
        {
          "output_type": "stream",
          "text": [
            "/usr/local/lib/python3.6/dist-packages/pandas/core/generic.py:6245: SettingWithCopyWarning: \n",
            "A value is trying to be set on a copy of a slice from a DataFrame\n",
            "\n",
            "See the caveats in the documentation: https://pandas.pydata.org/pandas-docs/stable/user_guide/indexing.html#returning-a-view-versus-a-copy\n",
            "  self._update_inplace(new_data)\n"
          ],
          "name": "stderr"
        }
      ]
    },
    {
      "cell_type": "markdown",
      "metadata": {
        "id": "6KpkVRPjc3Hx"
      },
      "source": [
        "#### Drop the column"
      ]
    },
    {
      "cell_type": "code",
      "metadata": {
        "id": "KL0hljAhc4cS"
      },
      "source": [
        "df = df.drop(columns=['RawSalary'])\n",
        "\n",
        "#or \n",
        "\n",
        "# Create a new DataFrame dropping all columns with incomplete rows\n",
        "no_missing_values_cols = so_survey_df.dropna(how='any', axis=1)"
      ],
      "execution_count": null,
      "outputs": []
    },
    {
      "cell_type": "code",
      "metadata": {
        "id": "Sju9X_GTdlpW",
        "colab": {
          "base_uri": "https://localhost:8080/",
          "height": 34
        },
        "outputId": "fbc011d8-9a7a-4a30-9048-d72eb00a53d3"
      },
      "source": [
        "#Calculate the columns that have missing values\n",
        "\n",
        "null_columns = df.isnull().sum()>0\n",
        "df.isnull().sum()[null_columns]"
      ],
      "execution_count": null,
      "outputs": [
        {
          "output_type": "execute_result",
          "data": {
            "text/plain": [
              "Series([], dtype: int64)"
            ]
          },
          "metadata": {
            "tags": []
          },
          "execution_count": 106
        }
      ]
    },
    {
      "cell_type": "markdown",
      "metadata": {
        "id": "ncZeUNvDeR_k"
      },
      "source": [
        "#### Fill continuous missing values\n",
        "\n",
        "Alternative of droping is replacing missing values.\n",
        "\n",
        "Replacing with a suitable value or the most common value like mean, median. \n",
        "\n",
        "But beware if you are making a model because it can lead to bias in variances and covariances of the features.\n",
        "\n"
      ]
    },
    {
      "cell_type": "code",
      "metadata": {
        "id": "RDNpFByye6AR"
      },
      "source": [
        "# Filling with the mean value of that column\n",
        "\n",
        "df['ConvertedSalary'] = df['ConvertedSalary'].fillna(df['ConvertedSalary'].mean)\n",
        "\n",
        "# You can round the mean so it doesn't have so many decimal points.\n",
        "# You should only round your values if you are certain it is applicable!!!!\n",
        "df['ConvertedSalary'] = df['ConvertedSalary'].fillna(round(df['ConvertedSalary'].mean))\n",
        "\n"
      ],
      "execution_count": null,
      "outputs": []
    },
    {
      "cell_type": "markdown",
      "metadata": {
        "id": "lc4s1PPZ-wie"
      },
      "source": [
        "## Dealing with other data issues\n",
        "\n"
      ]
    },
    {
      "cell_type": "code",
      "metadata": {
        "id": "RnDX5Wu--_9w",
        "colab": {
          "base_uri": "https://localhost:8080/",
          "height": 238
        },
        "outputId": "fdcbf153-fd3c-4369-df01-221f7e69c8fb"
      },
      "source": [
        "print(df['RawSalary'].dtype)\n",
        "\n",
        "# Raw salary not only is string but it has many symbols\n",
        "df['RawSalary']\n",
        "\n",
        "# Need to remove the comas, pouns symbol"
      ],
      "execution_count": null,
      "outputs": [
        {
          "output_type": "stream",
          "text": [
            "object\n"
          ],
          "name": "stdout"
        },
        {
          "output_type": "execute_result",
          "data": {
            "text/plain": [
              "1       70,841.00\n",
              "4      £41,671.00\n",
              "5      120,000.00\n",
              "7      250,000.00\n",
              "10      47,904.00\n",
              "          ...    \n",
              "984     70,000.00\n",
              "988     50,448.00\n",
              "991     55,562.00\n",
              "993     30,000.00\n",
              "995     58,746.00\n",
              "Name: RawSalary, Length: 370, dtype: object"
            ]
          },
          "metadata": {
            "tags": []
          },
          "execution_count": 108
        }
      ]
    },
    {
      "cell_type": "code",
      "metadata": {
        "id": "Va4zNSjM-8CM",
        "colab": {
          "base_uri": "https://localhost:8080/",
          "height": 343
        },
        "outputId": "100e6235-88de-4412-87df-f568aa8f6607"
      },
      "source": [
        "df['RawSalary'] = df['RawSalary'].str.replace(',','')\n",
        "df['RawSalary']"
      ],
      "execution_count": null,
      "outputs": [
        {
          "output_type": "stream",
          "text": [
            "/usr/local/lib/python3.6/dist-packages/ipykernel_launcher.py:1: SettingWithCopyWarning: \n",
            "A value is trying to be set on a copy of a slice from a DataFrame.\n",
            "Try using .loc[row_indexer,col_indexer] = value instead\n",
            "\n",
            "See the caveats in the documentation: https://pandas.pydata.org/pandas-docs/stable/user_guide/indexing.html#returning-a-view-versus-a-copy\n",
            "  \"\"\"Entry point for launching an IPython kernel.\n"
          ],
          "name": "stderr"
        },
        {
          "output_type": "execute_result",
          "data": {
            "text/plain": [
              "1       70841.00\n",
              "4       41671.00\n",
              "5      120000.00\n",
              "7      250000.00\n",
              "10      47904.00\n",
              "         ...    \n",
              "984     70000.00\n",
              "988     50448.00\n",
              "991     55562.00\n",
              "993     30000.00\n",
              "995     58746.00\n",
              "Name: RawSalary, Length: 370, dtype: object"
            ]
          },
          "metadata": {
            "tags": []
          },
          "execution_count": 111
        }
      ]
    },
    {
      "cell_type": "markdown",
      "metadata": {
        "id": "DgT1f_XlAK6K"
      },
      "source": [
        "### to_numeric function pandas\n",
        "\n",
        "Use this if you have different symbols and don't know how many of them.\n",
        "\n",
        "All values that can't be converted to numeric will rise and error or converted to NaN it depends on the errors= argument  you can use: 'ignore', 'raise', 'coerce'"
      ]
    },
    {
      "cell_type": "markdown",
      "metadata": {
        "id": "a9-l8Ce5CNEH"
      },
      "source": [
        "errors : {'ignore', 'raise', 'coerce'}, default 'raise'\n",
        "    - If 'raise', then invalid parsing will raise an exception.\n",
        "    - If 'coerce', then invalid parsing will be set as NaN.\n",
        "    - If 'ignore', then invalid parsing will return the input."
      ]
    },
    {
      "cell_type": "code",
      "metadata": {
        "id": "xZnGuUMFCkvO",
        "colab": {
          "base_uri": "https://localhost:8080/",
          "height": 139
        },
        "outputId": "879ed9f1-a7dd-421e-dab0-fa0820425154"
      },
      "source": [
        "df['RawSalary'] = df['RawSalary'].str.replace('$','')"
      ],
      "execution_count": null,
      "outputs": [
        {
          "output_type": "stream",
          "text": [
            "/usr/local/lib/python3.6/dist-packages/ipykernel_launcher.py:1: SettingWithCopyWarning: \n",
            "A value is trying to be set on a copy of a slice from a DataFrame.\n",
            "Try using .loc[row_indexer,col_indexer] = value instead\n",
            "\n",
            "See the caveats in the documentation: https://pandas.pydata.org/pandas-docs/stable/user_guide/indexing.html#returning-a-view-versus-a-copy\n",
            "  \"\"\"Entry point for launching an IPython kernel.\n"
          ],
          "name": "stderr"
        }
      ]
    },
    {
      "cell_type": "code",
      "metadata": {
        "id": "aidZW2i-AU2z",
        "colab": {
          "base_uri": "https://localhost:8080/",
          "height": 221
        },
        "outputId": "f15c1671-dd01-42c2-f5ba-a163d7848768"
      },
      "source": [
        "pd.to_numeric(df['RawSalary'],errors='raise')"
      ],
      "execution_count": null,
      "outputs": [
        {
          "output_type": "execute_result",
          "data": {
            "text/plain": [
              "1       70841.0\n",
              "4       41671.0\n",
              "5      120000.0\n",
              "7      250000.0\n",
              "10      47904.0\n",
              "         ...   \n",
              "984     70000.0\n",
              "988     50448.0\n",
              "991     55562.0\n",
              "993     30000.0\n",
              "995     58746.0\n",
              "Name: RawSalary, Length: 370, dtype: float64"
            ]
          },
          "metadata": {
            "tags": []
          },
          "execution_count": 118
        }
      ]
    },
    {
      "cell_type": "markdown",
      "metadata": {
        "id": "22Wn0DC9FX3J"
      },
      "source": [
        "# Attempt to convert the column to numeric values\n",
        "numeric_vals = pd.to_numeric(so_survey_df['RawSalary'], errors='coerce')\n",
        "\n",
        "# Find the indexes of missing values\n",
        "idx = numeric_vals.isna()\n",
        "\n",
        "# Print the relevant rows\n",
        "print(so_survey_df['RawSalary'][idx])"
      ]
    },
    {
      "cell_type": "code",
      "metadata": {
        "id": "pJcnNLR2C1aZ",
        "colab": {
          "base_uri": "https://localhost:8080/",
          "height": 139
        },
        "outputId": "bdaf7650-aa93-45ae-9312-fd57d40df86b"
      },
      "source": [
        "df['RawSalary'] = df['RawSalary'].astype(float)"
      ],
      "execution_count": null,
      "outputs": [
        {
          "output_type": "stream",
          "text": [
            "/usr/local/lib/python3.6/dist-packages/ipykernel_launcher.py:1: SettingWithCopyWarning: \n",
            "A value is trying to be set on a copy of a slice from a DataFrame.\n",
            "Try using .loc[row_indexer,col_indexer] = value instead\n",
            "\n",
            "See the caveats in the documentation: https://pandas.pydata.org/pandas-docs/stable/user_guide/indexing.html#returning-a-view-versus-a-copy\n",
            "  \"\"\"Entry point for launching an IPython kernel.\n"
          ],
          "name": "stderr"
        }
      ]
    },
    {
      "cell_type": "markdown",
      "metadata": {
        "id": "Dw-WCDoGEUb_"
      },
      "source": [
        "### Chain methods \n",
        "\n",
        "Instead of doing several method in different lanes\n",
        "\n",
        "You can chain different methods one after the other."
      ]
    },
    {
      "cell_type": "code",
      "metadata": {
        "id": "F09cMG9_Eaun"
      },
      "source": [
        "# Use method chaining\n",
        "so_survey_df['RawSalary'] = so_survey_df['RawSalary']\\\n",
        "                              .str.replace(',', '')\\\n",
        "                              .str.replace('$', '')\\\n",
        "                              .str.replace('£', '')\\\n",
        "                              .astype('float')\n",
        "\n"
      ],
      "execution_count": null,
      "outputs": []
    },
    {
      "cell_type": "markdown",
      "metadata": {
        "id": "eCsCVo5lGMOZ"
      },
      "source": [
        "# Data Distributions"
      ]
    },
    {
      "cell_type": "markdown",
      "metadata": {
        "id": "1dB1MRG3GOHx"
      },
      "source": [
        "All models except DecisionTrees require every column to be in the same scale.\n",
        " DecisionTrees split feature wise, that's why it doesn't care if other feature has another scale.\n",
        "\n",
        "All model assumes normal distribution. Bell shape. \n",
        "\n",
        "Characteristics:\n",
        "\n",
        "68.27% +1 std\n",
        "95.45 + 2 std\n",
        "99.73 + 3 std\n",
        "\n",
        "To understand data distributions you can plot a histogram and or boxplots\n"
      ]
    },
    {
      "cell_type": "markdown",
      "metadata": {
        "id": "Kxh6ckfbKQ6y"
      },
      "source": [
        "## Plot distribution"
      ]
    },
    {
      "cell_type": "code",
      "metadata": {
        "id": "GPaKKRRZHSjX",
        "colab": {
          "base_uri": "https://localhost:8080/",
          "height": 553
        },
        "outputId": "992b9c85-2c08-4a18-b51a-83fc0db6f450"
      },
      "source": [
        "# To plot you need double brackets.\n",
        "\n",
        "df[['RawSalary']].boxplot()\n",
        "df[['RawSalary']].hist()\n",
        "plt.show()"
      ],
      "execution_count": null,
      "outputs": [
        {
          "output_type": "display_data",
          "data": {
            "image/png": "[encoded data removed]",
            "text/plain": [
              "<Figure size 432x288 with 1 Axes>"
            ]
          },
          "metadata": {
            "tags": [],
            "needs_background": "light"
          }
        },
        {
          "output_type": "display_data",
          "data": {
            "image/png": "[encoded data removed]",
            "text/plain": [
              "<Figure size 432x288 with 1 Axes>"
            ]
          },
          "metadata": {
            "tags": [],
            "needs_background": "light"
          }
        }
      ]
    },
    {
      "cell_type": "code",
      "metadata": {
        "id": "8P0AniD1ItXs",
        "colab": {
          "base_uri": "https://localhost:8080/",
          "height": 775
        },
        "outputId": "fa20e128-8fe6-4ee5-8bbe-c2952bc7cb24"
      },
      "source": [
        "import seaborn as sns\n",
        "\n",
        "sns.pairplot(df[['ConvertedSalary', 'StackOverflowJobsRecommend',\n",
        "       'Age', 'RawSalary']])"
      ],
      "execution_count": null,
      "outputs": [
        {
          "output_type": "execute_result",
          "data": {
            "text/plain": [
              "<seaborn.axisgrid.PairGrid at 0x7f6505e99940>"
            ]
          },
          "metadata": {
            "tags": []
          },
          "execution_count": 130
        },
        {
          "output_type": "display_data",
          "data": {
            "image/png": "[encoded data removed]",
            "text/plain": [
              "<Figure size 720x720 with 20 Axes>"
            ]
          },
          "metadata": {
            "tags": [],
            "needs_background": "light"
          }
        }
      ]
    },
    {
      "cell_type": "markdown",
      "metadata": {
        "id": "cT-9IkuoKHKJ"
      },
      "source": [
        "## Scaling data"
      ]
    },
    {
      "cell_type": "markdown",
      "metadata": {
        "id": "2zaWrUhjKS8K"
      },
      "source": [
        "### Min-max scaling\n",
        "\n",
        "0 lowest value, 1 largest value. \n",
        "Normalization scales all points linearly between the upper and lower bound."
      ]
    },
    {
      "cell_type": "code",
      "metadata": {
        "id": "caYPDkNRKdSS",
        "colab": {
          "base_uri": "https://localhost:8080/",
          "height": 343
        },
        "outputId": "fad1da90-680c-4dd4-946b-b6aca1582c92"
      },
      "source": [
        "from sklearn.preprocessing import MinMaxScaler\n",
        "\n",
        "scaler = MinMaxScaler()\n",
        "\n",
        "scaler.fit(df[['Age']])\n",
        "\n",
        "df['normalized_Age'] = scaler.transform(df[['Age']])\n",
        "\n",
        "df['normalized_Age']"
      ],
      "execution_count": null,
      "outputs": [
        {
          "output_type": "stream",
          "text": [
            "/usr/local/lib/python3.6/dist-packages/ipykernel_launcher.py:7: SettingWithCopyWarning: \n",
            "A value is trying to be set on a copy of a slice from a DataFrame.\n",
            "Try using .loc[row_indexer,col_indexer] = value instead\n",
            "\n",
            "See the caveats in the documentation: https://pandas.pydata.org/pandas-docs/stable/user_guide/indexing.html#returning-a-view-versus-a-copy\n",
            "  import sys\n"
          ],
          "name": "stderr"
        },
        {
          "output_type": "execute_result",
          "data": {
            "text/plain": [
              "1      0.363636\n",
              "4      0.381818\n",
              "5      0.381818\n",
              "7      0.109091\n",
              "10     0.145455\n",
              "         ...   \n",
              "984    0.509091\n",
              "988    0.000000\n",
              "991    0.290909\n",
              "993    0.181818\n",
              "995    0.163636\n",
              "Name: normalized_Age, Length: 370, dtype: float64"
            ]
          },
          "metadata": {
            "tags": []
          },
          "execution_count": 136
        }
      ]
    },
    {
      "cell_type": "markdown",
      "metadata": {
        "id": "0fSNSIabLheJ"
      },
      "source": [
        "### Standardization\n",
        "\n",
        "Centers its distribution around 0. Mean 0, std 1.\n",
        "\n"
      ]
    },
    {
      "cell_type": "code",
      "metadata": {
        "id": "ws_d0JxNLqrQ",
        "colab": {
          "base_uri": "https://localhost:8080/",
          "height": 404
        },
        "outputId": "659e71ba-d804-467f-b736-55097387eded"
      },
      "source": [
        "from sklearn.preprocessing import StandardScaler\n",
        "\n",
        "scaler = StandardScaler()\n",
        "\n",
        "scaler.fit(df[['ConvertedSalary']])\n",
        "\n",
        "df['normalized_ConvertedSalary'] = scaler.transform(df[['ConvertedSalary']])\n",
        "\n",
        "df['normalized_ConvertedSalary'].hist()"
      ],
      "execution_count": null,
      "outputs": [
        {
          "output_type": "stream",
          "text": [
            "/usr/local/lib/python3.6/dist-packages/ipykernel_launcher.py:7: SettingWithCopyWarning: \n",
            "A value is trying to be set on a copy of a slice from a DataFrame.\n",
            "Try using .loc[row_indexer,col_indexer] = value instead\n",
            "\n",
            "See the caveats in the documentation: https://pandas.pydata.org/pandas-docs/stable/user_guide/indexing.html#returning-a-view-versus-a-copy\n",
            "  import sys\n"
          ],
          "name": "stderr"
        },
        {
          "output_type": "execute_result",
          "data": {
            "text/plain": [
              "<matplotlib.axes._subplots.AxesSubplot at 0x7f6504725358>"
            ]
          },
          "metadata": {
            "tags": []
          },
          "execution_count": 141
        },
        {
          "output_type": "display_data",
          "data": {
            "image/png": "[encoded data removed]",
            "text/plain": [
              "<Figure size 432x288 with 1 Axes>"
            ]
          },
          "metadata": {
            "tags": [],
            "needs_background": "light"
          }
        }
      ]
    },
    {
      "cell_type": "markdown",
      "metadata": {
        "id": "VCOzT-sJMv2z"
      },
      "source": [
        "### Change distribution with log transformation\n",
        "\n",
        "When distribution have a long tail we need to change it to normal distribution"
      ]
    },
    {
      "cell_type": "markdown",
      "metadata": {
        "id": "nyUo9cPnS8Fi"
      },
      "source": [
        "#### POWER TRANSFORMER!"
      ]
    },
    {
      "cell_type": "code",
      "metadata": {
        "id": "ZsxbAPKzMy1m",
        "colab": {
          "base_uri": "https://localhost:8080/",
          "height": 416
        },
        "outputId": "cbe14152-2120-473c-9098-be1eb70e6feb"
      },
      "source": [
        "# Import PowerTransformer\n",
        "from sklearn.preprocessing import PowerTransformer\n",
        "\n",
        "# Instantiate PowerTransformer\n",
        "pow_trans = PowerTransformer()\n",
        "\n",
        "# Train the transform on the data\n",
        "pow_trans.fit(df[['ConvertedSalary']])\n",
        "\n",
        "# Apply the power transform to the data\n",
        "df['ConvertedSalary_LG'] = pow_trans.transform(df[['ConvertedSalary']])\n",
        "\n",
        "# Plot the data before and after the transformation\n",
        "df[['ConvertedSalary', 'ConvertedSalary_LG']].hist()\n",
        "plt.show()"
      ],
      "execution_count": null,
      "outputs": [
        {
          "output_type": "stream",
          "text": [
            "/usr/local/lib/python3.6/dist-packages/ipykernel_launcher.py:11: SettingWithCopyWarning: \n",
            "A value is trying to be set on a copy of a slice from a DataFrame.\n",
            "Try using .loc[row_indexer,col_indexer] = value instead\n",
            "\n",
            "See the caveats in the documentation: https://pandas.pydata.org/pandas-docs/stable/user_guide/indexing.html#returning-a-view-versus-a-copy\n",
            "  # This is added back by InteractiveShellApp.init_path()\n"
          ],
          "name": "stderr"
        },
        {
          "output_type": "display_data",
          "data": {
            "image/png": "[encoded data removed]",
            "text/plain": [
              "<Figure size 432x288 with 2 Axes>"
            ]
          },
          "metadata": {
            "tags": [],
            "needs_background": "light"
          }
        }
      ]
    },
    {
      "cell_type": "markdown",
      "metadata": {
        "id": "exvhnLVsTf-f"
      },
      "source": [
        "### Outliers that makes data not normal (skewed right or left)"
      ]
    },
    {
      "cell_type": "code",
      "metadata": {
        "id": "ZBA3X7VtU-nt",
        "colab": {
          "base_uri": "https://localhost:8080/",
          "height": 295
        },
        "outputId": "6caf8a84-e939-47b8-b244-6d13e9c238f8"
      },
      "source": [
        "# In this case outliers that skew distribution to the right\n",
        "df['ConvertedSalary'].hist()"
      ],
      "execution_count": null,
      "outputs": [
        {
          "output_type": "execute_result",
          "data": {
            "text/plain": [
              "<matplotlib.axes._subplots.AxesSubplot at 0x7f65046047f0>"
            ]
          },
          "metadata": {
            "tags": []
          },
          "execution_count": 144
        },
        {
          "output_type": "display_data",
          "data": {
            "image/png": "[encoded data removed]",
            "text/plain": [
              "<Figure size 432x288 with 1 Axes>"
            ]
          },
          "metadata": {
            "tags": [],
            "needs_background": "light"
          }
        }
      ]
    },
    {
      "cell_type": "markdown",
      "metadata": {
        "id": "T4kSAVmCWeb1"
      },
      "source": [
        "Quantile approach"
      ]
    },
    {
      "cell_type": "code",
      "metadata": {
        "id": "TT6_oIJKUkKY",
        "colab": {
          "base_uri": "https://localhost:8080/",
          "height": 282
        },
        "outputId": "3c698060-a3d2-44ec-a49d-4e24581cd167"
      },
      "source": [
        "q_cutoff = df['ConvertedSalary'].quantile(.95)\n",
        "\n",
        "mask = df['ConvertedSalary'] < q_cutoff\n",
        "\n",
        "df = df[mask]\n",
        "df['ConvertedSalary'].hist()"
      ],
      "execution_count": null,
      "outputs": [
        {
          "output_type": "execute_result",
          "data": {
            "text/plain": [
              "<matplotlib.axes._subplots.AxesSubplot at 0x7f65045810f0>"
            ]
          },
          "metadata": {
            "tags": []
          },
          "execution_count": 147
        },
        {
          "output_type": "display_data",
          "data": {
            "image/png": "[encoded data removed]",
            "text/plain": [
              "<Figure size 432x288 with 1 Axes>"
            ]
          },
          "metadata": {
            "tags": [],
            "needs_background": "light"
          }
        }
      ]
    },
    {
      "cell_type": "markdown",
      "metadata": {
        "id": "eqMkIsBAWgFo"
      },
      "source": [
        "Standard deviation approach (more than 3 std is considered outlier)\n",
        "\n"
      ]
    },
    {
      "cell_type": "code",
      "metadata": {
        "id": "xgOVozWwWpSX",
        "colab": {
          "base_uri": "https://localhost:8080/",
          "height": 282
        },
        "outputId": "2d73859d-4141-43dd-fc04-caf3ecbe5e8b"
      },
      "source": [
        "mean = df['ConvertedSalary'].mean()\n",
        "std = df['ConvertedSalary'].std()\n",
        "\n",
        "lower,upper = mean - std * 3, mean + std * 3\n",
        "\n",
        "df = df[(df['ConvertedSalary']<upper) & (df['ConvertedSalary']>lower)]\n",
        "df['ConvertedSalary'].hist()"
      ],
      "execution_count": null,
      "outputs": [
        {
          "output_type": "execute_result",
          "data": {
            "text/plain": [
              "<matplotlib.axes._subplots.AxesSubplot at 0x7f65044b4080>"
            ]
          },
          "metadata": {
            "tags": []
          },
          "execution_count": 150
        },
        {
          "output_type": "display_data",
          "data": {
            "image/png": "[encoded data removed]",
            "text/plain": [
              "<Figure size 432x288 with 1 Axes>"
            ]
          },
          "metadata": {
            "tags": [],
            "needs_background": "light"
          }
        }
      ]
    },
    {
      "cell_type": "markdown",
      "metadata": {
        "id": "BZ3Z4M4Yd7GV"
      },
      "source": [
        "# Text encoding\n",
        "\n",
        "Unstructured text data.\n",
        "\n"
      ]
    },
    {
      "cell_type": "markdown",
      "metadata": {
        "id": "QjFFX3PRfAd5"
      },
      "source": [
        "RE of all letter characters [a-zA-Z]\n",
        "RE for all **non** letter characters [^a-zA-Z]\n",
        "\n",
        "\n"
      ]
    },
    {
      "cell_type": "code",
      "metadata": {
        "id": "uq2vsCkjeeev",
        "colab": {
          "base_uri": "https://localhost:8080/",
          "height": 272
        },
        "outputId": "ee1f1c90-0332-45fc-8639-e1c02fa4fa05"
      },
      "source": [
        "speech_df = pd.read_csv('https://assets.datacamp.com/production/repositories/3752/datasets/cdc15798dd6698003ee33c6af185242faf896187/inaugural_speeches.csv')\n",
        "\n",
        "speech_df.head()"
      ],
      "execution_count": null,
      "outputs": [
        {
          "output_type": "execute_result",
          "data": {
            "text/html": [
              "<div>\n",
              "<style scoped>\n",
              "    .dataframe tbody tr th:only-of-type {\n",
              "        vertical-align: middle;\n",
              "    }\n",
              "\n",
              "    .dataframe tbody tr th {\n",
              "        vertical-align: top;\n",
              "    }\n",
              "\n",
              "    .dataframe thead th {\n",
              "        text-align: right;\n",
              "    }\n",
              "</style>\n",
              "<table border=\"1\" class=\"dataframe\">\n",
              "  <thead>\n",
              "    <tr style=\"text-align: right;\">\n",
              "      <th></th>\n",
              "      <th>Name</th>\n",
              "      <th>Inaugural Address</th>\n",
              "      <th>Date</th>\n",
              "      <th>text</th>\n",
              "    </tr>\n",
              "  </thead>\n",
              "  <tbody>\n",
              "    <tr>\n",
              "      <th>0</th>\n",
              "      <td>George Washington</td>\n",
              "      <td>First Inaugural Address</td>\n",
              "      <td>Thursday, April 30, 1789</td>\n",
              "      <td>Fellow-Citizens of the Senate and of the House...</td>\n",
              "    </tr>\n",
              "    <tr>\n",
              "      <th>1</th>\n",
              "      <td>George Washington</td>\n",
              "      <td>Second Inaugural Address</td>\n",
              "      <td>Monday, March 4, 1793</td>\n",
              "      <td>Fellow Citizens:  I AM again called upon by th...</td>\n",
              "    </tr>\n",
              "    <tr>\n",
              "      <th>2</th>\n",
              "      <td>John Adams</td>\n",
              "      <td>Inaugural Address</td>\n",
              "      <td>Saturday, March 4, 1797</td>\n",
              "      <td>WHEN it was first perceived, in early times, t...</td>\n",
              "    </tr>\n",
              "    <tr>\n",
              "      <th>3</th>\n",
              "      <td>Thomas Jefferson</td>\n",
              "      <td>First Inaugural Address</td>\n",
              "      <td>Wednesday, March 4, 1801</td>\n",
              "      <td>Friends and Fellow-Citizens:  CALLED upon to u...</td>\n",
              "    </tr>\n",
              "    <tr>\n",
              "      <th>4</th>\n",
              "      <td>Thomas Jefferson</td>\n",
              "      <td>Second Inaugural Address</td>\n",
              "      <td>Monday, March 4, 1805</td>\n",
              "      <td>PROCEEDING, fellow-citizens, to that qualifica...</td>\n",
              "    </tr>\n",
              "  </tbody>\n",
              "</table>\n",
              "</div>"
            ],
            "text/plain": [
              "                Name  ...                                               text\n",
              "0  George Washington  ...  Fellow-Citizens of the Senate and of the House...\n",
              "1  George Washington  ...  Fellow Citizens:  I AM again called upon by th...\n",
              "2         John Adams  ...  WHEN it was first perceived, in early times, t...\n",
              "3   Thomas Jefferson  ...  Friends and Fellow-Citizens:  CALLED upon to u...\n",
              "4   Thomas Jefferson  ...  PROCEEDING, fellow-citizens, to that qualifica...\n",
              "\n",
              "[5 rows x 4 columns]"
            ]
          },
          "metadata": {
            "tags": []
          },
          "execution_count": 22
        }
      ]
    },
    {
      "cell_type": "markdown",
      "metadata": {
        "id": "wLrfDxG1gG-W"
      },
      "source": [
        "## Replace all NON letter characters"
      ]
    },
    {
      "cell_type": "code",
      "metadata": {
        "id": "yO1kuiX3fX41",
        "colab": {
          "base_uri": "https://localhost:8080/",
          "height": 119
        },
        "outputId": "4f71a87b-0002-4264-8790-e4c01f9ba77d"
      },
      "source": [
        "# You want all NON letter characters to be transformed by a space\n",
        "\n",
        "speech_df['text'] = speech_df['text'].str.replace('[^a-zA-Z]', ' ')\n",
        "speech_df['text'].head()\n"
      ],
      "execution_count": null,
      "outputs": [
        {
          "output_type": "execute_result",
          "data": {
            "text/plain": [
              "0    Fellow Citizens of the Senate and of the House...\n",
              "1    Fellow Citizens   I AM again called upon by th...\n",
              "2    WHEN it was first perceived  in early times  t...\n",
              "3    Friends and Fellow Citizens   CALLED upon to u...\n",
              "4    PROCEEDING  fellow citizens  to that qualifica...\n",
              "Name: text, dtype: object"
            ]
          },
          "metadata": {
            "tags": []
          },
          "execution_count": 23
        }
      ]
    },
    {
      "cell_type": "markdown",
      "metadata": {
        "id": "MibLYEOlgXOR"
      },
      "source": [
        "## Transform all characters into lower case"
      ]
    },
    {
      "cell_type": "code",
      "metadata": {
        "id": "QMEuB9-egWVI",
        "colab": {
          "base_uri": "https://localhost:8080/",
          "height": 119
        },
        "outputId": "9cf6001f-0dba-4bc9-ef75-bf3343ef4510"
      },
      "source": [
        "speech_df['text'].str.lower()\n",
        "speech_df['text'].head()"
      ],
      "execution_count": null,
      "outputs": [
        {
          "output_type": "execute_result",
          "data": {
            "text/plain": [
              "0    Fellow Citizens of the Senate and of the House...\n",
              "1    Fellow Citizens   I AM again called upon by th...\n",
              "2    WHEN it was first perceived  in early times  t...\n",
              "3    Friends and Fellow Citizens   CALLED upon to u...\n",
              "4    PROCEEDING  fellow citizens  to that qualifica...\n",
              "Name: text, dtype: object"
            ]
          },
          "metadata": {
            "tags": []
          },
          "execution_count": 24
        }
      ]
    },
    {
      "cell_type": "markdown",
      "metadata": {
        "id": "UjM2kiZ8gpzf"
      },
      "source": [
        "## how many words there are in each speech\n"
      ]
    },
    {
      "cell_type": "code",
      "metadata": {
        "id": "MqGnBnwmhkVm",
        "colab": {
          "base_uri": "https://localhost:8080/",
          "height": 119
        },
        "outputId": "3b8cf44b-8d2d-43b4-fc28-81cc83f13db4"
      },
      "source": [
        "# Count the characters in every sample with .str.len()\n",
        "speech_df['char_cnt'] = speech_df['text'].str.len()\n",
        "print(speech_df['char_cnt'].head())"
      ],
      "execution_count": null,
      "outputs": [
        {
          "output_type": "stream",
          "text": [
            "0     8616\n",
            "1      787\n",
            "2    13871\n",
            "3    10144\n",
            "4    12902\n",
            "Name: char_cnt, dtype: int64\n"
          ],
          "name": "stdout"
        }
      ]
    },
    {
      "cell_type": "code",
      "metadata": {
        "id": "RdB_kFDggtCR",
        "colab": {
          "base_uri": "https://localhost:8080/",
          "height": 119
        },
        "outputId": "d1c31d90-4923-4ccd-9ef2-0bb001085aa8"
      },
      "source": [
        "# If I want to kow the number of WORDS, split into array of words\n",
        "# and then count\n",
        "speech_df['word_cnt'] = speech_df['text'].str.split().str.len()\n",
        "print(speech_df['word_cnt'].head())\n"
      ],
      "execution_count": null,
      "outputs": [
        {
          "output_type": "stream",
          "text": [
            "0    1432\n",
            "1     135\n",
            "2    2323\n",
            "3    1736\n",
            "4    2169\n",
            "Name: word_cnt, dtype: int64\n"
          ],
          "name": "stdout"
        }
      ]
    },
    {
      "cell_type": "code",
      "metadata": {
        "id": "hzmswe1xkvYP"
      },
      "source": [
        "# Find the average length of word\n",
        "speech_df['avg_word_length'] = speech_df['char_cnt'] / speech_df['word_cnt']"
      ],
      "execution_count": null,
      "outputs": []
    },
    {
      "cell_type": "markdown",
      "metadata": {
        "id": "Dmr-qguTlVAk"
      },
      "source": [
        "## Text to columns with CountVectorizer"
      ]
    },
    {
      "cell_type": "markdown",
      "metadata": {
        "id": "Eh6TwEMXmdEY"
      },
      "source": [
        "min_df eliminates words that occurs rarely\n",
        "\n",
        "max_df eliminates words that occurs to many times, words like is, are, the,etc.\n",
        "\n",
        "CountVectorizer makes a scr_matrix"
      ]
    },
    {
      "cell_type": "code",
      "metadata": {
        "id": "RTEEhe2xlYQB",
        "colab": {
          "base_uri": "https://localhost:8080/",
          "height": 34
        },
        "outputId": "63236af4-c089-4302-c460-014b12fbc40a"
      },
      "source": [
        "from sklearn.feature_extraction.text import CountVectorizer\n",
        "\n",
        "cv = CountVectorizer(min_df= 0.1,max_df=0.9)\n",
        "\n",
        "cv.fit(speech_df['text'])\n",
        "cv_transformed = cv.transform(speech_df['text'])\n",
        "\n",
        "# or I can use the fit_transform method...\n",
        "\n",
        "\n",
        "print(type(cv_transformed))"
      ],
      "execution_count": null,
      "outputs": [
        {
          "output_type": "stream",
          "text": [
            "<class 'scipy.sparse.csr.csr_matrix'>\n"
          ],
          "name": "stdout"
        }
      ]
    },
    {
      "cell_type": "markdown",
      "metadata": {
        "id": "iPTUozcBoG4G"
      },
      "source": [
        "To transform to a non sparse array you can use .toarray() method.\n",
        "\n"
      ]
    },
    {
      "cell_type": "code",
      "metadata": {
        "id": "hJxqrGEqoQuR",
        "colab": {
          "base_uri": "https://localhost:8080/",
          "height": 34
        },
        "outputId": "802e0836-a3bd-48dd-bef8-3ef7ede412a8"
      },
      "source": [
        "cv_array = cv_transformed.toarray()\n",
        "cv_array.shape"
      ],
      "execution_count": null,
      "outputs": [
        {
          "output_type": "execute_result",
          "data": {
            "text/plain": [
              "(58, 1930)"
            ]
          },
          "metadata": {
            "tags": []
          },
          "execution_count": 29
        }
      ]
    },
    {
      "cell_type": "markdown",
      "metadata": {
        "id": "lKUOnw3touiV"
      },
      "source": [
        "Can get the feature names "
      ]
    },
    {
      "cell_type": "code",
      "metadata": {
        "id": "vzzk8mmTouEh",
        "colab": {
          "base_uri": "https://localhost:8080/",
          "height": 34
        },
        "outputId": "b19d18b8-a3c9-4713-accd-efd35cd77583"
      },
      "source": [
        "feature_names = cv.get_feature_names()\n",
        "feature_names[:5]"
      ],
      "execution_count": null,
      "outputs": [
        {
          "output_type": "execute_result",
          "data": {
            "text/plain": [
              "['abandon', 'abiding', 'ability', 'able', 'about']"
            ]
          },
          "metadata": {
            "tags": []
          },
          "execution_count": 30
        }
      ]
    },
    {
      "cell_type": "markdown",
      "metadata": {
        "id": "4icPElqNp3AZ"
      },
      "source": [
        "Putting all into a DataFrame"
      ]
    },
    {
      "cell_type": "code",
      "metadata": {
        "id": "xjwgBkKJosTn",
        "colab": {
          "base_uri": "https://localhost:8080/",
          "height": 253
        },
        "outputId": "bd4a231e-bf0c-413b-cc12-b1f1c7664cc2"
      },
      "source": [
        "cv_df = pd.DataFrame(cv_transformed.toarray(),\n",
        "                     columns=feature_names).add_prefix('Counts_')\n",
        "\n",
        "cv_df.head()"
      ],
      "execution_count": null,
      "outputs": [
        {
          "output_type": "execute_result",
          "data": {
            "text/html": [
              "<div>\n",
              "<style scoped>\n",
              "    .dataframe tbody tr th:only-of-type {\n",
              "        vertical-align: middle;\n",
              "    }\n",
              "\n",
              "    .dataframe tbody tr th {\n",
              "        vertical-align: top;\n",
              "    }\n",
              "\n",
              "    .dataframe thead th {\n",
              "        text-align: right;\n",
              "    }\n",
              "</style>\n",
              "<table border=\"1\" class=\"dataframe\">\n",
              "  <thead>\n",
              "    <tr style=\"text-align: right;\">\n",
              "      <th></th>\n",
              "      <th>Counts_abandon</th>\n",
              "      <th>Counts_abiding</th>\n",
              "      <th>Counts_ability</th>\n",
              "      <th>Counts_able</th>\n",
              "      <th>Counts_about</th>\n",
              "      <th>Counts_above</th>\n",
              "      <th>Counts_abroad</th>\n",
              "      <th>Counts_absolute</th>\n",
              "      <th>Counts_abuse</th>\n",
              "      <th>Counts_abuses</th>\n",
              "      <th>Counts_accept</th>\n",
              "      <th>Counts_accepted</th>\n",
              "      <th>Counts_accomplish</th>\n",
              "      <th>Counts_accomplished</th>\n",
              "      <th>Counts_accomplishment</th>\n",
              "      <th>Counts_accordance</th>\n",
              "      <th>Counts_according</th>\n",
              "      <th>Counts_account</th>\n",
              "      <th>Counts_accountability</th>\n",
              "      <th>Counts_achieve</th>\n",
              "      <th>Counts_achieved</th>\n",
              "      <th>Counts_achievement</th>\n",
              "      <th>Counts_achievements</th>\n",
              "      <th>Counts_acknowledge</th>\n",
              "      <th>Counts_acknowledged</th>\n",
              "      <th>Counts_acquiescence</th>\n",
              "      <th>Counts_across</th>\n",
              "      <th>Counts_act</th>\n",
              "      <th>Counts_acted</th>\n",
              "      <th>Counts_acting</th>\n",
              "      <th>Counts_action</th>\n",
              "      <th>Counts_actions</th>\n",
              "      <th>Counts_acts</th>\n",
              "      <th>Counts_actual</th>\n",
              "      <th>Counts_adapted</th>\n",
              "      <th>Counts_add</th>\n",
              "      <th>Counts_added</th>\n",
              "      <th>Counts_additional</th>\n",
              "      <th>Counts_address</th>\n",
              "      <th>Counts_adequate</th>\n",
              "      <th>...</th>\n",
              "      <th>Counts_white</th>\n",
              "      <th>Counts_whole</th>\n",
              "      <th>Counts_wholesome</th>\n",
              "      <th>Counts_wholly</th>\n",
              "      <th>Counts_whom</th>\n",
              "      <th>Counts_whose</th>\n",
              "      <th>Counts_why</th>\n",
              "      <th>Counts_wide</th>\n",
              "      <th>Counts_willing</th>\n",
              "      <th>Counts_win</th>\n",
              "      <th>Counts_wisdom</th>\n",
              "      <th>Counts_wise</th>\n",
              "      <th>Counts_wisely</th>\n",
              "      <th>Counts_wish</th>\n",
              "      <th>Counts_wishes</th>\n",
              "      <th>Counts_within</th>\n",
              "      <th>Counts_without</th>\n",
              "      <th>Counts_witness</th>\n",
              "      <th>Counts_witnessed</th>\n",
              "      <th>Counts_women</th>\n",
              "      <th>Counts_word</th>\n",
              "      <th>Counts_words</th>\n",
              "      <th>Counts_work</th>\n",
              "      <th>Counts_working</th>\n",
              "      <th>Counts_works</th>\n",
              "      <th>Counts_worthy</th>\n",
              "      <th>Counts_would</th>\n",
              "      <th>Counts_write</th>\n",
              "      <th>Counts_written</th>\n",
              "      <th>Counts_wrong</th>\n",
              "      <th>Counts_year</th>\n",
              "      <th>Counts_years</th>\n",
              "      <th>Counts_yes</th>\n",
              "      <th>Counts_yet</th>\n",
              "      <th>Counts_yield</th>\n",
              "      <th>Counts_you</th>\n",
              "      <th>Counts_young</th>\n",
              "      <th>Counts_your</th>\n",
              "      <th>Counts_zeal</th>\n",
              "      <th>Counts_zealously</th>\n",
              "    </tr>\n",
              "  </thead>\n",
              "  <tbody>\n",
              "    <tr>\n",
              "      <th>0</th>\n",
              "      <td>0</td>\n",
              "      <td>0</td>\n",
              "      <td>0</td>\n",
              "      <td>0</td>\n",
              "      <td>0</td>\n",
              "      <td>0</td>\n",
              "      <td>0</td>\n",
              "      <td>0</td>\n",
              "      <td>0</td>\n",
              "      <td>0</td>\n",
              "      <td>0</td>\n",
              "      <td>0</td>\n",
              "      <td>0</td>\n",
              "      <td>1</td>\n",
              "      <td>0</td>\n",
              "      <td>0</td>\n",
              "      <td>0</td>\n",
              "      <td>0</td>\n",
              "      <td>0</td>\n",
              "      <td>0</td>\n",
              "      <td>0</td>\n",
              "      <td>0</td>\n",
              "      <td>0</td>\n",
              "      <td>1</td>\n",
              "      <td>0</td>\n",
              "      <td>0</td>\n",
              "      <td>0</td>\n",
              "      <td>1</td>\n",
              "      <td>0</td>\n",
              "      <td>0</td>\n",
              "      <td>0</td>\n",
              "      <td>0</td>\n",
              "      <td>0</td>\n",
              "      <td>1</td>\n",
              "      <td>0</td>\n",
              "      <td>1</td>\n",
              "      <td>0</td>\n",
              "      <td>0</td>\n",
              "      <td>0</td>\n",
              "      <td>0</td>\n",
              "      <td>...</td>\n",
              "      <td>0</td>\n",
              "      <td>0</td>\n",
              "      <td>0</td>\n",
              "      <td>0</td>\n",
              "      <td>0</td>\n",
              "      <td>2</td>\n",
              "      <td>0</td>\n",
              "      <td>0</td>\n",
              "      <td>0</td>\n",
              "      <td>1</td>\n",
              "      <td>0</td>\n",
              "      <td>1</td>\n",
              "      <td>0</td>\n",
              "      <td>0</td>\n",
              "      <td>0</td>\n",
              "      <td>0</td>\n",
              "      <td>2</td>\n",
              "      <td>0</td>\n",
              "      <td>0</td>\n",
              "      <td>0</td>\n",
              "      <td>0</td>\n",
              "      <td>0</td>\n",
              "      <td>0</td>\n",
              "      <td>0</td>\n",
              "      <td>0</td>\n",
              "      <td>0</td>\n",
              "      <td>1</td>\n",
              "      <td>0</td>\n",
              "      <td>0</td>\n",
              "      <td>0</td>\n",
              "      <td>0</td>\n",
              "      <td>1</td>\n",
              "      <td>0</td>\n",
              "      <td>0</td>\n",
              "      <td>0</td>\n",
              "      <td>5</td>\n",
              "      <td>0</td>\n",
              "      <td>9</td>\n",
              "      <td>0</td>\n",
              "      <td>0</td>\n",
              "    </tr>\n",
              "    <tr>\n",
              "      <th>1</th>\n",
              "      <td>0</td>\n",
              "      <td>0</td>\n",
              "      <td>0</td>\n",
              "      <td>0</td>\n",
              "      <td>1</td>\n",
              "      <td>0</td>\n",
              "      <td>0</td>\n",
              "      <td>0</td>\n",
              "      <td>0</td>\n",
              "      <td>0</td>\n",
              "      <td>0</td>\n",
              "      <td>0</td>\n",
              "      <td>0</td>\n",
              "      <td>0</td>\n",
              "      <td>0</td>\n",
              "      <td>0</td>\n",
              "      <td>0</td>\n",
              "      <td>0</td>\n",
              "      <td>0</td>\n",
              "      <td>0</td>\n",
              "      <td>0</td>\n",
              "      <td>0</td>\n",
              "      <td>0</td>\n",
              "      <td>0</td>\n",
              "      <td>0</td>\n",
              "      <td>0</td>\n",
              "      <td>0</td>\n",
              "      <td>1</td>\n",
              "      <td>0</td>\n",
              "      <td>0</td>\n",
              "      <td>0</td>\n",
              "      <td>0</td>\n",
              "      <td>0</td>\n",
              "      <td>0</td>\n",
              "      <td>0</td>\n",
              "      <td>0</td>\n",
              "      <td>0</td>\n",
              "      <td>0</td>\n",
              "      <td>0</td>\n",
              "      <td>0</td>\n",
              "      <td>...</td>\n",
              "      <td>0</td>\n",
              "      <td>0</td>\n",
              "      <td>0</td>\n",
              "      <td>0</td>\n",
              "      <td>0</td>\n",
              "      <td>0</td>\n",
              "      <td>0</td>\n",
              "      <td>0</td>\n",
              "      <td>0</td>\n",
              "      <td>0</td>\n",
              "      <td>0</td>\n",
              "      <td>0</td>\n",
              "      <td>0</td>\n",
              "      <td>0</td>\n",
              "      <td>0</td>\n",
              "      <td>0</td>\n",
              "      <td>0</td>\n",
              "      <td>0</td>\n",
              "      <td>0</td>\n",
              "      <td>0</td>\n",
              "      <td>0</td>\n",
              "      <td>0</td>\n",
              "      <td>0</td>\n",
              "      <td>0</td>\n",
              "      <td>0</td>\n",
              "      <td>0</td>\n",
              "      <td>0</td>\n",
              "      <td>0</td>\n",
              "      <td>0</td>\n",
              "      <td>0</td>\n",
              "      <td>0</td>\n",
              "      <td>0</td>\n",
              "      <td>0</td>\n",
              "      <td>0</td>\n",
              "      <td>0</td>\n",
              "      <td>0</td>\n",
              "      <td>0</td>\n",
              "      <td>1</td>\n",
              "      <td>0</td>\n",
              "      <td>0</td>\n",
              "    </tr>\n",
              "    <tr>\n",
              "      <th>2</th>\n",
              "      <td>0</td>\n",
              "      <td>0</td>\n",
              "      <td>0</td>\n",
              "      <td>0</td>\n",
              "      <td>0</td>\n",
              "      <td>0</td>\n",
              "      <td>1</td>\n",
              "      <td>0</td>\n",
              "      <td>0</td>\n",
              "      <td>1</td>\n",
              "      <td>0</td>\n",
              "      <td>0</td>\n",
              "      <td>0</td>\n",
              "      <td>0</td>\n",
              "      <td>0</td>\n",
              "      <td>0</td>\n",
              "      <td>1</td>\n",
              "      <td>0</td>\n",
              "      <td>0</td>\n",
              "      <td>0</td>\n",
              "      <td>0</td>\n",
              "      <td>0</td>\n",
              "      <td>0</td>\n",
              "      <td>1</td>\n",
              "      <td>0</td>\n",
              "      <td>0</td>\n",
              "      <td>0</td>\n",
              "      <td>0</td>\n",
              "      <td>0</td>\n",
              "      <td>0</td>\n",
              "      <td>0</td>\n",
              "      <td>1</td>\n",
              "      <td>0</td>\n",
              "      <td>0</td>\n",
              "      <td>1</td>\n",
              "      <td>1</td>\n",
              "      <td>1</td>\n",
              "      <td>0</td>\n",
              "      <td>0</td>\n",
              "      <td>0</td>\n",
              "      <td>...</td>\n",
              "      <td>0</td>\n",
              "      <td>3</td>\n",
              "      <td>0</td>\n",
              "      <td>0</td>\n",
              "      <td>0</td>\n",
              "      <td>0</td>\n",
              "      <td>0</td>\n",
              "      <td>0</td>\n",
              "      <td>0</td>\n",
              "      <td>0</td>\n",
              "      <td>0</td>\n",
              "      <td>1</td>\n",
              "      <td>0</td>\n",
              "      <td>1</td>\n",
              "      <td>2</td>\n",
              "      <td>0</td>\n",
              "      <td>3</td>\n",
              "      <td>0</td>\n",
              "      <td>0</td>\n",
              "      <td>0</td>\n",
              "      <td>0</td>\n",
              "      <td>0</td>\n",
              "      <td>0</td>\n",
              "      <td>0</td>\n",
              "      <td>0</td>\n",
              "      <td>0</td>\n",
              "      <td>2</td>\n",
              "      <td>0</td>\n",
              "      <td>0</td>\n",
              "      <td>0</td>\n",
              "      <td>2</td>\n",
              "      <td>3</td>\n",
              "      <td>0</td>\n",
              "      <td>0</td>\n",
              "      <td>0</td>\n",
              "      <td>0</td>\n",
              "      <td>0</td>\n",
              "      <td>1</td>\n",
              "      <td>1</td>\n",
              "      <td>0</td>\n",
              "    </tr>\n",
              "    <tr>\n",
              "      <th>3</th>\n",
              "      <td>1</td>\n",
              "      <td>0</td>\n",
              "      <td>0</td>\n",
              "      <td>0</td>\n",
              "      <td>1</td>\n",
              "      <td>1</td>\n",
              "      <td>1</td>\n",
              "      <td>1</td>\n",
              "      <td>0</td>\n",
              "      <td>2</td>\n",
              "      <td>0</td>\n",
              "      <td>0</td>\n",
              "      <td>0</td>\n",
              "      <td>0</td>\n",
              "      <td>0</td>\n",
              "      <td>0</td>\n",
              "      <td>1</td>\n",
              "      <td>0</td>\n",
              "      <td>0</td>\n",
              "      <td>0</td>\n",
              "      <td>0</td>\n",
              "      <td>0</td>\n",
              "      <td>0</td>\n",
              "      <td>0</td>\n",
              "      <td>0</td>\n",
              "      <td>1</td>\n",
              "      <td>0</td>\n",
              "      <td>0</td>\n",
              "      <td>0</td>\n",
              "      <td>0</td>\n",
              "      <td>0</td>\n",
              "      <td>1</td>\n",
              "      <td>0</td>\n",
              "      <td>0</td>\n",
              "      <td>0</td>\n",
              "      <td>0</td>\n",
              "      <td>0</td>\n",
              "      <td>0</td>\n",
              "      <td>0</td>\n",
              "      <td>0</td>\n",
              "      <td>...</td>\n",
              "      <td>0</td>\n",
              "      <td>2</td>\n",
              "      <td>0</td>\n",
              "      <td>0</td>\n",
              "      <td>1</td>\n",
              "      <td>2</td>\n",
              "      <td>0</td>\n",
              "      <td>2</td>\n",
              "      <td>0</td>\n",
              "      <td>0</td>\n",
              "      <td>2</td>\n",
              "      <td>1</td>\n",
              "      <td>0</td>\n",
              "      <td>1</td>\n",
              "      <td>0</td>\n",
              "      <td>1</td>\n",
              "      <td>2</td>\n",
              "      <td>0</td>\n",
              "      <td>0</td>\n",
              "      <td>0</td>\n",
              "      <td>0</td>\n",
              "      <td>0</td>\n",
              "      <td>1</td>\n",
              "      <td>0</td>\n",
              "      <td>0</td>\n",
              "      <td>0</td>\n",
              "      <td>6</td>\n",
              "      <td>1</td>\n",
              "      <td>0</td>\n",
              "      <td>2</td>\n",
              "      <td>0</td>\n",
              "      <td>0</td>\n",
              "      <td>0</td>\n",
              "      <td>2</td>\n",
              "      <td>0</td>\n",
              "      <td>7</td>\n",
              "      <td>0</td>\n",
              "      <td>7</td>\n",
              "      <td>1</td>\n",
              "      <td>0</td>\n",
              "    </tr>\n",
              "    <tr>\n",
              "      <th>4</th>\n",
              "      <td>0</td>\n",
              "      <td>0</td>\n",
              "      <td>0</td>\n",
              "      <td>1</td>\n",
              "      <td>0</td>\n",
              "      <td>0</td>\n",
              "      <td>0</td>\n",
              "      <td>0</td>\n",
              "      <td>0</td>\n",
              "      <td>2</td>\n",
              "      <td>0</td>\n",
              "      <td>0</td>\n",
              "      <td>0</td>\n",
              "      <td>0</td>\n",
              "      <td>0</td>\n",
              "      <td>0</td>\n",
              "      <td>1</td>\n",
              "      <td>0</td>\n",
              "      <td>0</td>\n",
              "      <td>0</td>\n",
              "      <td>0</td>\n",
              "      <td>0</td>\n",
              "      <td>0</td>\n",
              "      <td>0</td>\n",
              "      <td>1</td>\n",
              "      <td>0</td>\n",
              "      <td>0</td>\n",
              "      <td>3</td>\n",
              "      <td>1</td>\n",
              "      <td>0</td>\n",
              "      <td>1</td>\n",
              "      <td>0</td>\n",
              "      <td>0</td>\n",
              "      <td>0</td>\n",
              "      <td>0</td>\n",
              "      <td>1</td>\n",
              "      <td>0</td>\n",
              "      <td>0</td>\n",
              "      <td>0</td>\n",
              "      <td>0</td>\n",
              "      <td>...</td>\n",
              "      <td>0</td>\n",
              "      <td>1</td>\n",
              "      <td>2</td>\n",
              "      <td>0</td>\n",
              "      <td>2</td>\n",
              "      <td>3</td>\n",
              "      <td>0</td>\n",
              "      <td>0</td>\n",
              "      <td>0</td>\n",
              "      <td>0</td>\n",
              "      <td>2</td>\n",
              "      <td>0</td>\n",
              "      <td>0</td>\n",
              "      <td>1</td>\n",
              "      <td>0</td>\n",
              "      <td>4</td>\n",
              "      <td>2</td>\n",
              "      <td>2</td>\n",
              "      <td>1</td>\n",
              "      <td>0</td>\n",
              "      <td>1</td>\n",
              "      <td>0</td>\n",
              "      <td>0</td>\n",
              "      <td>0</td>\n",
              "      <td>1</td>\n",
              "      <td>0</td>\n",
              "      <td>4</td>\n",
              "      <td>0</td>\n",
              "      <td>1</td>\n",
              "      <td>0</td>\n",
              "      <td>2</td>\n",
              "      <td>2</td>\n",
              "      <td>0</td>\n",
              "      <td>2</td>\n",
              "      <td>0</td>\n",
              "      <td>4</td>\n",
              "      <td>0</td>\n",
              "      <td>4</td>\n",
              "      <td>3</td>\n",
              "      <td>0</td>\n",
              "    </tr>\n",
              "  </tbody>\n",
              "</table>\n",
              "<p>5 rows × 1930 columns</p>\n",
              "</div>"
            ],
            "text/plain": [
              "   Counts_abandon  Counts_abiding  ...  Counts_zeal  Counts_zealously\n",
              "0               0               0  ...            0                 0\n",
              "1               0               0  ...            0                 0\n",
              "2               0               0  ...            1                 0\n",
              "3               1               0  ...            1                 0\n",
              "4               0               0  ...            3                 0\n",
              "\n",
              "[5 rows x 1930 columns]"
            ]
          },
          "metadata": {
            "tags": []
          },
          "execution_count": 31
        }
      ]
    },
    {
      "cell_type": "code",
      "metadata": {
        "id": "rNqkdMrMq-bU",
        "colab": {
          "base_uri": "https://localhost:8080/",
          "height": 153
        },
        "outputId": "bb9f9600-011c-4f1d-ad2a-898f34440bdb"
      },
      "source": [
        "# Add the new columns to the original DataFrame\n",
        "speech_df_new = pd.concat([speech_df, cv_df], axis=1, sort=False)\n",
        "print(speech_df_new.head())"
      ],
      "execution_count": null,
      "outputs": [
        {
          "output_type": "stream",
          "text": [
            "                Name         Inaugural Address  ... Counts_zeal Counts_zealously\n",
            "0  George Washington   First Inaugural Address  ...           0                0\n",
            "1  George Washington  Second Inaugural Address  ...           0                0\n",
            "2         John Adams         Inaugural Address  ...           1                0\n",
            "3   Thomas Jefferson   First Inaugural Address  ...           1                0\n",
            "4   Thomas Jefferson  Second Inaugural Address  ...           3                0\n",
            "\n",
            "[5 rows x 1937 columns]\n"
          ],
          "name": "stdout"
        }
      ]
    },
    {
      "cell_type": "markdown",
      "metadata": {
        "id": "T7JdjQwWrDjj"
      },
      "source": [
        "## TF-IDF"
      ]
    },
    {
      "cell_type": "markdown",
      "metadata": {
        "id": "lUlICrT_Upta"
      },
      "source": [
        "TF-IDF means Term frequency-inverse document frequency\n",
        "\n",
        "The ecuation of TF-IDF has the effect of reducing the value of common words,while increasing weight of words that are not in other documents.\n",
        "\n"
      ]
    },
    {
      "cell_type": "markdown",
      "metadata": {
        "id": "CrzHGeaoWsgp"
      },
      "source": [
        "Tf-idf\n",
        "While counts of occurrences of words can be useful to build models, words that occur many times may skew the results undesirably. To limit these common words from overpowering your model a form of normalization can be used. In this lesson you will be using Term frequency-inverse document frequency (Tf-idf) as was discussed in the video. Tf-idf has the effect of reducing the value of common words, while increasing the weight of words that do not occur in many documents."
      ]
    },
    {
      "cell_type": "code",
      "metadata": {
        "id": "hVEbU85fUqL-",
        "colab": {
          "base_uri": "https://localhost:8080/",
          "height": 153
        },
        "outputId": "7eb9857c-e53a-4c21-9c1b-1e79ee6f9639"
      },
      "source": [
        "# You can put a maximum of columns created by tfidf\n",
        "# In the argument stop_words there is the 'english' string. This means that a\n",
        "# predefined list of common words are not going to be additioned in the TF-IDF\n",
        "# These common words are: and, the, is and others.\n",
        "\n",
        "\n",
        "from sklearn.feature_extraction.text import TfidfVectorizer\n",
        "\n",
        "# Instantiate TfidfVectorizer\n",
        "tv = TfidfVectorizer(max_features=100, stop_words='english')\n",
        "\n",
        "# Fit the vectroizer and transform the data\n",
        "tv_transformed = tv.fit_transform(speech_df['text'])\n",
        "\n",
        "# Create a DataFrame with these features\n",
        "tv_df = pd.DataFrame(tv_transformed.toarray(), \n",
        "                     columns=tv.get_feature_names()).add_prefix('TFIDF_')\n",
        "print(tv_df.head())"
      ],
      "execution_count": null,
      "outputs": [
        {
          "output_type": "stream",
          "text": [
            "   TFIDF_action  TFIDF_administration  ...  TFIDF_world  TFIDF_years\n",
            "0      0.000000              0.133415  ...     0.045929     0.052694\n",
            "1      0.000000              0.261016  ...     0.000000     0.000000\n",
            "2      0.000000              0.092436  ...     0.063643     0.073018\n",
            "3      0.000000              0.092693  ...     0.095729     0.000000\n",
            "4      0.041334              0.039761  ...     0.054752     0.062817\n",
            "\n",
            "[5 rows x 100 columns]\n"
          ],
          "name": "stdout"
        }
      ]
    },
    {
      "cell_type": "markdown",
      "metadata": {
        "id": "Mf-d5Dp0XbWF"
      },
      "source": [
        "Inspecting Tf-idf values\n",
        "After creating Tf-idf features you will often want to understand what are the most highest scored words for each corpus. This can be achieved by isolating the row you want to examine and then sorting the the scores from high to low."
      ]
    },
    {
      "cell_type": "code",
      "metadata": {
        "id": "YcVX6ASwXmtl",
        "colab": {
          "base_uri": "https://localhost:8080/",
          "height": 119
        },
        "outputId": "9dd4be71-b8bf-452e-e17b-e2cfb30ad6cc"
      },
      "source": [
        "# Isolate the row to be examined\n",
        "sample_row = tv_df.iloc[0]\n",
        "\n",
        "# Print the top 5 words of the sorted output\n",
        "print(sample_row.sort_values(ascending=False).head())"
      ],
      "execution_count": null,
      "outputs": [
        {
          "output_type": "stream",
          "text": [
            "TFIDF_government    0.367430\n",
            "TFIDF_public        0.333237\n",
            "TFIDF_present       0.315182\n",
            "TFIDF_duty          0.238637\n",
            "TFIDF_citizens      0.229644\n",
            "Name: 0, dtype: float64\n"
          ],
          "name": "stdout"
        }
      ]
    },
    {
      "cell_type": "markdown",
      "metadata": {
        "id": "xs3K8dmkYJMh"
      },
      "source": [
        " fit the vectorizer only on the training data, and apply it to the test data.\n",
        "\n",
        " We dont have this training set, but the code is the following:"
      ]
    },
    {
      "cell_type": "code",
      "metadata": {
        "id": "UrWJON5RYMh-"
      },
      "source": [
        "# Instantiate TfidfVectorizer\n",
        "tv = TfidfVectorizer(max_features=100, stop_words='english')\n",
        "\n",
        "# Fit the vectroizer and transform the data\n",
        "tv_transformed = tv.fit_transform(train_speech_df['text_clean'])\n",
        "\n",
        "# Transform test data\n",
        "test_tv_transformed = tv.transform(test_speech_df['text_clean'])\n",
        "\n",
        "# Create new features for the test set\n",
        "test_tv_df = pd.DataFrame(test_tv_transformed.toarray(), \n",
        "                          columns=tv.get_feature_names()).add_prefix('TFIDF_')\n",
        "print(test_tv_df.head())"
      ],
      "execution_count": null,
      "outputs": []
    },
    {
      "cell_type": "markdown",
      "metadata": {
        "id": "fWhUIlt8YrSv"
      },
      "source": [
        "## Bag of words limitations"
      ]
    },
    {
      "cell_type": "markdown",
      "metadata": {
        "id": "flunYVWZYvW7"
      },
      "source": [
        "Bag of words with countVectorizer makes only an array of isolated words\n",
        "\n",
        "For example if I have the words Happy, it seems a positive meaning, but actually the text was written like 'i'm not happy'. This needs 2-gram\n",
        "\n",
        "'never not happy' has a positive connotation. This needs 3-gram"
      ]
    },
    {
      "cell_type": "markdown",
      "metadata": {
        "id": "rbMiXfy6YtWD"
      },
      "source": [
        "## N-grams"
      ]
    },
    {
      "cell_type": "markdown",
      "metadata": {
        "id": "v85PHty7ZRT0"
      },
      "source": [
        "In CountVectorizer there is an argument ngram_range= (min,max). ngram_range argument as a tuple (n1, n2) where all n-grams in the n1 to n2 range are included.\n",
        "\n",
        "So far you have created features based on individual words in each of the texts. This can be quite powerful when used in a machine learning model but you may be concerned that by looking at words individually a lot of the context is being ignored. To deal with this when creating models you can use n-grams which are sequence of n words grouped together. For example:\n",
        "\n",
        "bigrams: Sequences of two consecutive words\n",
        "trigrams: Sequences of two consecutive words"
      ]
    },
    {
      "cell_type": "code",
      "metadata": {
        "id": "RplCQUJTYS6a",
        "colab": {
          "base_uri": "https://localhost:8080/",
          "height": 156
        },
        "outputId": "9adc647f-3e67-4671-a770-007bd29f627c"
      },
      "source": [
        "# Import CountVectorizer\n",
        "from sklearn.feature_extraction.text import CountVectorizer\n",
        "\n",
        "# Instantiate a trigram vectorizer\n",
        "cv_trigram_vec = CountVectorizer(max_features=100, \n",
        "                                 stop_words='english', \n",
        "                                 ngram_range = (3,3))\n",
        "\n",
        "# Fit and apply trigram vectorizer\n",
        "cv_trigram = cv_trigram_vec.fit_transform(speech_df['text'])\n",
        "\n",
        "# Print the trigram features\n",
        "print(cv_trigram_vec.get_feature_names())\n",
        "\n",
        "# Create a DataFrame of the features\n",
        "cv_tri_df = pd.DataFrame(cv_trigram.toarray(), \n",
        "                         columns=cv_trigram_vec.get_feature_names()).add_prefix('Counts_')\n",
        "\n",
        "# Print the top 5 words in the sorted output\n",
        "print(cv_tri_df.sum().sort_values(ascending=False).head())"
      ],
      "execution_count": null,
      "outputs": [
        {
          "output_type": "stream",
          "text": [
            "['ability preserve protect', 'agriculture commerce manufactures', 'america ideal freedom', 'amity mutual concession', 'anchor peace home', 'ask bow heads', 'best ability preserve', 'best interests country', 'bless god bless', 'bless united states', 'chief justice mr', 'children children children', 'citizens united states', 'civil religious liberty', 'civil service reform', 'commerce united states', 'confidence fellow citizens', 'congress extraordinary session', 'constitution does expressly', 'constitution united states', 'coordinate branches government', 'day task people', 'defend constitution united', 'distinction powers granted', 'distinguished guests fellow', 'does expressly say', 'equal exact justice', 'era good feeling', 'executive branch government', 'faithfully execute office', 'fellow citizens assembled', 'fellow citizens called', 'fellow citizens large', 'fellow citizens world', 'form perfect union', 'general welfare secure', 'god bless america', 'god bless god', 'good greatest number', 'government peace war', 'government united states', 'granted federal government', 'great body people', 'great political parties', 'greatest good greatest', 'guests fellow citizens', 'invasion wars powers', 'land new promise', 'laws faithfully executed', 'letter spirit constitution', 'liberty pursuit happiness', 'life liberty pursuit', 'local self government', 'make hard choices', 'men women children', 'mr chief justice', 'mr majority leader', 'mr president vice', 'mr speaker mr', 'mr vice president', 'nation like person', 'new breeze blowing', 'new states admitted', 'north south east', 'oath prescribed constitution', 'office president united', 'passed generation generation', 'peace shall strive', 'people united states', 'physical moral political', 'policy united states', 'power general government', 'preservation general government', 'preservation sacred liberty', 'preserve protect defend', 'president united states', 'president vice president', 'promote general welfare', 'proof confidence fellow', 'protect defend constitution', 'protection great interests', 'reform civil service', 'reserved states people', 'respect individual human', 'right self government', 'secure blessings liberty', 'south east west', 'sovereignty general government', 'states admitted union', 'territories united states', 'thank god bless', 'turning away old', 'united states america', 'united states best', 'united states government', 'united states great', 'united states maintain', 'united states territory', 'vice president mr', 'welfare secure blessings']\n",
            "Counts_constitution united states    20\n",
            "Counts_people united states          13\n",
            "Counts_preserve protect defend       10\n",
            "Counts_mr chief justice              10\n",
            "Counts_president united states        8\n",
            "dtype: int64\n"
          ],
          "name": "stdout"
        }
      ]
    }
  ]
}