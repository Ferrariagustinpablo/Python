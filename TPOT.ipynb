{
  "nbformat": 4,
  "nbformat_minor": 0,
  "metadata": {
    "colab": {
      "name": "TPOT.ipynb",
      "provenance": [],
      "authorship_tag": "ABX9TyOAHSMGf2sfUf7NnF+9mTOh",
      "include_colab_link": true
    },
    "kernelspec": {
      "name": "python3",
      "display_name": "Python 3"
    },
    "widgets": {
      "application/vnd.jupyter.widget-state+json": {
        "5fd8500919404862b70683e7603e256f": {
          "model_module": "@jupyter-widgets/controls",
          "model_name": "HBoxModel",
          "state": {
            "_view_name": "HBoxView",
            "_dom_classes": [],
            "_model_name": "HBoxModel",
            "_view_module": "@jupyter-widgets/controls",
            "_model_module_version": "1.5.0",
            "_view_count": null,
            "_view_module_version": "1.5.0",
            "box_style": "",
            "layout": "IPY_MODEL_9e9107a90e484b358c3824330e703fad",
            "_model_module": "@jupyter-widgets/controls",
            "children": [
              "IPY_MODEL_2af201037a314c6f81b1c3dbe37a7716",
              "IPY_MODEL_59f632362e7640ecae22ad63ff7f2acf"
            ]
          }
        },
        "9e9107a90e484b358c3824330e703fad": {
          "model_module": "@jupyter-widgets/base",
          "model_name": "LayoutModel",
          "state": {
            "_view_name": "LayoutView",
            "grid_template_rows": null,
            "right": null,
            "justify_content": null,
            "_view_module": "@jupyter-widgets/base",
            "overflow": null,
            "_model_module_version": "1.2.0",
            "_view_count": null,
            "flex_flow": null,
            "width": null,
            "min_width": null,
            "border": null,
            "align_items": null,
            "bottom": null,
            "_model_module": "@jupyter-widgets/base",
            "top": null,
            "grid_column": null,
            "overflow_y": null,
            "overflow_x": null,
            "grid_auto_flow": null,
            "grid_area": null,
            "grid_template_columns": null,
            "flex": null,
            "_model_name": "LayoutModel",
            "justify_items": null,
            "grid_row": null,
            "max_height": null,
            "align_content": null,
            "visibility": null,
            "align_self": null,
            "height": null,
            "min_height": null,
            "padding": null,
            "grid_auto_rows": null,
            "grid_gap": null,
            "max_width": null,
            "order": null,
            "_view_module_version": "1.2.0",
            "grid_template_areas": null,
            "object_position": null,
            "object_fit": null,
            "grid_auto_columns": null,
            "margin": null,
            "display": null,
            "left": null
          }
        },
        "2af201037a314c6f81b1c3dbe37a7716": {
          "model_module": "@jupyter-widgets/controls",
          "model_name": "FloatProgressModel",
          "state": {
            "_view_name": "ProgressView",
            "style": "IPY_MODEL_12009fbe6e9a45e0afd9ad4bb249f65d",
            "_dom_classes": [],
            "description": "Optimization Progress: ",
            "_model_name": "FloatProgressModel",
            "bar_style": "",
            "max": 600,
            "_view_module": "@jupyter-widgets/controls",
            "_model_module_version": "1.5.0",
            "value": 600,
            "_view_count": null,
            "_view_module_version": "1.5.0",
            "orientation": "horizontal",
            "min": 0,
            "description_tooltip": null,
            "_model_module": "@jupyter-widgets/controls",
            "layout": "IPY_MODEL_b4cf4d0f141e44668fe6ae9c711b1987"
          }
        },
        "59f632362e7640ecae22ad63ff7f2acf": {
          "model_module": "@jupyter-widgets/controls",
          "model_name": "HTMLModel",
          "state": {
            "_view_name": "HTMLView",
            "style": "IPY_MODEL_62b7118745b34e03b1ab66d0f3540301",
            "_dom_classes": [],
            "description": "",
            "_model_name": "HTMLModel",
            "placeholder": "​",
            "_view_module": "@jupyter-widgets/controls",
            "_model_module_version": "1.5.0",
            "value": " 601/? [3:25:25&lt;00:00, 20.06s/pipeline]",
            "_view_count": null,
            "_view_module_version": "1.5.0",
            "description_tooltip": null,
            "_model_module": "@jupyter-widgets/controls",
            "layout": "IPY_MODEL_bacaac7c0ab64bb09fabe24d64291756"
          }
        },
        "12009fbe6e9a45e0afd9ad4bb249f65d": {
          "model_module": "@jupyter-widgets/controls",
          "model_name": "ProgressStyleModel",
          "state": {
            "_view_name": "StyleView",
            "_model_name": "ProgressStyleModel",
            "description_width": "initial",
            "_view_module": "@jupyter-widgets/base",
            "_model_module_version": "1.5.0",
            "_view_count": null,
            "_view_module_version": "1.2.0",
            "bar_color": null,
            "_model_module": "@jupyter-widgets/controls"
          }
        },
        "b4cf4d0f141e44668fe6ae9c711b1987": {
          "model_module": "@jupyter-widgets/base",
          "model_name": "LayoutModel",
          "state": {
            "_view_name": "LayoutView",
            "grid_template_rows": null,
            "right": null,
            "justify_content": null,
            "_view_module": "@jupyter-widgets/base",
            "overflow": null,
            "_model_module_version": "1.2.0",
            "_view_count": null,
            "flex_flow": null,
            "width": null,
            "min_width": null,
            "border": null,
            "align_items": null,
            "bottom": null,
            "_model_module": "@jupyter-widgets/base",
            "top": null,
            "grid_column": null,
            "overflow_y": null,
            "overflow_x": null,
            "grid_auto_flow": null,
            "grid_area": null,
            "grid_template_columns": null,
            "flex": null,
            "_model_name": "LayoutModel",
            "justify_items": null,
            "grid_row": null,
            "max_height": null,
            "align_content": null,
            "visibility": null,
            "align_self": null,
            "height": null,
            "min_height": null,
            "padding": null,
            "grid_auto_rows": null,
            "grid_gap": null,
            "max_width": null,
            "order": null,
            "_view_module_version": "1.2.0",
            "grid_template_areas": null,
            "object_position": null,
            "object_fit": null,
            "grid_auto_columns": null,
            "margin": null,
            "display": null,
            "left": null
          }
        },
        "62b7118745b34e03b1ab66d0f3540301": {
          "model_module": "@jupyter-widgets/controls",
          "model_name": "DescriptionStyleModel",
          "state": {
            "_view_name": "StyleView",
            "_model_name": "DescriptionStyleModel",
            "description_width": "",
            "_view_module": "@jupyter-widgets/base",
            "_model_module_version": "1.5.0",
            "_view_count": null,
            "_view_module_version": "1.2.0",
            "_model_module": "@jupyter-widgets/controls"
          }
        },
        "bacaac7c0ab64bb09fabe24d64291756": {
          "model_module": "@jupyter-widgets/base",
          "model_name": "LayoutModel",
          "state": {
            "_view_name": "LayoutView",
            "grid_template_rows": null,
            "right": null,
            "justify_content": null,
            "_view_module": "@jupyter-widgets/base",
            "overflow": null,
            "_model_module_version": "1.2.0",
            "_view_count": null,
            "flex_flow": null,
            "width": null,
            "min_width": null,
            "border": null,
            "align_items": null,
            "bottom": null,
            "_model_module": "@jupyter-widgets/base",
            "top": null,
            "grid_column": null,
            "overflow_y": null,
            "overflow_x": null,
            "grid_auto_flow": null,
            "grid_area": null,
            "grid_template_columns": null,
            "flex": null,
            "_model_name": "LayoutModel",
            "justify_items": null,
            "grid_row": null,
            "max_height": null,
            "align_content": null,
            "visibility": null,
            "align_self": null,
            "height": null,
            "min_height": null,
            "padding": null,
            "grid_auto_rows": null,
            "grid_gap": null,
            "max_width": null,
            "order": null,
            "_view_module_version": "1.2.0",
            "grid_template_areas": null,
            "object_position": null,
            "object_fit": null,
            "grid_auto_columns": null,
            "margin": null,
            "display": null,
            "left": null
          }
        }
      }
    }
  },
  "cells": [
    {
      "cell_type": "markdown",
      "metadata": {
        "id": "view-in-github",
        "colab_type": "text"
      },
      "source": [
        "<a href=\"https://colab.research.google.com/github/Ferrariagustinpablo/Python-Machine-Learning-notebooks/blob/main/TPOT.ipynb\" target=\"_parent\"><img src=\"https://colab.research.google.com/assets/colab-badge.svg\" alt=\"Open In Colab\"/></a>"
      ]
    },
    {
      "cell_type": "markdown",
      "metadata": {
        "id": "NYsP-yTDpT5e"
      },
      "source": [
        "# TPOT"
      ]
    },
    {
      "cell_type": "markdown",
      "metadata": {
        "id": "HESeCSIKnaBW"
      },
      "source": [
        "https://www.datacamp.com/community/tutorials/tpot-machine-learning-python"
      ]
    },
    {
      "cell_type": "markdown",
      "metadata": {
        "id": "XxbHoy69isOr"
      },
      "source": [
        "TPOT automates the entire Machine Learning pipeline and provides you with the best performing machine learning model."
      ]
    },
    {
      "cell_type": "markdown",
      "metadata": {
        "id": "VgpMfqKCnOMN"
      },
      "source": [
        "There are a lot of components you have to consider before solving a machine learning problem some of which includes data preparation, feature selection, feature engineering, model selection and validation, hyperparameter tuning, etc."
      ]
    },
    {
      "cell_type": "markdown",
      "metadata": {
        "id": "X5e96BYxnXrW"
      },
      "source": [
        "The challenge is to find the best performing combination of techniques so that you can minimize the error in your predictions.\n",
        "\n",
        "This is the main reason that nowadays people are working to develop Auto-ML algorithms and platforms so that anyone, without any machine learning expertise, can build models without spending much time or effort. One such platform is available as a python library: TPOT."
      ]
    },
    {
      "cell_type": "markdown",
      "metadata": {
        "id": "DCPyrd2aoU0a"
      },
      "source": [
        "TPOT Makes: Feature Selection, Feature preprocessing, Feature construction, model selection, Parameter Optimization automatically.\n",
        "\n",
        "Once TPOT is finished searching, it provides you with the Python code for the best pipeline it found so you can tinker with the pipeline from there.\n"
      ]
    },
    {
      "cell_type": "code",
      "metadata": {
        "id": "X5W-AHHRoqsP",
        "colab": {
          "base_uri": "https://localhost:8080/",
          "height": 564
        },
        "outputId": "046259c7-a8dc-40c9-dab7-45411592b667"
      },
      "source": [
        "!pip install tpot"
      ],
      "execution_count": null,
      "outputs": [
        {
          "output_type": "stream",
          "text": [
            "Collecting tpot\n",
            "\u001b[?25l  Downloading https://files.pythonhosted.org/packages/14/5e/cb87b0257033a7a396e533a634079ee151a239d180efe2a8b1d2e3584d23/TPOT-0.11.5-py3-none-any.whl (82kB)\n",
            "\r\u001b[K     |████                            | 10kB 10.2MB/s eta 0:00:01\r\u001b[K     |████████                        | 20kB 1.7MB/s eta 0:00:01\r\u001b[K     |████████████                    | 30kB 2.2MB/s eta 0:00:01\r\u001b[K     |████████████████                | 40kB 2.4MB/s eta 0:00:01\r\u001b[K     |████████████████████            | 51kB 1.9MB/s eta 0:00:01\r\u001b[K     |████████████████████████        | 61kB 2.2MB/s eta 0:00:01\r\u001b[K     |████████████████████████████    | 71kB 2.3MB/s eta 0:00:01\r\u001b[K     |███████████████████████████████▉| 81kB 2.5MB/s eta 0:00:01\r\u001b[K     |████████████████████████████████| 92kB 2.3MB/s \n",
            "\u001b[?25hRequirement already satisfied: scikit-learn>=0.22.0 in /usr/local/lib/python3.6/dist-packages (from tpot) (0.22.2.post1)\n",
            "Requirement already satisfied: joblib>=0.13.2 in /usr/local/lib/python3.6/dist-packages (from tpot) (0.16.0)\n",
            "Collecting stopit>=1.1.1\n",
            "  Downloading https://files.pythonhosted.org/packages/35/58/e8bb0b0fb05baf07bbac1450c447d753da65f9701f551dca79823ce15d50/stopit-1.1.2.tar.gz\n",
            "Requirement already satisfied: tqdm>=4.36.1 in /usr/local/lib/python3.6/dist-packages (from tpot) (4.41.1)\n",
            "Requirement already satisfied: numpy>=1.16.3 in /usr/local/lib/python3.6/dist-packages (from tpot) (1.18.5)\n",
            "Requirement already satisfied: scipy>=1.3.1 in /usr/local/lib/python3.6/dist-packages (from tpot) (1.4.1)\n",
            "Requirement already satisfied: pandas>=0.24.2 in /usr/local/lib/python3.6/dist-packages (from tpot) (1.1.2)\n",
            "Collecting update-checker>=0.16\n",
            "  Downloading https://files.pythonhosted.org/packages/0c/ba/8dd7fa5f0b1c6a8ac62f8f57f7e794160c1f86f31c6d0fb00f582372a3e4/update_checker-0.18.0-py3-none-any.whl\n",
            "Collecting deap>=1.2\n",
            "\u001b[?25l  Downloading https://files.pythonhosted.org/packages/0a/eb/2bd0a32e3ce757fb26264765abbaedd6d4d3640d90219a513aeabd08ee2b/deap-1.3.1-cp36-cp36m-manylinux2010_x86_64.whl (157kB)\n",
            "\u001b[K     |████████████████████████████████| 163kB 8.2MB/s \n",
            "\u001b[?25hRequirement already satisfied: pytz>=2017.2 in /usr/local/lib/python3.6/dist-packages (from pandas>=0.24.2->tpot) (2018.9)\n",
            "Requirement already satisfied: python-dateutil>=2.7.3 in /usr/local/lib/python3.6/dist-packages (from pandas>=0.24.2->tpot) (2.8.1)\n",
            "Requirement already satisfied: requests>=2.3.0 in /usr/local/lib/python3.6/dist-packages (from update-checker>=0.16->tpot) (2.23.0)\n",
            "Requirement already satisfied: six>=1.5 in /usr/local/lib/python3.6/dist-packages (from python-dateutil>=2.7.3->pandas>=0.24.2->tpot) (1.15.0)\n",
            "Requirement already satisfied: urllib3!=1.25.0,!=1.25.1,<1.26,>=1.21.1 in /usr/local/lib/python3.6/dist-packages (from requests>=2.3.0->update-checker>=0.16->tpot) (1.24.3)\n",
            "Requirement already satisfied: certifi>=2017.4.17 in /usr/local/lib/python3.6/dist-packages (from requests>=2.3.0->update-checker>=0.16->tpot) (2020.6.20)\n",
            "Requirement already satisfied: idna<3,>=2.5 in /usr/local/lib/python3.6/dist-packages (from requests>=2.3.0->update-checker>=0.16->tpot) (2.10)\n",
            "Requirement already satisfied: chardet<4,>=3.0.2 in /usr/local/lib/python3.6/dist-packages (from requests>=2.3.0->update-checker>=0.16->tpot) (3.0.4)\n",
            "Building wheels for collected packages: stopit\n",
            "  Building wheel for stopit (setup.py) ... \u001b[?25l\u001b[?25hdone\n",
            "  Created wheel for stopit: filename=stopit-1.1.2-cp36-none-any.whl size=11956 sha256=b9a4374b4025967a22715d823c4fbcbdaa2f21b75864256ae4182434130b6f34\n",
            "  Stored in directory: /root/.cache/pip/wheels/3c/85/2b/2580190404636bfc63e8de3dff629c03bb795021e1983a6cc7\n",
            "Successfully built stopit\n",
            "Installing collected packages: stopit, update-checker, deap, tpot\n",
            "Successfully installed deap-1.3.1 stopit-1.1.2 tpot-0.11.5 update-checker-0.18.0\n"
          ],
          "name": "stdout"
        }
      ]
    },
    {
      "cell_type": "markdown",
      "metadata": {
        "id": "a5ErTNIHpS9D"
      },
      "source": [
        "# Genetic Programming"
      ]
    },
    {
      "cell_type": "markdown",
      "metadata": {
        "id": "EFFlwxa_qlEN"
      },
      "source": [
        "With the right data, computing power and machine learning model you can discover a solution to any problem, but knowing which model to use can be challenging for you as there are so many of them like Decision Trees, SVM, KNN, etc. That's where genetic programming can be of great use and provide help. Genetic algorithms are inspired by the Darwinian process of Natural Selection, and they are used to generate solutions to optimization and search problems in computer science.\n",
        "\n",
        "Selection: You have a population of possible solutions to a given problem and a fitness function. At every iteration, you evaluate how to fit each solution with your fitness function.\n",
        "\n",
        "Crossover: Then you select the fittest ones and perform crossover to create a new population.\n",
        "\n",
        "Mutation: You take those children and mutate them with some random modification and repeat the process until you get the fittest or best solution."
      ]
    },
    {
      "cell_type": "markdown",
      "metadata": {
        "id": "1ISpDCN2qkqC"
      },
      "source": [
        "Well, it turns out that choosing the right machine learning model and all the best hyperparameters for that model is itself an optimization problem for which genetic programming can be used."
      ]
    },
    {
      "cell_type": "markdown",
      "metadata": {
        "id": "GJKA1afI0CbD"
      },
      "source": [
        "# Making the model"
      ]
    },
    {
      "cell_type": "code",
      "metadata": {
        "id": "mnvs6PJsrA0y",
        "colab": {
          "base_uri": "https://localhost:8080/",
          "height": 224
        },
        "outputId": "d654f7c9-ce14-4097-a289-f5dd0829b21f"
      },
      "source": [
        "import pandas as pd\n",
        "import numpy as np\n",
        "\n",
        "telescope_data=pd.read_csv('https://archive.ics.uci.edu/ml/machine-learning-databases/magic/magic04.data',header=None)\n",
        "telescope_data.columns = ['fLength', 'fWidth','fSize','fConc','fConcl','fAsym','fM3Long','fM3Trans','fAlpha','fDist','class']\n",
        "telescope_data.head()"
      ],
      "execution_count": null,
      "outputs": [
        {
          "output_type": "execute_result",
          "data": {
            "text/html": [
              "<div>\n",
              "<style scoped>\n",
              "    .dataframe tbody tr th:only-of-type {\n",
              "        vertical-align: middle;\n",
              "    }\n",
              "\n",
              "    .dataframe tbody tr th {\n",
              "        vertical-align: top;\n",
              "    }\n",
              "\n",
              "    .dataframe thead th {\n",
              "        text-align: right;\n",
              "    }\n",
              "</style>\n",
              "<table border=\"1\" class=\"dataframe\">\n",
              "  <thead>\n",
              "    <tr style=\"text-align: right;\">\n",
              "      <th></th>\n",
              "      <th>fLength</th>\n",
              "      <th>fWidth</th>\n",
              "      <th>fSize</th>\n",
              "      <th>fConc</th>\n",
              "      <th>fConcl</th>\n",
              "      <th>fAsym</th>\n",
              "      <th>fM3Long</th>\n",
              "      <th>fM3Trans</th>\n",
              "      <th>fAlpha</th>\n",
              "      <th>fDist</th>\n",
              "      <th>class</th>\n",
              "    </tr>\n",
              "  </thead>\n",
              "  <tbody>\n",
              "    <tr>\n",
              "      <th>0</th>\n",
              "      <td>28.7967</td>\n",
              "      <td>16.0021</td>\n",
              "      <td>2.6449</td>\n",
              "      <td>0.3918</td>\n",
              "      <td>0.1982</td>\n",
              "      <td>27.7004</td>\n",
              "      <td>22.0110</td>\n",
              "      <td>-8.2027</td>\n",
              "      <td>40.0920</td>\n",
              "      <td>81.8828</td>\n",
              "      <td>g</td>\n",
              "    </tr>\n",
              "    <tr>\n",
              "      <th>1</th>\n",
              "      <td>31.6036</td>\n",
              "      <td>11.7235</td>\n",
              "      <td>2.5185</td>\n",
              "      <td>0.5303</td>\n",
              "      <td>0.3773</td>\n",
              "      <td>26.2722</td>\n",
              "      <td>23.8238</td>\n",
              "      <td>-9.9574</td>\n",
              "      <td>6.3609</td>\n",
              "      <td>205.2610</td>\n",
              "      <td>g</td>\n",
              "    </tr>\n",
              "    <tr>\n",
              "      <th>2</th>\n",
              "      <td>162.0520</td>\n",
              "      <td>136.0310</td>\n",
              "      <td>4.0612</td>\n",
              "      <td>0.0374</td>\n",
              "      <td>0.0187</td>\n",
              "      <td>116.7410</td>\n",
              "      <td>-64.8580</td>\n",
              "      <td>-45.2160</td>\n",
              "      <td>76.9600</td>\n",
              "      <td>256.7880</td>\n",
              "      <td>g</td>\n",
              "    </tr>\n",
              "    <tr>\n",
              "      <th>3</th>\n",
              "      <td>23.8172</td>\n",
              "      <td>9.5728</td>\n",
              "      <td>2.3385</td>\n",
              "      <td>0.6147</td>\n",
              "      <td>0.3922</td>\n",
              "      <td>27.2107</td>\n",
              "      <td>-6.4633</td>\n",
              "      <td>-7.1513</td>\n",
              "      <td>10.4490</td>\n",
              "      <td>116.7370</td>\n",
              "      <td>g</td>\n",
              "    </tr>\n",
              "    <tr>\n",
              "      <th>4</th>\n",
              "      <td>75.1362</td>\n",
              "      <td>30.9205</td>\n",
              "      <td>3.1611</td>\n",
              "      <td>0.3168</td>\n",
              "      <td>0.1832</td>\n",
              "      <td>-5.5277</td>\n",
              "      <td>28.5525</td>\n",
              "      <td>21.8393</td>\n",
              "      <td>4.6480</td>\n",
              "      <td>356.4620</td>\n",
              "      <td>g</td>\n",
              "    </tr>\n",
              "  </tbody>\n",
              "</table>\n",
              "</div>"
            ],
            "text/plain": [
              "    fLength    fWidth   fSize   fConc  ...  fM3Trans   fAlpha     fDist  class\n",
              "0   28.7967   16.0021  2.6449  0.3918  ...   -8.2027  40.0920   81.8828      g\n",
              "1   31.6036   11.7235  2.5185  0.5303  ...   -9.9574   6.3609  205.2610      g\n",
              "2  162.0520  136.0310  4.0612  0.0374  ...  -45.2160  76.9600  256.7880      g\n",
              "3   23.8172    9.5728  2.3385  0.6147  ...   -7.1513  10.4490  116.7370      g\n",
              "4   75.1362   30.9205  3.1611  0.3168  ...   21.8393   4.6480  356.4620      g\n",
              "\n",
              "[5 rows x 11 columns]"
            ]
          },
          "metadata": {
            "tags": []
          },
          "execution_count": 5
        }
      ]
    },
    {
      "cell_type": "code",
      "metadata": {
        "id": "NqbxL9LHrKx0",
        "colab": {
          "base_uri": "https://localhost:8080/",
          "height": 323
        },
        "outputId": "5cbeff9f-b9f8-437a-da61-4e96de9ca2d5"
      },
      "source": [
        "telescope_data.info()"
      ],
      "execution_count": null,
      "outputs": [
        {
          "output_type": "stream",
          "text": [
            "<class 'pandas.core.frame.DataFrame'>\n",
            "RangeIndex: 19020 entries, 0 to 19019\n",
            "Data columns (total 11 columns):\n",
            " #   Column    Non-Null Count  Dtype  \n",
            "---  ------    --------------  -----  \n",
            " 0   fLength   19020 non-null  float64\n",
            " 1   fWidth    19020 non-null  float64\n",
            " 2   fSize     19020 non-null  float64\n",
            " 3   fConc     19020 non-null  float64\n",
            " 4   fConcl    19020 non-null  float64\n",
            " 5   fAsym     19020 non-null  float64\n",
            " 6   fM3Long   19020 non-null  float64\n",
            " 7   fM3Trans  19020 non-null  float64\n",
            " 8   fAlpha    19020 non-null  float64\n",
            " 9   fDist     19020 non-null  float64\n",
            " 10  class     19020 non-null  object \n",
            "dtypes: float64(10), object(1)\n",
            "memory usage: 1.6+ MB\n"
          ],
          "name": "stdout"
        }
      ]
    },
    {
      "cell_type": "markdown",
      "metadata": {
        "id": "T9iNHxbLrRgg"
      },
      "source": [
        " The target variable/feature class is however categorical. You can check the counts of each class in the target variable using value_counts() method."
      ]
    },
    {
      "cell_type": "code",
      "metadata": {
        "id": "A26BamhyrLxv",
        "colab": {
          "base_uri": "https://localhost:8080/",
          "height": 68
        },
        "outputId": "b3b19c2d-e685-48b6-edf7-dc5639398b22"
      },
      "source": [
        "telescope_data['class'].value_counts()"
      ],
      "execution_count": null,
      "outputs": [
        {
          "output_type": "execute_result",
          "data": {
            "text/plain": [
              "g    12332\n",
              "h     6688\n",
              "Name: class, dtype: int64"
            ]
          },
          "metadata": {
            "tags": []
          },
          "execution_count": 7
        }
      ]
    },
    {
      "cell_type": "markdown",
      "metadata": {
        "id": "1rT5iAGFrbUe"
      },
      "source": [
        "It's generally a good idea to randomly shuffle the data before starting to avoid any type of ordering in the data. You can rearrange the data in the DataFrame using numpy's random and permutation() function. To reset the index numbers after the shuffle use reset_index() method with drop = True as a parameter."
      ]
    },
    {
      "cell_type": "code",
      "metadata": {
        "id": "9Mum8_zNrhm7",
        "colab": {
          "base_uri": "https://localhost:8080/",
          "height": 224
        },
        "outputId": "7a35e4cc-2ca9-46d8-ede6-a01f64670867"
      },
      "source": [
        "telescope_shuffle=telescope_data.iloc[np.random.permutation(len(telescope_data))]\n",
        "tele=telescope_shuffle.reset_index(drop=True)\n",
        "tele.head()"
      ],
      "execution_count": null,
      "outputs": [
        {
          "output_type": "execute_result",
          "data": {
            "text/html": [
              "<div>\n",
              "<style scoped>\n",
              "    .dataframe tbody tr th:only-of-type {\n",
              "        vertical-align: middle;\n",
              "    }\n",
              "\n",
              "    .dataframe tbody tr th {\n",
              "        vertical-align: top;\n",
              "    }\n",
              "\n",
              "    .dataframe thead th {\n",
              "        text-align: right;\n",
              "    }\n",
              "</style>\n",
              "<table border=\"1\" class=\"dataframe\">\n",
              "  <thead>\n",
              "    <tr style=\"text-align: right;\">\n",
              "      <th></th>\n",
              "      <th>fLength</th>\n",
              "      <th>fWidth</th>\n",
              "      <th>fSize</th>\n",
              "      <th>fConc</th>\n",
              "      <th>fConcl</th>\n",
              "      <th>fAsym</th>\n",
              "      <th>fM3Long</th>\n",
              "      <th>fM3Trans</th>\n",
              "      <th>fAlpha</th>\n",
              "      <th>fDist</th>\n",
              "      <th>class</th>\n",
              "    </tr>\n",
              "  </thead>\n",
              "  <tbody>\n",
              "    <tr>\n",
              "      <th>0</th>\n",
              "      <td>75.4189</td>\n",
              "      <td>21.0294</td>\n",
              "      <td>3.0388</td>\n",
              "      <td>0.2990</td>\n",
              "      <td>0.1596</td>\n",
              "      <td>-38.5453</td>\n",
              "      <td>-36.8342</td>\n",
              "      <td>9.1272</td>\n",
              "      <td>3.0122</td>\n",
              "      <td>289.3410</td>\n",
              "      <td>g</td>\n",
              "    </tr>\n",
              "    <tr>\n",
              "      <th>1</th>\n",
              "      <td>20.7445</td>\n",
              "      <td>17.3249</td>\n",
              "      <td>2.5916</td>\n",
              "      <td>0.4686</td>\n",
              "      <td>0.2446</td>\n",
              "      <td>11.7553</td>\n",
              "      <td>17.0726</td>\n",
              "      <td>-12.0534</td>\n",
              "      <td>25.7775</td>\n",
              "      <td>91.6373</td>\n",
              "      <td>g</td>\n",
              "    </tr>\n",
              "    <tr>\n",
              "      <th>2</th>\n",
              "      <td>75.4045</td>\n",
              "      <td>40.1780</td>\n",
              "      <td>3.4087</td>\n",
              "      <td>0.1178</td>\n",
              "      <td>0.0599</td>\n",
              "      <td>68.7596</td>\n",
              "      <td>60.9121</td>\n",
              "      <td>12.1566</td>\n",
              "      <td>13.7700</td>\n",
              "      <td>230.5170</td>\n",
              "      <td>g</td>\n",
              "    </tr>\n",
              "    <tr>\n",
              "      <th>3</th>\n",
              "      <td>21.6208</td>\n",
              "      <td>16.5914</td>\n",
              "      <td>2.6698</td>\n",
              "      <td>0.4257</td>\n",
              "      <td>0.2620</td>\n",
              "      <td>27.3897</td>\n",
              "      <td>9.4802</td>\n",
              "      <td>10.3581</td>\n",
              "      <td>34.2210</td>\n",
              "      <td>230.0050</td>\n",
              "      <td>g</td>\n",
              "    </tr>\n",
              "    <tr>\n",
              "      <th>4</th>\n",
              "      <td>12.9624</td>\n",
              "      <td>10.9524</td>\n",
              "      <td>2.1538</td>\n",
              "      <td>0.7368</td>\n",
              "      <td>0.4667</td>\n",
              "      <td>-13.8539</td>\n",
              "      <td>6.6020</td>\n",
              "      <td>-5.0659</td>\n",
              "      <td>3.5444</td>\n",
              "      <td>168.6680</td>\n",
              "      <td>g</td>\n",
              "    </tr>\n",
              "  </tbody>\n",
              "</table>\n",
              "</div>"
            ],
            "text/plain": [
              "   fLength   fWidth   fSize   fConc  ...  fM3Trans   fAlpha     fDist  class\n",
              "0  75.4189  21.0294  3.0388  0.2990  ...    9.1272   3.0122  289.3410      g\n",
              "1  20.7445  17.3249  2.5916  0.4686  ...  -12.0534  25.7775   91.6373      g\n",
              "2  75.4045  40.1780  3.4087  0.1178  ...   12.1566  13.7700  230.5170      g\n",
              "3  21.6208  16.5914  2.6698  0.4257  ...   10.3581  34.2210  230.0050      g\n",
              "4  12.9624  10.9524  2.1538  0.7368  ...   -5.0659   3.5444  168.6680      g\n",
              "\n",
              "[5 rows x 11 columns]"
            ]
          },
          "metadata": {
            "tags": []
          },
          "execution_count": 8
        }
      ]
    },
    {
      "cell_type": "markdown",
      "metadata": {
        "id": "P8VHm4CNsAdO"
      },
      "source": [
        "replace the g class (signal) with a numerical value 0 and h class (background) with numerical value 1. "
      ]
    },
    {
      "cell_type": "code",
      "metadata": {
        "id": "IAZlwmLhsBST",
        "colab": {
          "base_uri": "https://localhost:8080/",
          "height": 224
        },
        "outputId": "4b5e764b-a8ec-4f07-d7c3-d5df075dde26"
      },
      "source": [
        "tele['class']=tele['class'].map({'g':0,'h':1})\n",
        "\n",
        "tele.head()"
      ],
      "execution_count": null,
      "outputs": [
        {
          "output_type": "execute_result",
          "data": {
            "text/html": [
              "<div>\n",
              "<style scoped>\n",
              "    .dataframe tbody tr th:only-of-type {\n",
              "        vertical-align: middle;\n",
              "    }\n",
              "\n",
              "    .dataframe tbody tr th {\n",
              "        vertical-align: top;\n",
              "    }\n",
              "\n",
              "    .dataframe thead th {\n",
              "        text-align: right;\n",
              "    }\n",
              "</style>\n",
              "<table border=\"1\" class=\"dataframe\">\n",
              "  <thead>\n",
              "    <tr style=\"text-align: right;\">\n",
              "      <th></th>\n",
              "      <th>fLength</th>\n",
              "      <th>fWidth</th>\n",
              "      <th>fSize</th>\n",
              "      <th>fConc</th>\n",
              "      <th>fConcl</th>\n",
              "      <th>fAsym</th>\n",
              "      <th>fM3Long</th>\n",
              "      <th>fM3Trans</th>\n",
              "      <th>fAlpha</th>\n",
              "      <th>fDist</th>\n",
              "      <th>class</th>\n",
              "    </tr>\n",
              "  </thead>\n",
              "  <tbody>\n",
              "    <tr>\n",
              "      <th>0</th>\n",
              "      <td>75.4189</td>\n",
              "      <td>21.0294</td>\n",
              "      <td>3.0388</td>\n",
              "      <td>0.2990</td>\n",
              "      <td>0.1596</td>\n",
              "      <td>-38.5453</td>\n",
              "      <td>-36.8342</td>\n",
              "      <td>9.1272</td>\n",
              "      <td>3.0122</td>\n",
              "      <td>289.3410</td>\n",
              "      <td>0</td>\n",
              "    </tr>\n",
              "    <tr>\n",
              "      <th>1</th>\n",
              "      <td>20.7445</td>\n",
              "      <td>17.3249</td>\n",
              "      <td>2.5916</td>\n",
              "      <td>0.4686</td>\n",
              "      <td>0.2446</td>\n",
              "      <td>11.7553</td>\n",
              "      <td>17.0726</td>\n",
              "      <td>-12.0534</td>\n",
              "      <td>25.7775</td>\n",
              "      <td>91.6373</td>\n",
              "      <td>0</td>\n",
              "    </tr>\n",
              "    <tr>\n",
              "      <th>2</th>\n",
              "      <td>75.4045</td>\n",
              "      <td>40.1780</td>\n",
              "      <td>3.4087</td>\n",
              "      <td>0.1178</td>\n",
              "      <td>0.0599</td>\n",
              "      <td>68.7596</td>\n",
              "      <td>60.9121</td>\n",
              "      <td>12.1566</td>\n",
              "      <td>13.7700</td>\n",
              "      <td>230.5170</td>\n",
              "      <td>0</td>\n",
              "    </tr>\n",
              "    <tr>\n",
              "      <th>3</th>\n",
              "      <td>21.6208</td>\n",
              "      <td>16.5914</td>\n",
              "      <td>2.6698</td>\n",
              "      <td>0.4257</td>\n",
              "      <td>0.2620</td>\n",
              "      <td>27.3897</td>\n",
              "      <td>9.4802</td>\n",
              "      <td>10.3581</td>\n",
              "      <td>34.2210</td>\n",
              "      <td>230.0050</td>\n",
              "      <td>0</td>\n",
              "    </tr>\n",
              "    <tr>\n",
              "      <th>4</th>\n",
              "      <td>12.9624</td>\n",
              "      <td>10.9524</td>\n",
              "      <td>2.1538</td>\n",
              "      <td>0.7368</td>\n",
              "      <td>0.4667</td>\n",
              "      <td>-13.8539</td>\n",
              "      <td>6.6020</td>\n",
              "      <td>-5.0659</td>\n",
              "      <td>3.5444</td>\n",
              "      <td>168.6680</td>\n",
              "      <td>0</td>\n",
              "    </tr>\n",
              "  </tbody>\n",
              "</table>\n",
              "</div>"
            ],
            "text/plain": [
              "   fLength   fWidth   fSize   fConc  ...  fM3Trans   fAlpha     fDist  class\n",
              "0  75.4189  21.0294  3.0388  0.2990  ...    9.1272   3.0122  289.3410      0\n",
              "1  20.7445  17.3249  2.5916  0.4686  ...  -12.0534  25.7775   91.6373      0\n",
              "2  75.4045  40.1780  3.4087  0.1178  ...   12.1566  13.7700  230.5170      0\n",
              "3  21.6208  16.5914  2.6698  0.4257  ...   10.3581  34.2210  230.0050      0\n",
              "4  12.9624  10.9524  2.1538  0.7368  ...   -5.0659   3.5444  168.6680      0\n",
              "\n",
              "[5 rows x 11 columns]"
            ]
          },
          "metadata": {
            "tags": []
          },
          "execution_count": 9
        }
      ]
    },
    {
      "cell_type": "markdown",
      "metadata": {
        "id": "YdWXZ5yAsIRJ"
      },
      "source": [
        "Now you store the class labels, which you need to predict, in a separate variable tele_class."
      ]
    },
    {
      "cell_type": "code",
      "metadata": {
        "id": "mMdzK_xMsJGB"
      },
      "source": [
        "tele_class = tele['class'].values"
      ],
      "execution_count": null,
      "outputs": []
    },
    {
      "cell_type": "markdown",
      "metadata": {
        "id": "T789-JprsOup"
      },
      "source": [
        "You should also do missing value treatment before using tpot."
      ]
    },
    {
      "cell_type": "code",
      "metadata": {
        "id": "OQMAUFsisN0-",
        "colab": {
          "base_uri": "https://localhost:8080/",
          "height": 221
        },
        "outputId": "79d72e98-0f00-4660-e710-ab2b361f50d5"
      },
      "source": [
        "pd.isnull(tele).any()"
      ],
      "execution_count": null,
      "outputs": [
        {
          "output_type": "execute_result",
          "data": {
            "text/plain": [
              "fLength     False\n",
              "fWidth      False\n",
              "fSize       False\n",
              "fConc       False\n",
              "fConcl      False\n",
              "fAsym       False\n",
              "fM3Long     False\n",
              "fM3Trans    False\n",
              "fAlpha      False\n",
              "fDist       False\n",
              "class       False\n",
              "dtype: bool"
            ]
          },
          "metadata": {
            "tags": []
          },
          "execution_count": 11
        }
      ]
    },
    {
      "cell_type": "markdown",
      "metadata": {
        "id": "smJAJlDDsWSp"
      },
      "source": [
        "This dataset doesn't have any missing values. Note in datasets with missing values you can either drop the rows/columns using dropna() method or replace the missing value with some dummy value using fillna() method."
      ]
    },
    {
      "cell_type": "markdown",
      "metadata": {
        "id": "qGQF6ruVscnI"
      },
      "source": [
        "You will now split the DataFrame into a training set and a testing set"
      ]
    },
    {
      "cell_type": "code",
      "metadata": {
        "id": "d9WYetcQsaqI",
        "colab": {
          "base_uri": "https://localhost:8080/",
          "height": 34
        },
        "outputId": "5a036f2b-1231-470e-8d08-c52d75a01435"
      },
      "source": [
        "from sklearn.model_selection import train_test_split\n",
        "training_indices, validation_indices = train_test_split(tele.index,\n",
        "        stratify = tele_class, test_size=0.25)\n",
        "\n",
        "training_indices.size, validation_indices.size"
      ],
      "execution_count": null,
      "outputs": [
        {
          "output_type": "execute_result",
          "data": {
            "text/plain": [
              "(14265, 4755)"
            ]
          },
          "metadata": {
            "tags": []
          },
          "execution_count": 16
        }
      ]
    },
    {
      "cell_type": "markdown",
      "metadata": {
        "id": "SJiC3IYluGlc"
      },
      "source": [
        "Note running the code in the below cell will take several hours to finish. With the given TPOT settings (5 generations with 100 population size), TPOT will evaluate 500 pipeline configurations before finishing. To put this number into context, think about a grid search of 500 hyperparameter combinations for a machine learning algorithm and how long that grid search will take. That is 500 model configurations to evaluate with 5-fold cross-validation, which means that roughly 2500 models are fit and evaluated on the training data in one grid search. That's a time-consuming procedure! Later, you will get to know about some more arguments that you can pass to TPOTClassifier to control the execution time for TPOT to finish."
      ]
    },
    {
      "cell_type": "code",
      "metadata": {
        "id": "s2k5qJEdvCJU",
        "colab": {
          "base_uri": "https://localhost:8080/",
          "height": 292,
          "referenced_widgets": [
            "5fd8500919404862b70683e7603e256f",
            "9e9107a90e484b358c3824330e703fad",
            "2af201037a314c6f81b1c3dbe37a7716",
            "59f632362e7640ecae22ad63ff7f2acf",
            "12009fbe6e9a45e0afd9ad4bb249f65d",
            "b4cf4d0f141e44668fe6ae9c711b1987",
            "62b7118745b34e03b1ab66d0f3540301",
            "bacaac7c0ab64bb09fabe24d64291756"
          ]
        },
        "outputId": "f9804c8c-9e1b-4440-904b-5a3bef25b2ac"
      },
      "source": [
        "from tpot import TPOTClassifier\n",
        "# from tpot import TPOTRegressor\n",
        "\n",
        "tpot = TPOTClassifier(generations=5,verbosity=2)\n",
        "\n",
        "tpot.fit(tele.drop('class',axis=1).loc[training_indices].values,\n",
        "         tele.loc[training_indices,'class'].values)"
      ],
      "execution_count": null,
      "outputs": [
        {
          "output_type": "display_data",
          "data": {
            "application/vnd.jupyter.widget-view+json": {
              "model_id": "5fd8500919404862b70683e7603e256f",
              "version_minor": 0,
              "version_major": 2
            },
            "text/plain": [
              "HBox(children=(FloatProgress(value=0.0, description='Optimization Progress', max=600.0, style=ProgressStyle(de…"
            ]
          },
          "metadata": {
            "tags": []
          }
        },
        {
          "output_type": "stream",
          "text": [
            "\n",
            "Generation 1 - Current best internal CV score: 0.8801962846126884\n",
            "Generation 2 - Current best internal CV score: 0.8801962846126884\n",
            "Generation 3 - Current best internal CV score: 0.8801962846126884\n",
            "Generation 4 - Current best internal CV score: 0.880546792849632\n",
            "\n",
            "Best pipeline: RandomForestClassifier(PolynomialFeatures(input_matrix, degree=2, include_bias=False, interaction_only=False), bootstrap=True, criterion=gini, max_features=0.15000000000000002, min_samples_leaf=1, min_samples_split=12, n_estimators=100)\n"
          ],
          "name": "stdout"
        },
        {
          "output_type": "execute_result",
          "data": {
            "text/plain": [
              "TPOTClassifier(config_dict=None, crossover_rate=0.1, cv=5,\n",
              "               disable_update_check=False, early_stop=None, generations=5,\n",
              "               log_file=<ipykernel.iostream.OutStream object at 0x7fe125c39b00>,\n",
              "               max_eval_time_mins=5, max_time_mins=None, memory=None,\n",
              "               mutation_rate=0.9, n_jobs=1, offspring_size=None,\n",
              "               periodic_checkpoint_folder=None, population_size=100,\n",
              "               random_state=None, scoring=None, subsample=1.0, template=None,\n",
              "               use_dask=False, verbosity=2, warm_start=False)"
            ]
          },
          "metadata": {
            "tags": []
          },
          "execution_count": 17
        }
      ]
    },
    {
      "cell_type": "markdown",
      "metadata": {
        "id": "-euPNRuIrl5m"
      },
      "source": [
        "Best pipeline: RandomForestClassifier(PolynomialFeatures(input_matrix, degree=2, include_bias=False, interaction_only=False), bootstrap=True, criterion=gini, max_features=0.15000000000000002, min_samples_leaf=1, min_samples_split=12, n_estimators=100)"
      ]
    },
    {
      "cell_type": "code",
      "metadata": {
        "id": "_D-U49gjyJSa"
      },
      "source": [
        "tpot.score(tele.drop('class',axis=1).loc[validation_indices].values,\n",
        "           tele.loc[validation_indices, 'class'].values)"
      ],
      "execution_count": null,
      "outputs": []
    },
    {
      "cell_type": "code",
      "metadata": {
        "id": "UZWl_E-UyYSf"
      },
      "source": [
        "tpot.export('tpot_MAGIC_Gamma_Telescope_pipeline.py')"
      ],
      "execution_count": null,
      "outputs": []
    },
    {
      "cell_type": "code",
      "metadata": {
        "id": "BqpBjqLuyWta"
      },
      "source": [
        "## This is the pipeline that tpot generated: tpot_MAGIC_Gamma_Telescope_pipeline.py\n",
        "import numpy as np\n",
        "import pandas as pd\n",
        "from sklearn.ensemble import GradientBoostingClassifier\n",
        "from sklearn.model_selection import train_test_split\n",
        "from sklearn.pipeline import make_pipeline\n",
        "from sklearn.preprocessing import PolynomialFeatures, RobustScaler\n",
        "\n",
        "# NOTE: Make sure that the class is labeled 'target' in the data file\n",
        "tpot_data = pd.read_csv('PATH/TO/DATA/FILE', sep='COLUMN_SEPARATOR', dtype=np.float64)\n",
        "features = tpot_data.drop('target', axis=1).values\n",
        "training_features, testing_features, training_target, testing_target = \\\n",
        "            train_test_split(features, tpot_data['target'].values, random_state=42)\n",
        "\n",
        "# Score on the training set was:0.881597992166\n",
        "exported_pipeline = make_pipeline(\n",
        "    PolynomialFeatures(degree=2, include_bias=False, interaction_only=False),\n",
        "    RobustScaler(),\n",
        "    GradientBoostingClassifier(learning_rate=0.1, max_depth=6, max_features=0.6, min_samples_leaf=12, min_samples_split=3, n_estimators=100, subsample=0.55)\n",
        ")\n",
        "\n",
        "exported_pipeline.fit(training_features, training_target)\n",
        "results = exported_pipeline.predict(testing_features)"
      ],
      "execution_count": null,
      "outputs": []
    },
    {
      "cell_type": "markdown",
      "metadata": {
        "id": "mh-mtSQYz9rW"
      },
      "source": [
        "# TPOT can recommend different solutions"
      ]
    },
    {
      "cell_type": "markdown",
      "metadata": {
        "id": "zVX1ZIa_z8gW"
      },
      "source": [
        "TPOT can recommend different solutions for the same dataset\n",
        "If you're working with a reasonably complex dataset or run TPOT for a short amount of time, different TPOT runs may result in different pipeline recommendations. When two TPOT runs recommend different pipelines, this means that the TPOT runs didn't converge due to lack of time or that multiple pipelines perform more-or-less the same on your dataset."
      ]
    },
    {
      "cell_type": "markdown",
      "metadata": {
        "id": "dJhhivKez_yA"
      },
      "source": [
        ""
      ]
    }
  ]
}