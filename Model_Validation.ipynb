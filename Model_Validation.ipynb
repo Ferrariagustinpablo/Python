{
  "nbformat": 4,
  "nbformat_minor": 0,
  "metadata": {
    "colab": {
      "name": "Model Validation.ipynb",
      "provenance": [],
      "authorship_tag": "ABX9TyPKYOTqZ4ivV2rw7xHmFeil",
      "include_colab_link": true
    },
    "kernelspec": {
      "name": "python3",
      "display_name": "Python 3"
    }
  },
  "cells": [
    {
      "cell_type": "markdown",
      "metadata": {
        "id": "view-in-github",
        "colab_type": "text"
      },
      "source": [
        "<a href=\"https://colab.research.google.com/github/Ferrariagustinpablo/Python-Machine-Learning-notebooks/blob/main/Model_Validation.ipynb\" target=\"_parent\"><img src=\"https://colab.research.google.com/assets/colab-badge.svg\" alt=\"Open In Colab\"/></a>"
      ]
    },
    {
      "cell_type": "markdown",
      "metadata": {
        "id": "SmR2u24aue6g"
      },
      "source": [
        "# Model Validation on RandomForestRegression"
      ]
    },
    {
      "cell_type": "markdown",
      "metadata": {
        "id": "XhJsL3Uqh9ud"
      },
      "source": [
        "Model Validation\n",
        "\n",
        "It consists in ensuring the model performs as expected on onseen data.\n",
        "\n",
        "Testing model performance on hold-out datasets\n",
        "\n",
        "**Selecting the best model, parameters and accuracy metrics.**\n",
        "\n",
        "The objective is to end up with the best performing model, achieving the best accuracy on new data. We need the lowest testing error as possible.\n",
        "\n",
        "\n",
        "\n"
      ]
    },
    {
      "cell_type": "code",
      "metadata": {
        "id": "ANO3VgdZh69t",
        "colab": {
          "base_uri": "https://localhost:8080/",
          "height": 241
        },
        "outputId": "fe3077c4-207f-4fc1-be99-1d2ab93c34fd"
      },
      "source": [
        "import pandas as pd\n",
        "\n",
        "df = pd.read_csv('https://assets.datacamp.com/production/repositories/3981/datasets/bdbcfeff5aff20449bad8a8f1e66ae0169b9a26d/candy-data.csv')\n",
        "\n",
        "print(df.shape)\n",
        "df.head()"
      ],
      "execution_count": null,
      "outputs": [
        {
          "output_type": "stream",
          "text": [
            "(85, 13)\n"
          ],
          "name": "stdout"
        },
        {
          "output_type": "execute_result",
          "data": {
            "text/html": [
              "<div>\n",
              "<style scoped>\n",
              "    .dataframe tbody tr th:only-of-type {\n",
              "        vertical-align: middle;\n",
              "    }\n",
              "\n",
              "    .dataframe tbody tr th {\n",
              "        vertical-align: top;\n",
              "    }\n",
              "\n",
              "    .dataframe thead th {\n",
              "        text-align: right;\n",
              "    }\n",
              "</style>\n",
              "<table border=\"1\" class=\"dataframe\">\n",
              "  <thead>\n",
              "    <tr style=\"text-align: right;\">\n",
              "      <th></th>\n",
              "      <th>competitorname</th>\n",
              "      <th>chocolate</th>\n",
              "      <th>fruity</th>\n",
              "      <th>caramel</th>\n",
              "      <th>peanutyalmondy</th>\n",
              "      <th>nougat</th>\n",
              "      <th>crispedricewafer</th>\n",
              "      <th>hard</th>\n",
              "      <th>bar</th>\n",
              "      <th>pluribus</th>\n",
              "      <th>sugarpercent</th>\n",
              "      <th>pricepercent</th>\n",
              "      <th>winpercent</th>\n",
              "    </tr>\n",
              "  </thead>\n",
              "  <tbody>\n",
              "    <tr>\n",
              "      <th>0</th>\n",
              "      <td>100 Grand</td>\n",
              "      <td>1</td>\n",
              "      <td>0</td>\n",
              "      <td>1</td>\n",
              "      <td>0</td>\n",
              "      <td>0</td>\n",
              "      <td>1</td>\n",
              "      <td>0</td>\n",
              "      <td>1</td>\n",
              "      <td>0</td>\n",
              "      <td>0.732</td>\n",
              "      <td>0.860</td>\n",
              "      <td>66.971725</td>\n",
              "    </tr>\n",
              "    <tr>\n",
              "      <th>1</th>\n",
              "      <td>3 Musketeers</td>\n",
              "      <td>1</td>\n",
              "      <td>0</td>\n",
              "      <td>0</td>\n",
              "      <td>0</td>\n",
              "      <td>1</td>\n",
              "      <td>0</td>\n",
              "      <td>0</td>\n",
              "      <td>1</td>\n",
              "      <td>0</td>\n",
              "      <td>0.604</td>\n",
              "      <td>0.511</td>\n",
              "      <td>67.602936</td>\n",
              "    </tr>\n",
              "    <tr>\n",
              "      <th>2</th>\n",
              "      <td>One dime</td>\n",
              "      <td>0</td>\n",
              "      <td>0</td>\n",
              "      <td>0</td>\n",
              "      <td>0</td>\n",
              "      <td>0</td>\n",
              "      <td>0</td>\n",
              "      <td>0</td>\n",
              "      <td>0</td>\n",
              "      <td>0</td>\n",
              "      <td>0.011</td>\n",
              "      <td>0.116</td>\n",
              "      <td>32.261086</td>\n",
              "    </tr>\n",
              "    <tr>\n",
              "      <th>3</th>\n",
              "      <td>One quarter</td>\n",
              "      <td>0</td>\n",
              "      <td>0</td>\n",
              "      <td>0</td>\n",
              "      <td>0</td>\n",
              "      <td>0</td>\n",
              "      <td>0</td>\n",
              "      <td>0</td>\n",
              "      <td>0</td>\n",
              "      <td>0</td>\n",
              "      <td>0.011</td>\n",
              "      <td>0.511</td>\n",
              "      <td>46.116505</td>\n",
              "    </tr>\n",
              "    <tr>\n",
              "      <th>4</th>\n",
              "      <td>Air Heads</td>\n",
              "      <td>0</td>\n",
              "      <td>1</td>\n",
              "      <td>0</td>\n",
              "      <td>0</td>\n",
              "      <td>0</td>\n",
              "      <td>0</td>\n",
              "      <td>0</td>\n",
              "      <td>0</td>\n",
              "      <td>0</td>\n",
              "      <td>0.906</td>\n",
              "      <td>0.511</td>\n",
              "      <td>52.341465</td>\n",
              "    </tr>\n",
              "  </tbody>\n",
              "</table>\n",
              "</div>"
            ],
            "text/plain": [
              "  competitorname  chocolate  fruity  ...  sugarpercent  pricepercent  winpercent\n",
              "0      100 Grand          1       0  ...         0.732         0.860   66.971725\n",
              "1   3 Musketeers          1       0  ...         0.604         0.511   67.602936\n",
              "2       One dime          0       0  ...         0.011         0.116   32.261086\n",
              "3    One quarter          0       0  ...         0.011         0.511   46.116505\n",
              "4      Air Heads          0       1  ...         0.906         0.511   52.341465\n",
              "\n",
              "[5 rows x 13 columns]"
            ]
          },
          "metadata": {
            "tags": []
          },
          "execution_count": 3
        }
      ]
    },
    {
      "cell_type": "code",
      "metadata": {
        "id": "59KHpu6gmn9J",
        "colab": {
          "base_uri": "https://localhost:8080/",
          "height": 255
        },
        "outputId": "14889189-efb1-4f6a-8116-5293a897d408"
      },
      "source": [
        "y = df.winpercent\n",
        "\n",
        "X = df.drop(['competitorname','winpercent'], axis= 1)\n",
        "\n",
        "print(y.head())\n",
        "print(X.head())"
      ],
      "execution_count": null,
      "outputs": [
        {
          "output_type": "stream",
          "text": [
            "0    66.971725\n",
            "1    67.602936\n",
            "2    32.261086\n",
            "3    46.116505\n",
            "4    52.341465\n",
            "Name: winpercent, dtype: float64\n",
            "   chocolate  fruity  caramel  ...  pluribus  sugarpercent  pricepercent\n",
            "0          1       0        1  ...         0         0.732         0.860\n",
            "1          1       0        0  ...         0         0.604         0.511\n",
            "2          0       0        0  ...         0         0.011         0.116\n",
            "3          0       0        0  ...         0         0.011         0.511\n",
            "4          0       1        0  ...         0         0.906         0.511\n",
            "\n",
            "[5 rows x 11 columns]\n"
          ],
          "name": "stdout"
        }
      ]
    },
    {
      "cell_type": "code",
      "metadata": {
        "id": "N_yVC7-7l1AQ",
        "colab": {
          "base_uri": "https://localhost:8080/",
          "height": 34
        },
        "outputId": "dcff35ec-988b-46af-edfa-771c6032c7af"
      },
      "source": [
        "from sklearn.model_selection import train_test_split\n",
        "\n",
        "X_train, X_test, y_train, y_test = train_test_split(X,y,test_size=0.40,random_state=42)\n",
        "\n",
        "X_train.shape"
      ],
      "execution_count": null,
      "outputs": [
        {
          "output_type": "execute_result",
          "data": {
            "text/plain": [
              "(51, 11)"
            ]
          },
          "metadata": {
            "tags": []
          },
          "execution_count": 11
        }
      ]
    },
    {
      "cell_type": "markdown",
      "metadata": {
        "id": "bwloSGdbmKtZ"
      },
      "source": [
        "Model's tend to have higher accuracy on observations they have seen before. In the candy dataset, predicting the popularity of Skittles will likely have higher accuracy than predicting the popularity of Andes Mints; Skittles is in the dataset, and Andes Mints is not."
      ]
    },
    {
      "cell_type": "markdown",
      "metadata": {
        "id": "ZSY8zrOF9zq9"
      },
      "source": [
        "## Random Forest Mean Absolute Error"
      ]
    },
    {
      "cell_type": "code",
      "metadata": {
        "id": "aFI49j01nNcJ",
        "colab": {
          "base_uri": "https://localhost:8080/",
          "height": 51
        },
        "outputId": "dc58ba74-903b-4970-a7f3-6530f72a0720"
      },
      "source": [
        "from sklearn.ensemble import RandomForestRegressor\n",
        "from sklearn.metrics import mean_absolute_error as mae\n",
        "\n",
        "model = RandomForestRegressor(n_estimators=50)\n",
        "\n",
        "# The model is fit using X_train and y_train\n",
        "model.fit(X_train, y_train)\n",
        "\n",
        "# Create vectors of predictions\n",
        "train_predictions = model.predict(X_train)\n",
        "test_predictions = model.predict(X_test)\n",
        "\n",
        "# mae(y_true, y_pred)\n",
        "# Train/Test Errors\n",
        "train_error = mae(y_true=y_train, y_pred=train_predictions)\n",
        "test_error = mae(y_true=y_test, y_pred=test_predictions)\n",
        "\n",
        "# Print the accuracy for seen and unseen data\n",
        "print(\"Model error on seen data: {0:.2f}.\".format(train_error))\n",
        "print(\"Model error on unseen data: {0:.2f}.\".format(test_error))"
      ],
      "execution_count": null,
      "outputs": [
        {
          "output_type": "stream",
          "text": [
            "Model error on seen data: 3.68.\n",
            "Model error on unseen data: 9.95.\n"
          ],
          "name": "stdout"
        }
      ]
    },
    {
      "cell_type": "markdown",
      "metadata": {
        "id": "_gJkcUBzv8DG"
      },
      "source": [
        "## RandomForest feature importances\n",
        "\n",
        "The most import parameters that make a huge impact in the model: \n",
        "\n",
        "1- n_estimators = Number of trees in the forest\n",
        "\n",
        "2- max_depth = maximum depth of the trees (or how many time we can split the data)\n",
        "\n",
        "\n",
        "\n"
      ]
    },
    {
      "cell_type": "code",
      "metadata": {
        "id": "9pjgqXFowxxZ",
        "colab": {
          "base_uri": "https://localhost:8080/",
          "height": 204
        },
        "outputId": "7d4c241d-c237-4be0-e069-c6f386306ff2"
      },
      "source": [
        "from sklearn.ensemble import RandomForestRegressor\n",
        "\n",
        "rf = RandomForestRegressor(n_estimators=50,max_depth=6,random_state=1111)\n",
        "\n",
        "# you can update parameters after the model has been instantiated\n",
        "\n",
        "rf.fit(X_train, y_train)\n",
        "\n",
        "# Print how important each column is to the model\n",
        "for i, item in enumerate(rf.feature_importances_):\n",
        "    # Use i and item to print out the feature importance of each column\n",
        "    print(\"{0:s}: {1:.2f}\".format(X_train.columns[i], item))"
      ],
      "execution_count": null,
      "outputs": [
        {
          "output_type": "stream",
          "text": [
            "chocolate: 0.34\n",
            "fruity: 0.05\n",
            "caramel: 0.01\n",
            "peanutyalmondy: 0.07\n",
            "nougat: 0.02\n",
            "crispedricewafer: 0.01\n",
            "hard: 0.01\n",
            "bar: 0.07\n",
            "pluribus: 0.02\n",
            "sugarpercent: 0.17\n",
            "pricepercent: 0.23\n"
          ],
          "name": "stdout"
        }
      ]
    },
    {
      "cell_type": "code",
      "metadata": {
        "id": "H5haqvwn2BJr",
        "colab": {
          "base_uri": "https://localhost:8080/",
          "height": 281
        },
        "outputId": "732c9280-5da4-4770-c6e8-d9d6d28900dc"
      },
      "source": [
        "import matplotlib.pyplot as plt\n",
        "\n",
        "# Create a pd.Series of features importances\n",
        "importances = pd.Series(data=rf.feature_importances_,\n",
        "                        index= X_train.columns)\n",
        "\n",
        "# Sort importances\n",
        "importances_sorted = importances.sort_values()\n",
        "\n",
        "# Draw a horizontal barplot of importances_sorted\n",
        "importances_sorted.plot(kind='barh', color='lightgreen')\n",
        "plt.title('Features Importances')\n",
        "plt.show()"
      ],
      "execution_count": null,
      "outputs": [
        {
          "output_type": "display_data",
          "data": {
            "image/png": "[encoded data removed]",
            "text/plain": [
              "<Figure size 432x288 with 1 Axes>"
            ]
          },
          "metadata": {
            "tags": [],
            "needs_background": "light"
          }
        }
      ]
    },
    {
      "cell_type": "markdown",
      "metadata": {
        "id": "QNguWp7F9sIq"
      },
      "source": [
        "# RandomForestClassifier"
      ]
    },
    {
      "cell_type": "code",
      "metadata": {
        "id": "NVQp0xGW96w2",
        "colab": {
          "base_uri": "https://localhost:8080/",
          "height": 238
        },
        "outputId": "969fca0b-ab3b-486d-da54-a09e17715cea"
      },
      "source": [
        "import pandas as pd\n",
        "df = pd.read_csv('https://assets.datacamp.com/production/repositories/3981/datasets/e6ee6604b9eed121a015a993bfb225ddf656cf81/tic-tac-toe.csv')\n",
        "\n",
        "print(df.shape)\n",
        "df.head()"
      ],
      "execution_count": null,
      "outputs": [
        {
          "output_type": "stream",
          "text": [
            "(958, 10)\n"
          ],
          "name": "stdout"
        },
        {
          "output_type": "execute_result",
          "data": {
            "text/html": [
              "<div>\n",
              "<style scoped>\n",
              "    .dataframe tbody tr th:only-of-type {\n",
              "        vertical-align: middle;\n",
              "    }\n",
              "\n",
              "    .dataframe tbody tr th {\n",
              "        vertical-align: top;\n",
              "    }\n",
              "\n",
              "    .dataframe thead th {\n",
              "        text-align: right;\n",
              "    }\n",
              "</style>\n",
              "<table border=\"1\" class=\"dataframe\">\n",
              "  <thead>\n",
              "    <tr style=\"text-align: right;\">\n",
              "      <th></th>\n",
              "      <th>Top-Left</th>\n",
              "      <th>Top-Middle</th>\n",
              "      <th>Top-Right</th>\n",
              "      <th>Middle-Left</th>\n",
              "      <th>Middle-Middle</th>\n",
              "      <th>Middle-Right</th>\n",
              "      <th>Bottom-Left</th>\n",
              "      <th>Bottom-Middle</th>\n",
              "      <th>Bottom-Right</th>\n",
              "      <th>Class</th>\n",
              "    </tr>\n",
              "  </thead>\n",
              "  <tbody>\n",
              "    <tr>\n",
              "      <th>0</th>\n",
              "      <td>x</td>\n",
              "      <td>x</td>\n",
              "      <td>x</td>\n",
              "      <td>x</td>\n",
              "      <td>o</td>\n",
              "      <td>o</td>\n",
              "      <td>x</td>\n",
              "      <td>o</td>\n",
              "      <td>o</td>\n",
              "      <td>positive</td>\n",
              "    </tr>\n",
              "    <tr>\n",
              "      <th>1</th>\n",
              "      <td>x</td>\n",
              "      <td>x</td>\n",
              "      <td>x</td>\n",
              "      <td>x</td>\n",
              "      <td>o</td>\n",
              "      <td>o</td>\n",
              "      <td>o</td>\n",
              "      <td>x</td>\n",
              "      <td>o</td>\n",
              "      <td>positive</td>\n",
              "    </tr>\n",
              "    <tr>\n",
              "      <th>2</th>\n",
              "      <td>x</td>\n",
              "      <td>x</td>\n",
              "      <td>x</td>\n",
              "      <td>x</td>\n",
              "      <td>o</td>\n",
              "      <td>o</td>\n",
              "      <td>o</td>\n",
              "      <td>o</td>\n",
              "      <td>x</td>\n",
              "      <td>positive</td>\n",
              "    </tr>\n",
              "    <tr>\n",
              "      <th>3</th>\n",
              "      <td>x</td>\n",
              "      <td>x</td>\n",
              "      <td>x</td>\n",
              "      <td>x</td>\n",
              "      <td>o</td>\n",
              "      <td>o</td>\n",
              "      <td>o</td>\n",
              "      <td>b</td>\n",
              "      <td>b</td>\n",
              "      <td>positive</td>\n",
              "    </tr>\n",
              "    <tr>\n",
              "      <th>4</th>\n",
              "      <td>x</td>\n",
              "      <td>x</td>\n",
              "      <td>x</td>\n",
              "      <td>x</td>\n",
              "      <td>o</td>\n",
              "      <td>o</td>\n",
              "      <td>b</td>\n",
              "      <td>o</td>\n",
              "      <td>b</td>\n",
              "      <td>positive</td>\n",
              "    </tr>\n",
              "  </tbody>\n",
              "</table>\n",
              "</div>"
            ],
            "text/plain": [
              "  Top-Left Top-Middle Top-Right  ... Bottom-Middle Bottom-Right     Class\n",
              "0        x          x         x  ...             o            o  positive\n",
              "1        x          x         x  ...             x            o  positive\n",
              "2        x          x         x  ...             o            x  positive\n",
              "3        x          x         x  ...             b            b  positive\n",
              "4        x          x         x  ...             o            b  positive\n",
              "\n",
              "[5 rows x 10 columns]"
            ]
          },
          "metadata": {
            "tags": []
          },
          "execution_count": 1
        }
      ]
    },
    {
      "cell_type": "code",
      "metadata": {
        "id": "cRbe6teAAGKR",
        "colab": {
          "base_uri": "https://localhost:8080/",
          "height": 221
        },
        "outputId": "e175e718-dfd6-447e-c7d4-a1ae07ed6a1b"
      },
      "source": [
        "import numpy as np\n",
        "\n",
        "df = df.replace('x',1).replace('o',0).replace('b',0)\n",
        "\n",
        "df.head()"
      ],
      "execution_count": null,
      "outputs": [
        {
          "output_type": "execute_result",
          "data": {
            "text/html": [
              "<div>\n",
              "<style scoped>\n",
              "    .dataframe tbody tr th:only-of-type {\n",
              "        vertical-align: middle;\n",
              "    }\n",
              "\n",
              "    .dataframe tbody tr th {\n",
              "        vertical-align: top;\n",
              "    }\n",
              "\n",
              "    .dataframe thead th {\n",
              "        text-align: right;\n",
              "    }\n",
              "</style>\n",
              "<table border=\"1\" class=\"dataframe\">\n",
              "  <thead>\n",
              "    <tr style=\"text-align: right;\">\n",
              "      <th></th>\n",
              "      <th>Top-Left</th>\n",
              "      <th>Top-Middle</th>\n",
              "      <th>Top-Right</th>\n",
              "      <th>Middle-Left</th>\n",
              "      <th>Middle-Middle</th>\n",
              "      <th>Middle-Right</th>\n",
              "      <th>Bottom-Left</th>\n",
              "      <th>Bottom-Middle</th>\n",
              "      <th>Bottom-Right</th>\n",
              "      <th>Class</th>\n",
              "    </tr>\n",
              "  </thead>\n",
              "  <tbody>\n",
              "    <tr>\n",
              "      <th>0</th>\n",
              "      <td>1</td>\n",
              "      <td>1</td>\n",
              "      <td>1</td>\n",
              "      <td>1</td>\n",
              "      <td>0</td>\n",
              "      <td>0</td>\n",
              "      <td>1</td>\n",
              "      <td>0</td>\n",
              "      <td>0</td>\n",
              "      <td>positive</td>\n",
              "    </tr>\n",
              "    <tr>\n",
              "      <th>1</th>\n",
              "      <td>1</td>\n",
              "      <td>1</td>\n",
              "      <td>1</td>\n",
              "      <td>1</td>\n",
              "      <td>0</td>\n",
              "      <td>0</td>\n",
              "      <td>0</td>\n",
              "      <td>1</td>\n",
              "      <td>0</td>\n",
              "      <td>positive</td>\n",
              "    </tr>\n",
              "    <tr>\n",
              "      <th>2</th>\n",
              "      <td>1</td>\n",
              "      <td>1</td>\n",
              "      <td>1</td>\n",
              "      <td>1</td>\n",
              "      <td>0</td>\n",
              "      <td>0</td>\n",
              "      <td>0</td>\n",
              "      <td>0</td>\n",
              "      <td>1</td>\n",
              "      <td>positive</td>\n",
              "    </tr>\n",
              "    <tr>\n",
              "      <th>3</th>\n",
              "      <td>1</td>\n",
              "      <td>1</td>\n",
              "      <td>1</td>\n",
              "      <td>1</td>\n",
              "      <td>0</td>\n",
              "      <td>0</td>\n",
              "      <td>0</td>\n",
              "      <td>0</td>\n",
              "      <td>0</td>\n",
              "      <td>positive</td>\n",
              "    </tr>\n",
              "    <tr>\n",
              "      <th>4</th>\n",
              "      <td>1</td>\n",
              "      <td>1</td>\n",
              "      <td>1</td>\n",
              "      <td>1</td>\n",
              "      <td>0</td>\n",
              "      <td>0</td>\n",
              "      <td>0</td>\n",
              "      <td>0</td>\n",
              "      <td>0</td>\n",
              "      <td>positive</td>\n",
              "    </tr>\n",
              "  </tbody>\n",
              "</table>\n",
              "</div>"
            ],
            "text/plain": [
              "   Top-Left  Top-Middle  Top-Right  ...  Bottom-Middle  Bottom-Right     Class\n",
              "0         1           1          1  ...              0             0  positive\n",
              "1         1           1          1  ...              1             0  positive\n",
              "2         1           1          1  ...              0             1  positive\n",
              "3         1           1          1  ...              0             0  positive\n",
              "4         1           1          1  ...              0             0  positive\n",
              "\n",
              "[5 rows x 10 columns]"
            ]
          },
          "metadata": {
            "tags": []
          },
          "execution_count": 2
        }
      ]
    },
    {
      "cell_type": "code",
      "metadata": {
        "id": "NN6OeIrcBiwX",
        "colab": {
          "base_uri": "https://localhost:8080/",
          "height": 102
        },
        "outputId": "1882b5a6-6ec8-4205-fd7e-64fcba317763"
      },
      "source": [
        "from sklearn.ensemble import RandomForestClassifier\n",
        "from sklearn.model_selection import train_test_split\n",
        "\n",
        "y = df.Class\n",
        "X = df.drop('Class',axis=1)\n",
        "\n",
        "X_train, X_test, y_train, y_test = train_test_split(X,y,test_size=0.20,random_state=42)\n",
        "\n",
        "rfc = RandomForestClassifier(n_estimators=50, max_depth=6)\n",
        "\n",
        "# Fit the rfc model. \n",
        "rfc.fit(X_train, y_train)\n",
        "\n",
        "# Create arrays of predictions\n",
        "classification_predictions = rfc.predict(X_test)\n",
        "probability_predictions = rfc.predict_proba(X_test)\n",
        "\n",
        "# Print out count of binary predictions\n",
        "print(pd.Series(classification_predictions).value_counts())\n",
        "\n",
        "# Print the first value from probability_predictions\n",
        "print('The first predicted probabilities are: {}'.format(probability_predictions[0]))\n",
        "\n",
        "rfc.score(X_test, y_test)"
      ],
      "execution_count": null,
      "outputs": [
        {
          "output_type": "stream",
          "text": [
            "positive    137\n",
            "negative     55\n",
            "dtype: int64\n",
            "The first predicted probabilities are: [0.45576679 0.54423321]\n"
          ],
          "name": "stdout"
        },
        {
          "output_type": "execute_result",
          "data": {
            "text/plain": [
              "0.9375"
            ]
          },
          "metadata": {
            "tags": []
          },
          "execution_count": 3
        }
      ]
    },
    {
      "cell_type": "markdown",
      "metadata": {
        "id": "C_3gSOeIEPGQ"
      },
      "source": [
        "# Training, validation, and testing datasets\n",
        "\n",
        "test data = unseen data = new data = holdout data\n",
        "\n",
        "universal ratio: 80/20\n",
        "\n",
        "90/10 if we have little data\n",
        "70/30 when the model is computationally expensive\n",
        "\n",
        "There could be another test dataset that is called validation set. After train_test_split X and y into train and testing, we split testing into validation and testing dataset.\n"
      ]
    },
    {
      "cell_type": "code",
      "metadata": {
        "id": "oUJePLEOEhAo"
      },
      "source": [
        "# Double training and testing\n",
        "\n",
        "# Create temporary training and final testing datasets\n",
        "X_temp, X_test, y_temp, y_test  =\\\n",
        "    train_test_split(X, y, test_size=0.20, random_state=1111)\n",
        "\n",
        "# Create the final training and validation datasets\n",
        "X_train, X_val, y_train, y_val  =\\\n",
        "    train_test_split(X_temp, y_temp, test_size=0.25, random_state=1111)\n"
      ],
      "execution_count": null,
      "outputs": []
    },
    {
      "cell_type": "markdown",
      "metadata": {
        "id": "Pwxuf_Q6HUSb"
      },
      "source": [
        "Why use holdout sets\n",
        "It is important to understand when you would use three datasets (training, validation, and testing) instead of two (training and testing). There is no point in creating an additional dataset split if you are not going to use it.\n",
        "\n",
        "When should you consider using training, validation, and testing datasets?\n",
        "\n",
        "**Anytime we are evaluating model performance repeatedly we need to create training, validation, and testing datasets.**"
      ]
    },
    {
      "cell_type": "markdown",
      "metadata": {
        "id": "OEUUZeJYH7yL"
      },
      "source": [
        "# Accuracy metrics for regression models"
      ]
    },
    {
      "cell_type": "markdown",
      "metadata": {
        "id": "TWAVPBpbI3sj"
      },
      "source": [
        "The simples metric used when validating models for regression models\n",
        "\n",
        "Continuous predicted values.\n",
        "\n",
        "We can use:\n",
        "\n",
        "1- Mean Absolute error. The simplest. Treats all points equally. Communicating modeling results can be difficult. However, most clients understand that on average, a predictive model was off by some number. This makes explaining the mean absolute error easy.\n",
        "\n",
        "2- Mean Squared error. We square the difference term. **Most widely used regression metric**. Outliers (highest/lower values) have more impact on the model performance.  If you run any additional models, you will try to beat an MSE of the first calculation, which is the average squared error of using your first model. Although the MSE is not as interpretable as the MAE, it will help us select a model that has fewer 'large' errors.\n",
        "\n"
      ]
    },
    {
      "cell_type": "markdown",
      "metadata": {
        "id": "rNrOWS4ZTgPu"
      },
      "source": [
        "# Accuracy metrics for classification models\n",
        "\n",
        "In these models we are predicting what category an observation falls into.\n",
        "\n",
        "Many accuracy metric available:\n",
        "\n",
        "1- **Precision**\n",
        "\n",
        "2- **Recall (also called sensitivity)**\n",
        "\n",
        "3- **Accuracy**\n",
        "\n",
        "4- Specificity\n",
        "\n",
        "5- F1-Score and its variations"
      ]
    },
    {
      "cell_type": "markdown",
      "metadata": {
        "id": "GE1HacoXT6xK"
      },
      "source": [
        "We calculate this metrics from the confusion matrix\n",
        "\n",
        "Specially if there is a binary outcome confusion matrix is one of the first things I should review.\n",
        "\n",
        "Binary outcome: confusion matrix is a 2x2 matrix\n"
      ]
    },
    {
      "cell_type": "markdown",
      "metadata": {
        "id": "Bqixz3fQW-x2"
      },
      "source": [
        "## Confusion Matrix"
      ]
    },
    {
      "cell_type": "code",
      "metadata": {
        "id": "L6zNAK14HOps",
        "colab": {
          "base_uri": "https://localhost:8080/",
          "height": 68
        },
        "outputId": "064c96fb-c418-4f66-b577-3a6b75a9ad6a"
      },
      "source": [
        "from sklearn.metrics import confusion_matrix\n",
        "\n",
        "# Create predictions\n",
        "test_predictions = rfc.predict(X_test)\n",
        "\n",
        "# Create and print the confusion matrix\n",
        "cm = confusion_matrix(y_test, test_predictions)\n",
        "print(cm)\n",
        "\n",
        "# Print the true positives (actual 1s that were predicted 1s)\n",
        "print(\"The number of true positives is: {}\".format(cm[1, 1]))"
      ],
      "execution_count": null,
      "outputs": [
        {
          "output_type": "stream",
          "text": [
            "[[ 50  10]\n",
            " [  0 132]]\n",
            "The number of true positives is: 132\n"
          ],
          "name": "stdout"
        }
      ]
    },
    {
      "cell_type": "markdown",
      "metadata": {
        "id": "K1xUm2uyXCND"
      },
      "source": [
        "## Accuracy \n",
        "\n",
        "Easiest metric to understand and represents the overall ability of your model to correctly predict the correct classification.\n",
        "\n",
        " (TNegatives + TPositives) / total number of observations = (e.g. 0.85)\n",
        "\n",
        " In our case:\n",
        "\n",
        " (57+125) / (57+125+10) = 0.9479"
      ]
    },
    {
      "cell_type": "code",
      "metadata": {
        "id": "d86YZcjAapcW",
        "colab": {
          "base_uri": "https://localhost:8080/",
          "height": 34
        },
        "outputId": "b9d43fd1-2be1-48ff-ede8-11dfebdac5ce"
      },
      "source": [
        "from sklearn.metrics import accuracy_score, precision_score, recall_score\n",
        "\n",
        "\n",
        "accuracy_score(y_test, classification_predictions)"
      ],
      "execution_count": null,
      "outputs": [
        {
          "output_type": "execute_result",
          "data": {
            "text/plain": [
              "0.5885416666666666"
            ]
          },
          "metadata": {
            "tags": []
          },
          "execution_count": 6
        }
      ]
    },
    {
      "cell_type": "markdown",
      "metadata": {
        "id": "EdzDoYNzYB02"
      },
      "source": [
        "## Precision\n",
        "\n",
        "When the predicted value is 1, what percentage your model predicted was really 1 and what percentage wasn't\n",
        "\n",
        "The number of true positives out of all predicted positive values.\n",
        "This value is representative when having classes that are uneven distributed, like Spam 1% not Spam 99%, if a model predicts only not spam Accuracy will be 99%, but precision will be 0%.\n",
        "\n",
        "TP / (TP+FP) \n",
        "\n",
        "In our case:\n",
        "\n",
        "125 / 135 = 0.926"
      ]
    },
    {
      "cell_type": "code",
      "metadata": {
        "id": "8J4kqe7hafEe",
        "colab": {
          "base_uri": "https://localhost:8080/",
          "height": 34
        },
        "outputId": "36a81c52-b42b-4572-a7da-f7034511d62a"
      },
      "source": [
        "from sklearn.metrics import precision_score\n",
        "\n",
        "# Create precision or recall score based on the metric you imported\n",
        "score = precision_score(y_test, test_predictions, pos_label=\"positive\")\n",
        "\n",
        "# Print the final result\n",
        "print(\"The precision value is {0:.2f}\".format(score))"
      ],
      "execution_count": null,
      "outputs": [
        {
          "output_type": "stream",
          "text": [
            "The precision value is 0.93\n"
          ],
          "name": "stdout"
        }
      ]
    },
    {
      "cell_type": "markdown",
      "metadata": {
        "id": "dBVoJguWZERq"
      },
      "source": [
        "## Recall\n",
        "\n",
        "When the actual value is 1, what percentage your model predicted 1.\n",
        "\n",
        "Recall is used when we can't afford to loose any positive values.\n",
        "\n",
        "TP = (TP+FN)\n",
        "\n",
        "In our case:\n",
        "\n",
        "125 / 125+0 = 1 \n"
      ]
    },
    {
      "cell_type": "code",
      "metadata": {
        "id": "kyK3ZqRUdE_K",
        "colab": {
          "base_uri": "https://localhost:8080/",
          "height": 34
        },
        "outputId": "929f2a2f-259d-4c2f-9072-01faabd11228"
      },
      "source": [
        "from sklearn.metrics import recall_score\n",
        "\n",
        "# Create precision or recall score based on the metric you imported\n",
        "score = recall_score(y_test, test_predictions, pos_label=\"positive\")\n",
        "\n",
        "# Print the final result\n",
        "print(\"The precision value is {0:.2f}\".format(score))"
      ],
      "execution_count": null,
      "outputs": [
        {
          "output_type": "stream",
          "text": [
            "The precision value is 1.00\n"
          ],
          "name": "stdout"
        }
      ]
    },
    {
      "cell_type": "markdown",
      "metadata": {
        "id": "tNI-NP8teuaQ"
      },
      "source": [
        "# The bias-variance tradeoff\n",
        "\n"
      ]
    },
    {
      "cell_type": "markdown",
      "metadata": {
        "id": "pokNJfXffn_6"
      },
      "source": [
        "## Variance"
      ]
    },
    {
      "cell_type": "markdown",
      "metadata": {
        "id": "maMvBBq4e88w"
      },
      "source": [
        "Variance: If model has high variance it follows training data to closely. That is overfit the model. In this case we have low training error but high test error.\n",
        "\n",
        "Overfitting occur when the model starts to attach meaning to the noise in the training data.\n",
        "\n",
        "Overfitting is easy to identify because we have lower training error than testing error.\n",
        "\n"
      ]
    },
    {
      "cell_type": "markdown",
      "metadata": {
        "id": "qL1xGTSJfpGl"
      },
      "source": [
        "## Bias\n",
        "\n",
        "This terms applies when the model fails to find the actual relationship between data and the response. High training error and high testing error. Occurs when models underfit.\n",
        "\n",
        "The model doesn't find the underlying pattern available in the data.\n",
        "\n",
        "\n"
      ]
    },
    {
      "cell_type": "markdown",
      "metadata": {
        "id": "ZakzC7ZPgSvB"
      },
      "source": [
        "## The bias-variance tradeoff\n",
        "\n"
      ]
    },
    {
      "cell_type": "markdown",
      "metadata": {
        "id": "H_kCbdHfOIyu"
      },
      "source": [
        "# Cross-Validation"
      ]
    },
    {
      "cell_type": "markdown",
      "metadata": {
        "id": "XmPc6h4pM0-x"
      },
      "source": [
        "If our models are not generalizing well or if we have limited data, we should be careful using a single training/validation split. You should cross-validation.\n",
        "\n"
      ]
    },
    {
      "cell_type": "code",
      "metadata": {
        "id": "94cmEAIW-AqM",
        "colab": {
          "base_uri": "https://localhost:8080/",
          "height": 255
        },
        "outputId": "43549dc2-24c7-4ee1-e33c-68b48807ad5c"
      },
      "source": [
        "import pandas as pd\n",
        "\n",
        "df = pd.read_csv('https://assets.datacamp.com/production/repositories/3981/datasets/bdbcfeff5aff20449bad8a8f1e66ae0169b9a26d/candy-data.csv')\n",
        "\n",
        "y = df.winpercent\n",
        "\n",
        "X = df.drop(['competitorname','winpercent'], axis= 1)\n",
        "\n",
        "print(y.head())\n",
        "print(X.head())\n"
      ],
      "execution_count": null,
      "outputs": [
        {
          "output_type": "stream",
          "text": [
            "0    66.971725\n",
            "1    67.602936\n",
            "2    32.261086\n",
            "3    46.116505\n",
            "4    52.341465\n",
            "Name: winpercent, dtype: float64\n",
            "   chocolate  fruity  caramel  ...  pluribus  sugarpercent  pricepercent\n",
            "0          1       0        1  ...         0         0.732         0.860\n",
            "1          1       0        0  ...         0         0.604         0.511\n",
            "2          0       0        0  ...         0         0.011         0.116\n",
            "3          0       0        0  ...         0         0.011         0.511\n",
            "4          0       1        0  ...         0         0.906         0.511\n",
            "\n",
            "[5 rows x 11 columns]\n"
          ],
          "name": "stdout"
        }
      ]
    },
    {
      "cell_type": "code",
      "metadata": {
        "id": "dzakP-Ao-VtL"
      },
      "source": [
        "# Instruction 1: Load the cross-validation method\n",
        "from sklearn.model_selection import cross_val_score\n",
        "\n",
        "# Instruction 2: Load the random forest regression model\n",
        "from sklearn.ensemble import RandomForestRegressor\n",
        "\n",
        "# Instruction 3: Load the mean squared error method\n",
        "# Instruction 4: Load the function for creating a scorer\n",
        "from sklearn.metrics import mean_squared_error_error, make_scorer"
      ],
      "execution_count": null,
      "outputs": []
    },
    {
      "cell_type": "code",
      "metadata": {
        "id": "cUx4JZy8-mt9",
        "colab": {
          "base_uri": "https://localhost:8080/",
          "height": 34
        },
        "outputId": "74f84578-bbf5-451c-a0c9-7eb46234ddd9"
      },
      "source": [
        "rfc = RandomForestRegressor(n_estimators=25, random_state=1111)\n",
        "\n",
        "mse = make_scorer(mean_squared_error)\n",
        "\n",
        "# Set up cross_val_score\n",
        "cv = cross_val_score(estimator=rfc,\n",
        "                     X=X,\n",
        "                     y=y,\n",
        "                     cv=10,\n",
        "                     scoring=make_scorer(mean_squared_error))\n",
        "\n",
        "# Print the mean error\n",
        "print(cv.mean())"
      ],
      "execution_count": null,
      "outputs": [
        {
          "output_type": "stream",
          "text": [
            "155.55845080026586\n"
          ],
          "name": "stdout"
        }
      ]
    },
    {
      "cell_type": "markdown",
      "metadata": {
        "id": "ZIpmLCIo-9OS"
      },
      "source": [
        "# Leave one out cross-validation\n",
        "\n",
        "what is LOOCV? making n cross validation for n samples. So you leave one one sample per cross-validation.\n",
        "\n",
        "**When to use LOOCV?**\n",
        "\n",
        "When the amount of training is limited\n",
        "\n",
        "You want the absolute best error estimate for new data.\n",
        "\n",
        "**Be cautious when: **\n",
        "\n",
        "Computational resources are limited\n",
        "\n",
        "You have a lot of data.\n",
        "\n",
        "You have a lot of parameters to test."
      ]
    },
    {
      "cell_type": "markdown",
      "metadata": {
        "id": "A4_OlgC0A8v1"
      },
      "source": [
        "In this candy data set that we only have few observations, LOOCV is a good technique to implement."
      ]
    },
    {
      "cell_type": "code",
      "metadata": {
        "id": "wepmRQjS__N9",
        "colab": {
          "base_uri": "https://localhost:8080/",
          "height": 51
        },
        "outputId": "e55121b7-9d62-40ae-ec97-1eef61cd493d"
      },
      "source": [
        "n_samples = X.shape[0]\n",
        "\n",
        "rfr = RandomForestRegressor(n_estimators=25, random_state=1111)\n",
        "\n",
        "mae = make_scorer(mean_absolute_error)\n",
        "\n",
        "# Set up cross_val_score\n",
        "scores = cross_val_score(estimator=rfc,\n",
        "                     X=X,\n",
        "                     y=y,\n",
        "                     cv=n_samples,\n",
        "                     scoring=mae)\n",
        "\n",
        "# Print the mean and standard deviation\n",
        "print(\"The mean of the errors is: %s.\" % np.mean(scores))\n",
        "print(\"The standard deviation of the errors is: %s.\" % np.std(scores))"
      ],
      "execution_count": null,
      "outputs": [
        {
          "output_type": "stream",
          "text": [
            "The mean of the errors is: 9.362301251545098.\n",
            "The standard deviation of the errors is: 7.399032885517822.\n"
          ],
          "name": "stdout"
        }
      ]
    },
    {
      "cell_type": "markdown",
      "metadata": {
        "id": "SIhhQsmXB_i_"
      },
      "source": [
        "# Hyperparameter Tuning\n",
        "\n",
        "Parameters are: Learned or estimated from the data, the result of fitting a model. Not manually set. e.g. in Linear Regression the coeficients and the intercepto of the model. \n",
        "\n",
        "Hyperparameters are set before training occurs. \n",
        "\n",
        "For tuning you first need to specify the hyperparameters to tune and then the range of each.\n",
        "\n",
        "if you write .get_params() method on a DecisionTree you'll get 16 hyperparameters. in practice only a handful of these will be tuned ar the same time.\n",
        "\n",
        "\n",
        "\n",
        "\n"
      ]
    },
    {
      "cell_type": "code",
      "metadata": {
        "id": "bo1iJN_MEbKj",
        "colab": {
          "base_uri": "https://localhost:8080/",
          "height": 54
        },
        "outputId": "026e5a87-ac73-4b8e-9924-7aea8143409a"
      },
      "source": [
        "# Review the parameters of rfr\n",
        "print(rfr.get_params())\n",
        "\n",
        "# Maximum Depth\n",
        "max_depth = [4, 8, 12]\n",
        "\n",
        "# Minimum samples for a split\n",
        "min_samples_split = [2, 5, 10]\n",
        "\n",
        "# Max features \n",
        "max_features = [4, 6, 8, 10]"
      ],
      "execution_count": null,
      "outputs": [
        {
          "output_type": "stream",
          "text": [
            "{'bootstrap': True, 'ccp_alpha': 0.0, 'criterion': 'mse', 'max_depth': None, 'max_features': 'auto', 'max_leaf_nodes': None, 'max_samples': None, 'min_impurity_decrease': 0.0, 'min_impurity_split': None, 'min_samples_leaf': 1, 'min_samples_split': 2, 'min_weight_fraction_leaf': 0.0, 'n_estimators': 25, 'n_jobs': None, 'oob_score': False, 'random_state': 1111, 'verbose': 0, 'warm_start': False}\n"
          ],
          "name": "stdout"
        }
      ]
    },
    {
      "cell_type": "markdown",
      "metadata": {
        "id": "dPtkgf4iE3zx"
      },
      "source": [
        "# Combine model validation with tuning\n",
        "\n",
        "\n",
        "\n",
        "\n"
      ]
    },
    {
      "cell_type": "markdown",
      "metadata": {
        "id": "g_fCptZzHahK"
      },
      "source": [
        "## GridSearchCV\n",
        "\n",
        "Tests every possible combination\n",
        "\n",
        "Every additional hyperparameter increase training time exponentially\n",
        "\n",
        "\n",
        "GridSearching only possible with limited hyperparameters and ranges.\n",
        "\n",
        "Two alternatives to GridSearching:\n",
        "\n",
        "1- Random Searching\n",
        "\n",
        "2- Bayesian Optimization"
      ]
    },
    {
      "cell_type": "markdown",
      "metadata": {
        "id": "JUQEhYg4HOlJ"
      },
      "source": [
        "## RandomizedGridCV on RandomForestRegressor\n",
        "\n",
        "This method will randomly select hyperparameters for each model run based on the used-defined hyperparameter space.\n",
        "\n"
      ]
    },
    {
      "cell_type": "code",
      "metadata": {
        "id": "nsHRgzNzIcwW",
        "colab": {
          "base_uri": "https://localhost:8080/",
          "height": 425
        },
        "outputId": "116447e9-4559-48af-acd7-428f49468c84"
      },
      "source": [
        "from sklearn.model_selection import train_test_split\n",
        "\n",
        "X_train, X_test, y_train, y_test = train_test_split(X,y,test_size=0.20,random_state=1111)\n",
        "\n",
        "from sklearn.model_selection import RandomizedSearchCV\n",
        "from sklearn.ensemble import RandomForestRegressor\n",
        "from sklearn.metrics import make_scorer, mean_squared_error\n",
        "\n",
        "# Finish the dictionary by adding the max_depth parameter\n",
        "param_dist = {\"max_depth\": [2, 4, 6, 8],\n",
        "              \"max_features\": [2, 4, 6, 8, 10],\n",
        "              \"min_samples_split\": [2, 4, 8, 16]}\n",
        "\n",
        "# Create a random forest regression model\n",
        "rfr = RandomForestRegressor(n_estimators=10, random_state=1111)\n",
        "\n",
        "# Create a scorer to use (use the mean squared error)\n",
        "scorer = make_scorer(mean_squared_error)\n",
        "\n",
        "# Build a random search using param_dist, rfr, and scorer\n",
        "rs = RandomizedSearchCV(\n",
        "        estimator=rfr,\n",
        "        param_distributions=param_dist,\n",
        "        n_iter=20, # n_iter is the number of iterations\n",
        "        cv=5,\n",
        "        scoring=scorer)\n",
        "\n",
        "rs.fit(X_train,y_train)\n",
        "\n"
      ],
      "execution_count": null,
      "outputs": [
        {
          "output_type": "execute_result",
          "data": {
            "text/plain": [
              "RandomizedSearchCV(cv=5, error_score=nan,\n",
              "                   estimator=RandomForestRegressor(bootstrap=True,\n",
              "                                                   ccp_alpha=0.0,\n",
              "                                                   criterion='mse',\n",
              "                                                   max_depth=None,\n",
              "                                                   max_features='auto',\n",
              "                                                   max_leaf_nodes=None,\n",
              "                                                   max_samples=None,\n",
              "                                                   min_impurity_decrease=0.0,\n",
              "                                                   min_impurity_split=None,\n",
              "                                                   min_samples_leaf=1,\n",
              "                                                   min_samples_split=2,\n",
              "                                                   min_weight_fraction_leaf=0.0,\n",
              "                                                   n_estimators=10, n_jobs=None,\n",
              "                                                   oob_score=False,\n",
              "                                                   random_state=1111, verbose=0,\n",
              "                                                   warm_start=False),\n",
              "                   iid='deprecated', n_iter=20, n_jobs=None,\n",
              "                   param_distributions={'max_depth': [2, 4, 6, 8],\n",
              "                                        'max_features': [2, 4, 6, 8, 10],\n",
              "                                        'min_samples_split': [2, 4, 8, 16]},\n",
              "                   pre_dispatch='2*n_jobs', random_state=None, refit=True,\n",
              "                   return_train_score=False,\n",
              "                   scoring=make_scorer(mean_squared_error), verbose=0)"
            ]
          },
          "metadata": {
            "tags": []
          },
          "execution_count": 38
        }
      ]
    },
    {
      "cell_type": "code",
      "metadata": {
        "id": "BkFbgC0APYfm",
        "colab": {
          "base_uri": "https://localhost:8080/",
          "height": 105
        },
        "outputId": "97f4d30b-e90e-482c-914b-944abba5fb77"
      },
      "source": [
        "# Print best parameters: these parameters do produce the best testing MSE.\n",
        "print(rs.best_params_)\n",
        "\n",
        "# Print the best testing MSE\n",
        "print(rs.best_score_)\n",
        "\n",
        "\n",
        "print(rs.best_estimator_.get_params())\n",
        "\n",
        "y_pred = rs.best_estimator_.predict(X_test)\n",
        "\n",
        "# Compute rmse_test\n",
        "mse_test = mean_squared_error(y_test, y_pred)\n",
        "\n",
        "# Print mse_test\n",
        "print('Test MSE of best model: {:.3f}'.format(mse_test)) "
      ],
      "execution_count": null,
      "outputs": [
        {
          "output_type": "stream",
          "text": [
            "{'min_samples_split': 16, 'max_features': 2, 'max_depth': 6}\n",
            "151.52443725259224\n",
            "{'bootstrap': True, 'ccp_alpha': 0.0, 'criterion': 'mse', 'max_depth': 6, 'max_features': 2, 'max_leaf_nodes': None, 'max_samples': None, 'min_impurity_decrease': 0.0, 'min_impurity_split': None, 'min_samples_leaf': 1, 'min_samples_split': 16, 'min_weight_fraction_leaf': 0.0, 'n_estimators': 10, 'n_jobs': None, 'oob_score': False, 'random_state': 1111, 'verbose': 0, 'warm_start': False}\n",
            "Test MSE of best model: 111.892\n"
          ],
          "name": "stdout"
        }
      ]
    },
    {
      "cell_type": "markdown",
      "metadata": {
        "id": "lT_TDeL6Rt-f"
      },
      "source": [
        "## RandomizedGridCV on RandomForestClassifier"
      ]
    },
    {
      "cell_type": "code",
      "metadata": {
        "id": "4gH-Nm7EViKb",
        "colab": {
          "base_uri": "https://localhost:8080/",
          "height": 34
        },
        "outputId": "32f2e561-c595-4b1f-c578-89a4a265ebb7"
      },
      "source": [
        "import pandas as pd\n",
        "import numpy as np\n",
        "\n",
        "df = pd.read_csv('https://assets.datacamp.com/production/repositories/3981/datasets/e6ee6604b9eed121a015a993bfb225ddf656cf81/tic-tac-toe.csv')\n",
        "\n",
        "print(df.shape)\n",
        "\n",
        "df = df.replace('x',1).replace('o',0).replace('b',0)\n",
        "\n",
        "y = df.Class\n",
        "X = df.drop('Class',axis=1)\n"
      ],
      "execution_count": null,
      "outputs": [
        {
          "output_type": "stream",
          "text": [
            "(958, 10)\n"
          ],
          "name": "stdout"
        }
      ]
    },
    {
      "cell_type": "code",
      "metadata": {
        "id": "Oqe0bbi0Weh4"
      },
      "source": [
        "y = y.apply(lambda row: 1 if row == 'positive' else 0)"
      ],
      "execution_count": null,
      "outputs": []
    },
    {
      "cell_type": "code",
      "metadata": {
        "id": "n3MSzEi9RtfT",
        "colab": {
          "base_uri": "https://localhost:8080/",
          "height": 68
        },
        "outputId": "236461d9-aa3b-4895-a255-4b0873b8aa57"
      },
      "source": [
        "# We create a RandomForestClassifier focusing on model precision.\n",
        "# That is: When the predicted value is 1, what percentage your model \n",
        "# predicted was really 1 and what percentage wasn't\n",
        "\n",
        "from sklearn.metrics import precision_score, make_scorer\n",
        "from sklearn.ensemble import RandomForestClassifier\n",
        "\n",
        "rfc = RandomForestClassifier()\n",
        "\n",
        "param_dist = {'max_depth': range(2, 12, 2),\n",
        " 'min_samples_split': range(2, 12, 2),\n",
        " 'n_estimators': [10, 25, 50]}\n",
        "\n",
        "# Create a precision scorer\n",
        "precision = make_scorer(precision_score)\n",
        "\n",
        "# Finalize the random search\n",
        "rs = RandomizedSearchCV(\n",
        "  estimator=rfc, param_distributions=param_dist,\n",
        "  scoring = precision,\n",
        "  cv=5, n_iter=10, random_state=1111)\n",
        "\n",
        "rs.fit(X, y)\n",
        "\n",
        "# print the mean test scores:\n",
        "print('The precision metric for each run was: {}.'.format(rs.cv_results_['mean_test_score']))\n",
        "# print the best model score:\n",
        "print('The best precision metric for a single model was: {}'.format(rs.best_score_))"
      ],
      "execution_count": null,
      "outputs": [
        {
          "output_type": "stream",
          "text": [
            "The precision metric for each run was: [0.94572763 0.77015239 0.67565701 0.96302298 0.94719551 0.9709777\n",
            " 0.67927918 0.91235796 0.96056099 0.9765119 ].\n",
            "The best precision metric for a single model was: 0.9765118959516244\n"
          ],
          "name": "stdout"
        }
      ]
    }
  ]
}