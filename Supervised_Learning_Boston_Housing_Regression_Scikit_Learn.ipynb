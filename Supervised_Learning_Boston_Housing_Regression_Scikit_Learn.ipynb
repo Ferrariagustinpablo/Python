{
  "nbformat": 4,
  "nbformat_minor": 0,
  "metadata": {
    "colab": {
      "name": "Supervised Learning - Boston Housing - Regression Scikit-Learn",
      "provenance": [],
      "collapsed_sections": [],
      "toc_visible": true,
      "authorship_tag": "ABX9TyO8UP7pKqKNyQQ0UNBPXgcO",
      "include_colab_link": true
    },
    "kernelspec": {
      "name": "python3",
      "display_name": "Python 3"
    }
  },
  "cells": [
    {
      "cell_type": "markdown",
      "metadata": {
        "id": "view-in-github",
        "colab_type": "text"
      },
      "source": [
        "<a href=\"https://colab.research.google.com/github/Ferrariagustinpablo/Python-Machine-Learning-notebooks/blob/main/Supervised_Learning_Boston_Housing_Regression_Scikit_Learn.ipynb\" target=\"_parent\"><img src=\"https://colab.research.google.com/assets/colab-badge.svg\" alt=\"Open In Colab\"/></a>"
      ]
    },
    {
      "cell_type": "markdown",
      "metadata": {
        "id": "xKBi1xOmG0SX"
      },
      "source": [
        "# Boston Housing Data\n",
        "\n",
        "## Regression"
      ]
    },
    {
      "cell_type": "code",
      "metadata": {
        "id": "72Oq3DKBGxRi",
        "colab": {
          "base_uri": "https://localhost:8080/",
          "height": 71
        },
        "outputId": "145eb799-2e63-4e52-b0cb-4f78b8a570dd"
      },
      "source": [
        "from sklearn import datasets\n",
        "import pandas as pd\n",
        "import numpy as np\n",
        "import matplotlib.pyplot as plt\n",
        "import seaborn as sns\n",
        "plt.style.use('ggplot')"
      ],
      "execution_count": null,
      "outputs": [
        {
          "output_type": "stream",
          "text": [
            "/usr/local/lib/python3.6/dist-packages/statsmodels/tools/_testing.py:19: FutureWarning: pandas.util.testing is deprecated. Use the functions in the public API at pandas.testing instead.\n",
            "  import pandas.util.testing as tm\n"
          ],
          "name": "stderr"
        }
      ]
    },
    {
      "cell_type": "code",
      "metadata": {
        "id": "d49YpDiKGz8h",
        "colab": {
          "base_uri": "https://localhost:8080/",
          "height": 34
        },
        "outputId": "09967360-6562-4fa6-a2fe-0d8ae5683e44"
      },
      "source": [
        "# Import Boston Dataset in datasets of sklearn\n",
        "load_boston = datasets.load_boston()\n",
        "load_boston.keys()"
      ],
      "execution_count": null,
      "outputs": [
        {
          "output_type": "execute_result",
          "data": {
            "text/plain": [
              "dict_keys(['data', 'target', 'feature_names', 'DESCR', 'filename'])"
            ]
          },
          "metadata": {
            "tags": []
          },
          "execution_count": 2
        }
      ]
    },
    {
      "cell_type": "code",
      "metadata": {
        "id": "qZ8Qu2_oGz5-",
        "colab": {
          "base_uri": "https://localhost:8080/",
          "height": 204
        },
        "outputId": "33932cee-7041-49d7-ecf5-6a37543e3240"
      },
      "source": [
        "boston = pd.DataFrame(load_boston.data,columns=load_boston.feature_names)\n",
        "boston.head()"
      ],
      "execution_count": null,
      "outputs": [
        {
          "output_type": "execute_result",
          "data": {
            "text/html": [
              "<div>\n",
              "<style scoped>\n",
              "    .dataframe tbody tr th:only-of-type {\n",
              "        vertical-align: middle;\n",
              "    }\n",
              "\n",
              "    .dataframe tbody tr th {\n",
              "        vertical-align: top;\n",
              "    }\n",
              "\n",
              "    .dataframe thead th {\n",
              "        text-align: right;\n",
              "    }\n",
              "</style>\n",
              "<table border=\"1\" class=\"dataframe\">\n",
              "  <thead>\n",
              "    <tr style=\"text-align: right;\">\n",
              "      <th></th>\n",
              "      <th>CRIM</th>\n",
              "      <th>ZN</th>\n",
              "      <th>INDUS</th>\n",
              "      <th>CHAS</th>\n",
              "      <th>NOX</th>\n",
              "      <th>RM</th>\n",
              "      <th>AGE</th>\n",
              "      <th>DIS</th>\n",
              "      <th>RAD</th>\n",
              "      <th>TAX</th>\n",
              "      <th>PTRATIO</th>\n",
              "      <th>B</th>\n",
              "      <th>LSTAT</th>\n",
              "    </tr>\n",
              "  </thead>\n",
              "  <tbody>\n",
              "    <tr>\n",
              "      <th>0</th>\n",
              "      <td>0.00632</td>\n",
              "      <td>18.0</td>\n",
              "      <td>2.31</td>\n",
              "      <td>0.0</td>\n",
              "      <td>0.538</td>\n",
              "      <td>6.575</td>\n",
              "      <td>65.2</td>\n",
              "      <td>4.0900</td>\n",
              "      <td>1.0</td>\n",
              "      <td>296.0</td>\n",
              "      <td>15.3</td>\n",
              "      <td>396.90</td>\n",
              "      <td>4.98</td>\n",
              "    </tr>\n",
              "    <tr>\n",
              "      <th>1</th>\n",
              "      <td>0.02731</td>\n",
              "      <td>0.0</td>\n",
              "      <td>7.07</td>\n",
              "      <td>0.0</td>\n",
              "      <td>0.469</td>\n",
              "      <td>6.421</td>\n",
              "      <td>78.9</td>\n",
              "      <td>4.9671</td>\n",
              "      <td>2.0</td>\n",
              "      <td>242.0</td>\n",
              "      <td>17.8</td>\n",
              "      <td>396.90</td>\n",
              "      <td>9.14</td>\n",
              "    </tr>\n",
              "    <tr>\n",
              "      <th>2</th>\n",
              "      <td>0.02729</td>\n",
              "      <td>0.0</td>\n",
              "      <td>7.07</td>\n",
              "      <td>0.0</td>\n",
              "      <td>0.469</td>\n",
              "      <td>7.185</td>\n",
              "      <td>61.1</td>\n",
              "      <td>4.9671</td>\n",
              "      <td>2.0</td>\n",
              "      <td>242.0</td>\n",
              "      <td>17.8</td>\n",
              "      <td>392.83</td>\n",
              "      <td>4.03</td>\n",
              "    </tr>\n",
              "    <tr>\n",
              "      <th>3</th>\n",
              "      <td>0.03237</td>\n",
              "      <td>0.0</td>\n",
              "      <td>2.18</td>\n",
              "      <td>0.0</td>\n",
              "      <td>0.458</td>\n",
              "      <td>6.998</td>\n",
              "      <td>45.8</td>\n",
              "      <td>6.0622</td>\n",
              "      <td>3.0</td>\n",
              "      <td>222.0</td>\n",
              "      <td>18.7</td>\n",
              "      <td>394.63</td>\n",
              "      <td>2.94</td>\n",
              "    </tr>\n",
              "    <tr>\n",
              "      <th>4</th>\n",
              "      <td>0.06905</td>\n",
              "      <td>0.0</td>\n",
              "      <td>2.18</td>\n",
              "      <td>0.0</td>\n",
              "      <td>0.458</td>\n",
              "      <td>7.147</td>\n",
              "      <td>54.2</td>\n",
              "      <td>6.0622</td>\n",
              "      <td>3.0</td>\n",
              "      <td>222.0</td>\n",
              "      <td>18.7</td>\n",
              "      <td>396.90</td>\n",
              "      <td>5.33</td>\n",
              "    </tr>\n",
              "  </tbody>\n",
              "</table>\n",
              "</div>"
            ],
            "text/plain": [
              "      CRIM    ZN  INDUS  CHAS    NOX  ...  RAD    TAX  PTRATIO       B  LSTAT\n",
              "0  0.00632  18.0   2.31   0.0  0.538  ...  1.0  296.0     15.3  396.90   4.98\n",
              "1  0.02731   0.0   7.07   0.0  0.469  ...  2.0  242.0     17.8  396.90   9.14\n",
              "2  0.02729   0.0   7.07   0.0  0.469  ...  2.0  242.0     17.8  392.83   4.03\n",
              "3  0.03237   0.0   2.18   0.0  0.458  ...  3.0  222.0     18.7  394.63   2.94\n",
              "4  0.06905   0.0   2.18   0.0  0.458  ...  3.0  222.0     18.7  396.90   5.33\n",
              "\n",
              "[5 rows x 13 columns]"
            ]
          },
          "metadata": {
            "tags": []
          },
          "execution_count": 5
        }
      ]
    },
    {
      "cell_type": "code",
      "metadata": {
        "id": "LC5KZLOeGz0z",
        "colab": {
          "base_uri": "https://localhost:8080/",
          "height": 51
        },
        "outputId": "b5226a8e-796e-4394-bcc4-0ad998ea1873"
      },
      "source": [
        "# Target variable\n",
        "y = load_boston.target\n",
        "print(y.shape)\n",
        "type(y)"
      ],
      "execution_count": null,
      "outputs": [
        {
          "output_type": "stream",
          "text": [
            "(506,)\n"
          ],
          "name": "stdout"
        },
        {
          "output_type": "execute_result",
          "data": {
            "text/plain": [
              "numpy.ndarray"
            ]
          },
          "metadata": {
            "tags": []
          },
          "execution_count": 6
        }
      ]
    },
    {
      "cell_type": "code",
      "metadata": {
        "id": "BGvTpyPUGzyX"
      },
      "source": [
        "from sklearn.linear_model import LinearRegression\n",
        "\n",
        "# We only want to predict house value from a single feature: Number of rooms\n",
        "X_rooms = boston['RM'].values\n",
        "\n",
        "reg = LinearRegression()\n",
        "reg.fit(X_rooms,y)\n",
        "\n"
      ],
      "execution_count": null,
      "outputs": []
    },
    {
      "cell_type": "markdown",
      "metadata": {
        "id": "_ECKLxwkQqve"
      },
      "source": [
        "If we are calculating a regression with ony one feature, we need to reshape:\n",
        "\n",
        "Reshape your data either using array.reshape(-1, 1) if your data has a single feature or array.reshape(1, -1) if it contains a single sample.\n",
        "\n",
        "So we should reshape\n"
      ]
    },
    {
      "cell_type": "code",
      "metadata": {
        "id": "5u3PDhJyQxn-",
        "colab": {
          "base_uri": "https://localhost:8080/",
          "height": 34
        },
        "outputId": "fc8af1d3-d4c4-41dd-de3d-02965b3ca071"
      },
      "source": [
        "# Reshaping:\n",
        "y = y.reshape(-1,1)\n",
        "# .values to convert into a numpy array. Series DataFrame doesn't have a reshape method.\n",
        "X_rooms = X_rooms.reshape(-1,1)\n",
        "\n",
        "reg = LinearRegression()\n",
        "reg.fit(X_rooms,y)\n"
      ],
      "execution_count": null,
      "outputs": [
        {
          "output_type": "execute_result",
          "data": {
            "text/plain": [
              "LinearRegression(copy_X=True, fit_intercept=True, n_jobs=None, normalize=False)"
            ]
          },
          "metadata": {
            "tags": []
          },
          "execution_count": 8
        }
      ]
    },
    {
      "cell_type": "code",
      "metadata": {
        "id": "_oPibSiPQyE0",
        "colab": {
          "base_uri": "https://localhost:8080/",
          "height": 282
        },
        "outputId": "d71e23c2-1324-4cf2-8938-e61c9c127fb3"
      },
      "source": [
        "# plot house value as a function of number of rooms\n",
        "\n",
        "plt.scatter(X_rooms,y,color='#354e71')\n",
        "plt.ylabel('Value of house /1000 ($)')\n",
        "plt.xlabel('Number of rooms')\n",
        "plt.show()"
      ],
      "execution_count": null,
      "outputs": [
        {
          "output_type": "display_data",
          "data": {
            "image/png": "[encoded data removed]",
            "text/plain": [
              "<Figure size 432x288 with 1 Axes>"
            ]
          },
          "metadata": {
            "tags": [],
            "needs_background": "light"
          }
        }
      ]
    },
    {
      "cell_type": "markdown",
      "metadata": {
        "id": "e-1UbW_rT-D2"
      },
      "source": [
        "# Plot scatter plot with Linear Regression\n",
        "\n",
        "For only one feature"
      ]
    },
    {
      "cell_type": "code",
      "metadata": {
        "id": "gXcz8fQ_QyUs",
        "colab": {
          "base_uri": "https://localhost:8080/",
          "height": 282
        },
        "outputId": "276f4fa7-f96c-4427-83e8-d1479ffdf342"
      },
      "source": [
        "# Plot scatter plot with Linear Regression\n",
        "\n",
        "prediction_space = np.linspace(min(X_rooms),max(X_rooms)).reshape(-1,1)\n",
        "prediction_rooms = reg.predict(prediction_space)\n",
        "\n",
        "plt.scatter(X_rooms,y,color='#354e71')\n",
        "plt.plot(prediction_space,prediction_rooms, color='#808080',linewidth= 2)\n",
        "plt.ylabel('Value of house /1000 ($)')\n",
        "plt.xlabel('Number of rooms')\n",
        "plt.show()"
      ],
      "execution_count": null,
      "outputs": [
        {
          "output_type": "display_data",
          "data": {
            "image/png": "[encoded data removed]",
            "text/plain": [
              "<Figure size 432x288 with 1 Axes>"
            ]
          },
          "metadata": {
            "tags": [],
            "needs_background": "light"
          }
        }
      ]
    },
    {
      "cell_type": "markdown",
      "metadata": {
        "id": "PsK6GSxiW11Y"
      },
      "source": [
        "# Making a Heatmap with seaborn"
      ]
    },
    {
      "cell_type": "code",
      "metadata": {
        "id": "F1OnpVh0QyZN",
        "colab": {
          "base_uri": "https://localhost:8080/",
          "height": 318
        },
        "outputId": "6072a96e-3865-4814-957b-d1022a23acc2"
      },
      "source": [
        "# Making a Heatmap with seaborn\n",
        "sns.heatmap(boston.corr(), square=True, cmap='RdYlGn')"
      ],
      "execution_count": null,
      "outputs": [
        {
          "output_type": "execute_result",
          "data": {
            "text/plain": [
              "<matplotlib.axes._subplots.AxesSubplot at 0x7ffb9efdfa58>"
            ]
          },
          "metadata": {
            "tags": []
          },
          "execution_count": 11
        },
        {
          "output_type": "display_data",
          "data": {
            "image/png": "[encoded data removed]",
            "text/plain": [
              "<Figure size 432x288 with 2 Axes>"
            ]
          },
          "metadata": {
            "tags": [],
            "needs_background": "light"
          }
        }
      ]
    },
    {
      "cell_type": "markdown",
      "metadata": {
        "id": "kdh1a-lrXSA8"
      },
      "source": [
        "# Regression mechanics\n",
        "\n",
        "## Loss Function\n",
        "How do we choose parameters for the linear regression y= a + b1*x1 +... + bn*xn?\n",
        "\n",
        "We define an error function for any given line and choose the one that minimizes that error.\n",
        "\n",
        "The distance between each data point and a line (vertical distance) is called **residual**.\n",
        "\n",
        "Our loss function is the sum of squares of residuals and it's called Ordinary Least squares (OLS)\n",
        "\n",
        "Minimizing sum of squares of the residuals we will find de optimal line.\n",
        "\n",
        "\n"
      ]
    },
    {
      "cell_type": "code",
      "metadata": {
        "id": "cg7TLVsvQyf6"
      },
      "source": [
        "# Linear regression on all features\n",
        "\n",
        "from sklearn.model_selection import train_test_split\n",
        "from sklearn.linear_model import LinearRegression\n",
        "\n",
        "X = boston\n",
        "\n",
        "X_train, X_test, y_train, y_test = train_test_split(X,y,test_size=0.3,random_state=42)\n",
        "\n",
        "reg_all = LinearRegression()\n",
        "\n",
        "reg_all.fit(X_train,y_train)\n",
        "\n",
        "y_pred = reg_all.predict(X_test)\n",
        "\n"
      ],
      "execution_count": null,
      "outputs": []
    },
    {
      "cell_type": "markdown",
      "metadata": {
        "id": "HbFjKqviayfq"
      },
      "source": [
        "# Scoring for linear regression is R2\n",
        "\n",
        "Calculates de amount of variance of the target variable that is predicted from the feature variables."
      ]
    },
    {
      "cell_type": "code",
      "metadata": {
        "id": "5no84sFKQykk",
        "colab": {
          "base_uri": "https://localhost:8080/",
          "height": 34
        },
        "outputId": "2972a826-ff52-45cc-bbbf-f28d906dbeb2"
      },
      "source": [
        "# Scoring R2\n",
        "\n",
        "reg_all.score(X_test,y_test)\n"
      ],
      "execution_count": null,
      "outputs": [
        {
          "output_type": "execute_result",
          "data": {
            "text/plain": [
              "0.7112260057484974"
            ]
          },
          "metadata": {
            "tags": []
          },
          "execution_count": 13
        }
      ]
    },
    {
      "cell_type": "markdown",
      "metadata": {
        "id": "MwRYOCczmqky"
      },
      "source": [
        "# K-fold Cross-Validation in Scikit-learn\n",
        "\n",
        "Model performance is dependent on way the data is split\n",
        "\n",
        "R2 would not be representative of the model's ability to generalize (predict to unseen data)\n",
        "\n",
        "To combat this depence in split we use ** k-fold cross-validation**.\n",
        "\n",
        "More K's more computation needed.\n",
        "\n",
        "it computes 5 R2 metrics **(R2 is the default metric of cross_val_score of sklearn)**\n",
        "\n"
      ]
    },
    {
      "cell_type": "code",
      "metadata": {
        "id": "Badbz2iYQyif",
        "colab": {
          "base_uri": "https://localhost:8080/",
          "height": 51
        },
        "outputId": "76b87326-40b1-4757-dad4-284c31734fec"
      },
      "source": [
        "from sklearn.model_selection import cross_val_score\n",
        "from sklearn.linear_model import LinearRegression\n",
        "\n",
        "reg = LinearRegression()\n",
        "\n",
        "# Let's make a 5-fold Cross Validation\n",
        "cv_results = cross_val_score(reg,X,y,cv=5)\n",
        "\n",
        "print(cv_results)\n",
        "print(cv_results.mean())"
      ],
      "execution_count": null,
      "outputs": [
        {
          "output_type": "stream",
          "text": [
            "[ 0.63919994  0.71386698  0.58702344  0.07923081 -0.25294154]\n",
            "0.35327592439588484\n"
          ],
          "name": "stdout"
        }
      ]
    },
    {
      "cell_type": "markdown",
      "metadata": {
        "id": "r3YebrZBqw-I"
      },
      "source": [
        "# Regularization: Regularized regression\n",
        "\n",
        "Linear regression works minimizing the loss function choosing a coefficient for each feature variable.\n",
        "\n",
        "Regularization is to penalize large coefficients. Because large coefficients can lead to overfitting.\n",
        "\n",
        "\n"
      ]
    },
    {
      "cell_type": "markdown",
      "metadata": {
        "id": "xlpBDxWybCZK"
      },
      "source": [
        "## Ridge Regression - L2 regularization\n",
        "First type of regularized regression is called Ridge regression.\n",
        "\n",
        "Ridge is equal to OLS function (Ordinary Least squares) plus a coefficient **alpha** that multiplies the function. **alpha is a hyperparameter**, so it's important to process a hyperparameter tuning.\n",
        "\n",
        "Alpha controls model complexity. A low alpha can lead to overfitting, a higher alpha simplifies the model (but can lead to underfitting, where alpha penalizes higher coefficients)"
      ]
    },
    {
      "cell_type": "code",
      "metadata": {
        "id": "c5-zqPFvQydY",
        "colab": {
          "base_uri": "https://localhost:8080/",
          "height": 102
        },
        "outputId": "7ae9525f-9f64-43d3-b3de-5e279e69b223"
      },
      "source": [
        "from sklearn.linear_model import Ridge\n",
        "\n",
        "X_train, X_test, y_train, y_test = train_test_split(X,y,test_size=0.3,random_state=42)\n",
        "\n",
        "# normalize True ensures all our variables are on the same scale\n",
        "ridge = Ridge(alpha=0.1,normalize=True)\n",
        "ridge.fit(X_train,y_train)\n",
        "ridge_pred = ridge.predict(X_test)\n",
        "\n",
        "ridge_pred[:5]\n"
      ],
      "execution_count": null,
      "outputs": [
        {
          "output_type": "execute_result",
          "data": {
            "text/plain": [
              "array([[27.97023765],\n",
              "       [35.38307715],\n",
              "       [16.82607459],\n",
              "       [25.14515158],\n",
              "       [18.74860504]])"
            ]
          },
          "metadata": {
            "tags": []
          },
          "execution_count": 15
        }
      ]
    },
    {
      "cell_type": "markdown",
      "metadata": {
        "id": "Md1LLcrBRm_s"
      },
      "source": [
        "## Ridge Regression with Cross-Validation and alpha tuning\n",
        "\n",
        "\n",
        "\n",
        "For each alpha value we are performing a 10-fold Cross-Validation and computing the mean of R2 for every alpha."
      ]
    },
    {
      "cell_type": "markdown",
      "metadata": {
        "id": "HROOW-hcUIZh"
      },
      "source": [
        "\n",
        "### Computing R2 for each alpha"
      ]
    },
    {
      "cell_type": "code",
      "metadata": {
        "id": "Zg4VbAzGRmZ1",
        "colab": {
          "base_uri": "https://localhost:8080/",
          "height": 102
        },
        "outputId": "b45fa65d-14e7-49a4-d42d-a62c236d812b"
      },
      "source": [
        "# Import necessary modules\n",
        "from sklearn.linear_model import Ridge\n",
        "from sklearn.model_selection import cross_val_score\n",
        "\n",
        "# Setup the array of alphas and lists to store scores\n",
        "alpha_space = np.logspace(-4, 0, 50)\n",
        "ridge_scores = []\n",
        "ridge_scores_std = []\n",
        "\n",
        "# Create a ridge regressor: ridge\n",
        "ridge = Ridge(normalize=True)\n",
        "\n",
        "# Compute scores over range of alphas\n",
        "for alpha in alpha_space:\n",
        "\n",
        "    # Specify the alpha value to use: ridge.alpha\n",
        "    ridge.alpha = alpha\n",
        "    \n",
        "    # Perform 10-fold CV: ridge_cv_scores\n",
        "    ridge_cv_scores = cross_val_score(ridge,X,y,cv=10)\n",
        "    \n",
        "    # Append the mean of ridge_cv_scores to ridge_scores\n",
        "    ridge_scores.append(np.mean(ridge_cv_scores))\n",
        "    \n",
        "    # Append the std of ridge_cv_scores to ridge_scores_std\n",
        "    ridge_scores_std.append(np.std(ridge_cv_scores))\n",
        "\n",
        "ridge_scores[:5]"
      ],
      "execution_count": null,
      "outputs": [
        {
          "output_type": "execute_result",
          "data": {
            "text/plain": [
              "[0.2027954621122284,\n",
              " 0.20285048894245175,\n",
              " 0.20291685957929725,\n",
              " 0.20299690377963855,\n",
              " 0.2030934257989649]"
            ]
          },
          "metadata": {
            "tags": []
          },
          "execution_count": 16
        }
      ]
    },
    {
      "cell_type": "markdown",
      "metadata": {
        "id": "YiecrmlaTOew"
      },
      "source": [
        "### Plotting with function: x= Alpha, y= CV Score +/- Std Error"
      ]
    },
    {
      "cell_type": "code",
      "metadata": {
        "id": "uLOkHpqsRuLu",
        "colab": {
          "base_uri": "https://localhost:8080/",
          "height": 287
        },
        "outputId": "c55139af-143d-4842-b39c-ca41099ae8b7"
      },
      "source": [
        "# Code from DataCamp\n",
        "def display_plot(cv_scores, cv_scores_std):\n",
        "    fig = plt.figure()\n",
        "    ax = fig.add_subplot(1,1,1)\n",
        "    ax.plot(alpha_space, cv_scores)\n",
        "\n",
        "    std_error = cv_scores_std / np.sqrt(10)\n",
        "\n",
        "    ax.fill_between(alpha_space, cv_scores + std_error, cv_scores - std_error, alpha=0.2)\n",
        "    ax.set_ylabel('CV Score +/- Std Error')\n",
        "    ax.set_xlabel('Alpha')\n",
        "    ax.axhline(np.max(cv_scores), linestyle='--', color='.5')\n",
        "    ax.set_xlim([alpha_space[0], alpha_space[-1]])\n",
        "    ax.set_xscale('log')\n",
        "    plt.show()\n",
        "\n",
        "# Display the plot\n",
        "display_plot(ridge_scores, ridge_scores_std)"
      ],
      "execution_count": null,
      "outputs": [
        {
          "output_type": "display_data",
          "data": {
            "image/png": "[encoded data removed]",
            "text/plain": [
              "<Figure size 432x288 with 1 Axes>"
            ]
          },
          "metadata": {
            "tags": [],
            "needs_background": "light"
          }
        }
      ]
    },
    {
      "cell_type": "code",
      "metadata": {
        "id": "4gdJVie0RuJa",
        "colab": {
          "base_uri": "https://localhost:8080/",
          "height": 287
        },
        "outputId": "f1797a3c-3891-4472-b270-89da9b8a1057"
      },
      "source": [
        "# Import necessary modules\n",
        "from sklearn.linear_model import Ridge\n",
        "from sklearn.model_selection import cross_val_score\n",
        "\n",
        "# Setup the array of alphas and lists to store scores\n",
        "alpha_space = np.logspace(-4, 0, 50)\n",
        "ridge_scores = []\n",
        "ridge_scores_std = []\n",
        "\n",
        "# Create a ridge regressor: ridge\n",
        "ridge = Ridge(normalize=True)\n",
        "\n",
        "# Compute scores over range of alphas\n",
        "for alpha in alpha_space:\n",
        "\n",
        "    # Specify the alpha value to use: ridge.alpha\n",
        "    ridge.alpha = alpha\n",
        "    \n",
        "    # Perform 10-fold CV: ridge_cv_scores\n",
        "    ridge_cv_scores = cross_val_score(ridge,X,y,cv=10)\n",
        "    \n",
        "    # Append the mean of ridge_cv_scores to ridge_scores\n",
        "    ridge_scores.append(np.mean(ridge_cv_scores))\n",
        "    \n",
        "    # Append the std of ridge_cv_scores to ridge_scores_std\n",
        "    ridge_scores_std.append(np.std(ridge_cv_scores))\n",
        "\n",
        "# Display the plot\n",
        "display_plot(ridge_scores, ridge_scores_std)"
      ],
      "execution_count": null,
      "outputs": [
        {
          "output_type": "display_data",
          "data": {
            "image/png": "[encoded data removed]",
            "text/plain": [
              "<Figure size 432x288 with 1 Axes>"
            ]
          },
          "metadata": {
            "tags": [],
            "needs_background": "light"
          }
        }
      ]
    },
    {
      "cell_type": "markdown",
      "metadata": {
        "id": "SwTKJx5ANOqD"
      },
      "source": [
        "## Lasso Regression -  L1 regularization\n",
        "\n",
        "Code for lasso regression is identical to ridge regression\n",
        "\n",
        "For building regression models Ridge regression should be my first choice.\n",
        "\n",
        "The importance of Lasso regression comes from the selection of important features of the dataset.\n",
        "\n",
        "Tends to shrink coefficients of less important features to value near zero.\n",
        "\n",
        "Coefficients not shrunk to zero are important for Lasso Coeficient.\n",
        "\n",
        "## Importance of Lasso Regression for feature regression and comunication"
      ]
    },
    {
      "cell_type": "code",
      "metadata": {
        "id": "gJrx5PYEQyW3",
        "colab": {
          "base_uri": "https://localhost:8080/",
          "height": 347
        },
        "outputId": "20df4f1a-d921-4a32-f8b3-39c85ef61018"
      },
      "source": [
        "#Calculate Lasso regression for feature selection\n",
        "\n",
        "# Which features/factors are important predictors?\n",
        "\n",
        "from sklearn.linear_model import Lasso\n",
        "\n",
        "name_features = boston.columns\n",
        "\n",
        "lasso = Lasso(alpha=0.1,normalize=True)\n",
        "\n",
        "lasso_coef = lasso.fit(X,y).coef_\n",
        "display(lasso_coef)\n",
        "\n",
        "plt.plot(name_features,lasso_coef)\n",
        "plt.xticks(rotation=60)\n",
        "plt.ylabel('Coefficients')\n",
        "plt.show()\n"
      ],
      "execution_count": null,
      "outputs": [
        {
          "output_type": "display_data",
          "data": {
            "text/plain": [
              "array([-0.        ,  0.        , -0.        ,  0.        , -0.        ,\n",
              "        2.95469455, -0.        ,  0.        , -0.        , -0.        ,\n",
              "       -0.24795837,  0.        , -0.42817439])"
            ]
          },
          "metadata": {
            "tags": []
          }
        },
        {
          "output_type": "display_data",
          "data": {
            "image/png": "[encoded data removed]",
            "text/plain": [
              "<Figure size 432x288 with 1 Axes>"
            ]
          },
          "metadata": {
            "tags": [],
            "needs_background": "light"
          }
        }
      ]
    },
    {
      "cell_type": "markdown",
      "metadata": {
        "id": "IlyPiLBR5cLh"
      },
      "source": [
        "## LogisticRegression + GridSearchCV for C (For classification)"
      ]
    },
    {
      "cell_type": "code",
      "metadata": {
        "id": "n3wcwqpo5lBZ"
      },
      "source": [
        "# Specify L1 regularization\n",
        "lr = LogisticRegression(penalty='l1')\n",
        "\n",
        "# Instantiate the GridSearchCV object and run the search\n",
        "searcher = GridSearchCV(lr, {'C':[0.001, 0.01, 0.1, 1, 10]})\n",
        "searcher.fit(X_train, y_train)\n",
        "\n",
        "# Report the best parameters\n",
        "print(\"Best CV params\", searcher.best_params_)\n",
        "\n",
        "# Find the number of nonzero coefficients (selected features)\n",
        "best_lr = searcher.best_estimator_\n",
        "coefs = best_lr.coef_\n",
        "print(\"Total number of features:\", coefs.size)\n",
        "print(\"Number of selected features:\", np.count_nonzero(coefs))"
      ],
      "execution_count": null,
      "outputs": []
    },
    {
      "cell_type": "markdown",
      "metadata": {
        "id": "lJaFaRFF5knQ"
      },
      "source": [
        ""
      ]
    },
    {
      "cell_type": "markdown",
      "metadata": {
        "id": "UEsDzt83FU3Q"
      },
      "source": [
        "## Hold-Out set ElasticNet with GridSearchCV"
      ]
    },
    {
      "cell_type": "markdown",
      "metadata": {
        "id": "CmUdup8FFvdo"
      },
      "source": [
        "Lasso used the L1 penalty to regularize, while ridge used the L2 penalty. There is another type of regularized regression known as the elastic net. In elastic net regularization, the penalty term is a linear combination of the L1 and L2 penalties:\n",
        "\n",
        "a∗L1+b∗L2\n",
        "\n",
        "In scikit-learn, this term is represented by the 'l1_ratio' parameter: An 'l1_ratio' of 1 corresponds to an L1 penalty, and anything lower is a combination of L1 and L2."
      ]
    },
    {
      "cell_type": "code",
      "metadata": {
        "id": "DgC99LI4QySH",
        "colab": {
          "base_uri": "https://localhost:8080/",
          "height": 292
        },
        "outputId": "6d7a977c-6086-479d-80fd-3dd1a8a80f3c"
      },
      "source": [
        "# Import necessary modules\n",
        "from sklearn.linear_model import ElasticNet\n",
        "from sklearn.metrics import mean_squared_error\n",
        "from sklearn.model_selection import GridSearchCV\n",
        "from sklearn.model_selection import train_test_split\n",
        "\n",
        "# Create train and test sets\n",
        "X_train, X_test, y_train, y_test = train_test_split(X, y, test_size = 0.4, random_state=42)\n",
        "\n",
        "# Create the hyperparameter grid\n",
        "l1_space = np.linspace(0, 1, 30)\n",
        "param_grid = {'l1_ratio': l1_space}\n",
        "\n",
        "# Instantiate the ElasticNet regressor: elastic_net\n",
        "elastic_net = ElasticNet()\n",
        "\n",
        "# Setup the GridSearchCV object: gm_cv\n",
        "gm_cv = GridSearchCV(elastic_net, param_grid, cv=5)\n",
        "\n",
        "# Fit it to the training data\n",
        "gm_cv.fit(X_train, y_train)\n",
        "\n",
        "# Predict on the test set and compute metrics\n",
        "y_pred = gm_cv.predict(X_test)\n",
        "r2 = gm_cv.score(X_test, y_test)\n",
        "mse = mean_squared_error(y_test, y_pred)\n",
        "print(\"Tuned ElasticNet l1 ratio: {}\".format(gm_cv.best_params_))\n",
        "print(\"Tuned ElasticNet R squared: {}\".format(r2))\n",
        "print(\"Tuned ElasticNet MSE: {}\".format(mse))\n"
      ],
      "execution_count": null,
      "outputs": [
        {
          "output_type": "stream",
          "text": [
            "/usr/local/lib/python3.6/dist-packages/sklearn/linear_model/_coordinate_descent.py:476: ConvergenceWarning: Objective did not converge. You might want to increase the number of iterations. Duality gap: 3574.2674952346542, tolerance: 2.138958896694215\n",
            "  positive)\n",
            "/usr/local/lib/python3.6/dist-packages/sklearn/linear_model/_coordinate_descent.py:476: ConvergenceWarning: Objective did not converge. You might want to increase the number of iterations. Duality gap: 3675.4850294526095, tolerance: 2.106010169421487\n",
            "  positive)\n",
            "/usr/local/lib/python3.6/dist-packages/sklearn/linear_model/_coordinate_descent.py:476: ConvergenceWarning: Objective did not converge. You might want to increase the number of iterations. Duality gap: 3483.8291808691874, tolerance: 1.9782090743801652\n",
            "  positive)\n",
            "/usr/local/lib/python3.6/dist-packages/sklearn/linear_model/_coordinate_descent.py:476: ConvergenceWarning: Objective did not converge. You might want to increase the number of iterations. Duality gap: 3883.8577617154515, tolerance: 2.349984156378601\n",
            "  positive)\n",
            "/usr/local/lib/python3.6/dist-packages/sklearn/linear_model/_coordinate_descent.py:476: ConvergenceWarning: Objective did not converge. You might want to increase the number of iterations. Duality gap: 3466.222870963341, tolerance: 2.2380288230452674\n",
            "  positive)\n"
          ],
          "name": "stderr"
        },
        {
          "output_type": "stream",
          "text": [
            "Tuned ElasticNet l1 ratio: {'l1_ratio': 0.0}\n",
            "Tuned ElasticNet R squared: 0.6637648307263886\n",
            "Tuned ElasticNet MSE: 25.53490371495736\n"
          ],
          "name": "stdout"
        },
        {
          "output_type": "stream",
          "text": [
            "/usr/local/lib/python3.6/dist-packages/sklearn/linear_model/_coordinate_descent.py:476: ConvergenceWarning: Objective did not converge. You might want to increase the number of iterations. Duality gap: 4552.425328290939, tolerance: 2.703569412541254\n",
            "  positive)\n"
          ],
          "name": "stderr"
        }
      ]
    },
    {
      "cell_type": "code",
      "metadata": {
        "id": "cP3vw8MfQyCd"
      },
      "source": [
        ""
      ],
      "execution_count": null,
      "outputs": []
    },
    {
      "cell_type": "code",
      "metadata": {
        "id": "FTOzXOD3Qx9r"
      },
      "source": [
        ""
      ],
      "execution_count": null,
      "outputs": []
    }
  ]
}