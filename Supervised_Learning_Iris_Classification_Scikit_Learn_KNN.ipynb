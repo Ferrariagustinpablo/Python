{
  "nbformat": 4,
  "nbformat_minor": 0,
  "metadata": {
    "colab": {
      "name": "Supervised Learning - Iris - Classification Scikit-Learn KNN",
      "provenance": [],
      "collapsed_sections": [],
      "toc_visible": true,
      "authorship_tag": "ABX9TyMs2eFCIzAjvuerBwvah8b8",
      "include_colab_link": true
    },
    "kernelspec": {
      "name": "python3",
      "display_name": "Python 3"
    }
  },
  "cells": [
    {
      "cell_type": "markdown",
      "metadata": {
        "id": "view-in-github",
        "colab_type": "text"
      },
      "source": [
        "<a href=\"https://colab.research.google.com/github/Ferrariagustinpablo/Python-Machine-Learning-notebooks/blob/main/Supervised_Learning_Iris_Classification_Scikit_Learn_KNN.ipynb\" target=\"_parent\"><img src=\"https://colab.research.google.com/assets/colab-badge.svg\" alt=\"Open In Colab\"/></a>"
      ]
    },
    {
      "cell_type": "markdown",
      "metadata": {
        "id": "YQziGOGZa3Xp"
      },
      "source": [
        "# Supervised Learning\n",
        "\n",
        "\n"
      ]
    },
    {
      "cell_type": "markdown",
      "metadata": {
        "id": "JKe-k_mvj3pI"
      },
      "source": [
        "##What is machine learning?\n",
        "\n",
        "Giving computers the ability to learn to make decisions from data, without being explicitly programmed.\n",
        "\n",
        "Where are labels present we call it Supervised Learning. Machine Learning task to predict a particular \"Target variable\"\n",
        "\n",
        "*   Classification (Categorical variable)\n",
        "*   Regression (Continuous variable)\n",
        "\n",
        "\n",
        "Target variable = dependent variable = response variable\n",
        "\n",
        "Features = predictor variables = independent variables\n",
        "\n",
        "Sklearn that integrates well with Scipy Stack "
      ]
    },
    {
      "cell_type": "markdown",
      "metadata": {
        "id": "6xcy5goujc1p"
      },
      "source": [
        "# The iris dataset"
      ]
    },
    {
      "cell_type": "markdown",
      "metadata": {
        "id": "Pkt96xGSnaor"
      },
      "source": [
        "## Get to know the dataset"
      ]
    },
    {
      "cell_type": "code",
      "metadata": {
        "id": "Y_GldjZRa3KH"
      },
      "source": [
        "from sklearn import datasets\n",
        "import pandas as pd\n",
        "import numpy as np\n",
        "import matplotlib.pyplot as plt\n",
        "plt.style.use('ggplot')"
      ],
      "execution_count": null,
      "outputs": []
    },
    {
      "cell_type": "code",
      "metadata": {
        "id": "og4Ld0bjVtuA",
        "colab": {
          "base_uri": "https://localhost:8080/",
          "height": 51
        },
        "outputId": "3ecb8c8e-52c8-490a-9e8d-2c9c75d00f6e"
      },
      "source": [
        "# Import Iris dataset from sklearn\n",
        "\n",
        "iris = datasets.load_iris()\n",
        "print(type(iris))\n",
        "\n",
        "# Dataset of Iris we see is a \"Bunch\" class that works similar to a dictionary\n",
        "print(iris.keys())"
      ],
      "execution_count": null,
      "outputs": [
        {
          "output_type": "stream",
          "text": [
            "<class 'sklearn.utils.Bunch'>\n",
            "dict_keys(['data', 'target', 'target_names', 'DESCR', 'feature_names', 'filename'])\n"
          ],
          "name": "stdout"
        }
      ]
    },
    {
      "cell_type": "code",
      "metadata": {
        "id": "tEU3WJubipXS",
        "colab": {
          "base_uri": "https://localhost:8080/",
          "height": 85
        },
        "outputId": "62931de6-e3bf-4458-a3d0-79bad5d95d57"
      },
      "source": [
        "# We get in iris['Data'] key\n",
        "print(type(iris['data'])) # or type(iris.data)\n",
        "\n",
        "# Shape 150,4\n",
        "print(iris.data.shape)\n",
        "\n",
        "# Now we look at columns with key 'target_names' and 'feature_names'\n",
        "print(iris.target_names)\n",
        "print(iris.feature_names)"
      ],
      "execution_count": null,
      "outputs": [
        {
          "output_type": "stream",
          "text": [
            "<class 'numpy.ndarray'>\n",
            "(150, 4)\n",
            "['setosa' 'versicolor' 'virginica']\n",
            "['sepal length (cm)', 'sepal width (cm)', 'petal length (cm)', 'petal width (cm)']\n"
          ],
          "name": "stdout"
        }
      ]
    },
    {
      "cell_type": "markdown",
      "metadata": {
        "id": "PN37BeB4nR5o"
      },
      "source": [
        "## Import as a pandas DataFrame"
      ]
    },
    {
      "cell_type": "code",
      "metadata": {
        "id": "eSrMgWq6a7XK",
        "colab": {
          "base_uri": "https://localhost:8080/",
          "height": 323
        },
        "outputId": "d39835a2-c696-438c-bfd7-6212272e4ac6"
      },
      "source": [
        "# Make a DataFrame only with feature columns\n",
        "X = pd.DataFrame(iris.data,columns=iris.feature_names)\n",
        "display(X.head())\n",
        "\n",
        "# Create y keeping data as a numpy array\n",
        "y= iris.target\n",
        "display(y)"
      ],
      "execution_count": null,
      "outputs": [
        {
          "output_type": "display_data",
          "data": {
            "text/html": [
              "<div>\n",
              "<style scoped>\n",
              "    .dataframe tbody tr th:only-of-type {\n",
              "        vertical-align: middle;\n",
              "    }\n",
              "\n",
              "    .dataframe tbody tr th {\n",
              "        vertical-align: top;\n",
              "    }\n",
              "\n",
              "    .dataframe thead th {\n",
              "        text-align: right;\n",
              "    }\n",
              "</style>\n",
              "<table border=\"1\" class=\"dataframe\">\n",
              "  <thead>\n",
              "    <tr style=\"text-align: right;\">\n",
              "      <th></th>\n",
              "      <th>sepal length (cm)</th>\n",
              "      <th>sepal width (cm)</th>\n",
              "      <th>petal length (cm)</th>\n",
              "      <th>petal width (cm)</th>\n",
              "    </tr>\n",
              "  </thead>\n",
              "  <tbody>\n",
              "    <tr>\n",
              "      <th>0</th>\n",
              "      <td>5.1</td>\n",
              "      <td>3.5</td>\n",
              "      <td>1.4</td>\n",
              "      <td>0.2</td>\n",
              "    </tr>\n",
              "    <tr>\n",
              "      <th>1</th>\n",
              "      <td>4.9</td>\n",
              "      <td>3.0</td>\n",
              "      <td>1.4</td>\n",
              "      <td>0.2</td>\n",
              "    </tr>\n",
              "    <tr>\n",
              "      <th>2</th>\n",
              "      <td>4.7</td>\n",
              "      <td>3.2</td>\n",
              "      <td>1.3</td>\n",
              "      <td>0.2</td>\n",
              "    </tr>\n",
              "    <tr>\n",
              "      <th>3</th>\n",
              "      <td>4.6</td>\n",
              "      <td>3.1</td>\n",
              "      <td>1.5</td>\n",
              "      <td>0.2</td>\n",
              "    </tr>\n",
              "    <tr>\n",
              "      <th>4</th>\n",
              "      <td>5.0</td>\n",
              "      <td>3.6</td>\n",
              "      <td>1.4</td>\n",
              "      <td>0.2</td>\n",
              "    </tr>\n",
              "  </tbody>\n",
              "</table>\n",
              "</div>"
            ],
            "text/plain": [
              "   sepal length (cm)  sepal width (cm)  petal length (cm)  petal width (cm)\n",
              "0                5.1               3.5                1.4               0.2\n",
              "1                4.9               3.0                1.4               0.2\n",
              "2                4.7               3.2                1.3               0.2\n",
              "3                4.6               3.1                1.5               0.2\n",
              "4                5.0               3.6                1.4               0.2"
            ]
          },
          "metadata": {
            "tags": []
          }
        },
        {
          "output_type": "display_data",
          "data": {
            "text/plain": [
              "array([0, 0, 0, 0, 0, 0, 0, 0, 0, 0, 0, 0, 0, 0, 0, 0, 0, 0, 0, 0, 0, 0,\n",
              "       0, 0, 0, 0, 0, 0, 0, 0, 0, 0, 0, 0, 0, 0, 0, 0, 0, 0, 0, 0, 0, 0,\n",
              "       0, 0, 0, 0, 0, 0, 1, 1, 1, 1, 1, 1, 1, 1, 1, 1, 1, 1, 1, 1, 1, 1,\n",
              "       1, 1, 1, 1, 1, 1, 1, 1, 1, 1, 1, 1, 1, 1, 1, 1, 1, 1, 1, 1, 1, 1,\n",
              "       1, 1, 1, 1, 1, 1, 1, 1, 1, 1, 1, 1, 2, 2, 2, 2, 2, 2, 2, 2, 2, 2,\n",
              "       2, 2, 2, 2, 2, 2, 2, 2, 2, 2, 2, 2, 2, 2, 2, 2, 2, 2, 2, 2, 2, 2,\n",
              "       2, 2, 2, 2, 2, 2, 2, 2, 2, 2, 2, 2, 2, 2, 2, 2, 2, 2])"
            ]
          },
          "metadata": {
            "tags": []
          }
        }
      ]
    },
    {
      "cell_type": "code",
      "metadata": {
        "id": "4TlqUq3La7jb",
        "colab": {
          "base_uri": "https://localhost:8080/",
          "height": 406
        },
        "outputId": "071f15d6-b530-4072-a43c-8b02cbee2ecc"
      },
      "source": [
        "# Visual EDA of df Iris\n",
        "\n",
        "_ = pd.plotting.scatter_matrix(X, c=y,figsize=(8, 6),marker='o')\n"
      ],
      "execution_count": null,
      "outputs": [
        {
          "output_type": "display_data",
          "data": {
            "image/png": "[encoded data removed]",
            "text/plain": [
              "<Figure size 576x432 with 16 Axes>"
            ]
          },
          "metadata": {
            "tags": []
          }
        }
      ]
    },
    {
      "cell_type": "markdown",
      "metadata": {
        "id": "dQkoQGUGjdnl"
      },
      "source": [
        "# KNN (K-nearest neighbors) Classifier\n",
        "\n",
        "Sklearn API requires:\n",
        "\n",
        "\n",
        "**1) Data in numpy array or pandas DataFrame**\n",
        "\n",
        "**2) Features need to be continuous values**\n",
        "\n",
        "**3) No missing values in the data**"
      ]
    },
    {
      "cell_type": "code",
      "metadata": {
        "id": "dBFT0lygjcUi",
        "colab": {
          "base_uri": "https://localhost:8080/",
          "height": 68
        },
        "outputId": "df8000ac-f0c5-49b2-da5b-e72f504555d7"
      },
      "source": [
        "# For Iris dataset, we have k=3 because 3 type of Iris plants:\n",
        "# Setosa, Virginica and Versicolor\n",
        "\n",
        "from sklearn.neighbors import KNeighborsClassifier\n",
        "knn = KNeighborsClassifier(n_neighbors=6)\n",
        "# Pass features and target(y) as a \"numpy array\" or \"pandas DataFrame\"\n",
        "knn.fit(iris.data, iris.target) # or knn.fit(df,y), it is usually ised knn.fit(X,y) \n",
        "\n"
      ],
      "execution_count": null,
      "outputs": [
        {
          "output_type": "execute_result",
          "data": {
            "text/plain": [
              "KNeighborsClassifier(algorithm='auto', leaf_size=30, metric='minkowski',\n",
              "                     metric_params=None, n_jobs=None, n_neighbors=6, p=2,\n",
              "                     weights='uniform')"
            ]
          },
          "metadata": {
            "tags": []
          },
          "execution_count": 7
        }
      ]
    },
    {
      "cell_type": "markdown",
      "metadata": {
        "id": "gC2FDsHztD8K"
      },
      "source": [
        "## How to measure KNN performance?\n",
        "\n",
        "### In classification, accuracy is a commonly used metric\n",
        "Accuracy = Fraction of correct predictions\n",
        "Of course need to compute accuracy on new data that the model hasn't seen before (test data). It's called unseen data.\n",
        "\n",
        "### Train_test_split"
      ]
    },
    {
      "cell_type": "code",
      "metadata": {
        "id": "ZPfV-_vqjczT",
        "colab": {
          "base_uri": "https://localhost:8080/",
          "height": 51
        },
        "outputId": "67c661c3-a56d-4a8c-f2ef-237859f4e8f9"
      },
      "source": [
        "# Random State for reproducibility\n",
        "# Stratify=y is an important keyword argument, because it's best practice to ensure the split reflects the labels on your data\n",
        "# (Keep proportion of labels in each train and test set)\n",
        "from sklearn.model_selection import train_test_split\n",
        "X_train, X_test, y_train, y_test = train_test_split(X,y,test_size=0.3,random_state=21,stratify=y)\n",
        "knn = KNeighborsClassifier(n_neighbors=8)\n",
        "knn.fit(X_train,y_train)\n",
        "y_pred = knn.predict(X_test)\n",
        "print('Test set predictions: {}'.format(y_pred))\n"
      ],
      "execution_count": null,
      "outputs": [
        {
          "output_type": "stream",
          "text": [
            "Test set predictions: [2 1 2 2 1 0 1 0 0 1 0 2 0 2 2 0 0 0 1 0 2 2 2 0 1 1 1 0 0 1 2 2 0 0 1 2 2\n",
            " 1 1 2 1 1 0 2 1]\n"
          ],
          "name": "stdout"
        }
      ]
    },
    {
      "cell_type": "code",
      "metadata": {
        "id": "5NERnQwjjc49",
        "colab": {
          "base_uri": "https://localhost:8080/",
          "height": 34
        },
        "outputId": "3bf4c93a-1acb-4cf2-bdec-cbe9f725641e"
      },
      "source": [
        "# Now we check out the accuracy of the KNN model passing the .score method\n",
        "\n",
        "print('Accuracy for KNN, with k=8 is: {:.3f}'.format(knn.score(X_test,y_test)))\n"
      ],
      "execution_count": null,
      "outputs": [
        {
          "output_type": "stream",
          "text": [
            "Accuracy for KNN, with k=8 is: 0.956\n"
          ],
          "name": "stdout"
        }
      ]
    },
    {
      "cell_type": "markdown",
      "metadata": {
        "id": "TMNzrhJZbkNd"
      },
      "source": [
        ""
      ]
    },
    {
      "cell_type": "markdown",
      "metadata": {
        "id": "0eAN3h2ewDzD"
      },
      "source": [
        "## Model Complexity Curve\n",
        "\n",
        "Larger K = smoother decision boundary = less complex model\n",
        "\n",
        "Smaller K = more complex model = can lead to overfitting"
      ]
    },
    {
      "cell_type": "code",
      "metadata": {
        "id": "xIbm4uGAjckQ",
        "colab": {
          "base_uri": "https://localhost:8080/",
          "height": 299
        },
        "outputId": "b2451e58-569b-45e5-9b18-9372cc626664"
      },
      "source": [
        "# Setup arrays to store train and test accuracies\n",
        "neighbors = np.arange(1, 9)\n",
        "train_accuracy = np.empty(len(neighbors))\n",
        "test_accuracy = np.empty(len(neighbors))\n",
        "\n",
        "# Loop over different values of k\n",
        "for i, k in enumerate(neighbors):\n",
        "    # Setup a k-NN Classifier with k neighbors: knn\n",
        "    knn = KNeighborsClassifier(n_neighbors=k)\n",
        "\n",
        "    # Fit the classifier to the training data\n",
        "    knn.fit(X_train,y_train)\n",
        "    \n",
        "    #Compute accuracy on the training set\n",
        "    train_accuracy[i] = knn.score(X_train,y_train)\n",
        "\n",
        "    #Compute accuracy on the testing set\n",
        "    test_accuracy[i] = knn.score(X_test,y_test)\n",
        "\n",
        "# Generate plot\n",
        "plt.title('k-NN: Varying Number of Neighbors')\n",
        "plt.plot(neighbors, test_accuracy, label = 'Testing Accuracy')\n",
        "plt.plot(neighbors, train_accuracy, label = 'Training Accuracy')\n",
        "plt.legend()\n",
        "plt.xlabel('Number of Neighbors')\n",
        "plt.ylabel('Accuracy')\n",
        "plt.show()"
      ],
      "execution_count": null,
      "outputs": [
        {
          "output_type": "display_data",
          "data": {
            "image/png": "[encoded data removed]",
            "text/plain": [
              "<Figure size 432x288 with 1 Axes>"
            ]
          },
          "metadata": {
            "tags": []
          }
        }
      ]
    },
    {
      "cell_type": "markdown",
      "metadata": {
        "id": "3bY_qchEbgVs"
      },
      "source": [
        "## Class Imbalance and accuracy problem\n",
        "\n",
        "Example of Real E/mail 99% and spam 1%. Accuracy is no longer a useful metric\n"
      ]
    },
    {
      "cell_type": "markdown",
      "metadata": {
        "id": "SVtDU4qlfW9f"
      },
      "source": [
        "### Confusion Matrix\n",
        "\n",
        "True Positive = Predicted positive. Actual: Positive\n",
        "\n",
        "False Positive = Predicted positive. Actual: Negative\n",
        "\n",
        "False Negative = Predicted negative. Actual: Positive\n",
        "\n",
        "True Negative = Predicted positive. Actual: Positive"
      ]
    },
    {
      "cell_type": "code",
      "metadata": {
        "id": "dF2x25NKi2-E",
        "colab": {
          "base_uri": "https://localhost:8080/",
          "height": 68
        },
        "outputId": "8500dea7-d893-4c75-e926-59c56596893c"
      },
      "source": [
        "from sklearn.metrics import classification_report\n",
        "from sklearn.metrics import confusion_matrix\n",
        "\n",
        "confusion_matrix(y_test,y_pred)"
      ],
      "execution_count": null,
      "outputs": [
        {
          "output_type": "execute_result",
          "data": {
            "text/plain": [
              "array([[15,  0,  0],\n",
              "       [ 0, 14,  1],\n",
              "       [ 0,  1, 14]])"
            ]
          },
          "metadata": {
            "tags": []
          },
          "execution_count": 11
        }
      ]
    },
    {
      "cell_type": "markdown",
      "metadata": {
        "id": "LWhx2gDwgp2a"
      },
      "source": [
        "#### Precision or positive predictive value or PPV\n",
        "\n",
        "This is the number of True Positives divided by the total number of True Positives and False Positives.\n",
        "\n",
        "**Correctly labeled Spam e-mails for example."
      ]
    },
    {
      "cell_type": "markdown",
      "metadata": {
        "id": "d66IqiI5hXhj"
      },
      "source": [
        "#### Recall, sensitivity rate, hit rate or true positive rate\n",
        "\n",
        "True Positives divided by the total number of True Positives and False Negatives."
      ]
    },
    {
      "cell_type": "markdown",
      "metadata": {
        "id": "PRuY9o5QiQeH"
      },
      "source": [
        "#### F1 Score\n",
        "\n",
        "2 * precision*recall / (precision+recall)\n",
        "\n",
        "That is the harmonic mean of precision and recall"
      ]
    },
    {
      "cell_type": "code",
      "metadata": {
        "id": "eK2p4eCyjcZv",
        "colab": {
          "base_uri": "https://localhost:8080/",
          "height": 187
        },
        "outputId": "ded474de-6e4d-4175-9f74-9a77b2381732"
      },
      "source": [
        "# Calculate precision, recall and F1-Score\n",
        "\n",
        "print(classification_report(y_test,y_pred))"
      ],
      "execution_count": null,
      "outputs": [
        {
          "output_type": "stream",
          "text": [
            "              precision    recall  f1-score   support\n",
            "\n",
            "           0       1.00      1.00      1.00        15\n",
            "           1       0.93      0.93      0.93        15\n",
            "           2       0.93      0.93      0.93        15\n",
            "\n",
            "    accuracy                           0.96        45\n",
            "   macro avg       0.96      0.96      0.96        45\n",
            "weighted avg       0.96      0.96      0.96        45\n",
            "\n"
          ],
          "name": "stdout"
        }
      ]
    },
    {
      "cell_type": "markdown",
      "metadata": {
        "id": "LXI79IN9kYNd"
      },
      "source": [
        "# Logistic Regression\n",
        "\n",
        "Used of course in classification problems, not in regression problems.\n",
        "\n",
        "Binary Classification\n",
        "\n",
        "Logistic regression outputs probabilities (p) in respect to the target variable\n",
        "\n",
        "If p > 0.5 we label data as 1.\n",
        "\n",
        "If p < 0.5 we label data as 0.\n",
        "\n",
        "It produces a **linear** decision boundary\n",
        "\n",
        "\n"
      ]
    },
    {
      "cell_type": "code",
      "metadata": {
        "id": "coEC_QlJjcYC",
        "colab": {
          "base_uri": "https://localhost:8080/",
          "height": 68
        },
        "outputId": "e6fd78cf-44a6-482e-b409-e51bd037f590"
      },
      "source": [
        "from sklearn.linear_model import LogisticRegression\n",
        "from sklearn.model_selection import train_test_split\n",
        "\n",
        "logreg = LogisticRegression()\n",
        "\n",
        "X_train, X_test, y_train, y_test = train_test_split(X,y,test_size=0.4,random_state=42,stratify=y)\n",
        "\n",
        "logreg.fit(X_train,y_train)\n",
        "\n",
        "y_pred = logreg.predict(X_test)\n",
        "y_pred\n"
      ],
      "execution_count": null,
      "outputs": [
        {
          "output_type": "execute_result",
          "data": {
            "text/plain": [
              "array([0, 1, 0, 0, 1, 0, 1, 1, 2, 2, 1, 1, 1, 2, 0, 0, 0, 0, 2, 2, 2, 1,\n",
              "       2, 2, 1, 2, 2, 0, 2, 0, 2, 1, 2, 0, 0, 2, 0, 1, 0, 2, 1, 2, 1, 1,\n",
              "       1, 1, 1, 0, 0, 2, 0, 1, 1, 1, 2, 2, 0, 1, 0, 0])"
            ]
          },
          "metadata": {
            "tags": []
          },
          "execution_count": 13
        }
      ]
    },
    {
      "cell_type": "markdown",
      "metadata": {
        "id": "MOlu23ghqYSL"
      },
      "source": [
        "## ROC Curve: Changing thresholds for p\n",
        "\n",
        "By default LogisticRegression uses a threshold of 0.5\n",
        "\n",
        "What happens if we vary this threshold?\n",
        "\n",
        "p = 0? Predicts 1 for all the data\n",
        "\n",
        "p = 1? Predicts 0 for all data\n",
        "\n",
        "If we vary this p's we get a series of different True Positive and False Positive rates.\n",
        "\n",
        "All set of points trying all possible threshold is called the ROC curve (reciever operating characteristic curve)\n",
        "\n"
      ]
    },
    {
      "cell_type": "code",
      "metadata": {
        "id": "pIiPxQvRtL2f",
        "colab": {
          "base_uri": "https://localhost:8080/",
          "height": 299
        },
        "outputId": "8ca68410-7863-42b5-9a01-39d42a682683"
      },
      "source": [
        "# Make a LogisticRegression with only 2 classes\n",
        "# So i'm going to destroy the data set and convert all y=2 to 0\n",
        "y[y>1] = 0\n",
        "\n",
        "\n",
        "from sklearn.linear_model import LogisticRegression\n",
        "from sklearn.model_selection import train_test_split\n",
        "\n",
        "logreg = LogisticRegression()\n",
        "\n",
        "X_train, X_test, y_train, y_test = train_test_split(X,y,test_size=0.4,random_state=42)\n",
        "\n",
        "logreg.fit(X_train,y_train)\n",
        "\n",
        "\n",
        "from sklearn.metrics import roc_curve\n",
        "\n",
        "# We slice [:1] we choose the column for the probabilities being 1\n",
        "y_pred_prob = logreg.predict_proba(X_test)[:,1]\n",
        "\n",
        "# We unpack into False Positive Rate, True Positive Rate and the thresholds\n",
        "fpr, tpr, thresholds = roc_curve(y_test, y_pred_prob)\n",
        "\n",
        "# Plot ROC curve\n",
        "plt.plot([0, 1], [0, 1], 'k--')\n",
        "plt.plot(fpr, tpr)\n",
        "plt.xlabel('False Positive Rate')\n",
        "plt.ylabel('True Positive Rate')\n",
        "plt.title('ROC Curve')\n",
        "plt.show()\n",
        "\n"
      ],
      "execution_count": null,
      "outputs": [
        {
          "output_type": "display_data",
          "data": {
            "image/png": "[encoded data removed]",
            "text/plain": [
              "<Figure size 432x288 with 1 Axes>"
            ]
          },
          "metadata": {
            "tags": []
          }
        }
      ]
    },
    {
      "cell_type": "markdown",
      "metadata": {
        "id": "75ebVxFQwiFI"
      },
      "source": [
        "### Area under ROC Curve\n",
        "\n",
        "Area under ROC Curve (AUC) is a **popular metric for classification models**.\n",
        "\n",
        "The larger the area under the curve the better the model.\n",
        "\n",
        "If False Positive Rate is 0 and True Positive Rate is 1, the model would be perfect. The area under the curve would be a triangle.\n",
        "\n"
      ]
    },
    {
      "cell_type": "code",
      "metadata": {
        "id": "OW0uOj1ExJAO",
        "colab": {
          "base_uri": "https://localhost:8080/",
          "height": 34
        },
        "outputId": "03ebd0af-08e3-406a-9d78-79d50bf03a00"
      },
      "source": [
        "from sklearn.metrics import roc_auc_score\n",
        "\n",
        "logreg = LogisticRegression()\n",
        "\n",
        "X_train, X_test, y_train, y_test = train_test_split(X,y,test_size=0.4,random_state=42)\n",
        "\n",
        "logreg.fit(X_train,y_train)\n",
        "\n",
        "y_pred_prob = logreg.predict_proba(X_test)[:,1]\n",
        "\n",
        "roc_auc_score(y_test,y_pred_prob)"
      ],
      "execution_count": null,
      "outputs": [
        {
          "output_type": "execute_result",
          "data": {
            "text/plain": [
              "0.8010269576379975"
            ]
          },
          "metadata": {
            "tags": []
          },
          "execution_count": 15
        }
      ]
    },
    {
      "cell_type": "markdown",
      "metadata": {
        "id": "j_6KQhbBx4Qt"
      },
      "source": [
        "### Area under ROC Curve with Cross-Validation"
      ]
    },
    {
      "cell_type": "code",
      "metadata": {
        "id": "AFoGFolswCwN",
        "colab": {
          "base_uri": "https://localhost:8080/",
          "height": 34
        },
        "outputId": "785c3c51-d5a4-4250-cd34-ba349da8e160"
      },
      "source": [
        "from sklearn.model_selection import cross_val_score\n",
        "\n",
        "cv_scores = cross_val_score(logreg,X,y,cv=5,scoring='roc_auc')\n",
        "\n",
        "cv_scores"
      ],
      "execution_count": null,
      "outputs": [
        {
          "output_type": "execute_result",
          "data": {
            "text/plain": [
              "array([0.805, 0.915, 0.695, 0.585, 0.71 ])"
            ]
          },
          "metadata": {
            "tags": []
          },
          "execution_count": 16
        }
      ]
    },
    {
      "cell_type": "code",
      "metadata": {
        "id": "itCZxP8kv4Dm"
      },
      "source": [
        "# go back the dataset to normality\n",
        "\n",
        "y= iris.target"
      ],
      "execution_count": null,
      "outputs": []
    },
    {
      "cell_type": "markdown",
      "metadata": {
        "id": "qeEPbB3B1_U-"
      },
      "source": [
        "# Hyperparameter Tuning\n",
        "\n",
        "Ridge/Lasso: Choosing **alpha**\n",
        "KNN: Choosing **n_neighbors**\n",
        "\n",
        "Hyperparameters cannot be learned by fitting the model\n",
        "\n",
        "Choosing the correct hyperparameter: Try a bunch of different parameters, choose the best performing one.\n",
        "\n",
        "It's essential to use cross-validation to calculate metrics of performance on unseen data.\n",
        "\n",
        "\n",
        "\n",
        "\n",
        "\n",
        "\n"
      ]
    },
    {
      "cell_type": "markdown",
      "metadata": {
        "id": "dxI6TUbD3PUA"
      },
      "source": [
        "## Grid Search cross-validation\n",
        "\n",
        "A Table of two hyperparameter combination where values are the metrics for those hyperparameter for use in the model. \n",
        "\n"
      ]
    },
    {
      "cell_type": "code",
      "metadata": {
        "id": "gKYhjA_Z31tJ",
        "colab": {
          "base_uri": "https://localhost:8080/",
          "height": 51
        },
        "outputId": "75d9f735-204a-48b3-92cc-5ff95d65bdc2"
      },
      "source": [
        "from sklearn.model_selection import GridSearchCV\n",
        "\n",
        "param_grid = {'n_neighbors': np.arange(1,50)}\n",
        "\n",
        "knn = KNeighborsClassifier()\n",
        "\n",
        "# Create a GridSearch object\n",
        "knn_cv = GridSearchCV(knn, param_grid, cv=5)\n",
        "\n",
        "knn_cv.fit(X,y)\n",
        "\n",
        "# It looks like a n_neighbors = 4 gives the best score\n",
        "print(knn_cv.best_params_)\n",
        "print(knn_cv.best_score_)\n"
      ],
      "execution_count": null,
      "outputs": [
        {
          "output_type": "stream",
          "text": [
            "{'n_neighbors': 4}\n",
            "0.9666666666666668\n"
          ],
          "name": "stdout"
        }
      ]
    },
    {
      "cell_type": "markdown",
      "metadata": {
        "id": "RJNdiULL6T1o"
      },
      "source": [
        "## RandomizedSearchCV\n",
        "\n",
        "I just copy the code for a Decision Tree Classifier\n",
        "\n",
        "GridSearchCV can be computationally expensive, especially if you are searching over a large hyperparameter space and dealing with multiple hyperparameters. A solution to this is to use RandomizedSearchCV, in which not all hyperparameter values are tried out. Instead, a fixed number of hyperparameter settings is sampled from specified probability distributions. "
      ]
    },
    {
      "cell_type": "code",
      "metadata": {
        "id": "7XyIjbQP6Zmo"
      },
      "source": [
        "# Import necessary modules\n",
        "from scipy.stats import randint\n",
        "from sklearn.tree import DecisionTreeClassifier\n",
        "from sklearn.model_selection import RandomizedSearchCV\n",
        "\n",
        "# Setup the parameters and distributions to sample from: param_dist\n",
        "param_dist = {\"max_depth\": [3, None],\n",
        "              \"max_features\": randint(1, 9),\n",
        "              \"min_samples_leaf\": randint(1, 9),\n",
        "              \"criterion\": [\"gini\", \"entropy\"]}\n",
        "\n",
        "# Instantiate a Decision Tree classifier: tree\n",
        "tree = DecisionTreeClassifier()\n",
        "\n",
        "# Instantiate the RandomizedSearchCV object: tree_cv\n",
        "tree_cv = RandomizedSearchCV(tree, param_dist, cv=5)\n",
        "\n",
        "# Fit it to the data\n",
        "tree_cv.fit(X, y)\n",
        "\n",
        "# Print the tuned parameters and score\n",
        "print(\"Tuned Decision Tree Parameters: {}\".format(tree_cv.best_params_))\n",
        "print(\"Best score is {}\".format(tree_cv.best_score_))\n"
      ],
      "execution_count": null,
      "outputs": []
    },
    {
      "cell_type": "markdown",
      "metadata": {
        "id": "1Kzc_NoRpp4b"
      },
      "source": [
        "## Hold Out set\n",
        "\n",
        "You want to be absolutely certain about your model's ability to generalize to unseen data.\n",
        "\n",
        "Tune the model's hyperparameters on the training set, and then evaluate its performance on the hold-out set which it has never seen before.\n",
        "\n"
      ]
    },
    {
      "cell_type": "markdown",
      "metadata": {
        "id": "vfgQ8IIw5HUg"
      },
      "source": [
        "In addition to C, logistic regression has a 'penalty' hyperparameter which specifies whether to use 'l1' or 'l2' regularization.\n",
        "\n",
        "Create a hold-out set, tune the 'C' and 'penalty' hyperparameters of a logistic regression classifier using GridSearchCV on the training set."
      ]
    },
    {
      "cell_type": "markdown",
      "metadata": {
        "id": "Nvx-iUz7ETZC"
      },
      "source": [
        "## Hold Out set for Logistic Regression for \"C\" and \"Penalty\""
      ]
    },
    {
      "cell_type": "code",
      "metadata": {
        "id": "GU___wfr5QJI",
        "colab": {
          "base_uri": "https://localhost:8080/",
          "height": 1000
        },
        "outputId": "32c0f360-9d76-4bf6-d48e-fd210dbed2fe"
      },
      "source": [
        "# Import necessary modules\n",
        "from sklearn.model_selection import train_test_split\n",
        "from sklearn.linear_model import LogisticRegression\n",
        "from sklearn.model_selection import GridSearchCV\n",
        "\n",
        "# Create the hyperparameter grid\n",
        "c_space = np.logspace(-5, 8, 15)\n",
        "param_grid = {'C': c_space, 'penalty': ['l1', 'l2']}\n",
        "\n",
        "# Instantiate the logistic regression classifier: logreg\n",
        "logreg = LogisticRegression()\n",
        "\n",
        "# Create train and test sets\n",
        "X_train, X_test, y_train, y_test = train_test_split(X,y,test_size=0.4,random_state=42)\n",
        "\n",
        "# Instantiate the GridSearchCV object: logreg_cv\n",
        "logreg_cv = GridSearchCV(logreg,param_grid,cv=5)\n",
        "\n",
        "# Fit it to the training data\n",
        "logreg_cv.fit(X_train,y_train)\n",
        "\n",
        "# Print the optimal parameters and best score\n",
        "print(\"Tuned Logistic Regression Parameter: {}\".format(logreg_cv.best_params_))\n",
        "print(\"Tuned Logistic Regression Accuracy: {}\".format(logreg_cv.best_score_))"
      ],
      "execution_count": null,
      "outputs": [
        {
          "output_type": "stream",
          "text": [
            "/usr/local/lib/python3.6/dist-packages/sklearn/model_selection/_validation.py:536: FitFailedWarning: Estimator fit failed. The score on this train-test partition for these parameters will be set to nan. Details: \n",
            "ValueError: Solver lbfgs supports only 'l2' or 'none' penalties, got l1 penalty.\n",
            "\n",
            "  FitFailedWarning)\n",
            "/usr/local/lib/python3.6/dist-packages/sklearn/model_selection/_validation.py:536: FitFailedWarning: Estimator fit failed. The score on this train-test partition for these parameters will be set to nan. Details: \n",
            "ValueError: Solver lbfgs supports only 'l2' or 'none' penalties, got l1 penalty.\n",
            "\n",
            "  FitFailedWarning)\n",
            "/usr/local/lib/python3.6/dist-packages/sklearn/model_selection/_validation.py:536: FitFailedWarning: Estimator fit failed. The score on this train-test partition for these parameters will be set to nan. Details: \n",
            "ValueError: Solver lbfgs supports only 'l2' or 'none' penalties, got l1 penalty.\n",
            "\n",
            "  FitFailedWarning)\n",
            "/usr/local/lib/python3.6/dist-packages/sklearn/model_selection/_validation.py:536: FitFailedWarning: Estimator fit failed. The score on this train-test partition for these parameters will be set to nan. Details: \n",
            "ValueError: Solver lbfgs supports only 'l2' or 'none' penalties, got l1 penalty.\n",
            "\n",
            "  FitFailedWarning)\n",
            "/usr/local/lib/python3.6/dist-packages/sklearn/model_selection/_validation.py:536: FitFailedWarning: Estimator fit failed. The score on this train-test partition for these parameters will be set to nan. Details: \n",
            "ValueError: Solver lbfgs supports only 'l2' or 'none' penalties, got l1 penalty.\n",
            "\n",
            "  FitFailedWarning)\n",
            "/usr/local/lib/python3.6/dist-packages/sklearn/model_selection/_validation.py:536: FitFailedWarning: Estimator fit failed. The score on this train-test partition for these parameters will be set to nan. Details: \n",
            "ValueError: Solver lbfgs supports only 'l2' or 'none' penalties, got l1 penalty.\n",
            "\n",
            "  FitFailedWarning)\n",
            "/usr/local/lib/python3.6/dist-packages/sklearn/model_selection/_validation.py:536: FitFailedWarning: Estimator fit failed. The score on this train-test partition for these parameters will be set to nan. Details: \n",
            "ValueError: Solver lbfgs supports only 'l2' or 'none' penalties, got l1 penalty.\n",
            "\n",
            "  FitFailedWarning)\n",
            "/usr/local/lib/python3.6/dist-packages/sklearn/model_selection/_validation.py:536: FitFailedWarning: Estimator fit failed. The score on this train-test partition for these parameters will be set to nan. Details: \n",
            "ValueError: Solver lbfgs supports only 'l2' or 'none' penalties, got l1 penalty.\n",
            "\n",
            "  FitFailedWarning)\n",
            "/usr/local/lib/python3.6/dist-packages/sklearn/model_selection/_validation.py:536: FitFailedWarning: Estimator fit failed. The score on this train-test partition for these parameters will be set to nan. Details: \n",
            "ValueError: Solver lbfgs supports only 'l2' or 'none' penalties, got l1 penalty.\n",
            "\n",
            "  FitFailedWarning)\n",
            "/usr/local/lib/python3.6/dist-packages/sklearn/model_selection/_validation.py:536: FitFailedWarning: Estimator fit failed. The score on this train-test partition for these parameters will be set to nan. Details: \n",
            "ValueError: Solver lbfgs supports only 'l2' or 'none' penalties, got l1 penalty.\n",
            "\n",
            "  FitFailedWarning)\n",
            "/usr/local/lib/python3.6/dist-packages/sklearn/model_selection/_validation.py:536: FitFailedWarning: Estimator fit failed. The score on this train-test partition for these parameters will be set to nan. Details: \n",
            "ValueError: Solver lbfgs supports only 'l2' or 'none' penalties, got l1 penalty.\n",
            "\n",
            "  FitFailedWarning)\n",
            "/usr/local/lib/python3.6/dist-packages/sklearn/model_selection/_validation.py:536: FitFailedWarning: Estimator fit failed. The score on this train-test partition for these parameters will be set to nan. Details: \n",
            "ValueError: Solver lbfgs supports only 'l2' or 'none' penalties, got l1 penalty.\n",
            "\n",
            "  FitFailedWarning)\n",
            "/usr/local/lib/python3.6/dist-packages/sklearn/model_selection/_validation.py:536: FitFailedWarning: Estimator fit failed. The score on this train-test partition for these parameters will be set to nan. Details: \n",
            "ValueError: Solver lbfgs supports only 'l2' or 'none' penalties, got l1 penalty.\n",
            "\n",
            "  FitFailedWarning)\n",
            "/usr/local/lib/python3.6/dist-packages/sklearn/model_selection/_validation.py:536: FitFailedWarning: Estimator fit failed. The score on this train-test partition for these parameters will be set to nan. Details: \n",
            "ValueError: Solver lbfgs supports only 'l2' or 'none' penalties, got l1 penalty.\n",
            "\n",
            "  FitFailedWarning)\n",
            "/usr/local/lib/python3.6/dist-packages/sklearn/model_selection/_validation.py:536: FitFailedWarning: Estimator fit failed. The score on this train-test partition for these parameters will be set to nan. Details: \n",
            "ValueError: Solver lbfgs supports only 'l2' or 'none' penalties, got l1 penalty.\n",
            "\n",
            "  FitFailedWarning)\n"
          ],
          "name": "stderr"
        },
        {
          "output_type": "stream",
          "text": [
            "Tuned Logistic Regression Parameter: {'C': 2275.845926074791, 'penalty': 'l2'}\n",
            "Tuned Logistic Regression Accuracy: 0.7222222222222221\n"
          ],
          "name": "stdout"
        }
      ]
    },
    {
      "cell_type": "code",
      "metadata": {
        "id": "rKETp0NT5Qn9"
      },
      "source": [
        ""
      ],
      "execution_count": null,
      "outputs": []
    },
    {
      "cell_type": "code",
      "metadata": {
        "id": "aCjsfC2h5Qlg"
      },
      "source": [
        ""
      ],
      "execution_count": null,
      "outputs": []
    }
  ]
}