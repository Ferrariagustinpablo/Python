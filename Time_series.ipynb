{
  "nbformat": 4,
  "nbformat_minor": 0,
  "metadata": {
    "colab": {
      "name": "Time series.ipynb",
      "provenance": [],
      "toc_visible": true,
      "authorship_tag": "ABX9TyPAMschTJdK0SBN05tnrAg9",
      "include_colab_link": true
    },
    "kernelspec": {
      "name": "python3",
      "display_name": "Python 3"
    }
  },
  "cells": [
    {
      "cell_type": "markdown",
      "metadata": {
        "id": "view-in-github",
        "colab_type": "text"
      },
      "source": [
        "<a href=\"https://colab.research.google.com/github/Ferrariagustinpablo/Python-Machine-Learning-notebooks/blob/main/Time_series.ipynb\" target=\"_parent\"><img src=\"https://colab.research.google.com/assets/colab-badge.svg\" alt=\"Open In Colab\"/></a>"
      ]
    },
    {
      "cell_type": "markdown",
      "metadata": {
        "id": "mSi3IT7UI_SG"
      },
      "source": [
        "# Time Series"
      ]
    },
    {
      "cell_type": "markdown",
      "metadata": {
        "id": "Z78jDwb5Lb1K"
      },
      "source": [
        "## Plot time series in pandas with subplots"
      ]
    },
    {
      "cell_type": "code",
      "metadata": {
        "id": "NsnbptoiIITl"
      },
      "source": [
        "# Plot the time series in each dataset\n",
        "fig, axs = plt.subplots(2, 1, figsize=(5, 10))\n",
        "data.iloc[:1000].plot(x='time', y='data_values', ax=axs[0])\n",
        "data2.iloc[:1000].plot(x='time', y='data_values', ax=axs[1])\n",
        "plt.show()"
      ],
      "execution_count": null,
      "outputs": []
    },
    {
      "cell_type": "markdown",
      "metadata": {
        "id": "IQaOHNKiMWA4"
      },
      "source": [
        "Preparing data for scikit-learn.\n",
        "\n",
        "Need to have a particular shape (samples, features)\n",
        "\n",
        "Make sure data is at least two-dimensional.\n",
        "\n",
        "Make sure the first dimension is samples.\n",
        "\n",
        "If not, you should reshape.\n",
        "\n",
        "If axes are swaped: \n",
        "1- array.T.shape\n",
        "2- array.reshape([-1,1]).shape\n",
        "\n"
      ]
    },
    {
      "cell_type": "markdown",
      "metadata": {
        "id": "tsYnKR1sjBwZ"
      },
      "source": [
        "# Finance Time series"
      ]
    },
    {
      "cell_type": "markdown",
      "metadata": {
        "id": "tRobt8UXmpL_"
      },
      "source": [
        "## Importing from the web with pandas datareader"
      ]
    },
    {
      "cell_type": "code",
      "metadata": {
        "id": "1pwRoFAGlOSX",
        "colab": {
          "base_uri": "https://localhost:8080/",
          "height": 501
        },
        "outputId": "962bc773-aa7f-4b22-e10c-a6359d83d353"
      },
      "source": [
        "from pandas_datareader.data import DataReader\n",
        "from datetime import date # Date & time functionality\n",
        "\n",
        "start = date(2010,1,1)\n",
        "end = date(2019,12,31)\n",
        "ticker = ['GOOG', 'EBAY','AIG']\n",
        "data_source = 'yahoo'\n",
        "\n",
        "stock_data = DataReader(ticker,data_source,start,end)\n",
        "stock_data"
      ],
      "execution_count": null,
      "outputs": [
        {
          "output_type": "execute_result",
          "data": {
            "text/html": [
              "<div>\n",
              "<style scoped>\n",
              "    .dataframe tbody tr th:only-of-type {\n",
              "        vertical-align: middle;\n",
              "    }\n",
              "\n",
              "    .dataframe tbody tr th {\n",
              "        vertical-align: top;\n",
              "    }\n",
              "\n",
              "    .dataframe thead tr th {\n",
              "        text-align: left;\n",
              "    }\n",
              "\n",
              "    .dataframe thead tr:last-of-type th {\n",
              "        text-align: right;\n",
              "    }\n",
              "</style>\n",
              "<table border=\"1\" class=\"dataframe\">\n",
              "  <thead>\n",
              "    <tr>\n",
              "      <th>Attributes</th>\n",
              "      <th colspan=\"3\" halign=\"left\">Adj Close</th>\n",
              "      <th colspan=\"3\" halign=\"left\">Close</th>\n",
              "      <th colspan=\"3\" halign=\"left\">High</th>\n",
              "      <th colspan=\"3\" halign=\"left\">Low</th>\n",
              "      <th colspan=\"3\" halign=\"left\">Open</th>\n",
              "      <th colspan=\"3\" halign=\"left\">Volume</th>\n",
              "    </tr>\n",
              "    <tr>\n",
              "      <th>Symbols</th>\n",
              "      <th>GOOG</th>\n",
              "      <th>EBAY</th>\n",
              "      <th>AIG</th>\n",
              "      <th>GOOG</th>\n",
              "      <th>EBAY</th>\n",
              "      <th>AIG</th>\n",
              "      <th>GOOG</th>\n",
              "      <th>EBAY</th>\n",
              "      <th>AIG</th>\n",
              "      <th>GOOG</th>\n",
              "      <th>EBAY</th>\n",
              "      <th>AIG</th>\n",
              "      <th>GOOG</th>\n",
              "      <th>EBAY</th>\n",
              "      <th>AIG</th>\n",
              "      <th>GOOG</th>\n",
              "      <th>EBAY</th>\n",
              "      <th>AIG</th>\n",
              "    </tr>\n",
              "    <tr>\n",
              "      <th>Date</th>\n",
              "      <th></th>\n",
              "      <th></th>\n",
              "      <th></th>\n",
              "      <th></th>\n",
              "      <th></th>\n",
              "      <th></th>\n",
              "      <th></th>\n",
              "      <th></th>\n",
              "      <th></th>\n",
              "      <th></th>\n",
              "      <th></th>\n",
              "      <th></th>\n",
              "      <th></th>\n",
              "      <th></th>\n",
              "      <th></th>\n",
              "      <th></th>\n",
              "      <th></th>\n",
              "      <th></th>\n",
              "    </tr>\n",
              "  </thead>\n",
              "  <tbody>\n",
              "    <tr>\n",
              "      <th>2010-01-04</th>\n",
              "      <td>312.204773</td>\n",
              "      <td>9.799347</td>\n",
              "      <td>21.227238</td>\n",
              "      <td>312.204773</td>\n",
              "      <td>10.058923</td>\n",
              "      <td>29.889999</td>\n",
              "      <td>313.579620</td>\n",
              "      <td>10.092592</td>\n",
              "      <td>30.540001</td>\n",
              "      <td>310.954468</td>\n",
              "      <td>9.941077</td>\n",
              "      <td>29.410000</td>\n",
              "      <td>312.304413</td>\n",
              "      <td>9.983165</td>\n",
              "      <td>30.530001</td>\n",
              "      <td>3927000.0</td>\n",
              "      <td>22511600.0</td>\n",
              "      <td>7750900.0</td>\n",
              "    </tr>\n",
              "    <tr>\n",
              "      <th>2010-01-05</th>\n",
              "      <td>310.829926</td>\n",
              "      <td>9.696843</td>\n",
              "      <td>20.829538</td>\n",
              "      <td>310.829926</td>\n",
              "      <td>9.953704</td>\n",
              "      <td>29.330000</td>\n",
              "      <td>312.747742</td>\n",
              "      <td>10.058923</td>\n",
              "      <td>30.360001</td>\n",
              "      <td>309.609497</td>\n",
              "      <td>9.890573</td>\n",
              "      <td>29.150000</td>\n",
              "      <td>312.418976</td>\n",
              "      <td>10.012627</td>\n",
              "      <td>29.980000</td>\n",
              "      <td>6031900.0</td>\n",
              "      <td>26683100.0</td>\n",
              "      <td>8920500.0</td>\n",
              "    </tr>\n",
              "    <tr>\n",
              "      <th>2010-01-06</th>\n",
              "      <td>302.994293</td>\n",
              "      <td>9.635342</td>\n",
              "      <td>20.694601</td>\n",
              "      <td>302.994293</td>\n",
              "      <td>9.890573</td>\n",
              "      <td>29.139999</td>\n",
              "      <td>311.761444</td>\n",
              "      <td>10.016835</td>\n",
              "      <td>29.400000</td>\n",
              "      <td>302.047852</td>\n",
              "      <td>9.865320</td>\n",
              "      <td>28.760000</td>\n",
              "      <td>311.761444</td>\n",
              "      <td>9.945286</td>\n",
              "      <td>29.350000</td>\n",
              "      <td>7987100.0</td>\n",
              "      <td>26368600.0</td>\n",
              "      <td>7163500.0</td>\n",
              "    </tr>\n",
              "    <tr>\n",
              "      <th>2010-01-07</th>\n",
              "      <td>295.940735</td>\n",
              "      <td>9.524637</td>\n",
              "      <td>20.296906</td>\n",
              "      <td>295.940735</td>\n",
              "      <td>9.776936</td>\n",
              "      <td>28.580000</td>\n",
              "      <td>303.861053</td>\n",
              "      <td>9.886364</td>\n",
              "      <td>29.100000</td>\n",
              "      <td>295.218445</td>\n",
              "      <td>9.751683</td>\n",
              "      <td>28.270000</td>\n",
              "      <td>303.562164</td>\n",
              "      <td>9.886364</td>\n",
              "      <td>29.000000</td>\n",
              "      <td>12876600.0</td>\n",
              "      <td>25220000.0</td>\n",
              "      <td>9235500.0</td>\n",
              "    </tr>\n",
              "    <tr>\n",
              "      <th>2010-01-08</th>\n",
              "      <td>299.885956</td>\n",
              "      <td>9.639442</td>\n",
              "      <td>20.836636</td>\n",
              "      <td>299.885956</td>\n",
              "      <td>9.894781</td>\n",
              "      <td>29.340000</td>\n",
              "      <td>300.498657</td>\n",
              "      <td>9.949495</td>\n",
              "      <td>30.200001</td>\n",
              "      <td>293.455048</td>\n",
              "      <td>9.722222</td>\n",
              "      <td>28.610001</td>\n",
              "      <td>294.894653</td>\n",
              "      <td>9.760101</td>\n",
              "      <td>28.629999</td>\n",
              "      <td>9483900.0</td>\n",
              "      <td>30484000.0</td>\n",
              "      <td>12702600.0</td>\n",
              "    </tr>\n",
              "    <tr>\n",
              "      <th>...</th>\n",
              "      <td>...</td>\n",
              "      <td>...</td>\n",
              "      <td>...</td>\n",
              "      <td>...</td>\n",
              "      <td>...</td>\n",
              "      <td>...</td>\n",
              "      <td>...</td>\n",
              "      <td>...</td>\n",
              "      <td>...</td>\n",
              "      <td>...</td>\n",
              "      <td>...</td>\n",
              "      <td>...</td>\n",
              "      <td>...</td>\n",
              "      <td>...</td>\n",
              "      <td>...</td>\n",
              "      <td>...</td>\n",
              "      <td>...</td>\n",
              "      <td>...</td>\n",
              "    </tr>\n",
              "    <tr>\n",
              "      <th>2019-12-24</th>\n",
              "      <td>1343.560059</td>\n",
              "      <td>35.808384</td>\n",
              "      <td>49.244926</td>\n",
              "      <td>1343.560059</td>\n",
              "      <td>36.209999</td>\n",
              "      <td>50.939999</td>\n",
              "      <td>1350.260010</td>\n",
              "      <td>36.279999</td>\n",
              "      <td>51.450001</td>\n",
              "      <td>1342.780029</td>\n",
              "      <td>36.099998</td>\n",
              "      <td>50.790001</td>\n",
              "      <td>1348.500000</td>\n",
              "      <td>36.209999</td>\n",
              "      <td>50.790001</td>\n",
              "      <td>347500.0</td>\n",
              "      <td>2129200.0</td>\n",
              "      <td>1138600.0</td>\n",
              "    </tr>\n",
              "    <tr>\n",
              "      <th>2019-12-26</th>\n",
              "      <td>1360.400024</td>\n",
              "      <td>35.847939</td>\n",
              "      <td>48.935581</td>\n",
              "      <td>1360.400024</td>\n",
              "      <td>36.250000</td>\n",
              "      <td>50.619999</td>\n",
              "      <td>1361.327026</td>\n",
              "      <td>36.520000</td>\n",
              "      <td>51.189999</td>\n",
              "      <td>1344.469971</td>\n",
              "      <td>36.189999</td>\n",
              "      <td>50.570000</td>\n",
              "      <td>1346.170044</td>\n",
              "      <td>36.349998</td>\n",
              "      <td>51.049999</td>\n",
              "      <td>667500.0</td>\n",
              "      <td>4081900.0</td>\n",
              "      <td>2811100.0</td>\n",
              "    </tr>\n",
              "    <tr>\n",
              "      <th>2019-12-27</th>\n",
              "      <td>1351.890015</td>\n",
              "      <td>35.669937</td>\n",
              "      <td>49.370605</td>\n",
              "      <td>1351.890015</td>\n",
              "      <td>36.070000</td>\n",
              "      <td>51.070000</td>\n",
              "      <td>1364.530029</td>\n",
              "      <td>36.400002</td>\n",
              "      <td>51.080002</td>\n",
              "      <td>1349.310059</td>\n",
              "      <td>35.990002</td>\n",
              "      <td>50.580002</td>\n",
              "      <td>1362.989990</td>\n",
              "      <td>36.389999</td>\n",
              "      <td>50.759998</td>\n",
              "      <td>1038400.0</td>\n",
              "      <td>6606900.0</td>\n",
              "      <td>2374800.0</td>\n",
              "    </tr>\n",
              "    <tr>\n",
              "      <th>2019-12-30</th>\n",
              "      <td>1336.140015</td>\n",
              "      <td>35.402931</td>\n",
              "      <td>49.302933</td>\n",
              "      <td>1336.140015</td>\n",
              "      <td>35.799999</td>\n",
              "      <td>51.000000</td>\n",
              "      <td>1353.000000</td>\n",
              "      <td>36.209999</td>\n",
              "      <td>51.230000</td>\n",
              "      <td>1334.020020</td>\n",
              "      <td>35.709999</td>\n",
              "      <td>50.779999</td>\n",
              "      <td>1350.000000</td>\n",
              "      <td>36.169998</td>\n",
              "      <td>51.220001</td>\n",
              "      <td>1050900.0</td>\n",
              "      <td>6535800.0</td>\n",
              "      <td>2706300.0</td>\n",
              "    </tr>\n",
              "    <tr>\n",
              "      <th>2019-12-31</th>\n",
              "      <td>1337.020020</td>\n",
              "      <td>35.709496</td>\n",
              "      <td>49.621956</td>\n",
              "      <td>1337.020020</td>\n",
              "      <td>36.110001</td>\n",
              "      <td>51.330002</td>\n",
              "      <td>1338.000000</td>\n",
              "      <td>36.119999</td>\n",
              "      <td>51.369999</td>\n",
              "      <td>1329.084961</td>\n",
              "      <td>35.540001</td>\n",
              "      <td>50.880001</td>\n",
              "      <td>1330.109985</td>\n",
              "      <td>35.810001</td>\n",
              "      <td>51.000000</td>\n",
              "      <td>961800.0</td>\n",
              "      <td>7437700.0</td>\n",
              "      <td>2912500.0</td>\n",
              "    </tr>\n",
              "  </tbody>\n",
              "</table>\n",
              "<p>2516 rows × 18 columns</p>\n",
              "</div>"
            ],
            "text/plain": [
              "Attributes    Adj Close             ...      Volume            \n",
              "Symbols            GOOG       EBAY  ...        EBAY         AIG\n",
              "Date                                ...                        \n",
              "2010-01-04   312.204773   9.799347  ...  22511600.0   7750900.0\n",
              "2010-01-05   310.829926   9.696843  ...  26683100.0   8920500.0\n",
              "2010-01-06   302.994293   9.635342  ...  26368600.0   7163500.0\n",
              "2010-01-07   295.940735   9.524637  ...  25220000.0   9235500.0\n",
              "2010-01-08   299.885956   9.639442  ...  30484000.0  12702600.0\n",
              "...                 ...        ...  ...         ...         ...\n",
              "2019-12-24  1343.560059  35.808384  ...   2129200.0   1138600.0\n",
              "2019-12-26  1360.400024  35.847939  ...   4081900.0   2811100.0\n",
              "2019-12-27  1351.890015  35.669937  ...   6606900.0   2374800.0\n",
              "2019-12-30  1336.140015  35.402931  ...   6535800.0   2706300.0\n",
              "2019-12-31  1337.020020  35.709496  ...   7437700.0   2912500.0\n",
              "\n",
              "[2516 rows x 18 columns]"
            ]
          },
          "metadata": {
            "tags": []
          },
          "execution_count": 46
        }
      ]
    },
    {
      "cell_type": "code",
      "metadata": {
        "id": "741fssM7mw1d",
        "colab": {
          "base_uri": "https://localhost:8080/",
          "height": 824
        },
        "outputId": "b351ef2f-fb9c-418f-a9a5-ec3338361423"
      },
      "source": [
        "import matplotlib.pyplot as plt\n",
        "fig, axs = plt.subplots(2, 1, figsize=(10, 15))\n",
        "stock_data['Close']['GOOG'].plot(title='GOOG', ax=axs[0])\n",
        "stock_data['Close']['AIG'].plot(title='EBAY', ax=axs[1])\n",
        "plt.show()"
      ],
      "execution_count": null,
      "outputs": [
        {
          "output_type": "display_data",
          "data": {
            "image/png": "[encoded data removed]",
            "text/plain": [
              "<Figure size 720x1080 with 2 Axes>"
            ]
          },
          "metadata": {
            "tags": [],
            "needs_background": "light"
          }
        }
      ]
    },
    {
      "cell_type": "code",
      "metadata": {
        "id": "HlftJqj8pK1p",
        "colab": {
          "base_uri": "https://localhost:8080/",
          "height": 238
        },
        "outputId": "a1eba94b-7eb4-4191-961f-76b363c3c165"
      },
      "source": [
        "stock_data.info()"
      ],
      "execution_count": null,
      "outputs": [
        {
          "output_type": "stream",
          "text": [
            "<class 'pandas.core.frame.DataFrame'>\n",
            "DatetimeIndex: 504 entries, 2015-01-02 to 2016-12-30\n",
            "Data columns (total 6 columns):\n",
            " #   Column     Non-Null Count  Dtype  \n",
            "---  ------     --------------  -----  \n",
            " 0   High       504 non-null    float64\n",
            " 1   Low        504 non-null    float64\n",
            " 2   Open       504 non-null    float64\n",
            " 3   Close      504 non-null    float64\n",
            " 4   Volume     504 non-null    float64\n",
            " 5   Adj Close  504 non-null    float64\n",
            "dtypes: float64(6)\n",
            "memory usage: 27.6 KB\n"
          ],
          "name": "stdout"
        }
      ]
    },
    {
      "cell_type": "markdown",
      "metadata": {
        "id": "yZDaVepN3FZv"
      },
      "source": [
        "## What happends if we have missing data "
      ]
    },
    {
      "cell_type": "markdown",
      "metadata": {
        "id": "xbO_mpUq4PNj"
      },
      "source": [
        "If we have missing data inside time series period of interest.\n",
        "\n",
        "We should replace NaN into values, so data keeps a continuous form.\n",
        "\n"
      ]
    },
    {
      "cell_type": "code",
      "metadata": {
        "id": "EZd9K4fL3J7q"
      },
      "source": [
        "# First we count missing values.\n",
        "\n",
        "# Count the missing values of each time series\n",
        "missing_values = df.isna().sum()\n",
        "print(missing_values)\n",
        "\n",
        "# When you have missing data points, how can you fill them in?\n",
        "# There are different interpolation methods to fill in some missing values\n",
        "# First will create the function interpolate_and_plot()\n",
        "\n",
        "# Create a function we'll use to interpolate and plot\n",
        "def interpolate_and_plot(df, interpolation_type):\n",
        "\n",
        "    # Create a boolean mask for missing values\n",
        "    missing_values = df.isna()\n",
        "\n",
        "    # Interpolate the missing values\n",
        "    df_interp = df.interpolate(interpolation_type)\n",
        "\n",
        "    # Plot the results, highlighting the interpolated values in black\n",
        "    fig, ax = plt.subplots(figsize=(10, 5))\n",
        "    df_interp.plot(color='k', alpha=.6, ax=ax, legend=False)\n",
        "    \n",
        "    # Now plot the interpolated values on top in red\n",
        "    df_interp[missing_values].plot(ax=ax, color='r', lw=3, legend=False)\n",
        "    plt.show()\n",
        "\n",
        "\n",
        "# Interpolate using the latest non-missing value\n",
        "interpolation_type = 'linear'\n",
        "interpolate_and_plot(df, interpolation_type)"
      ],
      "execution_count": null,
      "outputs": []
    },
    {
      "cell_type": "markdown",
      "metadata": {
        "id": "Mw-gVyaQ-0SQ"
      },
      "source": [
        "In this exercise, you will define a function that calculates the percent change of the latest data point from the mean of a window of previous data points. This function will help you calculate the percent change over a rolling window.\n",
        "\n",
        "This is a more stable kind of time series that is often useful in machine learning."
      ]
    },
    {
      "cell_type": "code",
      "metadata": {
        "id": "4Q8xLnZl9kzL"
      },
      "source": [
        "\n",
        "# Your custom function\n",
        "def percent_change(series):\n",
        "    # Collect all *but* the last value of this window, then the final value\n",
        "    previous_values = series[:-1]\n",
        "    last_value = series[-1]\n",
        "\n",
        "    # Calculate the % difference between the last value and the mean of earlier values\n",
        "    percent_change = (last_value - np.mean(previous_values)) / np.mean(previous_values)\n",
        "    return percent_change\n",
        "\n",
        "# Apply your custom function and plot\n",
        "df_perc = df.rolling(20).apply(percent_change)\n",
        "df_perc.loc[\"2014\":\"2015\"].plot()\n",
        "plt.show()"
      ],
      "execution_count": null,
      "outputs": []
    },
    {
      "cell_type": "markdown",
      "metadata": {
        "id": "5564a0-y_VFN"
      },
      "source": [
        "## Handling outliers"
      ]
    },
    {
      "cell_type": "markdown",
      "metadata": {
        "id": "hezU3Vjp_W_w"
      },
      "source": [
        "In this exercise, you'll handle outliers - data points that are so different from the rest of your data, that you treat them differently from other \"normal-looking\" data points. You'll use the output from the previous exercise (percent change over time) to detect the outliers. First you will write a function that replaces outlier data points with the median value from the entire time series."
      ]
    },
    {
      "cell_type": "code",
      "metadata": {
        "id": "P30r7zCw_wpV"
      },
      "source": [
        "def replace_outliers(series):\n",
        "    # Calculate the absolute difference of each timepoint from the series mean\n",
        "    absolute_differences_from_mean = np.abs(series - np.mean(series))\n",
        "\n",
        "    # Calculate a mask for the differences that are > 3 standard deviations from the mean\n",
        "    this_mask = absolute_differences_from_mean > (np.std(series) * 3)\n",
        "    \n",
        "    # Replace these values with the median accross the data\n",
        "    series[this_mask] = np.nanmedian(series)\n",
        "    return series\n",
        "\n",
        "# Apply your preprocessing function to the timeseries and plot the results\n",
        "df_perc = df_perc.apply(replace_outliers)\n",
        "df_perc.loc[\"2014\":\"2015\"].plot()\n",
        "plt.show()"
      ],
      "execution_count": null,
      "outputs": []
    },
    {
      "cell_type": "markdown",
      "metadata": {
        "id": "Ge8Ps3ysBNcO"
      },
      "source": [
        "# Creating features over time\n"
      ]
    },
    {
      "cell_type": "markdown",
      "metadata": {
        "id": "yh_9qYeqG0FS"
      },
      "source": [
        "### Aggregating different statistical method"
      ]
    },
    {
      "cell_type": "markdown",
      "metadata": {
        "id": "M059Gd1eD0ZV"
      },
      "source": [
        "using aggregate method\n",
        "\n",
        "A useful tool when using the .aggregate method is the partial function from functool.\n",
        "\n",
        "np.percentile(df, q=20). Here q= 20 means 20%. Gives the value that is higher than 20% of values."
      ]
    },
    {
      "cell_type": "code",
      "metadata": {
        "id": "wvd3RhVqK8hX"
      },
      "source": [
        "# Define a rolling window with Pandas, excluding the right-most datapoint of the window\n",
        "prices_perc_rolling = prices_perc.rolling(20, min_periods=5, closed='right')\n",
        "\n",
        "# Define the features you'll calculate for each window\n",
        "features_to_calculate = [np.min, np.max, np.mean, np.std]\n",
        "\n",
        "# Calculate these features for your rolling window object\n",
        "features = prices_perc_rolling.aggregate(features_to_calculate)\n",
        "\n",
        "# Plot the results\n",
        "ax = features.loc[:\"2011-01\"].plot()\n",
        "prices_perc.loc[:\"2011-01\"].plot(ax=ax, color='k', alpha=.2, lw=3)\n",
        "ax.legend(loc=(1.01, .6))\n",
        "plt.show()"
      ],
      "execution_count": null,
      "outputs": []
    },
    {
      "cell_type": "markdown",
      "metadata": {
        "id": "vqF_zAACLJwP"
      },
      "source": [
        "to calculate several percentiles of your data using the same percentile() function in numpy."
      ]
    },
    {
      "cell_type": "code",
      "metadata": {
        "id": "uD0Icl9ILKiz"
      },
      "source": [
        "# Import partial from functools\n",
        "from functools import partial\n",
        "percentiles = [1, 10, 25, 50, 75, 90, 99]\n",
        "\n",
        "# Use a list comprehension to create a partial function for each quantile\n",
        "percentile_functions = [partial(np.percentile, q=percentile) for percentile in percentiles]\n",
        "\n",
        "# Calculate each of these quantiles on the data using a rolling window\n",
        "prices_perc_rolling = prices_perc.rolling(20, min_periods=5, closed='right')\n",
        "features_percentiles = prices_perc_rolling.aggregate(percentile_functions)\n",
        "\n",
        "# Plot a subset of the result\n",
        "ax = features_percentiles.loc[:\"2011-01\"].plot(cmap=plt.cm.viridis)\n",
        "ax.legend(percentiles, loc=(1.01, .5))\n",
        "plt.show()"
      ],
      "execution_count": null,
      "outputs": []
    },
    {
      "cell_type": "markdown",
      "metadata": {
        "id": "JwerZlPYF-Sk"
      },
      "source": [
        "### Calculating 'date-based' features\n",
        "\n",
        "Beyond statistical features like mean,. median, standard deviation, there is really important data asociated with timeseries. Theses are oftern more **'human' features** like days of the week, holidays, and others.\n",
        "\n",
        "\n"
      ]
    },
    {
      "cell_type": "markdown",
      "metadata": {
        "id": "8azQ7faJLjvv"
      },
      "source": [
        "\"is it a weekday?\" or \"is it a holiday?\". This information is often useful in predicting timeseries data."
      ]
    },
    {
      "cell_type": "code",
      "metadata": {
        "id": "tfOJylRvQg9U",
        "colab": {
          "base_uri": "https://localhost:8080/",
          "height": 481
        },
        "outputId": "93361353-4b15-449f-a2da-2a34d1bcd41f"
      },
      "source": [
        "from pandas_datareader.data import DataReader\n",
        "from datetime import date # Date & time functionality\n",
        "\n",
        "start = date(2010,1,1)\n",
        "end = date(2019,12,31)\n",
        "ticker = ['GOOG']\n",
        "data_source = 'yahoo'\n",
        "\n",
        "stock_data = DataReader(ticker,data_source,start,end)\n",
        "stock_data"
      ],
      "execution_count": null,
      "outputs": [
        {
          "output_type": "execute_result",
          "data": {
            "text/html": [
              "<div>\n",
              "<style scoped>\n",
              "    .dataframe tbody tr th:only-of-type {\n",
              "        vertical-align: middle;\n",
              "    }\n",
              "\n",
              "    .dataframe tbody tr th {\n",
              "        vertical-align: top;\n",
              "    }\n",
              "\n",
              "    .dataframe thead tr th {\n",
              "        text-align: left;\n",
              "    }\n",
              "\n",
              "    .dataframe thead tr:last-of-type th {\n",
              "        text-align: right;\n",
              "    }\n",
              "</style>\n",
              "<table border=\"1\" class=\"dataframe\">\n",
              "  <thead>\n",
              "    <tr>\n",
              "      <th>Attributes</th>\n",
              "      <th>Adj Close</th>\n",
              "      <th>Close</th>\n",
              "      <th>High</th>\n",
              "      <th>Low</th>\n",
              "      <th>Open</th>\n",
              "      <th>Volume</th>\n",
              "    </tr>\n",
              "    <tr>\n",
              "      <th>Symbols</th>\n",
              "      <th>GOOG</th>\n",
              "      <th>GOOG</th>\n",
              "      <th>GOOG</th>\n",
              "      <th>GOOG</th>\n",
              "      <th>GOOG</th>\n",
              "      <th>GOOG</th>\n",
              "    </tr>\n",
              "    <tr>\n",
              "      <th>Date</th>\n",
              "      <th></th>\n",
              "      <th></th>\n",
              "      <th></th>\n",
              "      <th></th>\n",
              "      <th></th>\n",
              "      <th></th>\n",
              "    </tr>\n",
              "  </thead>\n",
              "  <tbody>\n",
              "    <tr>\n",
              "      <th>2010-01-04</th>\n",
              "      <td>312.204773</td>\n",
              "      <td>312.204773</td>\n",
              "      <td>313.579620</td>\n",
              "      <td>310.954468</td>\n",
              "      <td>312.304413</td>\n",
              "      <td>3927000.0</td>\n",
              "    </tr>\n",
              "    <tr>\n",
              "      <th>2010-01-05</th>\n",
              "      <td>310.829926</td>\n",
              "      <td>310.829926</td>\n",
              "      <td>312.747742</td>\n",
              "      <td>309.609497</td>\n",
              "      <td>312.418976</td>\n",
              "      <td>6031900.0</td>\n",
              "    </tr>\n",
              "    <tr>\n",
              "      <th>2010-01-06</th>\n",
              "      <td>302.994293</td>\n",
              "      <td>302.994293</td>\n",
              "      <td>311.761444</td>\n",
              "      <td>302.047852</td>\n",
              "      <td>311.761444</td>\n",
              "      <td>7987100.0</td>\n",
              "    </tr>\n",
              "    <tr>\n",
              "      <th>2010-01-07</th>\n",
              "      <td>295.940735</td>\n",
              "      <td>295.940735</td>\n",
              "      <td>303.861053</td>\n",
              "      <td>295.218445</td>\n",
              "      <td>303.562164</td>\n",
              "      <td>12876600.0</td>\n",
              "    </tr>\n",
              "    <tr>\n",
              "      <th>2010-01-08</th>\n",
              "      <td>299.885956</td>\n",
              "      <td>299.885956</td>\n",
              "      <td>300.498657</td>\n",
              "      <td>293.455048</td>\n",
              "      <td>294.894653</td>\n",
              "      <td>9483900.0</td>\n",
              "    </tr>\n",
              "    <tr>\n",
              "      <th>...</th>\n",
              "      <td>...</td>\n",
              "      <td>...</td>\n",
              "      <td>...</td>\n",
              "      <td>...</td>\n",
              "      <td>...</td>\n",
              "      <td>...</td>\n",
              "    </tr>\n",
              "    <tr>\n",
              "      <th>2019-12-24</th>\n",
              "      <td>1343.560059</td>\n",
              "      <td>1343.560059</td>\n",
              "      <td>1350.260010</td>\n",
              "      <td>1342.780029</td>\n",
              "      <td>1348.500000</td>\n",
              "      <td>347500.0</td>\n",
              "    </tr>\n",
              "    <tr>\n",
              "      <th>2019-12-26</th>\n",
              "      <td>1360.400024</td>\n",
              "      <td>1360.400024</td>\n",
              "      <td>1361.327026</td>\n",
              "      <td>1344.469971</td>\n",
              "      <td>1346.170044</td>\n",
              "      <td>667500.0</td>\n",
              "    </tr>\n",
              "    <tr>\n",
              "      <th>2019-12-27</th>\n",
              "      <td>1351.890015</td>\n",
              "      <td>1351.890015</td>\n",
              "      <td>1364.530029</td>\n",
              "      <td>1349.310059</td>\n",
              "      <td>1362.989990</td>\n",
              "      <td>1038400.0</td>\n",
              "    </tr>\n",
              "    <tr>\n",
              "      <th>2019-12-30</th>\n",
              "      <td>1336.140015</td>\n",
              "      <td>1336.140015</td>\n",
              "      <td>1353.000000</td>\n",
              "      <td>1334.020020</td>\n",
              "      <td>1350.000000</td>\n",
              "      <td>1050900.0</td>\n",
              "    </tr>\n",
              "    <tr>\n",
              "      <th>2019-12-31</th>\n",
              "      <td>1337.020020</td>\n",
              "      <td>1337.020020</td>\n",
              "      <td>1338.000000</td>\n",
              "      <td>1329.084961</td>\n",
              "      <td>1330.109985</td>\n",
              "      <td>961800.0</td>\n",
              "    </tr>\n",
              "  </tbody>\n",
              "</table>\n",
              "<p>2516 rows × 6 columns</p>\n",
              "</div>"
            ],
            "text/plain": [
              "Attributes    Adj Close        Close  ...         Open      Volume\n",
              "Symbols            GOOG         GOOG  ...         GOOG        GOOG\n",
              "Date                                  ...                         \n",
              "2010-01-04   312.204773   312.204773  ...   312.304413   3927000.0\n",
              "2010-01-05   310.829926   310.829926  ...   312.418976   6031900.0\n",
              "2010-01-06   302.994293   302.994293  ...   311.761444   7987100.0\n",
              "2010-01-07   295.940735   295.940735  ...   303.562164  12876600.0\n",
              "2010-01-08   299.885956   299.885956  ...   294.894653   9483900.0\n",
              "...                 ...          ...  ...          ...         ...\n",
              "2019-12-24  1343.560059  1343.560059  ...  1348.500000    347500.0\n",
              "2019-12-26  1360.400024  1360.400024  ...  1346.170044    667500.0\n",
              "2019-12-27  1351.890015  1351.890015  ...  1362.989990   1038400.0\n",
              "2019-12-30  1336.140015  1336.140015  ...  1350.000000   1050900.0\n",
              "2019-12-31  1337.020020  1337.020020  ...  1330.109985    961800.0\n",
              "\n",
              "[2516 rows x 6 columns]"
            ]
          },
          "metadata": {
            "tags": []
          },
          "execution_count": 55
        }
      ]
    },
    {
      "cell_type": "code",
      "metadata": {
        "id": "sF64JYCLLyYM",
        "colab": {
          "base_uri": "https://localhost:8080/",
          "height": 235
        },
        "outputId": "16dcd4c5-b764-45f0-8b30-3672e0f44029"
      },
      "source": [
        "# Don't forget to MAKE a COPY!!!!\n",
        "\n",
        "d = stock_data.drop(['Adj Close','High','Low','Open','Volume'],axis=1)\n",
        "df = d.copy()\n",
        "df.unstack()\n",
        "df.columns = df.columns.droplevel(level=0)\n",
        "df.head()"
      ],
      "execution_count": null,
      "outputs": [
        {
          "output_type": "execute_result",
          "data": {
            "text/html": [
              "<div>\n",
              "<style scoped>\n",
              "    .dataframe tbody tr th:only-of-type {\n",
              "        vertical-align: middle;\n",
              "    }\n",
              "\n",
              "    .dataframe tbody tr th {\n",
              "        vertical-align: top;\n",
              "    }\n",
              "\n",
              "    .dataframe thead th {\n",
              "        text-align: right;\n",
              "    }\n",
              "</style>\n",
              "<table border=\"1\" class=\"dataframe\">\n",
              "  <thead>\n",
              "    <tr style=\"text-align: right;\">\n",
              "      <th>Symbols</th>\n",
              "      <th>GOOG</th>\n",
              "    </tr>\n",
              "    <tr>\n",
              "      <th>Date</th>\n",
              "      <th></th>\n",
              "    </tr>\n",
              "  </thead>\n",
              "  <tbody>\n",
              "    <tr>\n",
              "      <th>2010-01-04</th>\n",
              "      <td>312.204773</td>\n",
              "    </tr>\n",
              "    <tr>\n",
              "      <th>2010-01-05</th>\n",
              "      <td>310.829926</td>\n",
              "    </tr>\n",
              "    <tr>\n",
              "      <th>2010-01-06</th>\n",
              "      <td>302.994293</td>\n",
              "    </tr>\n",
              "    <tr>\n",
              "      <th>2010-01-07</th>\n",
              "      <td>295.940735</td>\n",
              "    </tr>\n",
              "    <tr>\n",
              "      <th>2010-01-08</th>\n",
              "      <td>299.885956</td>\n",
              "    </tr>\n",
              "  </tbody>\n",
              "</table>\n",
              "</div>"
            ],
            "text/plain": [
              "Symbols           GOOG\n",
              "Date                  \n",
              "2010-01-04  312.204773\n",
              "2010-01-05  310.829926\n",
              "2010-01-06  302.994293\n",
              "2010-01-07  295.940735\n",
              "2010-01-08  299.885956"
            ]
          },
          "metadata": {
            "tags": []
          },
          "execution_count": 110
        }
      ]
    },
    {
      "cell_type": "code",
      "metadata": {
        "id": "PuUzGKCpV9w9",
        "colab": {
          "base_uri": "https://localhost:8080/",
          "height": 450
        },
        "outputId": "d6daea7c-afa4-45c0-9979-f5debd9a8955"
      },
      "source": [
        "# Extract date features from the data, add them as columns\n",
        "df['day_of_week'] = df.index.dayofweek\n",
        "df['week_of_year'] = df.index.weekofyear\n",
        "df['month_of_year'] = df.index.month\n",
        "\n",
        "# Print prices_perc\n",
        "df"
      ],
      "execution_count": null,
      "outputs": [
        {
          "output_type": "execute_result",
          "data": {
            "text/html": [
              "<div>\n",
              "<style scoped>\n",
              "    .dataframe tbody tr th:only-of-type {\n",
              "        vertical-align: middle;\n",
              "    }\n",
              "\n",
              "    .dataframe tbody tr th {\n",
              "        vertical-align: top;\n",
              "    }\n",
              "\n",
              "    .dataframe thead th {\n",
              "        text-align: right;\n",
              "    }\n",
              "</style>\n",
              "<table border=\"1\" class=\"dataframe\">\n",
              "  <thead>\n",
              "    <tr style=\"text-align: right;\">\n",
              "      <th>Symbols</th>\n",
              "      <th>GOOG</th>\n",
              "      <th>day_of_week</th>\n",
              "      <th>week_of_year</th>\n",
              "      <th>month_of_year</th>\n",
              "    </tr>\n",
              "    <tr>\n",
              "      <th>Date</th>\n",
              "      <th></th>\n",
              "      <th></th>\n",
              "      <th></th>\n",
              "      <th></th>\n",
              "    </tr>\n",
              "  </thead>\n",
              "  <tbody>\n",
              "    <tr>\n",
              "      <th>2010-01-04</th>\n",
              "      <td>312.204773</td>\n",
              "      <td>0</td>\n",
              "      <td>1</td>\n",
              "      <td>1</td>\n",
              "    </tr>\n",
              "    <tr>\n",
              "      <th>2010-01-05</th>\n",
              "      <td>310.829926</td>\n",
              "      <td>1</td>\n",
              "      <td>1</td>\n",
              "      <td>1</td>\n",
              "    </tr>\n",
              "    <tr>\n",
              "      <th>2010-01-06</th>\n",
              "      <td>302.994293</td>\n",
              "      <td>2</td>\n",
              "      <td>1</td>\n",
              "      <td>1</td>\n",
              "    </tr>\n",
              "    <tr>\n",
              "      <th>2010-01-07</th>\n",
              "      <td>295.940735</td>\n",
              "      <td>3</td>\n",
              "      <td>1</td>\n",
              "      <td>1</td>\n",
              "    </tr>\n",
              "    <tr>\n",
              "      <th>2010-01-08</th>\n",
              "      <td>299.885956</td>\n",
              "      <td>4</td>\n",
              "      <td>1</td>\n",
              "      <td>1</td>\n",
              "    </tr>\n",
              "    <tr>\n",
              "      <th>...</th>\n",
              "      <td>...</td>\n",
              "      <td>...</td>\n",
              "      <td>...</td>\n",
              "      <td>...</td>\n",
              "    </tr>\n",
              "    <tr>\n",
              "      <th>2019-12-24</th>\n",
              "      <td>1343.560059</td>\n",
              "      <td>1</td>\n",
              "      <td>52</td>\n",
              "      <td>12</td>\n",
              "    </tr>\n",
              "    <tr>\n",
              "      <th>2019-12-26</th>\n",
              "      <td>1360.400024</td>\n",
              "      <td>3</td>\n",
              "      <td>52</td>\n",
              "      <td>12</td>\n",
              "    </tr>\n",
              "    <tr>\n",
              "      <th>2019-12-27</th>\n",
              "      <td>1351.890015</td>\n",
              "      <td>4</td>\n",
              "      <td>52</td>\n",
              "      <td>12</td>\n",
              "    </tr>\n",
              "    <tr>\n",
              "      <th>2019-12-30</th>\n",
              "      <td>1336.140015</td>\n",
              "      <td>0</td>\n",
              "      <td>1</td>\n",
              "      <td>12</td>\n",
              "    </tr>\n",
              "    <tr>\n",
              "      <th>2019-12-31</th>\n",
              "      <td>1337.020020</td>\n",
              "      <td>1</td>\n",
              "      <td>1</td>\n",
              "      <td>12</td>\n",
              "    </tr>\n",
              "  </tbody>\n",
              "</table>\n",
              "<p>2516 rows × 4 columns</p>\n",
              "</div>"
            ],
            "text/plain": [
              "Symbols            GOOG  day_of_week  week_of_year  month_of_year\n",
              "Date                                                             \n",
              "2010-01-04   312.204773            0             1              1\n",
              "2010-01-05   310.829926            1             1              1\n",
              "2010-01-06   302.994293            2             1              1\n",
              "2010-01-07   295.940735            3             1              1\n",
              "2010-01-08   299.885956            4             1              1\n",
              "...                 ...          ...           ...            ...\n",
              "2019-12-24  1343.560059            1            52             12\n",
              "2019-12-26  1360.400024            3            52             12\n",
              "2019-12-27  1351.890015            4            52             12\n",
              "2019-12-30  1336.140015            0             1             12\n",
              "2019-12-31  1337.020020            1             1             12\n",
              "\n",
              "[2516 rows x 4 columns]"
            ]
          },
          "metadata": {
            "tags": []
          },
          "execution_count": 112
        }
      ]
    },
    {
      "cell_type": "markdown",
      "metadata": {
        "id": "PJV7k_nGW92U"
      },
      "source": [
        "# Time-delayed features and auto-regressive models"
      ]
    },
    {
      "cell_type": "markdown",
      "metadata": {
        "id": "8TdIHYOwXwTR"
      },
      "source": [
        "## Creating time-lagged features\n",
        "\n",
        "Let's see how we could build a model that uses values in the past as input features\n",
        "\n"
      ]
    },
    {
      "cell_type": "code",
      "metadata": {
        "id": "teFnKxVgXrkQ",
        "colab": {
          "base_uri": "https://localhost:8080/",
          "height": 450
        },
        "outputId": "b05c7b8d-077f-4944-8af9-babbba386905"
      },
      "source": [
        "# Create a time shifting data for 3 days.\n",
        "\n",
        "df.shift(3)"
      ],
      "execution_count": null,
      "outputs": [
        {
          "output_type": "execute_result",
          "data": {
            "text/html": [
              "<div>\n",
              "<style scoped>\n",
              "    .dataframe tbody tr th:only-of-type {\n",
              "        vertical-align: middle;\n",
              "    }\n",
              "\n",
              "    .dataframe tbody tr th {\n",
              "        vertical-align: top;\n",
              "    }\n",
              "\n",
              "    .dataframe thead th {\n",
              "        text-align: right;\n",
              "    }\n",
              "</style>\n",
              "<table border=\"1\" class=\"dataframe\">\n",
              "  <thead>\n",
              "    <tr style=\"text-align: right;\">\n",
              "      <th>Symbols</th>\n",
              "      <th>GOOG</th>\n",
              "      <th>day_of_week</th>\n",
              "      <th>week_of_year</th>\n",
              "      <th>month_of_year</th>\n",
              "    </tr>\n",
              "    <tr>\n",
              "      <th>Date</th>\n",
              "      <th></th>\n",
              "      <th></th>\n",
              "      <th></th>\n",
              "      <th></th>\n",
              "    </tr>\n",
              "  </thead>\n",
              "  <tbody>\n",
              "    <tr>\n",
              "      <th>2010-01-04</th>\n",
              "      <td>NaN</td>\n",
              "      <td>NaN</td>\n",
              "      <td>NaN</td>\n",
              "      <td>NaN</td>\n",
              "    </tr>\n",
              "    <tr>\n",
              "      <th>2010-01-05</th>\n",
              "      <td>NaN</td>\n",
              "      <td>NaN</td>\n",
              "      <td>NaN</td>\n",
              "      <td>NaN</td>\n",
              "    </tr>\n",
              "    <tr>\n",
              "      <th>2010-01-06</th>\n",
              "      <td>NaN</td>\n",
              "      <td>NaN</td>\n",
              "      <td>NaN</td>\n",
              "      <td>NaN</td>\n",
              "    </tr>\n",
              "    <tr>\n",
              "      <th>2010-01-07</th>\n",
              "      <td>312.204773</td>\n",
              "      <td>0.0</td>\n",
              "      <td>1.0</td>\n",
              "      <td>1.0</td>\n",
              "    </tr>\n",
              "    <tr>\n",
              "      <th>2010-01-08</th>\n",
              "      <td>310.829926</td>\n",
              "      <td>1.0</td>\n",
              "      <td>1.0</td>\n",
              "      <td>1.0</td>\n",
              "    </tr>\n",
              "    <tr>\n",
              "      <th>...</th>\n",
              "      <td>...</td>\n",
              "      <td>...</td>\n",
              "      <td>...</td>\n",
              "      <td>...</td>\n",
              "    </tr>\n",
              "    <tr>\n",
              "      <th>2019-12-24</th>\n",
              "      <td>1356.040039</td>\n",
              "      <td>3.0</td>\n",
              "      <td>51.0</td>\n",
              "      <td>12.0</td>\n",
              "    </tr>\n",
              "    <tr>\n",
              "      <th>2019-12-26</th>\n",
              "      <td>1349.589966</td>\n",
              "      <td>4.0</td>\n",
              "      <td>51.0</td>\n",
              "      <td>12.0</td>\n",
              "    </tr>\n",
              "    <tr>\n",
              "      <th>2019-12-27</th>\n",
              "      <td>1348.839966</td>\n",
              "      <td>0.0</td>\n",
              "      <td>52.0</td>\n",
              "      <td>12.0</td>\n",
              "    </tr>\n",
              "    <tr>\n",
              "      <th>2019-12-30</th>\n",
              "      <td>1343.560059</td>\n",
              "      <td>1.0</td>\n",
              "      <td>52.0</td>\n",
              "      <td>12.0</td>\n",
              "    </tr>\n",
              "    <tr>\n",
              "      <th>2019-12-31</th>\n",
              "      <td>1360.400024</td>\n",
              "      <td>3.0</td>\n",
              "      <td>52.0</td>\n",
              "      <td>12.0</td>\n",
              "    </tr>\n",
              "  </tbody>\n",
              "</table>\n",
              "<p>2516 rows × 4 columns</p>\n",
              "</div>"
            ],
            "text/plain": [
              "Symbols            GOOG  day_of_week  week_of_year  month_of_year\n",
              "Date                                                             \n",
              "2010-01-04          NaN          NaN           NaN            NaN\n",
              "2010-01-05          NaN          NaN           NaN            NaN\n",
              "2010-01-06          NaN          NaN           NaN            NaN\n",
              "2010-01-07   312.204773          0.0           1.0            1.0\n",
              "2010-01-08   310.829926          1.0           1.0            1.0\n",
              "...                 ...          ...           ...            ...\n",
              "2019-12-24  1356.040039          3.0          51.0           12.0\n",
              "2019-12-26  1349.589966          4.0          51.0           12.0\n",
              "2019-12-27  1348.839966          0.0          52.0           12.0\n",
              "2019-12-30  1343.560059          1.0          52.0           12.0\n",
              "2019-12-31  1360.400024          3.0          52.0           12.0\n",
              "\n",
              "[2516 rows x 4 columns]"
            ]
          },
          "metadata": {
            "tags": []
          },
          "execution_count": 113
        }
      ]
    },
    {
      "cell_type": "code",
      "metadata": {
        "id": "kBsTILq1bTPc",
        "colab": {
          "base_uri": "https://localhost:8080/",
          "height": 170
        },
        "outputId": "14e8088a-b688-4758-ecb9-86ac2da4c1c6"
      },
      "source": [
        "data.describe()"
      ],
      "execution_count": null,
      "outputs": [
        {
          "output_type": "execute_result",
          "data": {
            "text/plain": [
              "count    2516.000000\n",
              "mean      643.921354\n",
              "std       325.706384\n",
              "min       217.220810\n",
              "25%       316.365440\n",
              "50%       562.994751\n",
              "75%       929.412491\n",
              "max      1361.170044\n",
              "Name: GOOG, dtype: float64"
            ]
          },
          "metadata": {
            "tags": []
          },
          "execution_count": 125
        }
      ]
    },
    {
      "cell_type": "code",
      "metadata": {
        "id": "NPklQBxxXBOH",
        "colab": {
          "base_uri": "https://localhost:8080/",
          "height": 620
        },
        "outputId": "4ca15a74-8d5b-4ece-9367-64e746716ffb"
      },
      "source": [
        "# Create a time-shifted DataFrame\n",
        "\n",
        "data = df.GOOG\n",
        "\n",
        "shifts = [0,1,2,3,4,5,6,7]\n",
        "\n",
        "many_shifts = {'lag_{}'.format(number): data.shift(number) for number in shifts}\n",
        "\n",
        "many_shifts = pd.DataFrame(many_shifts)\n",
        "\n",
        "many_shifts"
      ],
      "execution_count": null,
      "outputs": [
        {
          "output_type": "execute_result",
          "data": {
            "text/html": [
              "<div>\n",
              "<style scoped>\n",
              "    .dataframe tbody tr th:only-of-type {\n",
              "        vertical-align: middle;\n",
              "    }\n",
              "\n",
              "    .dataframe tbody tr th {\n",
              "        vertical-align: top;\n",
              "    }\n",
              "\n",
              "    .dataframe thead th {\n",
              "        text-align: right;\n",
              "    }\n",
              "</style>\n",
              "<table border=\"1\" class=\"dataframe\">\n",
              "  <thead>\n",
              "    <tr style=\"text-align: right;\">\n",
              "      <th></th>\n",
              "      <th>lag_0</th>\n",
              "      <th>lag_1</th>\n",
              "      <th>lag_2</th>\n",
              "      <th>lag_3</th>\n",
              "      <th>lag_4</th>\n",
              "      <th>lag_5</th>\n",
              "      <th>lag_6</th>\n",
              "      <th>lag_7</th>\n",
              "    </tr>\n",
              "    <tr>\n",
              "      <th>Date</th>\n",
              "      <th></th>\n",
              "      <th></th>\n",
              "      <th></th>\n",
              "      <th></th>\n",
              "      <th></th>\n",
              "      <th></th>\n",
              "      <th></th>\n",
              "      <th></th>\n",
              "    </tr>\n",
              "  </thead>\n",
              "  <tbody>\n",
              "    <tr>\n",
              "      <th>2010-01-04</th>\n",
              "      <td>312.204773</td>\n",
              "      <td>NaN</td>\n",
              "      <td>NaN</td>\n",
              "      <td>NaN</td>\n",
              "      <td>NaN</td>\n",
              "      <td>NaN</td>\n",
              "      <td>NaN</td>\n",
              "      <td>NaN</td>\n",
              "    </tr>\n",
              "    <tr>\n",
              "      <th>2010-01-05</th>\n",
              "      <td>310.829926</td>\n",
              "      <td>312.204773</td>\n",
              "      <td>NaN</td>\n",
              "      <td>NaN</td>\n",
              "      <td>NaN</td>\n",
              "      <td>NaN</td>\n",
              "      <td>NaN</td>\n",
              "      <td>NaN</td>\n",
              "    </tr>\n",
              "    <tr>\n",
              "      <th>2010-01-06</th>\n",
              "      <td>302.994293</td>\n",
              "      <td>310.829926</td>\n",
              "      <td>312.204773</td>\n",
              "      <td>NaN</td>\n",
              "      <td>NaN</td>\n",
              "      <td>NaN</td>\n",
              "      <td>NaN</td>\n",
              "      <td>NaN</td>\n",
              "    </tr>\n",
              "    <tr>\n",
              "      <th>2010-01-07</th>\n",
              "      <td>295.940735</td>\n",
              "      <td>302.994293</td>\n",
              "      <td>310.829926</td>\n",
              "      <td>312.204773</td>\n",
              "      <td>NaN</td>\n",
              "      <td>NaN</td>\n",
              "      <td>NaN</td>\n",
              "      <td>NaN</td>\n",
              "    </tr>\n",
              "    <tr>\n",
              "      <th>2010-01-08</th>\n",
              "      <td>299.885956</td>\n",
              "      <td>295.940735</td>\n",
              "      <td>302.994293</td>\n",
              "      <td>310.829926</td>\n",
              "      <td>312.204773</td>\n",
              "      <td>NaN</td>\n",
              "      <td>NaN</td>\n",
              "      <td>NaN</td>\n",
              "    </tr>\n",
              "    <tr>\n",
              "      <th>...</th>\n",
              "      <td>...</td>\n",
              "      <td>...</td>\n",
              "      <td>...</td>\n",
              "      <td>...</td>\n",
              "      <td>...</td>\n",
              "      <td>...</td>\n",
              "      <td>...</td>\n",
              "      <td>...</td>\n",
              "    </tr>\n",
              "    <tr>\n",
              "      <th>2019-12-24</th>\n",
              "      <td>1343.560059</td>\n",
              "      <td>1348.839966</td>\n",
              "      <td>1349.589966</td>\n",
              "      <td>1356.040039</td>\n",
              "      <td>1352.619995</td>\n",
              "      <td>1355.119995</td>\n",
              "      <td>1361.170044</td>\n",
              "      <td>1347.829956</td>\n",
              "    </tr>\n",
              "    <tr>\n",
              "      <th>2019-12-26</th>\n",
              "      <td>1360.400024</td>\n",
              "      <td>1343.560059</td>\n",
              "      <td>1348.839966</td>\n",
              "      <td>1349.589966</td>\n",
              "      <td>1356.040039</td>\n",
              "      <td>1352.619995</td>\n",
              "      <td>1355.119995</td>\n",
              "      <td>1361.170044</td>\n",
              "    </tr>\n",
              "    <tr>\n",
              "      <th>2019-12-27</th>\n",
              "      <td>1351.890015</td>\n",
              "      <td>1360.400024</td>\n",
              "      <td>1343.560059</td>\n",
              "      <td>1348.839966</td>\n",
              "      <td>1349.589966</td>\n",
              "      <td>1356.040039</td>\n",
              "      <td>1352.619995</td>\n",
              "      <td>1355.119995</td>\n",
              "    </tr>\n",
              "    <tr>\n",
              "      <th>2019-12-30</th>\n",
              "      <td>1336.140015</td>\n",
              "      <td>1351.890015</td>\n",
              "      <td>1360.400024</td>\n",
              "      <td>1343.560059</td>\n",
              "      <td>1348.839966</td>\n",
              "      <td>1349.589966</td>\n",
              "      <td>1356.040039</td>\n",
              "      <td>1352.619995</td>\n",
              "    </tr>\n",
              "    <tr>\n",
              "      <th>2019-12-31</th>\n",
              "      <td>1337.020020</td>\n",
              "      <td>1336.140015</td>\n",
              "      <td>1351.890015</td>\n",
              "      <td>1360.400024</td>\n",
              "      <td>1343.560059</td>\n",
              "      <td>1348.839966</td>\n",
              "      <td>1349.589966</td>\n",
              "      <td>1356.040039</td>\n",
              "    </tr>\n",
              "  </tbody>\n",
              "</table>\n",
              "<p>2516 rows × 8 columns</p>\n",
              "</div>"
            ],
            "text/plain": [
              "                  lag_0        lag_1  ...        lag_6        lag_7\n",
              "Date                                  ...                          \n",
              "2010-01-04   312.204773          NaN  ...          NaN          NaN\n",
              "2010-01-05   310.829926   312.204773  ...          NaN          NaN\n",
              "2010-01-06   302.994293   310.829926  ...          NaN          NaN\n",
              "2010-01-07   295.940735   302.994293  ...          NaN          NaN\n",
              "2010-01-08   299.885956   295.940735  ...          NaN          NaN\n",
              "...                 ...          ...  ...          ...          ...\n",
              "2019-12-24  1343.560059  1348.839966  ...  1361.170044  1347.829956\n",
              "2019-12-26  1360.400024  1343.560059  ...  1355.119995  1361.170044\n",
              "2019-12-27  1351.890015  1360.400024  ...  1352.619995  1355.119995\n",
              "2019-12-30  1336.140015  1351.890015  ...  1356.040039  1352.619995\n",
              "2019-12-31  1337.020020  1336.140015  ...  1349.589966  1356.040039\n",
              "\n",
              "[2516 rows x 8 columns]"
            ]
          },
          "metadata": {
            "tags": []
          },
          "execution_count": 143
        }
      ]
    },
    {
      "cell_type": "code",
      "metadata": {
        "id": "WROlAPxgdb3J",
        "colab": {
          "base_uri": "https://localhost:8080/",
          "height": 277
        },
        "outputId": "e126d41c-e74f-4684-edc1-898ed84e0795"
      },
      "source": [
        "#first 100 samples of each\n",
        "ax = many_shifts.iloc[:100].plot(cmap=plt.cm.viridis)\n",
        "data.iloc[:100].plot(color='r', lw=2)\n",
        "ax.legend(loc='best')\n",
        "plt.show()"
      ],
      "execution_count": null,
      "outputs": [
        {
          "output_type": "display_data",
          "data": {
            "image/png": "[encoded data removed]",
            "text/plain": [
              "<Figure size 432x288 with 1 Axes>"
            ]
          },
          "metadata": {
            "tags": [],
            "needs_background": "light"
          }
        }
      ]
    },
    {
      "cell_type": "markdown",
      "metadata": {
        "id": "gszOT_iBiJAE"
      },
      "source": [
        "## Auto-regressive models\n",
        "Now that you've created time-shifted versions of a single time series, you can fit an auto-regressive model. This is a regression model where the input features are time-shifted versions of the output time series data. You are using previous values of a timeseries to predict current values of the same timeseries (thus, it is auto-regressive).\n",
        "\n",
        "By investigating the coefficients of this model, you can explore any repetitive patterns that exist in a timeseries, and get an idea for how far in the past a data point is predictive of the future."
      ]
    },
    {
      "cell_type": "code",
      "metadata": {
        "id": "jbP6GIc0cEfh",
        "colab": {
          "base_uri": "https://localhost:8080/",
          "height": 841
        },
        "outputId": "d551a578-7efc-4a5b-d384-763419744a78"
      },
      "source": [
        "import numpy as np\n",
        "X = many_shifts.fillna(method='bfill',axis=0)\n",
        "y = data.fillna(np.nanmedian(data))\n",
        "display(X)\n",
        "y"
      ],
      "execution_count": null,
      "outputs": [
        {
          "output_type": "display_data",
          "data": {
            "text/html": [
              "<div>\n",
              "<style scoped>\n",
              "    .dataframe tbody tr th:only-of-type {\n",
              "        vertical-align: middle;\n",
              "    }\n",
              "\n",
              "    .dataframe tbody tr th {\n",
              "        vertical-align: top;\n",
              "    }\n",
              "\n",
              "    .dataframe thead th {\n",
              "        text-align: right;\n",
              "    }\n",
              "</style>\n",
              "<table border=\"1\" class=\"dataframe\">\n",
              "  <thead>\n",
              "    <tr style=\"text-align: right;\">\n",
              "      <th></th>\n",
              "      <th>lag_0</th>\n",
              "      <th>lag_1</th>\n",
              "      <th>lag_2</th>\n",
              "      <th>lag_3</th>\n",
              "      <th>lag_4</th>\n",
              "      <th>lag_5</th>\n",
              "      <th>lag_6</th>\n",
              "      <th>lag_7</th>\n",
              "    </tr>\n",
              "    <tr>\n",
              "      <th>Date</th>\n",
              "      <th></th>\n",
              "      <th></th>\n",
              "      <th></th>\n",
              "      <th></th>\n",
              "      <th></th>\n",
              "      <th></th>\n",
              "      <th></th>\n",
              "      <th></th>\n",
              "    </tr>\n",
              "  </thead>\n",
              "  <tbody>\n",
              "    <tr>\n",
              "      <th>2010-01-04</th>\n",
              "      <td>312.204773</td>\n",
              "      <td>312.204773</td>\n",
              "      <td>312.204773</td>\n",
              "      <td>312.204773</td>\n",
              "      <td>312.204773</td>\n",
              "      <td>312.204773</td>\n",
              "      <td>312.204773</td>\n",
              "      <td>312.204773</td>\n",
              "    </tr>\n",
              "    <tr>\n",
              "      <th>2010-01-05</th>\n",
              "      <td>310.829926</td>\n",
              "      <td>312.204773</td>\n",
              "      <td>312.204773</td>\n",
              "      <td>312.204773</td>\n",
              "      <td>312.204773</td>\n",
              "      <td>312.204773</td>\n",
              "      <td>312.204773</td>\n",
              "      <td>312.204773</td>\n",
              "    </tr>\n",
              "    <tr>\n",
              "      <th>2010-01-06</th>\n",
              "      <td>302.994293</td>\n",
              "      <td>310.829926</td>\n",
              "      <td>312.204773</td>\n",
              "      <td>312.204773</td>\n",
              "      <td>312.204773</td>\n",
              "      <td>312.204773</td>\n",
              "      <td>312.204773</td>\n",
              "      <td>312.204773</td>\n",
              "    </tr>\n",
              "    <tr>\n",
              "      <th>2010-01-07</th>\n",
              "      <td>295.940735</td>\n",
              "      <td>302.994293</td>\n",
              "      <td>310.829926</td>\n",
              "      <td>312.204773</td>\n",
              "      <td>312.204773</td>\n",
              "      <td>312.204773</td>\n",
              "      <td>312.204773</td>\n",
              "      <td>312.204773</td>\n",
              "    </tr>\n",
              "    <tr>\n",
              "      <th>2010-01-08</th>\n",
              "      <td>299.885956</td>\n",
              "      <td>295.940735</td>\n",
              "      <td>302.994293</td>\n",
              "      <td>310.829926</td>\n",
              "      <td>312.204773</td>\n",
              "      <td>312.204773</td>\n",
              "      <td>312.204773</td>\n",
              "      <td>312.204773</td>\n",
              "    </tr>\n",
              "    <tr>\n",
              "      <th>...</th>\n",
              "      <td>...</td>\n",
              "      <td>...</td>\n",
              "      <td>...</td>\n",
              "      <td>...</td>\n",
              "      <td>...</td>\n",
              "      <td>...</td>\n",
              "      <td>...</td>\n",
              "      <td>...</td>\n",
              "    </tr>\n",
              "    <tr>\n",
              "      <th>2019-12-24</th>\n",
              "      <td>1343.560059</td>\n",
              "      <td>1348.839966</td>\n",
              "      <td>1349.589966</td>\n",
              "      <td>1356.040039</td>\n",
              "      <td>1352.619995</td>\n",
              "      <td>1355.119995</td>\n",
              "      <td>1361.170044</td>\n",
              "      <td>1347.829956</td>\n",
              "    </tr>\n",
              "    <tr>\n",
              "      <th>2019-12-26</th>\n",
              "      <td>1360.400024</td>\n",
              "      <td>1343.560059</td>\n",
              "      <td>1348.839966</td>\n",
              "      <td>1349.589966</td>\n",
              "      <td>1356.040039</td>\n",
              "      <td>1352.619995</td>\n",
              "      <td>1355.119995</td>\n",
              "      <td>1361.170044</td>\n",
              "    </tr>\n",
              "    <tr>\n",
              "      <th>2019-12-27</th>\n",
              "      <td>1351.890015</td>\n",
              "      <td>1360.400024</td>\n",
              "      <td>1343.560059</td>\n",
              "      <td>1348.839966</td>\n",
              "      <td>1349.589966</td>\n",
              "      <td>1356.040039</td>\n",
              "      <td>1352.619995</td>\n",
              "      <td>1355.119995</td>\n",
              "    </tr>\n",
              "    <tr>\n",
              "      <th>2019-12-30</th>\n",
              "      <td>1336.140015</td>\n",
              "      <td>1351.890015</td>\n",
              "      <td>1360.400024</td>\n",
              "      <td>1343.560059</td>\n",
              "      <td>1348.839966</td>\n",
              "      <td>1349.589966</td>\n",
              "      <td>1356.040039</td>\n",
              "      <td>1352.619995</td>\n",
              "    </tr>\n",
              "    <tr>\n",
              "      <th>2019-12-31</th>\n",
              "      <td>1337.020020</td>\n",
              "      <td>1336.140015</td>\n",
              "      <td>1351.890015</td>\n",
              "      <td>1360.400024</td>\n",
              "      <td>1343.560059</td>\n",
              "      <td>1348.839966</td>\n",
              "      <td>1349.589966</td>\n",
              "      <td>1356.040039</td>\n",
              "    </tr>\n",
              "  </tbody>\n",
              "</table>\n",
              "<p>2516 rows × 8 columns</p>\n",
              "</div>"
            ],
            "text/plain": [
              "                  lag_0        lag_1  ...        lag_6        lag_7\n",
              "Date                                  ...                          \n",
              "2010-01-04   312.204773   312.204773  ...   312.204773   312.204773\n",
              "2010-01-05   310.829926   312.204773  ...   312.204773   312.204773\n",
              "2010-01-06   302.994293   310.829926  ...   312.204773   312.204773\n",
              "2010-01-07   295.940735   302.994293  ...   312.204773   312.204773\n",
              "2010-01-08   299.885956   295.940735  ...   312.204773   312.204773\n",
              "...                 ...          ...  ...          ...          ...\n",
              "2019-12-24  1343.560059  1348.839966  ...  1361.170044  1347.829956\n",
              "2019-12-26  1360.400024  1343.560059  ...  1355.119995  1361.170044\n",
              "2019-12-27  1351.890015  1360.400024  ...  1352.619995  1355.119995\n",
              "2019-12-30  1336.140015  1351.890015  ...  1356.040039  1352.619995\n",
              "2019-12-31  1337.020020  1336.140015  ...  1349.589966  1356.040039\n",
              "\n",
              "[2516 rows x 8 columns]"
            ]
          },
          "metadata": {
            "tags": []
          }
        },
        {
          "output_type": "execute_result",
          "data": {
            "text/plain": [
              "Date\n",
              "2010-01-04     312.204773\n",
              "2010-01-05     310.829926\n",
              "2010-01-06     302.994293\n",
              "2010-01-07     295.940735\n",
              "2010-01-08     299.885956\n",
              "                 ...     \n",
              "2019-12-24    1343.560059\n",
              "2019-12-26    1360.400024\n",
              "2019-12-27    1351.890015\n",
              "2019-12-30    1336.140015\n",
              "2019-12-31    1337.020020\n",
              "Name: GOOG, Length: 2516, dtype: float64"
            ]
          },
          "metadata": {
            "tags": []
          },
          "execution_count": 151
        }
      ]
    },
    {
      "cell_type": "markdown",
      "metadata": {
        "id": "BvBtbEqnktO1"
      },
      "source": [
        "When you use time-lagged features on the raw data, you see that the highest coefficient by far is the first one. This means that the N-1th time point is useful in predicting the Nth timepoint, but no other points are useful."
      ]
    },
    {
      "cell_type": "code",
      "metadata": {
        "id": "qME3qxKrZ1dM",
        "colab": {
          "base_uri": "https://localhost:8080/",
          "height": 323
        },
        "outputId": "6ddcdd98-53e1-41fa-cff0-d11c25772482"
      },
      "source": [
        "from sklearn.linear_model import Ridge\n",
        "\n",
        "model = Ridge()\n",
        "model.fit(X,y)\n",
        "\n",
        "def visualize_coefficients(coefs, names, ax):\n",
        "    # Make a bar plot for the coefficients, including their names on the x-axis\n",
        "    ax.bar(names, coefs)\n",
        "    ax.set(xlabel='Coefficient name', ylabel='Coefficient value')\n",
        "    \n",
        "    # Set formatting so it looks nice\n",
        "    plt.setp(ax.get_xticklabels(), rotation=45, horizontalalignment='right')\n",
        "    return ax\n",
        "\n",
        "# Visualize the output data up to \"2011-01\"\n",
        "fig, axs = plt.subplots(2, 1, figsize=(10, 5))\n",
        "y.loc[:'2011-01'].plot(ax=axs[0])\n",
        "\n",
        "# Run the function to visualize model's coefficients\n",
        "visualize_coefficients(model.coef_, X.columns, ax=axs[1])\n",
        "plt.show()\n",
        "\n"
      ],
      "execution_count": null,
      "outputs": [
        {
          "output_type": "display_data",
          "data": {
            "image/png": "[encoded data removed]",
            "text/plain": [
              "<Figure size 720x360 with 2 Axes>"
            ]
          },
          "metadata": {
            "tags": [],
            "needs_background": "light"
          }
        }
      ]
    }
  ]
}